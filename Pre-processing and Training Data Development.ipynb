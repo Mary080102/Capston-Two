{
 "cells": [
  {
   "cell_type": "markdown",
   "id": "314410f1",
   "metadata": {},
   "source": [
    "Pre-processing is the concept of standardizing our model development dataset. This is applied in situations where we have differences in the magnitude of numeric features and situations where we have categorical and continuous variables.The goal of the preprocessing work is to prepare our data for fitting models.\n",
    "\n",
    "general steps in pre-processing and training data development:\n",
    "\n",
    "**1-Create dummy or indicator features for categorical variables**\n",
    "\n",
    "**2-Standardize the magnitude of numeric features**\n",
    "\n",
    "**3-Split into testing and training datasets**\n"
   ]
  },
  {
   "cell_type": "code",
   "execution_count": 19,
   "id": "8f2a1121",
   "metadata": {},
   "outputs": [],
   "source": [
    "# data manipulation and math\n",
    "\n",
    "import numpy as np\n",
    "import pandas as pd\n",
    "\n",
    "import matplotlib.pyplot as plt\n",
    "import seaborn as sns\n",
    "import os\n",
    "\n",
    "from sklearn.preprocessing import MinMaxScaler\n",
    "from sklearn.preprocessing import PowerTransformer\n",
    "from sklearn.preprocessing import StandardScaler\n",
    "from sklearn.model_selection import train_test_split"
   ]
  },
  {
   "cell_type": "markdown",
   "id": "aec38aa4",
   "metadata": {},
   "source": [
    "**1.-Loading the Data**\n",
    "\n",
    "As a first step, read in the data and view all the columns, and display the top of the DataFrame."
   ]
  },
  {
   "cell_type": "code",
   "execution_count": 2,
   "id": "d1d6f3b9",
   "metadata": {},
   "outputs": [
    {
     "name": "stdout",
     "output_type": "stream",
     "text": [
      "The data have  347 rows and 7 columns\n",
      "Columns name: \n",
      "\n",
      "Year\n",
      "GeoType\n",
      "GeoID\n",
      "Number\n",
      "no2/Mean ppb\n",
      "Geography\n",
      "pm/Mean mcg/m3\n"
     ]
    }
   ],
   "source": [
    "# load the data\n",
    "aa_no_pm= pd.read_csv('https://raw.githubusercontent.com/Mary080102/Capston-Two/main/Raw%20data/aa_no_pm_cleaned.csv')\n",
    "df= aa_no_pm.copy()\n",
    "print('The data have ',df.shape[0], 'rows and',df.shape[1],'columns')\n",
    "\n",
    "print('Columns name: \\n')\n",
    "print('\\n'.join(list(df.columns)))"
   ]
  },
  {
   "cell_type": "code",
   "execution_count": 3,
   "id": "80729cf3",
   "metadata": {},
   "outputs": [
    {
     "data": {
      "text/html": [
       "<div>\n",
       "<style scoped>\n",
       "    .dataframe tbody tr th:only-of-type {\n",
       "        vertical-align: middle;\n",
       "    }\n",
       "\n",
       "    .dataframe tbody tr th {\n",
       "        vertical-align: top;\n",
       "    }\n",
       "\n",
       "    .dataframe thead th {\n",
       "        text-align: right;\n",
       "    }\n",
       "</style>\n",
       "<table border=\"1\" class=\"dataframe\">\n",
       "  <thead>\n",
       "    <tr style=\"text-align: right;\">\n",
       "      <th></th>\n",
       "      <th>Year</th>\n",
       "      <th>GeoType</th>\n",
       "      <th>GeoID</th>\n",
       "      <th>Number</th>\n",
       "      <th>no2/Mean ppb</th>\n",
       "      <th>Geography</th>\n",
       "      <th>pm/Mean mcg/m3</th>\n",
       "    </tr>\n",
       "  </thead>\n",
       "  <tbody>\n",
       "    <tr>\n",
       "      <th>0</th>\n",
       "      <td>2020</td>\n",
       "      <td>CD</td>\n",
       "      <td>101</td>\n",
       "      <td>80.0</td>\n",
       "      <td>21.7</td>\n",
       "      <td>Financial District (CD1)</td>\n",
       "      <td>7.5</td>\n",
       "    </tr>\n",
       "    <tr>\n",
       "      <th>1</th>\n",
       "      <td>2020</td>\n",
       "      <td>CD</td>\n",
       "      <td>102</td>\n",
       "      <td>81.0</td>\n",
       "      <td>21.3</td>\n",
       "      <td>Greenwich Village and Soho (CD2)</td>\n",
       "      <td>8.5</td>\n",
       "    </tr>\n",
       "    <tr>\n",
       "      <th>2</th>\n",
       "      <td>2020</td>\n",
       "      <td>CD</td>\n",
       "      <td>103</td>\n",
       "      <td>661.0</td>\n",
       "      <td>19.4</td>\n",
       "      <td>Lower East Side and Chinatown (CD3)</td>\n",
       "      <td>7.5</td>\n",
       "    </tr>\n",
       "    <tr>\n",
       "      <th>3</th>\n",
       "      <td>2020</td>\n",
       "      <td>CD</td>\n",
       "      <td>104</td>\n",
       "      <td>364.0</td>\n",
       "      <td>22.5</td>\n",
       "      <td>Clinton and Chelsea (CD4)</td>\n",
       "      <td>8.0</td>\n",
       "    </tr>\n",
       "    <tr>\n",
       "      <th>4</th>\n",
       "      <td>2020</td>\n",
       "      <td>CD</td>\n",
       "      <td>105</td>\n",
       "      <td>116.0</td>\n",
       "      <td>26.3</td>\n",
       "      <td>Midtown (CD5)</td>\n",
       "      <td>9.2</td>\n",
       "    </tr>\n",
       "  </tbody>\n",
       "</table>\n",
       "</div>"
      ],
      "text/plain": [
       "   Year GeoType  GeoID  Number  no2/Mean ppb  \\\n",
       "0  2020      CD    101    80.0          21.7   \n",
       "1  2020      CD    102    81.0          21.3   \n",
       "2  2020      CD    103   661.0          19.4   \n",
       "3  2020      CD    104   364.0          22.5   \n",
       "4  2020      CD    105   116.0          26.3   \n",
       "\n",
       "                             Geography  pm/Mean mcg/m3  \n",
       "0             Financial District (CD1)             7.5  \n",
       "1     Greenwich Village and Soho (CD2)             8.5  \n",
       "2  Lower East Side and Chinatown (CD3)             7.5  \n",
       "3            Clinton and Chelsea (CD4)             8.0  \n",
       "4                        Midtown (CD5)             9.2  "
      ]
     },
     "execution_count": 3,
     "metadata": {},
     "output_type": "execute_result"
    }
   ],
   "source": [
    "df.head()"
   ]
  },
  {
   "cell_type": "markdown",
   "id": "f898e038",
   "metadata": {},
   "source": [
    "**2.Transformation of categorical features**\n",
    "\n",
    "In general, categorical features need to be transformed or encoded to be used in some machine learning models.In this project the only column 'GeoType' must be encoded.We are not going to use the other ones in the model."
   ]
  },
  {
   "cell_type": "code",
   "execution_count": 4,
   "id": "a4d7911b",
   "metadata": {},
   "outputs": [],
   "source": [
    "# Transform categorical columns \n",
    "\n",
    "df_transformed= pd.get_dummies(df,columns=['GeoType'])\n"
   ]
  },
  {
   "cell_type": "code",
   "execution_count": 5,
   "id": "ed5808d7",
   "metadata": {},
   "outputs": [
    {
     "data": {
      "text/html": [
       "<div>\n",
       "<style scoped>\n",
       "    .dataframe tbody tr th:only-of-type {\n",
       "        vertical-align: middle;\n",
       "    }\n",
       "\n",
       "    .dataframe tbody tr th {\n",
       "        vertical-align: top;\n",
       "    }\n",
       "\n",
       "    .dataframe thead th {\n",
       "        text-align: right;\n",
       "    }\n",
       "</style>\n",
       "<table border=\"1\" class=\"dataframe\">\n",
       "  <thead>\n",
       "    <tr style=\"text-align: right;\">\n",
       "      <th></th>\n",
       "      <th>Year</th>\n",
       "      <th>GeoID</th>\n",
       "      <th>Number</th>\n",
       "      <th>no2/Mean ppb</th>\n",
       "      <th>Geography</th>\n",
       "      <th>pm/Mean mcg/m3</th>\n",
       "      <th>GeoType_Borough</th>\n",
       "      <th>GeoType_CD</th>\n",
       "      <th>GeoType_Citywide</th>\n",
       "      <th>GeoType_UHF42</th>\n",
       "    </tr>\n",
       "  </thead>\n",
       "  <tbody>\n",
       "    <tr>\n",
       "      <th>0</th>\n",
       "      <td>2020</td>\n",
       "      <td>101</td>\n",
       "      <td>80.0</td>\n",
       "      <td>21.7</td>\n",
       "      <td>Financial District (CD1)</td>\n",
       "      <td>7.5</td>\n",
       "      <td>False</td>\n",
       "      <td>True</td>\n",
       "      <td>False</td>\n",
       "      <td>False</td>\n",
       "    </tr>\n",
       "    <tr>\n",
       "      <th>1</th>\n",
       "      <td>2020</td>\n",
       "      <td>102</td>\n",
       "      <td>81.0</td>\n",
       "      <td>21.3</td>\n",
       "      <td>Greenwich Village and Soho (CD2)</td>\n",
       "      <td>8.5</td>\n",
       "      <td>False</td>\n",
       "      <td>True</td>\n",
       "      <td>False</td>\n",
       "      <td>False</td>\n",
       "    </tr>\n",
       "    <tr>\n",
       "      <th>2</th>\n",
       "      <td>2020</td>\n",
       "      <td>103</td>\n",
       "      <td>661.0</td>\n",
       "      <td>19.4</td>\n",
       "      <td>Lower East Side and Chinatown (CD3)</td>\n",
       "      <td>7.5</td>\n",
       "      <td>False</td>\n",
       "      <td>True</td>\n",
       "      <td>False</td>\n",
       "      <td>False</td>\n",
       "    </tr>\n",
       "    <tr>\n",
       "      <th>3</th>\n",
       "      <td>2020</td>\n",
       "      <td>104</td>\n",
       "      <td>364.0</td>\n",
       "      <td>22.5</td>\n",
       "      <td>Clinton and Chelsea (CD4)</td>\n",
       "      <td>8.0</td>\n",
       "      <td>False</td>\n",
       "      <td>True</td>\n",
       "      <td>False</td>\n",
       "      <td>False</td>\n",
       "    </tr>\n",
       "    <tr>\n",
       "      <th>4</th>\n",
       "      <td>2020</td>\n",
       "      <td>105</td>\n",
       "      <td>116.0</td>\n",
       "      <td>26.3</td>\n",
       "      <td>Midtown (CD5)</td>\n",
       "      <td>9.2</td>\n",
       "      <td>False</td>\n",
       "      <td>True</td>\n",
       "      <td>False</td>\n",
       "      <td>False</td>\n",
       "    </tr>\n",
       "  </tbody>\n",
       "</table>\n",
       "</div>"
      ],
      "text/plain": [
       "   Year  GeoID  Number  no2/Mean ppb                            Geography  \\\n",
       "0  2020    101    80.0          21.7             Financial District (CD1)   \n",
       "1  2020    102    81.0          21.3     Greenwich Village and Soho (CD2)   \n",
       "2  2020    103   661.0          19.4  Lower East Side and Chinatown (CD3)   \n",
       "3  2020    104   364.0          22.5            Clinton and Chelsea (CD4)   \n",
       "4  2020    105   116.0          26.3                        Midtown (CD5)   \n",
       "\n",
       "   pm/Mean mcg/m3  GeoType_Borough  GeoType_CD  GeoType_Citywide  \\\n",
       "0             7.5            False        True             False   \n",
       "1             8.5            False        True             False   \n",
       "2             7.5            False        True             False   \n",
       "3             8.0            False        True             False   \n",
       "4             9.2            False        True             False   \n",
       "\n",
       "   GeoType_UHF42  \n",
       "0          False  \n",
       "1          False  \n",
       "2          False  \n",
       "3          False  \n",
       "4          False  "
      ]
     },
     "execution_count": 5,
     "metadata": {},
     "output_type": "execute_result"
    }
   ],
   "source": [
    "df_transformed.head()"
   ]
  },
  {
   "cell_type": "code",
   "execution_count": 6,
   "id": "0e3d8ce7",
   "metadata": {},
   "outputs": [],
   "source": [
    "# Drop irrelevant columns\n",
    "df_transformed=df_transformed.drop(columns=['GeoID','Geography'],axis=1)"
   ]
  },
  {
   "cell_type": "code",
   "execution_count": 7,
   "id": "dfe2f050",
   "metadata": {},
   "outputs": [
    {
     "data": {
      "text/html": [
       "<div>\n",
       "<style scoped>\n",
       "    .dataframe tbody tr th:only-of-type {\n",
       "        vertical-align: middle;\n",
       "    }\n",
       "\n",
       "    .dataframe tbody tr th {\n",
       "        vertical-align: top;\n",
       "    }\n",
       "\n",
       "    .dataframe thead th {\n",
       "        text-align: right;\n",
       "    }\n",
       "</style>\n",
       "<table border=\"1\" class=\"dataframe\">\n",
       "  <thead>\n",
       "    <tr style=\"text-align: right;\">\n",
       "      <th></th>\n",
       "      <th>Year</th>\n",
       "      <th>Number</th>\n",
       "      <th>no2/Mean ppb</th>\n",
       "      <th>pm/Mean mcg/m3</th>\n",
       "      <th>GeoType_Borough</th>\n",
       "      <th>GeoType_CD</th>\n",
       "      <th>GeoType_Citywide</th>\n",
       "      <th>GeoType_UHF42</th>\n",
       "    </tr>\n",
       "  </thead>\n",
       "  <tbody>\n",
       "    <tr>\n",
       "      <th>0</th>\n",
       "      <td>2020</td>\n",
       "      <td>80.0</td>\n",
       "      <td>21.7</td>\n",
       "      <td>7.5</td>\n",
       "      <td>False</td>\n",
       "      <td>True</td>\n",
       "      <td>False</td>\n",
       "      <td>False</td>\n",
       "    </tr>\n",
       "    <tr>\n",
       "      <th>1</th>\n",
       "      <td>2020</td>\n",
       "      <td>81.0</td>\n",
       "      <td>21.3</td>\n",
       "      <td>8.5</td>\n",
       "      <td>False</td>\n",
       "      <td>True</td>\n",
       "      <td>False</td>\n",
       "      <td>False</td>\n",
       "    </tr>\n",
       "    <tr>\n",
       "      <th>2</th>\n",
       "      <td>2020</td>\n",
       "      <td>661.0</td>\n",
       "      <td>19.4</td>\n",
       "      <td>7.5</td>\n",
       "      <td>False</td>\n",
       "      <td>True</td>\n",
       "      <td>False</td>\n",
       "      <td>False</td>\n",
       "    </tr>\n",
       "    <tr>\n",
       "      <th>3</th>\n",
       "      <td>2020</td>\n",
       "      <td>364.0</td>\n",
       "      <td>22.5</td>\n",
       "      <td>8.0</td>\n",
       "      <td>False</td>\n",
       "      <td>True</td>\n",
       "      <td>False</td>\n",
       "      <td>False</td>\n",
       "    </tr>\n",
       "    <tr>\n",
       "      <th>4</th>\n",
       "      <td>2020</td>\n",
       "      <td>116.0</td>\n",
       "      <td>26.3</td>\n",
       "      <td>9.2</td>\n",
       "      <td>False</td>\n",
       "      <td>True</td>\n",
       "      <td>False</td>\n",
       "      <td>False</td>\n",
       "    </tr>\n",
       "    <tr>\n",
       "      <th>...</th>\n",
       "      <td>...</td>\n",
       "      <td>...</td>\n",
       "      <td>...</td>\n",
       "      <td>...</td>\n",
       "      <td>...</td>\n",
       "      <td>...</td>\n",
       "      <td>...</td>\n",
       "      <td>...</td>\n",
       "    </tr>\n",
       "    <tr>\n",
       "      <th>342</th>\n",
       "      <td>2009</td>\n",
       "      <td>20450.0</td>\n",
       "      <td>24.1</td>\n",
       "      <td>10.5</td>\n",
       "      <td>True</td>\n",
       "      <td>False</td>\n",
       "      <td>False</td>\n",
       "      <td>False</td>\n",
       "    </tr>\n",
       "    <tr>\n",
       "      <th>343</th>\n",
       "      <td>2009</td>\n",
       "      <td>14493.0</td>\n",
       "      <td>33.9</td>\n",
       "      <td>12.6</td>\n",
       "      <td>True</td>\n",
       "      <td>False</td>\n",
       "      <td>False</td>\n",
       "      <td>False</td>\n",
       "    </tr>\n",
       "    <tr>\n",
       "      <th>344</th>\n",
       "      <td>2009</td>\n",
       "      <td>10602.0</td>\n",
       "      <td>22.2</td>\n",
       "      <td>10.0</td>\n",
       "      <td>True</td>\n",
       "      <td>False</td>\n",
       "      <td>False</td>\n",
       "      <td>False</td>\n",
       "    </tr>\n",
       "    <tr>\n",
       "      <th>345</th>\n",
       "      <td>2009</td>\n",
       "      <td>2843.0</td>\n",
       "      <td>16.8</td>\n",
       "      <td>9.8</td>\n",
       "      <td>True</td>\n",
       "      <td>False</td>\n",
       "      <td>False</td>\n",
       "      <td>False</td>\n",
       "    </tr>\n",
       "    <tr>\n",
       "      <th>346</th>\n",
       "      <td>2009</td>\n",
       "      <td>69944.0</td>\n",
       "      <td>22.7</td>\n",
       "      <td>10.4</td>\n",
       "      <td>False</td>\n",
       "      <td>False</td>\n",
       "      <td>True</td>\n",
       "      <td>False</td>\n",
       "    </tr>\n",
       "  </tbody>\n",
       "</table>\n",
       "<p>347 rows × 8 columns</p>\n",
       "</div>"
      ],
      "text/plain": [
       "     Year   Number  no2/Mean ppb  pm/Mean mcg/m3  GeoType_Borough  GeoType_CD  \\\n",
       "0    2020     80.0          21.7             7.5            False        True   \n",
       "1    2020     81.0          21.3             8.5            False        True   \n",
       "2    2020    661.0          19.4             7.5            False        True   \n",
       "3    2020    364.0          22.5             8.0            False        True   \n",
       "4    2020    116.0          26.3             9.2            False        True   \n",
       "..    ...      ...           ...             ...              ...         ...   \n",
       "342  2009  20450.0          24.1            10.5             True       False   \n",
       "343  2009  14493.0          33.9            12.6             True       False   \n",
       "344  2009  10602.0          22.2            10.0             True       False   \n",
       "345  2009   2843.0          16.8             9.8             True       False   \n",
       "346  2009  69944.0          22.7            10.4            False       False   \n",
       "\n",
       "     GeoType_Citywide  GeoType_UHF42  \n",
       "0               False          False  \n",
       "1               False          False  \n",
       "2               False          False  \n",
       "3               False          False  \n",
       "4               False          False  \n",
       "..                ...            ...  \n",
       "342             False          False  \n",
       "343             False          False  \n",
       "344             False          False  \n",
       "345             False          False  \n",
       "346              True          False  \n",
       "\n",
       "[347 rows x 8 columns]"
      ]
     },
     "execution_count": 7,
     "metadata": {},
     "output_type": "execute_result"
    }
   ],
   "source": [
    "df_transformed"
   ]
  },
  {
   "cell_type": "markdown",
   "id": "7b96eeec",
   "metadata": {},
   "source": [
    "**3.-Standardize the magnitude of numeric features**"
   ]
  },
  {
   "cell_type": "code",
   "execution_count": 8,
   "id": "2e427ec9",
   "metadata": {},
   "outputs": [
    {
     "data": {
      "image/png": "[encoded data removed]",
      "text/plain": [
       "<Figure size 800x800 with 3 Axes>"
      ]
     },
     "metadata": {},
     "output_type": "display_data"
    }
   ],
   "source": [
    "# Making a histogram for each variable in df\n",
    "\n",
    "columns=['Number','no2/Mean ppb','pm/Mean mcg/m3']\n",
    "\n",
    "# Create a figure with three subplots\n",
    "fig,axs= plt.subplots(3,1,figsize=(8, 8))\n",
    "\n",
    "# Plot histograms for each column\n",
    "for i,col in enumerate(columns):\n",
    "    axs[i].hist(df_transformed[col],bins=30)\n",
    "    axs[i].set_title(col)\n",
    "    \n",
    "# Adjust layout to prevent overlap\n",
    "plt.tight_layout()\n",
    "plt.show()"
   ]
  },
  {
   "cell_type": "markdown",
   "id": "a1eaa60f",
   "metadata": {},
   "source": [
    "The histogram shows that the Number column is highly skewed with many outliers. The values range from small to very large, with a significant number of very high values. Given this distribution, Log transformation can help to stabilize the variance and make the data more normally distributed.\n",
    "\n",
    "The no2/Mean ppb column seems to have a relatively normal distribution but is slightly skewed. StandardScaler is a good choice here as it standardizes the data to have a mean of 0 and a standard deviation of 1.\n",
    "\n",
    "The pm/Mean mcg/m3 column appears to be skewed to the right. MinMaxScaler can be a good choice for this column to scale the data to a fixed range."
   ]
  },
  {
   "cell_type": "code",
   "execution_count": 9,
   "id": "9e49f995",
   "metadata": {},
   "outputs": [],
   "source": [
    "#Instantiate StandardScaler\n",
    "scaler= StandardScaler()\n",
    "\n",
    "#Train the transform on the data\n",
    "scaler.fit(df_transformed[['no2/Mean ppb']])\n",
    "\n",
    "#Apply the StandardScaler to the data\n",
    "df_transformed['no2/Mean ppb']=scaler.transform(df_transformed[['no2/Mean ppb']])"
   ]
  },
  {
   "cell_type": "code",
   "execution_count": 10,
   "id": "1fed00ea",
   "metadata": {},
   "outputs": [
    {
     "data": {
      "image/png": "[encoded data removed]",
      "text/plain": [
       "<Figure size 640x480 with 1 Axes>"
      ]
     },
     "metadata": {},
     "output_type": "display_data"
    }
   ],
   "source": [
    "df_transformed[['no2/Mean ppb']].hist()\n",
    "plt.show()"
   ]
  },
  {
   "cell_type": "code",
   "execution_count": 11,
   "id": "37c92bda",
   "metadata": {},
   "outputs": [],
   "source": [
    "#Instantiate PowerTransformer\n",
    "log= PowerTransformer()\n",
    "\n",
    "#Train the transform on the data\n",
    "log.fit(df_transformed[['Number']])\n",
    "\n",
    "#Apply the PowerTransformer to the data\n",
    "df_transformed['Number']=log.transform(df_transformed[['Number']])"
   ]
  },
  {
   "cell_type": "code",
   "execution_count": 12,
   "id": "8326d624",
   "metadata": {},
   "outputs": [
    {
     "data": {
      "image/png": "[encoded data removed]",
      "text/plain": [
       "<Figure size 640x480 with 1 Axes>"
      ]
     },
     "metadata": {},
     "output_type": "display_data"
    }
   ],
   "source": [
    "df_transformed[['Number']].hist()\n",
    "plt.show()"
   ]
  },
  {
   "cell_type": "code",
   "execution_count": 13,
   "id": "2271f97b",
   "metadata": {},
   "outputs": [],
   "source": [
    "#Instantiate MinMaxScaler\n",
    "scaler=MinMaxScaler()\n",
    "\n",
    "#Train the transform on the data\n",
    "scaler.fit(df_transformed[['pm/Mean mcg/m3']])\n",
    "\n",
    "#Apply the MinMaxScaler to the data\n",
    "df_transformed['pm/Mean mcg/m3']= scaler.transform(df_transformed[['pm/Mean mcg/m3']])\n"
   ]
  },
  {
   "cell_type": "code",
   "execution_count": 14,
   "id": "9445ca8a",
   "metadata": {},
   "outputs": [
    {
     "data": {
      "image/png": "[encoded data removed]",
      "text/plain": [
       "<Figure size 640x480 with 1 Axes>"
      ]
     },
     "metadata": {},
     "output_type": "display_data"
    }
   ],
   "source": [
    "df_transformed[['pm/Mean mcg/m3']].hist()\n",
    "plt.show()"
   ]
  },
  {
   "cell_type": "markdown",
   "id": "d503df09",
   "metadata": {},
   "source": [
    "**4.Split into testing and training datasets**\n"
   ]
  },
  {
   "cell_type": "code",
   "execution_count": 15,
   "id": "cf19acba",
   "metadata": {},
   "outputs": [
    {
     "data": {
      "text/html": [
       "<div>\n",
       "<style scoped>\n",
       "    .dataframe tbody tr th:only-of-type {\n",
       "        vertical-align: middle;\n",
       "    }\n",
       "\n",
       "    .dataframe tbody tr th {\n",
       "        vertical-align: top;\n",
       "    }\n",
       "\n",
       "    .dataframe thead th {\n",
       "        text-align: right;\n",
       "    }\n",
       "</style>\n",
       "<table border=\"1\" class=\"dataframe\">\n",
       "  <thead>\n",
       "    <tr style=\"text-align: right;\">\n",
       "      <th></th>\n",
       "      <th>Year</th>\n",
       "      <th>Number</th>\n",
       "      <th>no2/Mean ppb</th>\n",
       "      <th>pm/Mean mcg/m3</th>\n",
       "      <th>GeoType_Borough</th>\n",
       "      <th>GeoType_CD</th>\n",
       "      <th>GeoType_Citywide</th>\n",
       "      <th>GeoType_UHF42</th>\n",
       "    </tr>\n",
       "  </thead>\n",
       "  <tbody>\n",
       "    <tr>\n",
       "      <th>0</th>\n",
       "      <td>2020</td>\n",
       "      <td>-1.996623</td>\n",
       "      <td>0.921234</td>\n",
       "      <td>0.301370</td>\n",
       "      <td>False</td>\n",
       "      <td>True</td>\n",
       "      <td>False</td>\n",
       "      <td>False</td>\n",
       "    </tr>\n",
       "    <tr>\n",
       "      <th>1</th>\n",
       "      <td>2020</td>\n",
       "      <td>-1.984977</td>\n",
       "      <td>0.818190</td>\n",
       "      <td>0.438356</td>\n",
       "      <td>False</td>\n",
       "      <td>True</td>\n",
       "      <td>False</td>\n",
       "      <td>False</td>\n",
       "    </tr>\n",
       "    <tr>\n",
       "      <th>2</th>\n",
       "      <td>2020</td>\n",
       "      <td>-0.258725</td>\n",
       "      <td>0.328731</td>\n",
       "      <td>0.301370</td>\n",
       "      <td>False</td>\n",
       "      <td>True</td>\n",
       "      <td>False</td>\n",
       "      <td>False</td>\n",
       "    </tr>\n",
       "    <tr>\n",
       "      <th>3</th>\n",
       "      <td>2020</td>\n",
       "      <td>-0.702377</td>\n",
       "      <td>1.127321</td>\n",
       "      <td>0.369863</td>\n",
       "      <td>False</td>\n",
       "      <td>True</td>\n",
       "      <td>False</td>\n",
       "      <td>False</td>\n",
       "    </tr>\n",
       "    <tr>\n",
       "      <th>4</th>\n",
       "      <td>2020</td>\n",
       "      <td>-1.655852</td>\n",
       "      <td>2.106239</td>\n",
       "      <td>0.534247</td>\n",
       "      <td>False</td>\n",
       "      <td>True</td>\n",
       "      <td>False</td>\n",
       "      <td>False</td>\n",
       "    </tr>\n",
       "  </tbody>\n",
       "</table>\n",
       "</div>"
      ],
      "text/plain": [
       "   Year    Number  no2/Mean ppb  pm/Mean mcg/m3  GeoType_Borough  GeoType_CD  \\\n",
       "0  2020 -1.996623      0.921234        0.301370            False        True   \n",
       "1  2020 -1.984977      0.818190        0.438356            False        True   \n",
       "2  2020 -0.258725      0.328731        0.301370            False        True   \n",
       "3  2020 -0.702377      1.127321        0.369863            False        True   \n",
       "4  2020 -1.655852      2.106239        0.534247            False        True   \n",
       "\n",
       "   GeoType_Citywide  GeoType_UHF42  \n",
       "0             False          False  \n",
       "1             False          False  \n",
       "2             False          False  \n",
       "3             False          False  \n",
       "4             False          False  "
      ]
     },
     "execution_count": 15,
     "metadata": {},
     "output_type": "execute_result"
    }
   ],
   "source": [
    "df_transformed.head()"
   ]
  },
  {
   "cell_type": "code",
   "execution_count": 16,
   "id": "6e050861",
   "metadata": {},
   "outputs": [
    {
     "name": "stdout",
     "output_type": "stream",
     "text": [
      "x_train shape: (277, 7)\n",
      "x_test shape: (70, 7)\n",
      "y_train shape: (277,)\n",
      "y_test shape: (70,)\n"
     ]
    }
   ],
   "source": [
    "#Separate the features and the target variable\n",
    "x=df_transformed.drop(columns=['Number'])\n",
    "y=df_transformed['Number']\n",
    "\n",
    "# Split the data into training and testing sets\n",
    "x_train,x_test,y_train,y_test=train_test_split(x,y,test_size=0.2, random_state=42)\n",
    "\n",
    "# Print the shape of the resulting datasets\n",
    "print(f'x_train shape: {x_train.shape}')\n",
    "print(f'x_test shape: {x_test.shape}')\n",
    "print(f'y_train shape: {y_train.shape}')\n",
    "print(f'y_test shape: {y_test.shape}')"
   ]
  },
  {
   "cell_type": "markdown",
   "id": "14cc0aba",
   "metadata": {},
   "source": [
    "**5.Save Data**"
   ]
  },
  {
   "cell_type": "code",
   "execution_count": 20,
   "id": "21172425",
   "metadata": {},
   "outputs": [],
   "source": [
    "# save the data to a new csv file\n",
    "# Path to the directory where you want to save the file\n",
    "data_path = '../data'\n",
    "# Create the directory if it does not exist\n",
    "os.makedirs(data_path, exist_ok=True)\n",
    "\n",
    "#save the dataframe to a CSV file in the new directory\n",
    "df_transformed.to_csv(os.path.join(data_path, 'aa_transformed'), index=False)\n"
   ]
  },
  {
   "cell_type": "code",
   "execution_count": null,
   "id": "20630c58",
   "metadata": {},
   "outputs": [],
   "source": []
  }
 ],
 "metadata": {
  "kernelspec": {
   "display_name": "Python 3 (ipykernel)",
   "language": "python",
   "name": "python3"
  },
  "language_info": {
   "codemirror_mode": {
    "name": "ipython",
    "version": 3
   },
   "file_extension": ".py",
   "mimetype": "text/x-python",
   "name": "python",
   "nbconvert_exporter": "python",
   "pygments_lexer": "ipython3",
   "version": "3.11.3"
  }
 },
 "nbformat": 4,
 "nbformat_minor": 5
}
