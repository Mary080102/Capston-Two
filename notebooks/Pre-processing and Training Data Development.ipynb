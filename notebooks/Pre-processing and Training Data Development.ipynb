{
 "cells": [
  {
   "cell_type": "markdown",
   "id": "314410f1",
   "metadata": {},
   "source": [
    "Pre-processing is the concept of standardizing our model development dataset. This is applied in situations where we have differences in the magnitude of numeric features and situations where we have categorical and continuous variables.The goal of the preprocessing work is to prepare our data for fitting models.\n",
    "\n",
    "general steps in pre-processing and training data development:\n",
    "\n",
    "**1-Create dummy or indicator features for categorical variables**\n",
    "\n",
    "**2-Scaling Features**\n",
    "\n",
    "**3-Split into testing and training datasets**\n"
   ]
  },
  {
   "cell_type": "code",
   "execution_count": 61,
   "id": "8f2a1121",
   "metadata": {},
   "outputs": [],
   "source": [
    "# data manipulation and math\n",
    "\n",
    "import numpy as np\n",
    "import pandas as pd\n",
    "\n",
    "import matplotlib.pyplot as plt\n",
    "import seaborn as sns\n",
    "import os\n",
    "\n",
    "from sklearn.preprocessing import MinMaxScaler\n",
    "from sklearn.preprocessing import PowerTransformer\n",
    "from sklearn.preprocessing import StandardScaler\n",
    "from sklearn.model_selection import train_test_split\n",
    "\n",
    "from sklearn.linear_model import LinearRegression\n",
    "from sklearn.metrics import mean_squared_error\n",
    "from sklearn.linear_model import Ridge\n",
    "from sklearn.ensemble import GradientBoostingRegressor\n",
    "from sklearn.svm import SVR"
   ]
  },
  {
   "cell_type": "markdown",
   "id": "aec38aa4",
   "metadata": {},
   "source": [
    "**1.-Loading the Data**\n",
    "\n",
    "As a first step, read in the data and view all the columns, and display the top of the DataFrame."
   ]
  },
  {
   "cell_type": "code",
   "execution_count": 62,
   "id": "d1d6f3b9",
   "metadata": {},
   "outputs": [
    {
     "name": "stdout",
     "output_type": "stream",
     "text": [
      "The data have  347 rows and 7 columns\n",
      "Columns name: \n",
      "\n",
      "Year\n",
      "GeoType\n",
      "GeoID\n",
      "Number\n",
      "no2/Mean ppb\n",
      "Geography\n",
      "pm/Mean mcg/m3\n"
     ]
    }
   ],
   "source": [
    "# load the data\n",
    "aa_no_pm= pd.read_csv('https://raw.githubusercontent.com/Mary080102/Capston-Two/main/Raw%20data/aa_no_pm_cleaned.csv')\n",
    "df= aa_no_pm.copy()\n",
    "print('The data have ',df.shape[0], 'rows and',df.shape[1],'columns')\n",
    "\n",
    "print('Columns name: \\n')\n",
    "print('\\n'.join(list(df.columns)))"
   ]
  },
  {
   "cell_type": "code",
   "execution_count": 63,
   "id": "80729cf3",
   "metadata": {},
   "outputs": [
    {
     "data": {
      "text/html": [
       "<div>\n",
       "<style scoped>\n",
       "    .dataframe tbody tr th:only-of-type {\n",
       "        vertical-align: middle;\n",
       "    }\n",
       "\n",
       "    .dataframe tbody tr th {\n",
       "        vertical-align: top;\n",
       "    }\n",
       "\n",
       "    .dataframe thead th {\n",
       "        text-align: right;\n",
       "    }\n",
       "</style>\n",
       "<table border=\"1\" class=\"dataframe\">\n",
       "  <thead>\n",
       "    <tr style=\"text-align: right;\">\n",
       "      <th></th>\n",
       "      <th>Year</th>\n",
       "      <th>GeoType</th>\n",
       "      <th>GeoID</th>\n",
       "      <th>Number</th>\n",
       "      <th>no2/Mean ppb</th>\n",
       "      <th>Geography</th>\n",
       "      <th>pm/Mean mcg/m3</th>\n",
       "    </tr>\n",
       "  </thead>\n",
       "  <tbody>\n",
       "    <tr>\n",
       "      <th>0</th>\n",
       "      <td>2020</td>\n",
       "      <td>CD</td>\n",
       "      <td>101</td>\n",
       "      <td>80.0</td>\n",
       "      <td>21.7</td>\n",
       "      <td>Financial District (CD1)</td>\n",
       "      <td>7.5</td>\n",
       "    </tr>\n",
       "    <tr>\n",
       "      <th>1</th>\n",
       "      <td>2020</td>\n",
       "      <td>CD</td>\n",
       "      <td>102</td>\n",
       "      <td>81.0</td>\n",
       "      <td>21.3</td>\n",
       "      <td>Greenwich Village and Soho (CD2)</td>\n",
       "      <td>8.5</td>\n",
       "    </tr>\n",
       "    <tr>\n",
       "      <th>2</th>\n",
       "      <td>2020</td>\n",
       "      <td>CD</td>\n",
       "      <td>103</td>\n",
       "      <td>661.0</td>\n",
       "      <td>19.4</td>\n",
       "      <td>Lower East Side and Chinatown (CD3)</td>\n",
       "      <td>7.5</td>\n",
       "    </tr>\n",
       "    <tr>\n",
       "      <th>3</th>\n",
       "      <td>2020</td>\n",
       "      <td>CD</td>\n",
       "      <td>104</td>\n",
       "      <td>364.0</td>\n",
       "      <td>22.5</td>\n",
       "      <td>Clinton and Chelsea (CD4)</td>\n",
       "      <td>8.0</td>\n",
       "    </tr>\n",
       "    <tr>\n",
       "      <th>4</th>\n",
       "      <td>2020</td>\n",
       "      <td>CD</td>\n",
       "      <td>105</td>\n",
       "      <td>116.0</td>\n",
       "      <td>26.3</td>\n",
       "      <td>Midtown (CD5)</td>\n",
       "      <td>9.2</td>\n",
       "    </tr>\n",
       "  </tbody>\n",
       "</table>\n",
       "</div>"
      ],
      "text/plain": [
       "   Year GeoType  GeoID  Number  no2/Mean ppb  \\\n",
       "0  2020      CD    101    80.0          21.7   \n",
       "1  2020      CD    102    81.0          21.3   \n",
       "2  2020      CD    103   661.0          19.4   \n",
       "3  2020      CD    104   364.0          22.5   \n",
       "4  2020      CD    105   116.0          26.3   \n",
       "\n",
       "                             Geography  pm/Mean mcg/m3  \n",
       "0             Financial District (CD1)             7.5  \n",
       "1     Greenwich Village and Soho (CD2)             8.5  \n",
       "2  Lower East Side and Chinatown (CD3)             7.5  \n",
       "3            Clinton and Chelsea (CD4)             8.0  \n",
       "4                        Midtown (CD5)             9.2  "
      ]
     },
     "execution_count": 63,
     "metadata": {},
     "output_type": "execute_result"
    }
   ],
   "source": [
    "df.head()"
   ]
  },
  {
   "cell_type": "markdown",
   "id": "f898e038",
   "metadata": {},
   "source": [
    "**2.Transformation of categorical features**\n",
    "\n",
    "In general, categorical features need to be transformed or encoded to be used in some machine learning models.In this project the only column 'GeoType' must be encoded.We are not going to use the other ones in the model."
   ]
  },
  {
   "cell_type": "code",
   "execution_count": 64,
   "id": "a4d7911b",
   "metadata": {},
   "outputs": [],
   "source": [
    "# Transform categorical columns \n",
    "\n",
    "df_transformed= pd.get_dummies(df,columns=['GeoType'])\n"
   ]
  },
  {
   "cell_type": "code",
   "execution_count": 65,
   "id": "ed5808d7",
   "metadata": {},
   "outputs": [
    {
     "data": {
      "text/html": [
       "<div>\n",
       "<style scoped>\n",
       "    .dataframe tbody tr th:only-of-type {\n",
       "        vertical-align: middle;\n",
       "    }\n",
       "\n",
       "    .dataframe tbody tr th {\n",
       "        vertical-align: top;\n",
       "    }\n",
       "\n",
       "    .dataframe thead th {\n",
       "        text-align: right;\n",
       "    }\n",
       "</style>\n",
       "<table border=\"1\" class=\"dataframe\">\n",
       "  <thead>\n",
       "    <tr style=\"text-align: right;\">\n",
       "      <th></th>\n",
       "      <th>Year</th>\n",
       "      <th>GeoID</th>\n",
       "      <th>Number</th>\n",
       "      <th>no2/Mean ppb</th>\n",
       "      <th>Geography</th>\n",
       "      <th>pm/Mean mcg/m3</th>\n",
       "      <th>GeoType_Borough</th>\n",
       "      <th>GeoType_CD</th>\n",
       "      <th>GeoType_Citywide</th>\n",
       "      <th>GeoType_UHF42</th>\n",
       "    </tr>\n",
       "  </thead>\n",
       "  <tbody>\n",
       "    <tr>\n",
       "      <th>0</th>\n",
       "      <td>2020</td>\n",
       "      <td>101</td>\n",
       "      <td>80.0</td>\n",
       "      <td>21.7</td>\n",
       "      <td>Financial District (CD1)</td>\n",
       "      <td>7.5</td>\n",
       "      <td>False</td>\n",
       "      <td>True</td>\n",
       "      <td>False</td>\n",
       "      <td>False</td>\n",
       "    </tr>\n",
       "    <tr>\n",
       "      <th>1</th>\n",
       "      <td>2020</td>\n",
       "      <td>102</td>\n",
       "      <td>81.0</td>\n",
       "      <td>21.3</td>\n",
       "      <td>Greenwich Village and Soho (CD2)</td>\n",
       "      <td>8.5</td>\n",
       "      <td>False</td>\n",
       "      <td>True</td>\n",
       "      <td>False</td>\n",
       "      <td>False</td>\n",
       "    </tr>\n",
       "    <tr>\n",
       "      <th>2</th>\n",
       "      <td>2020</td>\n",
       "      <td>103</td>\n",
       "      <td>661.0</td>\n",
       "      <td>19.4</td>\n",
       "      <td>Lower East Side and Chinatown (CD3)</td>\n",
       "      <td>7.5</td>\n",
       "      <td>False</td>\n",
       "      <td>True</td>\n",
       "      <td>False</td>\n",
       "      <td>False</td>\n",
       "    </tr>\n",
       "    <tr>\n",
       "      <th>3</th>\n",
       "      <td>2020</td>\n",
       "      <td>104</td>\n",
       "      <td>364.0</td>\n",
       "      <td>22.5</td>\n",
       "      <td>Clinton and Chelsea (CD4)</td>\n",
       "      <td>8.0</td>\n",
       "      <td>False</td>\n",
       "      <td>True</td>\n",
       "      <td>False</td>\n",
       "      <td>False</td>\n",
       "    </tr>\n",
       "    <tr>\n",
       "      <th>4</th>\n",
       "      <td>2020</td>\n",
       "      <td>105</td>\n",
       "      <td>116.0</td>\n",
       "      <td>26.3</td>\n",
       "      <td>Midtown (CD5)</td>\n",
       "      <td>9.2</td>\n",
       "      <td>False</td>\n",
       "      <td>True</td>\n",
       "      <td>False</td>\n",
       "      <td>False</td>\n",
       "    </tr>\n",
       "  </tbody>\n",
       "</table>\n",
       "</div>"
      ],
      "text/plain": [
       "   Year  GeoID  Number  no2/Mean ppb                            Geography  \\\n",
       "0  2020    101    80.0          21.7             Financial District (CD1)   \n",
       "1  2020    102    81.0          21.3     Greenwich Village and Soho (CD2)   \n",
       "2  2020    103   661.0          19.4  Lower East Side and Chinatown (CD3)   \n",
       "3  2020    104   364.0          22.5            Clinton and Chelsea (CD4)   \n",
       "4  2020    105   116.0          26.3                        Midtown (CD5)   \n",
       "\n",
       "   pm/Mean mcg/m3  GeoType_Borough  GeoType_CD  GeoType_Citywide  \\\n",
       "0             7.5            False        True             False   \n",
       "1             8.5            False        True             False   \n",
       "2             7.5            False        True             False   \n",
       "3             8.0            False        True             False   \n",
       "4             9.2            False        True             False   \n",
       "\n",
       "   GeoType_UHF42  \n",
       "0          False  \n",
       "1          False  \n",
       "2          False  \n",
       "3          False  \n",
       "4          False  "
      ]
     },
     "execution_count": 65,
     "metadata": {},
     "output_type": "execute_result"
    }
   ],
   "source": [
    "df_transformed.head()"
   ]
  },
  {
   "cell_type": "code",
   "execution_count": 66,
   "id": "0e3d8ce7",
   "metadata": {},
   "outputs": [],
   "source": [
    "# Drop irrelevant columns\n",
    "df_transformed=df_transformed.drop(columns=['GeoID','Geography'],axis=1)"
   ]
  },
  {
   "cell_type": "code",
   "execution_count": 67,
   "id": "dfe2f050",
   "metadata": {},
   "outputs": [
    {
     "data": {
      "text/html": [
       "<div>\n",
       "<style scoped>\n",
       "    .dataframe tbody tr th:only-of-type {\n",
       "        vertical-align: middle;\n",
       "    }\n",
       "\n",
       "    .dataframe tbody tr th {\n",
       "        vertical-align: top;\n",
       "    }\n",
       "\n",
       "    .dataframe thead th {\n",
       "        text-align: right;\n",
       "    }\n",
       "</style>\n",
       "<table border=\"1\" class=\"dataframe\">\n",
       "  <thead>\n",
       "    <tr style=\"text-align: right;\">\n",
       "      <th></th>\n",
       "      <th>Year</th>\n",
       "      <th>Number</th>\n",
       "      <th>no2/Mean ppb</th>\n",
       "      <th>pm/Mean mcg/m3</th>\n",
       "      <th>GeoType_Borough</th>\n",
       "      <th>GeoType_CD</th>\n",
       "      <th>GeoType_Citywide</th>\n",
       "      <th>GeoType_UHF42</th>\n",
       "    </tr>\n",
       "  </thead>\n",
       "  <tbody>\n",
       "    <tr>\n",
       "      <th>0</th>\n",
       "      <td>2020</td>\n",
       "      <td>80.0</td>\n",
       "      <td>21.7</td>\n",
       "      <td>7.5</td>\n",
       "      <td>False</td>\n",
       "      <td>True</td>\n",
       "      <td>False</td>\n",
       "      <td>False</td>\n",
       "    </tr>\n",
       "    <tr>\n",
       "      <th>1</th>\n",
       "      <td>2020</td>\n",
       "      <td>81.0</td>\n",
       "      <td>21.3</td>\n",
       "      <td>8.5</td>\n",
       "      <td>False</td>\n",
       "      <td>True</td>\n",
       "      <td>False</td>\n",
       "      <td>False</td>\n",
       "    </tr>\n",
       "    <tr>\n",
       "      <th>2</th>\n",
       "      <td>2020</td>\n",
       "      <td>661.0</td>\n",
       "      <td>19.4</td>\n",
       "      <td>7.5</td>\n",
       "      <td>False</td>\n",
       "      <td>True</td>\n",
       "      <td>False</td>\n",
       "      <td>False</td>\n",
       "    </tr>\n",
       "    <tr>\n",
       "      <th>3</th>\n",
       "      <td>2020</td>\n",
       "      <td>364.0</td>\n",
       "      <td>22.5</td>\n",
       "      <td>8.0</td>\n",
       "      <td>False</td>\n",
       "      <td>True</td>\n",
       "      <td>False</td>\n",
       "      <td>False</td>\n",
       "    </tr>\n",
       "    <tr>\n",
       "      <th>4</th>\n",
       "      <td>2020</td>\n",
       "      <td>116.0</td>\n",
       "      <td>26.3</td>\n",
       "      <td>9.2</td>\n",
       "      <td>False</td>\n",
       "      <td>True</td>\n",
       "      <td>False</td>\n",
       "      <td>False</td>\n",
       "    </tr>\n",
       "    <tr>\n",
       "      <th>...</th>\n",
       "      <td>...</td>\n",
       "      <td>...</td>\n",
       "      <td>...</td>\n",
       "      <td>...</td>\n",
       "      <td>...</td>\n",
       "      <td>...</td>\n",
       "      <td>...</td>\n",
       "      <td>...</td>\n",
       "    </tr>\n",
       "    <tr>\n",
       "      <th>342</th>\n",
       "      <td>2009</td>\n",
       "      <td>20450.0</td>\n",
       "      <td>24.1</td>\n",
       "      <td>10.5</td>\n",
       "      <td>True</td>\n",
       "      <td>False</td>\n",
       "      <td>False</td>\n",
       "      <td>False</td>\n",
       "    </tr>\n",
       "    <tr>\n",
       "      <th>343</th>\n",
       "      <td>2009</td>\n",
       "      <td>14493.0</td>\n",
       "      <td>33.9</td>\n",
       "      <td>12.6</td>\n",
       "      <td>True</td>\n",
       "      <td>False</td>\n",
       "      <td>False</td>\n",
       "      <td>False</td>\n",
       "    </tr>\n",
       "    <tr>\n",
       "      <th>344</th>\n",
       "      <td>2009</td>\n",
       "      <td>10602.0</td>\n",
       "      <td>22.2</td>\n",
       "      <td>10.0</td>\n",
       "      <td>True</td>\n",
       "      <td>False</td>\n",
       "      <td>False</td>\n",
       "      <td>False</td>\n",
       "    </tr>\n",
       "    <tr>\n",
       "      <th>345</th>\n",
       "      <td>2009</td>\n",
       "      <td>2843.0</td>\n",
       "      <td>16.8</td>\n",
       "      <td>9.8</td>\n",
       "      <td>True</td>\n",
       "      <td>False</td>\n",
       "      <td>False</td>\n",
       "      <td>False</td>\n",
       "    </tr>\n",
       "    <tr>\n",
       "      <th>346</th>\n",
       "      <td>2009</td>\n",
       "      <td>69944.0</td>\n",
       "      <td>22.7</td>\n",
       "      <td>10.4</td>\n",
       "      <td>False</td>\n",
       "      <td>False</td>\n",
       "      <td>True</td>\n",
       "      <td>False</td>\n",
       "    </tr>\n",
       "  </tbody>\n",
       "</table>\n",
       "<p>347 rows × 8 columns</p>\n",
       "</div>"
      ],
      "text/plain": [
       "     Year   Number  no2/Mean ppb  pm/Mean mcg/m3  GeoType_Borough  GeoType_CD  \\\n",
       "0    2020     80.0          21.7             7.5            False        True   \n",
       "1    2020     81.0          21.3             8.5            False        True   \n",
       "2    2020    661.0          19.4             7.5            False        True   \n",
       "3    2020    364.0          22.5             8.0            False        True   \n",
       "4    2020    116.0          26.3             9.2            False        True   \n",
       "..    ...      ...           ...             ...              ...         ...   \n",
       "342  2009  20450.0          24.1            10.5             True       False   \n",
       "343  2009  14493.0          33.9            12.6             True       False   \n",
       "344  2009  10602.0          22.2            10.0             True       False   \n",
       "345  2009   2843.0          16.8             9.8             True       False   \n",
       "346  2009  69944.0          22.7            10.4            False       False   \n",
       "\n",
       "     GeoType_Citywide  GeoType_UHF42  \n",
       "0               False          False  \n",
       "1               False          False  \n",
       "2               False          False  \n",
       "3               False          False  \n",
       "4               False          False  \n",
       "..                ...            ...  \n",
       "342             False          False  \n",
       "343             False          False  \n",
       "344             False          False  \n",
       "345             False          False  \n",
       "346              True          False  \n",
       "\n",
       "[347 rows x 8 columns]"
      ]
     },
     "execution_count": 67,
     "metadata": {},
     "output_type": "execute_result"
    }
   ],
   "source": [
    "df_transformed"
   ]
  },
  {
   "cell_type": "markdown",
   "id": "1167748b",
   "metadata": {},
   "source": [
    "**3.Split into testing and training datasets**\n"
   ]
  },
  {
   "cell_type": "code",
   "execution_count": 68,
   "id": "903499bc",
   "metadata": {},
   "outputs": [
    {
     "name": "stdout",
     "output_type": "stream",
     "text": [
      "x_train shape: (277, 7)\n",
      "x_test shape: (70, 7)\n",
      "y_train shape: (277,)\n",
      "y_test shape: (70,)\n"
     ]
    }
   ],
   "source": [
    "#Separate the features and the target variable\n",
    "X=df_transformed.drop(columns=['Number'])\n",
    "y=df_transformed['Number']\n",
    "\n",
    "# Split the data into training and testing sets\n",
    "X_train,X_test,y_train,y_test=train_test_split(X,y,test_size=0.2, random_state=42)\n",
    "\n",
    "# Print the shape of the resulting datasets\n",
    "print(f'x_train shape: {X_train.shape}')\n",
    "print(f'x_test shape: {X_test.shape}')\n",
    "print(f'y_train shape: {y_train.shape}')\n",
    "print(f'y_test shape: {y_test.shape}')"
   ]
  },
  {
   "cell_type": "markdown",
   "id": "7b96eeec",
   "metadata": {},
   "source": [
    "**4.-Scaling Features**"
   ]
  },
  {
   "cell_type": "markdown",
   "id": "896b6845",
   "metadata": {},
   "source": [
    "Apply normalization and standardization on our data to compare the effects of different Feature scaling techniques on the algorithm’s performance then evaluate the performance of our model using RMSE."
   ]
  },
  {
   "cell_type": "code",
   "execution_count": 69,
   "id": "2e427ec9",
   "metadata": {},
   "outputs": [
    {
     "data": {
      "image/png": "[encoded data removed]",
      "text/plain": [
       "<Figure size 800x800 with 3 Axes>"
      ]
     },
     "metadata": {},
     "output_type": "display_data"
    }
   ],
   "source": [
    "# Making a histogram for each variable in df\n",
    "\n",
    "columns=['Number','no2/Mean ppb','pm/Mean mcg/m3']\n",
    "\n",
    "# Create a figure with three subplots\n",
    "fig,axs= plt.subplots(3,1,figsize=(8, 8))\n",
    "\n",
    "# Plot histograms for each column\n",
    "for i,col in enumerate(columns):\n",
    "    axs[i].hist(df_transformed[col],bins=30)\n",
    "    axs[i].set_title(col)\n",
    "    \n",
    "# Adjust layout to prevent overlap\n",
    "plt.tight_layout()\n",
    "plt.show()"
   ]
  },
  {
   "cell_type": "markdown",
   "id": "a1eaa60f",
   "metadata": {},
   "source": [
    "* The histogram shows that the Number column is highly skewed with many outliers. The values range from small to very large, with a significant number of very high values. \n",
    "\n",
    "* The no2/Mean ppb column seems to have a relatively normal distribution but is slightly skewed. \n",
    "\n",
    "* The pm/Mean mcg/m3 column appears to be skewed to the right. "
   ]
  },
  {
   "cell_type": "markdown",
   "id": "4e0ab2e1",
   "metadata": {},
   "source": [
    "**4.1.Apply Scaling**\n",
    "\n",
    "We supposed to apply scaling on different models on our data. Models includes:\n",
    "- Linear Regression\n",
    "- Ridge Regression\n",
    "- Gradient Boosting\n",
    "- Random Forest\n",
    "- SVR\n",
    "\n",
    "The random forest model, which utilizes tree-based algorithms, is fairly insensitive to the scale of the features. Therefore, we do not apply scaling to this model for comparison purposes."
   ]
  },
  {
   "cell_type": "code",
   "execution_count": 70,
   "id": "e051ce8f",
   "metadata": {},
   "outputs": [],
   "source": [
    "X_train_stand = X_train.copy()\n",
    "X_test_stand = X_test.copy()\n",
    "\n",
    "# numerical features\n",
    "num_cols = ['pm/Mean mcg/m3','no2/Mean ppb']\n",
    "\n",
    "# apply standardization on numerical features\n",
    "for i in num_cols:\n",
    "    stand= StandardScaler().fit(X_train_stand[[i]])\n",
    "    X_train_stand[i] = stand.transform(X_train_stand[[i]])\n",
    "    X_test_stand[i] = stand.transform(X_test_stand[[i]])\n"
   ]
  },
  {
   "cell_type": "code",
   "execution_count": 71,
   "id": "962c24fe",
   "metadata": {},
   "outputs": [],
   "source": [
    "X_train_norm = X_train.copy()\n",
    "X_test_norm = X_test.copy()\n",
    "\n",
    "# Apply Normalization on numerical features\n",
    "\n",
    "for i in num_cols:\n",
    "    norm=  MinMaxScaler().fit(X_train_norm[[i]])\n",
    "    X_train_norm[i] = norm.transform(X_train[[i]])\n",
    "    X_test_norm[i] = norm.transform(X_test[[i]])\n"
   ]
  },
  {
   "cell_type": "markdown",
   "id": "310289bc",
   "metadata": {},
   "source": [
    "**4.2.Applying Scaling to Machine Learning Algorithms**\n",
    "\n",
    "**4.2.1.Linear Regression**\n"
   ]
  },
  {
   "cell_type": "code",
   "execution_count": 72,
   "id": "fc309bfe",
   "metadata": {},
   "outputs": [
    {
     "data": {
      "text/html": [
       "<div>\n",
       "<style scoped>\n",
       "    .dataframe tbody tr th:only-of-type {\n",
       "        vertical-align: middle;\n",
       "    }\n",
       "\n",
       "    .dataframe tbody tr th {\n",
       "        vertical-align: top;\n",
       "    }\n",
       "\n",
       "    .dataframe thead th {\n",
       "        text-align: right;\n",
       "    }\n",
       "</style>\n",
       "<table border=\"1\" class=\"dataframe\">\n",
       "  <thead>\n",
       "    <tr style=\"text-align: right;\">\n",
       "      <th></th>\n",
       "      <th>RMSE</th>\n",
       "    </tr>\n",
       "  </thead>\n",
       "  <tbody>\n",
       "    <tr>\n",
       "      <th>Original</th>\n",
       "      <td>3171.675538</td>\n",
       "    </tr>\n",
       "    <tr>\n",
       "      <th>Normalized</th>\n",
       "      <td>3171.675538</td>\n",
       "    </tr>\n",
       "    <tr>\n",
       "      <th>Standardized</th>\n",
       "      <td>3171.675538</td>\n",
       "    </tr>\n",
       "  </tbody>\n",
       "</table>\n",
       "</div>"
      ],
      "text/plain": [
       "                     RMSE\n",
       "Original      3171.675538\n",
       "Normalized    3171.675538\n",
       "Standardized  3171.675538"
      ]
     },
     "execution_count": 72,
     "metadata": {},
     "output_type": "execute_result"
    }
   ],
   "source": [
    "rmse=[]\n",
    "\n",
    "lr=LinearRegression()\n",
    "\n",
    "# raw, normalized and standardized training and testing data\n",
    "trainX = [X_train, X_train_norm, X_train_stand]\n",
    "testX = [X_test, X_test_norm, X_test_stand]\n",
    "\n",
    "# model fitting and measuring RMSE\n",
    "\n",
    "for i in range(len(trainX)):\n",
    "    lr.fit(trainX[i],y_train)\n",
    "    y_pred= lr.predict(testX[i])\n",
    "    rmse.append(np.sqrt(mean_squared_error(y_test,y_pred)))\n",
    "    \n",
    "# visualizing the result\n",
    "df_lr= pd.DataFrame({'RMSE':rmse},index=['Original','Normalized','Standardized'])\n",
    "df_lr\n",
    "    "
   ]
  },
  {
   "cell_type": "markdown",
   "id": "560ca50b",
   "metadata": {},
   "source": [
    "Based on the results of RMSE, for linear regression RMSE scores has not changed."
   ]
  },
  {
   "cell_type": "markdown",
   "id": "9d3ed321",
   "metadata": {},
   "source": [
    "**4.2.2.Ridge Regression**"
   ]
  },
  {
   "cell_type": "code",
   "execution_count": 73,
   "id": "23756274",
   "metadata": {},
   "outputs": [
    {
     "data": {
      "text/html": [
       "<div>\n",
       "<style scoped>\n",
       "    .dataframe tbody tr th:only-of-type {\n",
       "        vertical-align: middle;\n",
       "    }\n",
       "\n",
       "    .dataframe tbody tr th {\n",
       "        vertical-align: top;\n",
       "    }\n",
       "\n",
       "    .dataframe thead th {\n",
       "        text-align: right;\n",
       "    }\n",
       "</style>\n",
       "<table border=\"1\" class=\"dataframe\">\n",
       "  <thead>\n",
       "    <tr style=\"text-align: right;\">\n",
       "      <th></th>\n",
       "      <th>RMSE</th>\n",
       "    </tr>\n",
       "  </thead>\n",
       "  <tbody>\n",
       "    <tr>\n",
       "      <th>Original</th>\n",
       "      <td>3362.293971</td>\n",
       "    </tr>\n",
       "    <tr>\n",
       "      <th>Normalized</th>\n",
       "      <td>3378.933703</td>\n",
       "    </tr>\n",
       "    <tr>\n",
       "      <th>Standardized</th>\n",
       "      <td>3362.817910</td>\n",
       "    </tr>\n",
       "  </tbody>\n",
       "</table>\n",
       "</div>"
      ],
      "text/plain": [
       "                     RMSE\n",
       "Original      3362.293971\n",
       "Normalized    3378.933703\n",
       "Standardized  3362.817910"
      ]
     },
     "execution_count": 73,
     "metadata": {},
     "output_type": "execute_result"
    }
   ],
   "source": [
    "rmse_rg=[]\n",
    "\n",
    "ridge=Ridge(alpha=1.0)\n",
    "\n",
    "# model fitting and measuring RMSE\n",
    "for i in range(len(trainX)):\n",
    "    ridge.fit(trainX[i],y_train)\n",
    "    y_pred_rd=ridge.predict(testX[i])\n",
    "    rmse_rg.append(np.sqrt(mean_squared_error(y_test,y_pred_rd)))\n",
    "    \n",
    "    \n",
    " # visualizing the result\n",
    "df_rg= pd.DataFrame({'RMSE':rmse_rg},index=['Original','Normalized','Standardized'])\n",
    "df_rg   "
   ]
  },
  {
   "cell_type": "markdown",
   "id": "454c84cc",
   "metadata": {},
   "source": [
    "Based on the results of RMSE, we can see that scaling the features does not reduce the RMSE score. The standardized data performed the same as the original data."
   ]
  },
  {
   "cell_type": "markdown",
   "id": "62bb98cf",
   "metadata": {},
   "source": [
    "**4.2.3.Gradient Boosting**"
   ]
  },
  {
   "cell_type": "code",
   "execution_count": 74,
   "id": "6513f013",
   "metadata": {},
   "outputs": [
    {
     "data": {
      "text/html": [
       "<div>\n",
       "<style scoped>\n",
       "    .dataframe tbody tr th:only-of-type {\n",
       "        vertical-align: middle;\n",
       "    }\n",
       "\n",
       "    .dataframe tbody tr th {\n",
       "        vertical-align: top;\n",
       "    }\n",
       "\n",
       "    .dataframe thead th {\n",
       "        text-align: right;\n",
       "    }\n",
       "</style>\n",
       "<table border=\"1\" class=\"dataframe\">\n",
       "  <thead>\n",
       "    <tr style=\"text-align: right;\">\n",
       "      <th></th>\n",
       "      <th>RMSE</th>\n",
       "    </tr>\n",
       "  </thead>\n",
       "  <tbody>\n",
       "    <tr>\n",
       "      <th>Original</th>\n",
       "      <td>14154.039149</td>\n",
       "    </tr>\n",
       "    <tr>\n",
       "      <th>Normalized</th>\n",
       "      <td>3307.169813</td>\n",
       "    </tr>\n",
       "    <tr>\n",
       "      <th>Standardized</th>\n",
       "      <td>3362.817910</td>\n",
       "    </tr>\n",
       "  </tbody>\n",
       "</table>\n",
       "</div>"
      ],
      "text/plain": [
       "                      RMSE\n",
       "Original      14154.039149\n",
       "Normalized     3307.169813\n",
       "Standardized   3362.817910"
      ]
     },
     "execution_count": 74,
     "metadata": {},
     "output_type": "execute_result"
    }
   ],
   "source": [
    "rmse_gb=[]\n",
    "gb= GradientBoostingRegressor()\n",
    "\n",
    "# model fitting and measuring RMSE\n",
    "for i in range(len(trainX)):\n",
    "    gb.fit(trainX[i],y_train)\n",
    "    y_pred_gb=ridge.predict(testX[i])\n",
    "    rmse_gb.append(np.sqrt(mean_squared_error(y_test,y_pred_gb)))\n",
    "    \n",
    "    \n",
    " # visualizing the result\n",
    "df_gb= pd.DataFrame({'RMSE':rmse_gb},index=['Original','Normalized','Standardized'])\n",
    "df_gb   \n"
   ]
  },
  {
   "cell_type": "markdown",
   "id": "c7896996",
   "metadata": {},
   "source": [
    "We can see that scaling the features does bring down the RMSE score. And the **Normalized data** has performed better than the Standardized data."
   ]
  },
  {
   "cell_type": "markdown",
   "id": "e75a024c",
   "metadata": {},
   "source": [
    "**4.2.4.Support Vector Regression Model (SVR)**"
   ]
  },
  {
   "cell_type": "code",
   "execution_count": 75,
   "id": "68aa4c6c",
   "metadata": {},
   "outputs": [
    {
     "data": {
      "text/html": [
       "<div>\n",
       "<style scoped>\n",
       "    .dataframe tbody tr th:only-of-type {\n",
       "        vertical-align: middle;\n",
       "    }\n",
       "\n",
       "    .dataframe tbody tr th {\n",
       "        vertical-align: top;\n",
       "    }\n",
       "\n",
       "    .dataframe thead th {\n",
       "        text-align: right;\n",
       "    }\n",
       "</style>\n",
       "<table border=\"1\" class=\"dataframe\">\n",
       "  <thead>\n",
       "    <tr style=\"text-align: right;\">\n",
       "      <th></th>\n",
       "      <th>RMSE</th>\n",
       "    </tr>\n",
       "  </thead>\n",
       "  <tbody>\n",
       "    <tr>\n",
       "      <th>Original</th>\n",
       "      <td>14154.039149</td>\n",
       "    </tr>\n",
       "    <tr>\n",
       "      <th>Normalized</th>\n",
       "      <td>3307.169813</td>\n",
       "    </tr>\n",
       "    <tr>\n",
       "      <th>Standardized</th>\n",
       "      <td>3362.817910</td>\n",
       "    </tr>\n",
       "  </tbody>\n",
       "</table>\n",
       "</div>"
      ],
      "text/plain": [
       "                      RMSE\n",
       "Original      14154.039149\n",
       "Normalized     3307.169813\n",
       "Standardized   3362.817910"
      ]
     },
     "execution_count": 75,
     "metadata": {},
     "output_type": "execute_result"
    }
   ],
   "source": [
    "rmse_svr=[]\n",
    "\n",
    "svr= SVR()\n",
    "\n",
    "# model fitting and measuring RMSE\n",
    "for i in range(len(trainX)):\n",
    "    svr.fit(trainX[i],y_train)\n",
    "    y_pred_svr=ridge.predict(testX[i])\n",
    "    rmse_svr.append(np.sqrt(mean_squared_error(y_test,y_pred_svr)))\n",
    "    \n",
    "    \n",
    " # visualizing the result\n",
    "df_svr= pd.DataFrame({'RMSE':rmse_svr},index=['Original','Normalized','Standardized'])\n",
    "df_svr   "
   ]
  },
  {
   "cell_type": "markdown",
   "id": "78246774",
   "metadata": {},
   "source": [
    "We can see that scaling the features does bring down the RMSE score. And the **Normalized data** has performed better than the Standardized data.\n",
    "Therefore we can choose **Normalization** as a scaling method for our data."
   ]
  },
  {
   "cell_type": "markdown",
   "id": "14cc0aba",
   "metadata": {},
   "source": [
    "**5.Save Data**"
   ]
  },
  {
   "cell_type": "code",
   "execution_count": 76,
   "id": "21172425",
   "metadata": {},
   "outputs": [],
   "source": [
    "# save the data to a new csv file\n",
    "# Path to the directory where you want to save the file\n",
    "data_path = '../data'\n",
    "# Create the directory if it does not exist\n",
    "os.makedirs(data_path, exist_ok=True)\n",
    "\n",
    "#save the dataframe to a CSV file in the new directory\n",
    "df_transformed.to_csv(os.path.join(data_path, 'aa_transformed'), index=False)\n"
   ]
  },
  {
   "cell_type": "code",
   "execution_count": null,
   "id": "371c4688",
   "metadata": {},
   "outputs": [],
   "source": []
  }
 ],
 "metadata": {
  "kernelspec": {
   "display_name": "Python 3 (ipykernel)",
   "language": "python",
   "name": "python3"
  },
  "language_info": {
   "codemirror_mode": {
    "name": "ipython",
    "version": 3
   },
   "file_extension": ".py",
   "mimetype": "text/x-python",
   "name": "python",
   "nbconvert_exporter": "python",
   "pygments_lexer": "ipython3",
   "version": "3.11.3"
  }
 },
 "nbformat": 4,
 "nbformat_minor": 5
}
