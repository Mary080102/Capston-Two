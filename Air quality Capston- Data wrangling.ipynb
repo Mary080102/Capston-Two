{
 "cells": [
  {
   "cell_type": "markdown",
   "id": "7f453379",
   "metadata": {},
   "source": [
    "**1.Data Collection**\n",
    "\n",
    "**1.1. Imports**"
   ]
  },
  {
   "cell_type": "code",
   "execution_count": 267,
   "id": "ed018367",
   "metadata": {},
   "outputs": [],
   "source": [
    "import pandas as pd\n",
    "import numpy as np\n",
    "import os\n"
   ]
  },
  {
   "cell_type": "markdown",
   "id": "4295115c",
   "metadata": {},
   "source": [
    "**1.2.Load Data**"
   ]
  },
  {
   "cell_type": "code",
   "execution_count": 268,
   "id": "3a394c04",
   "metadata": {},
   "outputs": [],
   "source": [
    "asthma_adults= pd.read_csv(\"https://raw.githubusercontent.com/Mary080102/Capston-Two/main/Raw%20data/NYC%20EH%20Data%20Portal%20-%20Asthma%20emergency%20department%20visits%20(adults)%20(full%20table).csv\")\n",
    "asthma_age_4= pd.read_csv(\"https://raw.githubusercontent.com/Mary080102/Capston-Two/main/Raw%20data/NYC%20EH%20Data%20Portal%20-%20Asthma%20emergency%20department%20visits%20(age%204%20and%20under)%20(full%20table).csv\")\n",
    "asthma_age5_17=pd.read_csv(\"https://raw.githubusercontent.com/Mary080102/Capston-Two/main/Raw%20data/NYC%20EH%20Data%20Portal%20-%20Asthma%20emergency%20department%20visits%20(age%205%20to%2017)%20(full%20table).csv\")\n",
    "pm2_5=pd.read_csv(\"https://raw.githubusercontent.com/Mary080102/Capston-Two/main/Raw%20data/NYC%20EH%20Data%20Portal%20-%20Fine%20particles%20(PM%202.5)%20(full%20table).csv\")\n",
    "no2=pd.read_csv(\"https://raw.githubusercontent.com/Mary080102/Capston-Two/main/Raw%20data/NYC%20EH%20Data%20Portal%20-%20Nitrogen%20dioxide%20(NO2)%20(full%20table).csv\")"
   ]
  },
  {
   "cell_type": "markdown",
   "id": "170a27b8",
   "metadata": {},
   "source": [
    "**2.Data Definition**"
   ]
  },
  {
   "cell_type": "code",
   "execution_count": 269,
   "id": "009649a6",
   "metadata": {},
   "outputs": [
    {
     "name": "stdout",
     "output_type": "stream",
     "text": [
      "<class 'pandas.core.frame.DataFrame'>\n",
      "RangeIndex: 792 entries, 0 to 791\n",
      "Data columns (total 8 columns):\n",
      " #   Column                            Non-Null Count  Dtype \n",
      "---  ------                            --------------  ----- \n",
      " 0   TimePeriod                        792 non-null    int64 \n",
      " 1   GeoType                           792 non-null    object\n",
      " 2   GeoID                             792 non-null    int64 \n",
      " 3   GeoRank                           792 non-null    int64 \n",
      " 4   Geography                         792 non-null    object\n",
      " 5   Age-adjusted rate per 10,000      791 non-null    object\n",
      " 6   Estimated annual rate per 10,000  792 non-null    object\n",
      " 7   Number                            792 non-null    object\n",
      "dtypes: int64(3), object(5)\n",
      "memory usage: 49.6+ KB\n"
     ]
    }
   ],
   "source": [
    "#getting a quick overview of the DataFrame\n",
    "asthma_adults.info()"
   ]
  },
  {
   "cell_type": "code",
   "execution_count": 302,
   "id": "74c249a2",
   "metadata": {},
   "outputs": [
    {
     "data": {
      "text/html": [
       "<div>\n",
       "<style scoped>\n",
       "    .dataframe tbody tr th:only-of-type {\n",
       "        vertical-align: middle;\n",
       "    }\n",
       "\n",
       "    .dataframe tbody tr th {\n",
       "        vertical-align: top;\n",
       "    }\n",
       "\n",
       "    .dataframe thead th {\n",
       "        text-align: right;\n",
       "    }\n",
       "</style>\n",
       "<table border=\"1\" class=\"dataframe\">\n",
       "  <thead>\n",
       "    <tr style=\"text-align: right;\">\n",
       "      <th></th>\n",
       "      <th>TimePeriod</th>\n",
       "      <th>GeoType</th>\n",
       "      <th>GeoID</th>\n",
       "      <th>GeoRank</th>\n",
       "      <th>Geography</th>\n",
       "      <th>Age-adjusted rate per 10,000</th>\n",
       "      <th>Estimated annual rate per 10,000</th>\n",
       "      <th>Number</th>\n",
       "    </tr>\n",
       "  </thead>\n",
       "  <tbody>\n",
       "    <tr>\n",
       "      <th>0</th>\n",
       "      <td>2020</td>\n",
       "      <td>CD</td>\n",
       "      <td>101</td>\n",
       "      <td>6</td>\n",
       "      <td>Financial District (CD1)</td>\n",
       "      <td>17.9</td>\n",
       "      <td>14.6</td>\n",
       "      <td>80</td>\n",
       "    </tr>\n",
       "    <tr>\n",
       "      <th>1</th>\n",
       "      <td>2020</td>\n",
       "      <td>CD</td>\n",
       "      <td>102</td>\n",
       "      <td>6</td>\n",
       "      <td>Greenwich Village and Soho (CD2)</td>\n",
       "      <td>9.8</td>\n",
       "      <td>9.7</td>\n",
       "      <td>81</td>\n",
       "    </tr>\n",
       "    <tr>\n",
       "      <th>2</th>\n",
       "      <td>2020</td>\n",
       "      <td>CD</td>\n",
       "      <td>103</td>\n",
       "      <td>6</td>\n",
       "      <td>Lower East Side and Chinatown (CD3)</td>\n",
       "      <td>44.9</td>\n",
       "      <td>43.9</td>\n",
       "      <td>661</td>\n",
       "    </tr>\n",
       "    <tr>\n",
       "      <th>3</th>\n",
       "      <td>2020</td>\n",
       "      <td>CD</td>\n",
       "      <td>104</td>\n",
       "      <td>6</td>\n",
       "      <td>Clinton and Chelsea (CD4)</td>\n",
       "      <td>28.6</td>\n",
       "      <td>26.6</td>\n",
       "      <td>364</td>\n",
       "    </tr>\n",
       "    <tr>\n",
       "      <th>4</th>\n",
       "      <td>2020</td>\n",
       "      <td>CD</td>\n",
       "      <td>105</td>\n",
       "      <td>6</td>\n",
       "      <td>Midtown (CD5)</td>\n",
       "      <td>21.5</td>\n",
       "      <td>20.0</td>\n",
       "      <td>116</td>\n",
       "    </tr>\n",
       "  </tbody>\n",
       "</table>\n",
       "</div>"
      ],
      "text/plain": [
       "   TimePeriod GeoType  GeoID  GeoRank                            Geography  \\\n",
       "0        2020      CD    101        6             Financial District (CD1)   \n",
       "1        2020      CD    102        6     Greenwich Village and Soho (CD2)   \n",
       "2        2020      CD    103        6  Lower East Side and Chinatown (CD3)   \n",
       "3        2020      CD    104        6            Clinton and Chelsea (CD4)   \n",
       "4        2020      CD    105        6                        Midtown (CD5)   \n",
       "\n",
       "  Age-adjusted rate per 10,000 Estimated annual rate per 10,000 Number  \n",
       "0                         17.9                             14.6     80  \n",
       "1                          9.8                              9.7     81  \n",
       "2                         44.9                             43.9    661  \n",
       "3                         28.6                             26.6    364  \n",
       "4                         21.5                             20.0    116  "
      ]
     },
     "execution_count": 302,
     "metadata": {},
     "output_type": "execute_result"
    }
   ],
   "source": [
    "asthma_adults.head()"
   ]
  },
  {
   "cell_type": "code",
   "execution_count": 270,
   "id": "9be45f3f",
   "metadata": {},
   "outputs": [
    {
     "name": "stdout",
     "output_type": "stream",
     "text": [
      "<class 'pandas.core.frame.DataFrame'>\n",
      "RangeIndex: 839 entries, 0 to 838\n",
      "Data columns (total 7 columns):\n",
      " #   Column                            Non-Null Count  Dtype \n",
      "---  ------                            --------------  ----- \n",
      " 0   TimePeriod                        839 non-null    int64 \n",
      " 1   GeoType                           839 non-null    object\n",
      " 2   GeoID                             839 non-null    int64 \n",
      " 3   GeoRank                           839 non-null    int64 \n",
      " 4   Geography                         839 non-null    object\n",
      " 5   Estimated annual rate per 10,000  839 non-null    object\n",
      " 6   Number                            839 non-null    object\n",
      "dtypes: int64(3), object(4)\n",
      "memory usage: 46.0+ KB\n"
     ]
    }
   ],
   "source": [
    "asthma_age_4.info()"
   ]
  },
  {
   "cell_type": "code",
   "execution_count": 368,
   "id": "be260d12",
   "metadata": {},
   "outputs": [
    {
     "data": {
      "text/html": [
       "<div>\n",
       "<style scoped>\n",
       "    .dataframe tbody tr th:only-of-type {\n",
       "        vertical-align: middle;\n",
       "    }\n",
       "\n",
       "    .dataframe tbody tr th {\n",
       "        vertical-align: top;\n",
       "    }\n",
       "\n",
       "    .dataframe thead th {\n",
       "        text-align: right;\n",
       "    }\n",
       "</style>\n",
       "<table border=\"1\" class=\"dataframe\">\n",
       "  <thead>\n",
       "    <tr style=\"text-align: right;\">\n",
       "      <th></th>\n",
       "      <th>TimePeriod</th>\n",
       "      <th>GeoType</th>\n",
       "      <th>GeoID</th>\n",
       "      <th>GeoRank</th>\n",
       "      <th>Geography</th>\n",
       "      <th>Estimated annual rate per 10,000</th>\n",
       "      <th>Number</th>\n",
       "    </tr>\n",
       "  </thead>\n",
       "  <tbody>\n",
       "    <tr>\n",
       "      <th>0</th>\n",
       "      <td>2020</td>\n",
       "      <td>CD</td>\n",
       "      <td>101</td>\n",
       "      <td>6</td>\n",
       "      <td>Financial District (CD1)</td>\n",
       "      <td>16.6*</td>\n",
       "      <td>7*</td>\n",
       "    </tr>\n",
       "    <tr>\n",
       "      <th>1</th>\n",
       "      <td>2020</td>\n",
       "      <td>CD</td>\n",
       "      <td>102</td>\n",
       "      <td>6</td>\n",
       "      <td>Greenwich Village and Soho (CD2)</td>\n",
       "      <td>3.2*</td>\n",
       "      <td>1*</td>\n",
       "    </tr>\n",
       "    <tr>\n",
       "      <th>2</th>\n",
       "      <td>2020</td>\n",
       "      <td>CD</td>\n",
       "      <td>103</td>\n",
       "      <td>6</td>\n",
       "      <td>Lower East Side and Chinatown (CD3)</td>\n",
       "      <td>73.0</td>\n",
       "      <td>47</td>\n",
       "    </tr>\n",
       "    <tr>\n",
       "      <th>3</th>\n",
       "      <td>2020</td>\n",
       "      <td>CD</td>\n",
       "      <td>104</td>\n",
       "      <td>6</td>\n",
       "      <td>Clinton and Chelsea (CD4)</td>\n",
       "      <td>23.6</td>\n",
       "      <td>11</td>\n",
       "    </tr>\n",
       "    <tr>\n",
       "      <th>4</th>\n",
       "      <td>2020</td>\n",
       "      <td>CD</td>\n",
       "      <td>105</td>\n",
       "      <td>6</td>\n",
       "      <td>Midtown (CD5)</td>\n",
       "      <td>32.5*</td>\n",
       "      <td>7*</td>\n",
       "    </tr>\n",
       "  </tbody>\n",
       "</table>\n",
       "</div>"
      ],
      "text/plain": [
       "   TimePeriod GeoType  GeoID  GeoRank                            Geography  \\\n",
       "0        2020      CD    101        6             Financial District (CD1)   \n",
       "1        2020      CD    102        6     Greenwich Village and Soho (CD2)   \n",
       "2        2020      CD    103        6  Lower East Side and Chinatown (CD3)   \n",
       "3        2020      CD    104        6            Clinton and Chelsea (CD4)   \n",
       "4        2020      CD    105        6                        Midtown (CD5)   \n",
       "\n",
       "  Estimated annual rate per 10,000 Number  \n",
       "0                            16.6*     7*  \n",
       "1                             3.2*     1*  \n",
       "2                             73.0     47  \n",
       "3                             23.6     11  \n",
       "4                            32.5*     7*  "
      ]
     },
     "execution_count": 368,
     "metadata": {},
     "output_type": "execute_result"
    }
   ],
   "source": [
    "asthma_age_4.head()\n",
    "\n",
    "        "
   ]
  },
  {
   "cell_type": "code",
   "execution_count": 271,
   "id": "fe573920",
   "metadata": {},
   "outputs": [
    {
     "name": "stdout",
     "output_type": "stream",
     "text": [
      "<class 'pandas.core.frame.DataFrame'>\n",
      "RangeIndex: 839 entries, 0 to 838\n",
      "Data columns (total 7 columns):\n",
      " #   Column                            Non-Null Count  Dtype \n",
      "---  ------                            --------------  ----- \n",
      " 0   TimePeriod                        839 non-null    int64 \n",
      " 1   GeoType                           839 non-null    object\n",
      " 2   GeoID                             839 non-null    int64 \n",
      " 3   GeoRank                           839 non-null    int64 \n",
      " 4   Geography                         839 non-null    object\n",
      " 5   Estimated annual rate per 10,000  839 non-null    object\n",
      " 6   Number                            839 non-null    object\n",
      "dtypes: int64(3), object(4)\n",
      "memory usage: 46.0+ KB\n"
     ]
    }
   ],
   "source": [
    "asthma_age5_17.info()"
   ]
  },
  {
   "cell_type": "code",
   "execution_count": 432,
   "id": "69a112f4",
   "metadata": {},
   "outputs": [
    {
     "data": {
      "text/html": [
       "<div>\n",
       "<style scoped>\n",
       "    .dataframe tbody tr th:only-of-type {\n",
       "        vertical-align: middle;\n",
       "    }\n",
       "\n",
       "    .dataframe tbody tr th {\n",
       "        vertical-align: top;\n",
       "    }\n",
       "\n",
       "    .dataframe thead th {\n",
       "        text-align: right;\n",
       "    }\n",
       "</style>\n",
       "<table border=\"1\" class=\"dataframe\">\n",
       "  <thead>\n",
       "    <tr style=\"text-align: right;\">\n",
       "      <th></th>\n",
       "      <th>TimePeriod</th>\n",
       "      <th>GeoType</th>\n",
       "      <th>GeoID</th>\n",
       "      <th>GeoRank</th>\n",
       "      <th>Geography</th>\n",
       "      <th>Estimated annual rate per 10,000</th>\n",
       "      <th>Number</th>\n",
       "    </tr>\n",
       "  </thead>\n",
       "  <tbody>\n",
       "    <tr>\n",
       "      <th>0</th>\n",
       "      <td>2020</td>\n",
       "      <td>CD</td>\n",
       "      <td>101</td>\n",
       "      <td>6</td>\n",
       "      <td>Financial District (CD1)</td>\n",
       "      <td>11.9*</td>\n",
       "      <td>6*</td>\n",
       "    </tr>\n",
       "    <tr>\n",
       "      <th>1</th>\n",
       "      <td>2020</td>\n",
       "      <td>CD</td>\n",
       "      <td>102</td>\n",
       "      <td>6</td>\n",
       "      <td>Greenwich Village and Soho (CD2)</td>\n",
       "      <td>8.8*</td>\n",
       "      <td>5*</td>\n",
       "    </tr>\n",
       "    <tr>\n",
       "      <th>2</th>\n",
       "      <td>2020</td>\n",
       "      <td>CD</td>\n",
       "      <td>103</td>\n",
       "      <td>6</td>\n",
       "      <td>Lower East Side and Chinatown (CD3)</td>\n",
       "      <td>81.9</td>\n",
       "      <td>136</td>\n",
       "    </tr>\n",
       "    <tr>\n",
       "      <th>3</th>\n",
       "      <td>2020</td>\n",
       "      <td>CD</td>\n",
       "      <td>104</td>\n",
       "      <td>6</td>\n",
       "      <td>Clinton and Chelsea (CD4)</td>\n",
       "      <td>42.1</td>\n",
       "      <td>34</td>\n",
       "    </tr>\n",
       "    <tr>\n",
       "      <th>4</th>\n",
       "      <td>2020</td>\n",
       "      <td>CD</td>\n",
       "      <td>105</td>\n",
       "      <td>6</td>\n",
       "      <td>Midtown (CD5)</td>\n",
       "      <td>19.4*</td>\n",
       "      <td>5*</td>\n",
       "    </tr>\n",
       "  </tbody>\n",
       "</table>\n",
       "</div>"
      ],
      "text/plain": [
       "   TimePeriod GeoType  GeoID  GeoRank                            Geography  \\\n",
       "0        2020      CD    101        6             Financial District (CD1)   \n",
       "1        2020      CD    102        6     Greenwich Village and Soho (CD2)   \n",
       "2        2020      CD    103        6  Lower East Side and Chinatown (CD3)   \n",
       "3        2020      CD    104        6            Clinton and Chelsea (CD4)   \n",
       "4        2020      CD    105        6                        Midtown (CD5)   \n",
       "\n",
       "  Estimated annual rate per 10,000 Number  \n",
       "0                            11.9*     6*  \n",
       "1                             8.8*     5*  \n",
       "2                             81.9    136  \n",
       "3                             42.1     34  \n",
       "4                            19.4*     5*  "
      ]
     },
     "execution_count": 432,
     "metadata": {},
     "output_type": "execute_result"
    }
   ],
   "source": [
    "asthma_age5_17.head()"
   ]
  },
  {
   "cell_type": "code",
   "execution_count": 272,
   "id": "ff29e7c4",
   "metadata": {},
   "outputs": [
    {
     "name": "stdout",
     "output_type": "stream",
     "text": [
      "<class 'pandas.core.frame.DataFrame'>\n",
      "RangeIndex: 4554 entries, 0 to 4553\n",
      "Data columns (total 8 columns):\n",
      " #   Column                  Non-Null Count  Dtype  \n",
      "---  ------                  --------------  -----  \n",
      " 0   TimePeriod              4554 non-null   object \n",
      " 1   GeoType                 4554 non-null   object \n",
      " 2   GeoID                   4554 non-null   int64  \n",
      " 3   GeoRank                 4554 non-null   int64  \n",
      " 4   Geography               4554 non-null   object \n",
      " 5   10th percentile mcg/m3  4554 non-null   float64\n",
      " 6   90th percentile mcg/m3  4554 non-null   float64\n",
      " 7   Mean mcg/m3             4554 non-null   float64\n",
      "dtypes: float64(3), int64(2), object(3)\n",
      "memory usage: 284.8+ KB\n"
     ]
    }
   ],
   "source": [
    "pm2_5.info()"
   ]
  },
  {
   "cell_type": "code",
   "execution_count": 451,
   "id": "c84cc57f",
   "metadata": {},
   "outputs": [
    {
     "data": {
      "text/html": [
       "<div>\n",
       "<style scoped>\n",
       "    .dataframe tbody tr th:only-of-type {\n",
       "        vertical-align: middle;\n",
       "    }\n",
       "\n",
       "    .dataframe tbody tr th {\n",
       "        vertical-align: top;\n",
       "    }\n",
       "\n",
       "    .dataframe thead th {\n",
       "        text-align: right;\n",
       "    }\n",
       "</style>\n",
       "<table border=\"1\" class=\"dataframe\">\n",
       "  <thead>\n",
       "    <tr style=\"text-align: right;\">\n",
       "      <th></th>\n",
       "      <th>TimePeriod</th>\n",
       "      <th>GeoType</th>\n",
       "      <th>GeoID</th>\n",
       "      <th>GeoRank</th>\n",
       "      <th>Geography</th>\n",
       "      <th>10th percentile mcg/m3</th>\n",
       "      <th>90th percentile mcg/m3</th>\n",
       "      <th>Mean mcg/m3</th>\n",
       "    </tr>\n",
       "  </thead>\n",
       "  <tbody>\n",
       "    <tr>\n",
       "      <th>0</th>\n",
       "      <td>Annual Average 2022</td>\n",
       "      <td>CD</td>\n",
       "      <td>101</td>\n",
       "      <td>6</td>\n",
       "      <td>Financial District (CD1)</td>\n",
       "      <td>6.7</td>\n",
       "      <td>7.8</td>\n",
       "      <td>7.2</td>\n",
       "    </tr>\n",
       "    <tr>\n",
       "      <th>1</th>\n",
       "      <td>Annual Average 2022</td>\n",
       "      <td>CD</td>\n",
       "      <td>102</td>\n",
       "      <td>6</td>\n",
       "      <td>Greenwich Village and Soho (CD2)</td>\n",
       "      <td>7.6</td>\n",
       "      <td>9.3</td>\n",
       "      <td>8.4</td>\n",
       "    </tr>\n",
       "    <tr>\n",
       "      <th>2</th>\n",
       "      <td>Annual Average 2022</td>\n",
       "      <td>CD</td>\n",
       "      <td>103</td>\n",
       "      <td>6</td>\n",
       "      <td>Lower East Side and Chinatown (CD3)</td>\n",
       "      <td>6.1</td>\n",
       "      <td>8.6</td>\n",
       "      <td>7.2</td>\n",
       "    </tr>\n",
       "    <tr>\n",
       "      <th>3</th>\n",
       "      <td>Annual Average 2022</td>\n",
       "      <td>CD</td>\n",
       "      <td>104</td>\n",
       "      <td>6</td>\n",
       "      <td>Clinton and Chelsea (CD4)</td>\n",
       "      <td>6.7</td>\n",
       "      <td>9.0</td>\n",
       "      <td>7.8</td>\n",
       "    </tr>\n",
       "    <tr>\n",
       "      <th>4</th>\n",
       "      <td>Annual Average 2022</td>\n",
       "      <td>CD</td>\n",
       "      <td>105</td>\n",
       "      <td>6</td>\n",
       "      <td>Midtown (CD5)</td>\n",
       "      <td>8.2</td>\n",
       "      <td>9.7</td>\n",
       "      <td>9.1</td>\n",
       "    </tr>\n",
       "  </tbody>\n",
       "</table>\n",
       "</div>"
      ],
      "text/plain": [
       "            TimePeriod GeoType  GeoID  GeoRank  \\\n",
       "0  Annual Average 2022      CD    101        6   \n",
       "1  Annual Average 2022      CD    102        6   \n",
       "2  Annual Average 2022      CD    103        6   \n",
       "3  Annual Average 2022      CD    104        6   \n",
       "4  Annual Average 2022      CD    105        6   \n",
       "\n",
       "                             Geography  10th percentile mcg/m3  \\\n",
       "0             Financial District (CD1)                     6.7   \n",
       "1     Greenwich Village and Soho (CD2)                     7.6   \n",
       "2  Lower East Side and Chinatown (CD3)                     6.1   \n",
       "3            Clinton and Chelsea (CD4)                     6.7   \n",
       "4                        Midtown (CD5)                     8.2   \n",
       "\n",
       "   90th percentile mcg/m3  Mean mcg/m3  \n",
       "0                     7.8          7.2  \n",
       "1                     9.3          8.4  \n",
       "2                     8.6          7.2  \n",
       "3                     9.0          7.8  \n",
       "4                     9.7          9.1  "
      ]
     },
     "execution_count": 451,
     "metadata": {},
     "output_type": "execute_result"
    }
   ],
   "source": [
    "pm2_5.head()"
   ]
  },
  {
   "cell_type": "code",
   "execution_count": 273,
   "id": "be38588e",
   "metadata": {},
   "outputs": [
    {
     "name": "stdout",
     "output_type": "stream",
     "text": [
      "<class 'pandas.core.frame.DataFrame'>\n",
      "RangeIndex: 4554 entries, 0 to 4553\n",
      "Data columns (total 8 columns):\n",
      " #   Column               Non-Null Count  Dtype  \n",
      "---  ------               --------------  -----  \n",
      " 0   TimePeriod           4554 non-null   object \n",
      " 1   GeoType              4554 non-null   object \n",
      " 2   GeoID                4554 non-null   int64  \n",
      " 3   GeoRank              4554 non-null   int64  \n",
      " 4   Geography            4554 non-null   object \n",
      " 5   10th percentile ppb  4554 non-null   float64\n",
      " 6   90th percentile ppb  4554 non-null   float64\n",
      " 7   Mean ppb             4554 non-null   float64\n",
      "dtypes: float64(3), int64(2), object(3)\n",
      "memory usage: 284.8+ KB\n"
     ]
    }
   ],
   "source": [
    "no2.info()"
   ]
  },
  {
   "cell_type": "code",
   "execution_count": 453,
   "id": "f27e406c",
   "metadata": {},
   "outputs": [
    {
     "data": {
      "text/html": [
       "<div>\n",
       "<style scoped>\n",
       "    .dataframe tbody tr th:only-of-type {\n",
       "        vertical-align: middle;\n",
       "    }\n",
       "\n",
       "    .dataframe tbody tr th {\n",
       "        vertical-align: top;\n",
       "    }\n",
       "\n",
       "    .dataframe thead th {\n",
       "        text-align: right;\n",
       "    }\n",
       "</style>\n",
       "<table border=\"1\" class=\"dataframe\">\n",
       "  <thead>\n",
       "    <tr style=\"text-align: right;\">\n",
       "      <th></th>\n",
       "      <th>TimePeriod</th>\n",
       "      <th>GeoType</th>\n",
       "      <th>GeoID</th>\n",
       "      <th>GeoRank</th>\n",
       "      <th>Geography</th>\n",
       "      <th>10th percentile ppb</th>\n",
       "      <th>90th percentile ppb</th>\n",
       "      <th>Mean ppb</th>\n",
       "    </tr>\n",
       "  </thead>\n",
       "  <tbody>\n",
       "    <tr>\n",
       "      <th>0</th>\n",
       "      <td>Annual Average 2022</td>\n",
       "      <td>CD</td>\n",
       "      <td>101</td>\n",
       "      <td>6</td>\n",
       "      <td>Financial District (CD1)</td>\n",
       "      <td>19.3</td>\n",
       "      <td>22.4</td>\n",
       "      <td>21.0</td>\n",
       "    </tr>\n",
       "    <tr>\n",
       "      <th>1</th>\n",
       "      <td>Annual Average 2022</td>\n",
       "      <td>CD</td>\n",
       "      <td>102</td>\n",
       "      <td>6</td>\n",
       "      <td>Greenwich Village and Soho (CD2)</td>\n",
       "      <td>19.2</td>\n",
       "      <td>21.1</td>\n",
       "      <td>20.2</td>\n",
       "    </tr>\n",
       "    <tr>\n",
       "      <th>2</th>\n",
       "      <td>Annual Average 2022</td>\n",
       "      <td>CD</td>\n",
       "      <td>103</td>\n",
       "      <td>6</td>\n",
       "      <td>Lower East Side and Chinatown (CD3)</td>\n",
       "      <td>15.8</td>\n",
       "      <td>19.9</td>\n",
       "      <td>17.8</td>\n",
       "    </tr>\n",
       "    <tr>\n",
       "      <th>3</th>\n",
       "      <td>Annual Average 2022</td>\n",
       "      <td>CD</td>\n",
       "      <td>104</td>\n",
       "      <td>6</td>\n",
       "      <td>Clinton and Chelsea (CD4)</td>\n",
       "      <td>18.6</td>\n",
       "      <td>24.4</td>\n",
       "      <td>21.4</td>\n",
       "    </tr>\n",
       "    <tr>\n",
       "      <th>4</th>\n",
       "      <td>Annual Average 2022</td>\n",
       "      <td>CD</td>\n",
       "      <td>105</td>\n",
       "      <td>6</td>\n",
       "      <td>Midtown (CD5)</td>\n",
       "      <td>22.4</td>\n",
       "      <td>27.8</td>\n",
       "      <td>25.5</td>\n",
       "    </tr>\n",
       "  </tbody>\n",
       "</table>\n",
       "</div>"
      ],
      "text/plain": [
       "            TimePeriod GeoType  GeoID  GeoRank  \\\n",
       "0  Annual Average 2022      CD    101        6   \n",
       "1  Annual Average 2022      CD    102        6   \n",
       "2  Annual Average 2022      CD    103        6   \n",
       "3  Annual Average 2022      CD    104        6   \n",
       "4  Annual Average 2022      CD    105        6   \n",
       "\n",
       "                             Geography  10th percentile ppb  \\\n",
       "0             Financial District (CD1)                 19.3   \n",
       "1     Greenwich Village and Soho (CD2)                 19.2   \n",
       "2  Lower East Side and Chinatown (CD3)                 15.8   \n",
       "3            Clinton and Chelsea (CD4)                 18.6   \n",
       "4                        Midtown (CD5)                 22.4   \n",
       "\n",
       "   90th percentile ppb  Mean ppb  \n",
       "0                 22.4      21.0  \n",
       "1                 21.1      20.2  \n",
       "2                 19.9      17.8  \n",
       "3                 24.4      21.4  \n",
       "4                 27.8      25.5  "
      ]
     },
     "execution_count": 453,
     "metadata": {},
     "output_type": "execute_result"
    }
   ],
   "source": [
    "no2.head()"
   ]
  },
  {
   "cell_type": "markdown",
   "id": "639bc05e",
   "metadata": {},
   "source": [
    "Based on the results of .info() method, data type of some of columns must be changede. For example TimePeriod in pm2_5 dataset and no2 dataset are object that should change to int. data type of Estimated annual rate per 10,000, and Age-adjusted rate per 10,000 are object that must be foat. Data type of Number is object that must be int. After run .astype() for change data type I got error the dataset contain charector '†'. So first of all I have to find how many of this character are there? and handle it."
   ]
  },
  {
   "cell_type": "markdown",
   "id": "c2b21a14",
   "metadata": {},
   "source": [
    "**2.1.Change data type of asthma_adults dataset**"
   ]
  },
  {
   "cell_type": "code",
   "execution_count": 329,
   "id": "f57ce26e",
   "metadata": {
    "scrolled": true
   },
   "outputs": [
    {
     "data": {
      "text/plain": [
       "1"
      ]
     },
     "execution_count": 329,
     "metadata": {},
     "output_type": "execute_result"
    }
   ],
   "source": [
    "asthma_adults[\"Age-adjusted rate per 10,000\"].str.contains('†').sum()"
   ]
  },
  {
   "cell_type": "markdown",
   "id": "b673b9d7",
   "metadata": {},
   "source": [
    "there is exactly one entry in the \"Age-adjusted rate per 10,000\" column of the asthma_adults DataFrame that contains the symbol '†'."
   ]
  },
  {
   "cell_type": "code",
   "execution_count": 330,
   "id": "4ea623c9",
   "metadata": {},
   "outputs": [],
   "source": [
    "# Create a copy of the DataFrame\n",
    "asthma_adults_1 = asthma_adults.copy()\n"
   ]
  },
  {
   "cell_type": "code",
   "execution_count": 331,
   "id": "45e8446c",
   "metadata": {},
   "outputs": [
    {
     "data": {
      "text/plain": [
       "1"
      ]
     },
     "execution_count": 331,
     "metadata": {},
     "output_type": "execute_result"
    }
   ],
   "source": [
    "asthma_adults_1[\"Age-adjusted rate per 10,000\"].isna().sum()"
   ]
  },
  {
   "cell_type": "code",
   "execution_count": 332,
   "id": "b4290ebd",
   "metadata": {},
   "outputs": [],
   "source": [
    "# replace '†' with empty string, then convert to numeric, setting errors='coerce'\n",
    "asthma_adults_1[\"Age-adjusted rate per 10,000\"] = pd.to_numeric(asthma_adults_1[\"Age-adjusted rate per 10,000\"].str.replace('†', ''), errors='coerce')\n"
   ]
  },
  {
   "cell_type": "code",
   "execution_count": 333,
   "id": "f68e55de",
   "metadata": {},
   "outputs": [],
   "source": [
    "# Calculate the mean of the column, excluding NaN values\n",
    "mean_value= round(asthma_adults_1[\"Age-adjusted rate per 10,000\"].mean(),2)"
   ]
  },
  {
   "cell_type": "code",
   "execution_count": 334,
   "id": "a8f89b1a",
   "metadata": {},
   "outputs": [
    {
     "name": "stdout",
     "output_type": "stream",
     "text": [
      "96.83\n"
     ]
    }
   ],
   "source": [
    "print(mean_value)"
   ]
  },
  {
   "cell_type": "code",
   "execution_count": 335,
   "id": "0bd45eca",
   "metadata": {},
   "outputs": [
    {
     "data": {
      "text/plain": [
       "2"
      ]
     },
     "execution_count": 335,
     "metadata": {},
     "output_type": "execute_result"
    }
   ],
   "source": [
    "asthma_adults_1[\"Age-adjusted rate per 10,000\"].isna().sum()"
   ]
  },
  {
   "cell_type": "code",
   "execution_count": 340,
   "id": "e91748cc",
   "metadata": {},
   "outputs": [],
   "source": [
    "# Fill NaN values with the mean value\n",
    "asthma_adults_1[\"Age-adjusted rate per 10,000\"].fillna(mean_value, inplace=True)"
   ]
  },
  {
   "cell_type": "code",
   "execution_count": 341,
   "id": "90fa0242",
   "metadata": {},
   "outputs": [
    {
     "data": {
      "text/plain": [
       "0"
      ]
     },
     "execution_count": 341,
     "metadata": {},
     "output_type": "execute_result"
    }
   ],
   "source": [
    "asthma_adults_1[\"Age-adjusted rate per 10,000\"].isna().sum()"
   ]
  },
  {
   "cell_type": "code",
   "execution_count": 342,
   "id": "e738f226",
   "metadata": {},
   "outputs": [],
   "source": [
    "#convert column \"Estimated annual rate per 10,000\" to numeric, setting errors='coerce'\n",
    "asthma_adults_1[\"Estimated annual rate per 10,000\"] = pd.to_numeric(asthma_adults_1[\"Estimated annual rate per 10,000\"], errors='coerce')\n"
   ]
  },
  {
   "cell_type": "code",
   "execution_count": 343,
   "id": "aabf53e0",
   "metadata": {},
   "outputs": [
    {
     "data": {
      "text/plain": [
       "1"
      ]
     },
     "execution_count": 343,
     "metadata": {},
     "output_type": "execute_result"
    }
   ],
   "source": [
    "asthma_adults_1[\"Estimated annual rate per 10,000\"].isna().sum()"
   ]
  },
  {
   "cell_type": "markdown",
   "id": "2d065680",
   "metadata": {},
   "source": [
    "There is one entry with NaN value. I want to replace it with mean value."
   ]
  },
  {
   "cell_type": "code",
   "execution_count": 344,
   "id": "648f803d",
   "metadata": {},
   "outputs": [],
   "source": [
    "# Calculate the mean of the column, excluding NaN values\n",
    "mean_value_es=round(asthma_adults_1[\"Estimated annual rate per 10,000\"].mean(),2)"
   ]
  },
  {
   "cell_type": "code",
   "execution_count": 345,
   "id": "36d852ed",
   "metadata": {},
   "outputs": [
    {
     "name": "stdout",
     "output_type": "stream",
     "text": [
      "95.58\n"
     ]
    }
   ],
   "source": [
    "print(mean_value_es)"
   ]
  },
  {
   "cell_type": "code",
   "execution_count": 346,
   "id": "e8cbc707",
   "metadata": {},
   "outputs": [],
   "source": [
    "# Fill NaN values with the mean value\n",
    "asthma_adults_1[\"Estimated annual rate per 10,000\"].fillna(mean_value_es, inplace=True)"
   ]
  },
  {
   "cell_type": "code",
   "execution_count": 349,
   "id": "fab4ef7b",
   "metadata": {},
   "outputs": [
    {
     "data": {
      "text/plain": [
       "520       4\n",
       "494       3\n",
       "982       3\n",
       "1,348     3\n",
       "740       3\n",
       "         ..\n",
       "21,089    1\n",
       "20,608    1\n",
       "12,872    1\n",
       "9,598     1\n",
       "62,425    1\n",
       "Name: Number, Length: 691, dtype: int64"
      ]
     },
     "execution_count": 349,
     "metadata": {},
     "output_type": "execute_result"
    }
   ],
   "source": [
    "# Using .value_counts()to see if there are any unusual values in column\"Number\". \n",
    "asthma_adults_1[\"Number\"].value_counts()"
   ]
  },
  {
   "cell_type": "markdown",
   "id": "338264db",
   "metadata": {},
   "source": [
    "The result showed that some of entries has (,). I ahve to remove the comma and then change the type od data."
   ]
  },
  {
   "cell_type": "code",
   "execution_count": 350,
   "id": "9c8d3e0b",
   "metadata": {},
   "outputs": [],
   "source": [
    "#Remove the ','  from the 'Number' in asthma_adults_1 dataset.\n",
    "asthma_adults_1[\"Number\"]= asthma_adults_1[\"Number\"].str.replace(\",\", \"\")"
   ]
  },
  {
   "cell_type": "code",
   "execution_count": 351,
   "id": "dd3b8a13",
   "metadata": {},
   "outputs": [],
   "source": [
    "#convert column \"Number\" to numeric, setting errors='coerce'\n",
    "asthma_adults_1[\"Number\"]= pd.to_numeric(asthma_adults_1[\"Number\"], errors=\"coerce\")"
   ]
  },
  {
   "cell_type": "code",
   "execution_count": 352,
   "id": "f25e4833",
   "metadata": {},
   "outputs": [
    {
     "data": {
      "text/plain": [
       "1"
      ]
     },
     "execution_count": 352,
     "metadata": {},
     "output_type": "execute_result"
    }
   ],
   "source": [
    "asthma_adults_1[\"Number\"].isna().sum()"
   ]
  },
  {
   "cell_type": "markdown",
   "id": "4aa4e449",
   "metadata": {},
   "source": [
    "Result shows there is one entry with NaN value and it will be replace with mean value."
   ]
  },
  {
   "cell_type": "code",
   "execution_count": 353,
   "id": "71596bf0",
   "metadata": {},
   "outputs": [],
   "source": [
    "#Calculate the mean of the column \"Number\", excluding NaN values\n",
    "mean_value_num= round(asthma_adults_1[\"Number\"].mean(),2)"
   ]
  },
  {
   "cell_type": "code",
   "execution_count": 354,
   "id": "2b88e43c",
   "metadata": {},
   "outputs": [
    {
     "name": "stdout",
     "output_type": "stream",
     "text": [
      "3608.03\n"
     ]
    }
   ],
   "source": [
    "print(mean_value_num)"
   ]
  },
  {
   "cell_type": "code",
   "execution_count": 355,
   "id": "5cc1e0af",
   "metadata": {},
   "outputs": [],
   "source": [
    "# Fill NaN values with the mean value\n",
    "asthma_adults_1[\"Number\"].fillna(mean_value_num, inplace=True)"
   ]
  },
  {
   "cell_type": "code",
   "execution_count": 357,
   "id": "661ed53f",
   "metadata": {},
   "outputs": [
    {
     "data": {
      "text/html": [
       "<div>\n",
       "<style scoped>\n",
       "    .dataframe tbody tr th:only-of-type {\n",
       "        vertical-align: middle;\n",
       "    }\n",
       "\n",
       "    .dataframe tbody tr th {\n",
       "        vertical-align: top;\n",
       "    }\n",
       "\n",
       "    .dataframe thead th {\n",
       "        text-align: right;\n",
       "    }\n",
       "</style>\n",
       "<table border=\"1\" class=\"dataframe\">\n",
       "  <thead>\n",
       "    <tr style=\"text-align: right;\">\n",
       "      <th></th>\n",
       "      <th>TimePeriod</th>\n",
       "      <th>GeoType</th>\n",
       "      <th>GeoID</th>\n",
       "      <th>GeoRank</th>\n",
       "      <th>Geography</th>\n",
       "      <th>Age-adjusted rate per 10,000</th>\n",
       "      <th>Estimated annual rate per 10,000</th>\n",
       "      <th>Number</th>\n",
       "    </tr>\n",
       "  </thead>\n",
       "  <tbody>\n",
       "    <tr>\n",
       "      <th>454</th>\n",
       "      <td>2012</td>\n",
       "      <td>Borough</td>\n",
       "      <td>5</td>\n",
       "      <td>1</td>\n",
       "      <td>Staten Island</td>\n",
       "      <td>85.9</td>\n",
       "      <td>84.3</td>\n",
       "      <td>3069.0</td>\n",
       "    </tr>\n",
       "    <tr>\n",
       "      <th>293</th>\n",
       "      <td>2016</td>\n",
       "      <td>UHF42</td>\n",
       "      <td>403</td>\n",
       "      <td>4</td>\n",
       "      <td>Flushing - Clearview</td>\n",
       "      <td>24.6</td>\n",
       "      <td>23.3</td>\n",
       "      <td>511.0</td>\n",
       "    </tr>\n",
       "    <tr>\n",
       "      <th>44</th>\n",
       "      <td>2020</td>\n",
       "      <td>CD</td>\n",
       "      <td>403</td>\n",
       "      <td>6</td>\n",
       "      <td>Jackson Heights (CD3)</td>\n",
       "      <td>18.4</td>\n",
       "      <td>18.0</td>\n",
       "      <td>258.0</td>\n",
       "    </tr>\n",
       "    <tr>\n",
       "      <th>617</th>\n",
       "      <td>2008</td>\n",
       "      <td>UHF42</td>\n",
       "      <td>211</td>\n",
       "      <td>4</td>\n",
       "      <td>Williamsburg - Bushwick</td>\n",
       "      <td>225.5</td>\n",
       "      <td>220.8</td>\n",
       "      <td>3282.0</td>\n",
       "    </tr>\n",
       "    <tr>\n",
       "      <th>304</th>\n",
       "      <td>2016</td>\n",
       "      <td>UHF42</td>\n",
       "      <td>504</td>\n",
       "      <td>4</td>\n",
       "      <td>South Beach - Tottenville</td>\n",
       "      <td>29.0</td>\n",
       "      <td>27.0</td>\n",
       "      <td>415.0</td>\n",
       "    </tr>\n",
       "    <tr>\n",
       "      <th>7</th>\n",
       "      <td>2020</td>\n",
       "      <td>CD</td>\n",
       "      <td>108</td>\n",
       "      <td>6</td>\n",
       "      <td>Upper East Side (CD8)</td>\n",
       "      <td>11.2</td>\n",
       "      <td>10.1</td>\n",
       "      <td>198.0</td>\n",
       "    </tr>\n",
       "    <tr>\n",
       "      <th>213</th>\n",
       "      <td>2019</td>\n",
       "      <td>Citywide</td>\n",
       "      <td>1</td>\n",
       "      <td>0</td>\n",
       "      <td>New York City</td>\n",
       "      <td>78.3</td>\n",
       "      <td>77.1</td>\n",
       "      <td>54166.0</td>\n",
       "    </tr>\n",
       "    <tr>\n",
       "      <th>137</th>\n",
       "      <td>2019</td>\n",
       "      <td>CD</td>\n",
       "      <td>307</td>\n",
       "      <td>6</td>\n",
       "      <td>Sunset Park (CD7)</td>\n",
       "      <td>42.6</td>\n",
       "      <td>40.2</td>\n",
       "      <td>425.0</td>\n",
       "    </tr>\n",
       "    <tr>\n",
       "      <th>373</th>\n",
       "      <td>2013</td>\n",
       "      <td>UHF42</td>\n",
       "      <td>207</td>\n",
       "      <td>4</td>\n",
       "      <td>East Flatbush - Flatbush</td>\n",
       "      <td>139.9</td>\n",
       "      <td>139.5</td>\n",
       "      <td>3274.0</td>\n",
       "    </tr>\n",
       "    <tr>\n",
       "      <th>78</th>\n",
       "      <td>2020</td>\n",
       "      <td>UHF42</td>\n",
       "      <td>302</td>\n",
       "      <td>4</td>\n",
       "      <td>Central Harlem - Morningside Heights</td>\n",
       "      <td>127.1</td>\n",
       "      <td>126.3</td>\n",
       "      <td>1915.0</td>\n",
       "    </tr>\n",
       "  </tbody>\n",
       "</table>\n",
       "</div>"
      ],
      "text/plain": [
       "     TimePeriod   GeoType  GeoID  GeoRank  \\\n",
       "454        2012   Borough      5        1   \n",
       "293        2016     UHF42    403        4   \n",
       "44         2020        CD    403        6   \n",
       "617        2008     UHF42    211        4   \n",
       "304        2016     UHF42    504        4   \n",
       "7          2020        CD    108        6   \n",
       "213        2019  Citywide      1        0   \n",
       "137        2019        CD    307        6   \n",
       "373        2013     UHF42    207        4   \n",
       "78         2020     UHF42    302        4   \n",
       "\n",
       "                                Geography  Age-adjusted rate per 10,000  \\\n",
       "454                         Staten Island                          85.9   \n",
       "293                  Flushing - Clearview                          24.6   \n",
       "44                  Jackson Heights (CD3)                          18.4   \n",
       "617               Williamsburg - Bushwick                         225.5   \n",
       "304             South Beach - Tottenville                          29.0   \n",
       "7                   Upper East Side (CD8)                          11.2   \n",
       "213                         New York City                          78.3   \n",
       "137                     Sunset Park (CD7)                          42.6   \n",
       "373              East Flatbush - Flatbush                         139.9   \n",
       "78   Central Harlem - Morningside Heights                         127.1   \n",
       "\n",
       "     Estimated annual rate per 10,000   Number  \n",
       "454                              84.3   3069.0  \n",
       "293                              23.3    511.0  \n",
       "44                               18.0    258.0  \n",
       "617                             220.8   3282.0  \n",
       "304                              27.0    415.0  \n",
       "7                                10.1    198.0  \n",
       "213                              77.1  54166.0  \n",
       "137                              40.2    425.0  \n",
       "373                             139.5   3274.0  \n",
       "78                              126.3   1915.0  "
      ]
     },
     "execution_count": 357,
     "metadata": {},
     "output_type": "execute_result"
    }
   ],
   "source": [
    "asthma_adults_1.sample(10)"
   ]
  },
  {
   "cell_type": "markdown",
   "id": "ed310b92",
   "metadata": {},
   "source": [
    "**2.2.Change data type of asthma_age_4 dataset**\n",
    "\n",
    "Based on the results of .info(), columns of \" Estimated annual rate per 10,000\" and \"Number\" must be change to numeric data type."
   ]
  },
  {
   "cell_type": "code",
   "execution_count": 386,
   "id": "98e8d7de",
   "metadata": {},
   "outputs": [],
   "source": [
    "# Create a copy of the DataFrame\n",
    "asthma_age_4_1=asthma_age_4.copy()"
   ]
  },
  {
   "cell_type": "code",
   "execution_count": 390,
   "id": "dfbc3fb2",
   "metadata": {},
   "outputs": [
    {
     "data": {
      "text/html": [
       "<div>\n",
       "<style scoped>\n",
       "    .dataframe tbody tr th:only-of-type {\n",
       "        vertical-align: middle;\n",
       "    }\n",
       "\n",
       "    .dataframe tbody tr th {\n",
       "        vertical-align: top;\n",
       "    }\n",
       "\n",
       "    .dataframe thead th {\n",
       "        text-align: right;\n",
       "    }\n",
       "</style>\n",
       "<table border=\"1\" class=\"dataframe\">\n",
       "  <thead>\n",
       "    <tr style=\"text-align: right;\">\n",
       "      <th></th>\n",
       "      <th>TimePeriod</th>\n",
       "      <th>GeoType</th>\n",
       "      <th>GeoID</th>\n",
       "      <th>GeoRank</th>\n",
       "      <th>Geography</th>\n",
       "      <th>Estimated annual rate per 10,000</th>\n",
       "      <th>Number</th>\n",
       "    </tr>\n",
       "  </thead>\n",
       "  <tbody>\n",
       "    <tr>\n",
       "      <th>0</th>\n",
       "      <td>2020</td>\n",
       "      <td>CD</td>\n",
       "      <td>101</td>\n",
       "      <td>6</td>\n",
       "      <td>Financial District (CD1)</td>\n",
       "      <td>16.6*</td>\n",
       "      <td>7*</td>\n",
       "    </tr>\n",
       "    <tr>\n",
       "      <th>1</th>\n",
       "      <td>2020</td>\n",
       "      <td>CD</td>\n",
       "      <td>102</td>\n",
       "      <td>6</td>\n",
       "      <td>Greenwich Village and Soho (CD2)</td>\n",
       "      <td>3.2*</td>\n",
       "      <td>1*</td>\n",
       "    </tr>\n",
       "    <tr>\n",
       "      <th>2</th>\n",
       "      <td>2020</td>\n",
       "      <td>CD</td>\n",
       "      <td>103</td>\n",
       "      <td>6</td>\n",
       "      <td>Lower East Side and Chinatown (CD3)</td>\n",
       "      <td>73.0</td>\n",
       "      <td>47</td>\n",
       "    </tr>\n",
       "    <tr>\n",
       "      <th>3</th>\n",
       "      <td>2020</td>\n",
       "      <td>CD</td>\n",
       "      <td>104</td>\n",
       "      <td>6</td>\n",
       "      <td>Clinton and Chelsea (CD4)</td>\n",
       "      <td>23.6</td>\n",
       "      <td>11</td>\n",
       "    </tr>\n",
       "    <tr>\n",
       "      <th>4</th>\n",
       "      <td>2020</td>\n",
       "      <td>CD</td>\n",
       "      <td>105</td>\n",
       "      <td>6</td>\n",
       "      <td>Midtown (CD5)</td>\n",
       "      <td>32.5*</td>\n",
       "      <td>7*</td>\n",
       "    </tr>\n",
       "  </tbody>\n",
       "</table>\n",
       "</div>"
      ],
      "text/plain": [
       "   TimePeriod GeoType  GeoID  GeoRank                            Geography  \\\n",
       "0        2020      CD    101        6             Financial District (CD1)   \n",
       "1        2020      CD    102        6     Greenwich Village and Soho (CD2)   \n",
       "2        2020      CD    103        6  Lower East Side and Chinatown (CD3)   \n",
       "3        2020      CD    104        6            Clinton and Chelsea (CD4)   \n",
       "4        2020      CD    105        6                        Midtown (CD5)   \n",
       "\n",
       "  Estimated annual rate per 10,000 Number  \n",
       "0                            16.6*     7*  \n",
       "1                             3.2*     1*  \n",
       "2                             73.0     47  \n",
       "3                             23.6     11  \n",
       "4                            32.5*     7*  "
      ]
     },
     "execution_count": 390,
     "metadata": {},
     "output_type": "execute_result"
    }
   ],
   "source": [
    "asthma_age_4_1.head()"
   ]
  },
  {
   "cell_type": "code",
   "execution_count": 391,
   "id": "b4bdd00a",
   "metadata": {},
   "outputs": [
    {
     "data": {
      "text/plain": [
       "23.6     3\n",
       "99.1     3\n",
       "72.3     2\n",
       "188.8    2\n",
       "155.5    2\n",
       "        ..\n",
       "316.4    1\n",
       "183.2    1\n",
       "198.7    1\n",
       "284.7    1\n",
       "377.2    1\n",
       "Name: Estimated annual rate per 10,000, Length: 784, dtype: int64"
      ]
     },
     "execution_count": 391,
     "metadata": {},
     "output_type": "execute_result"
    }
   ],
   "source": [
    "# Using .value_counts()to see if there are any unusual values in column\"Estimated annual rate per 10,000\". \n",
    "asthma_age_4_1[\"Estimated annual rate per 10,000\"].value_counts()"
   ]
  },
  {
   "cell_type": "code",
   "execution_count": 392,
   "id": "f6ad071d",
   "metadata": {},
   "outputs": [],
   "source": [
    "# Due to the type of the column is object at first we need to convert the column to string and \n",
    "#them remove * from the number\n",
    "asthma_age_4_1[\"Estimated annual rate per 10,000\"]=asthma_age_4_1[\"Estimated annual rate per 10,000\"].astype(str)"
   ]
  },
  {
   "cell_type": "code",
   "execution_count": 395,
   "id": "60f64d47",
   "metadata": {},
   "outputs": [],
   "source": [
    "# Replace '*' with '' before converting to numeric\n",
    "asthma_age_4_1[\"Estimated annual rate per 10,000\"]=asthma_age_4_1[\"Estimated annual rate per 10,000\"].str.replace('*', '',regex=True)"
   ]
  },
  {
   "cell_type": "code",
   "execution_count": 396,
   "id": "294bf8a4",
   "metadata": {},
   "outputs": [],
   "source": [
    "#convert column to numeric, setting errors='coerce'\n",
    "asthma_age_4_1[\"Estimated annual rate per 10,000\"]= pd.to_numeric(asthma_age_4_1[\"Estimated annual rate per 10,000\"], errors='coerce')"
   ]
  },
  {
   "cell_type": "code",
   "execution_count": 397,
   "id": "4784ca68",
   "metadata": {},
   "outputs": [
    {
     "data": {
      "text/plain": [
       "dtype('float64')"
      ]
     },
     "execution_count": 397,
     "metadata": {},
     "output_type": "execute_result"
    }
   ],
   "source": [
    "asthma_age_4_1[\"Estimated annual rate per 10,000\"].dtypes"
   ]
  },
  {
   "cell_type": "code",
   "execution_count": 398,
   "id": "7004b03a",
   "metadata": {},
   "outputs": [
    {
     "data": {
      "text/plain": [
       "9"
      ]
     },
     "execution_count": 398,
     "metadata": {},
     "output_type": "execute_result"
    }
   ],
   "source": [
    "asthma_age_4_1[\"Estimated annual rate per 10,000\"].isna().sum()"
   ]
  },
  {
   "cell_type": "markdown",
   "id": "60a3005d",
   "metadata": {},
   "source": [
    "Result shows that there 9 entry with NaN values in column \"Estimated annual rate per 10,000\". These have to be replace with mean value."
   ]
  },
  {
   "cell_type": "code",
   "execution_count": 399,
   "id": "e1e9b762",
   "metadata": {},
   "outputs": [],
   "source": [
    "#Calculate the mean of the column \"Estimated annual rate per 10,000\", excluding NaN values\n",
    "mean_age_4= round(asthma_age_4_1[\"Estimated annual rate per 10,000\"].mean(),2)"
   ]
  },
  {
   "cell_type": "code",
   "execution_count": 400,
   "id": "70bdecbd",
   "metadata": {},
   "outputs": [
    {
     "name": "stdout",
     "output_type": "stream",
     "text": [
      "268.19\n"
     ]
    }
   ],
   "source": [
    "print(mean_age_4)"
   ]
  },
  {
   "cell_type": "code",
   "execution_count": 401,
   "id": "ac1c0a44",
   "metadata": {},
   "outputs": [],
   "source": [
    "# Fill NaN values with the mean value\n",
    "asthma_age_4_1[\"Estimated annual rate per 10,000\"].fillna(mean_age_4, inplace=True)"
   ]
  },
  {
   "cell_type": "code",
   "execution_count": 403,
   "id": "e50dde06",
   "metadata": {},
   "outputs": [
    {
     "data": {
      "text/plain": [
       "0"
      ]
     },
     "execution_count": 403,
     "metadata": {},
     "output_type": "execute_result"
    }
   ],
   "source": [
    "asthma_age_4_1[\"Estimated annual rate per 10,000\"].isna().sum()"
   ]
  },
  {
   "cell_type": "code",
   "execution_count": 404,
   "id": "33d70fe3",
   "metadata": {},
   "outputs": [
    {
     "name": "stdout",
     "output_type": "stream",
     "text": [
      "<class 'pandas.core.series.Series'>\n",
      "RangeIndex: 839 entries, 0 to 838\n",
      "Series name: Estimated annual rate per 10,000\n",
      "Non-Null Count  Dtype  \n",
      "--------------  -----  \n",
      "839 non-null    float64\n",
      "dtypes: float64(1)\n",
      "memory usage: 6.7 KB\n"
     ]
    }
   ],
   "source": [
    "asthma_age_4_1[\"Estimated annual rate per 10,000\"].info()"
   ]
  },
  {
   "cell_type": "markdown",
   "id": "1a844ff0",
   "metadata": {},
   "source": [
    "Result shows Dtype of \"Estimated annual rate per 10,000\" column change to float."
   ]
  },
  {
   "cell_type": "code",
   "execution_count": 408,
   "id": "6a570fa8",
   "metadata": {},
   "outputs": [
    {
     "data": {
      "text/plain": [
       "571       1\n",
       "844       1\n",
       "211       1\n",
       "1,225     1\n",
       "111       1\n",
       "1,024     1\n",
       "1,454     1\n",
       "1,070     1\n",
       "1,561     1\n",
       "19,927    1\n",
       "Name: Number, dtype: int64"
      ]
     },
     "execution_count": 408,
     "metadata": {},
     "output_type": "execute_result"
    }
   ],
   "source": [
    "# Using .value_counts()to see if there are any unusual values in column\"Number\".\n",
    "asthma_age_4_1[\"Number\"].value_counts().tail(10)"
   ]
  },
  {
   "cell_type": "markdown",
   "id": "81a06236",
   "metadata": {},
   "source": [
    "It looks like the column has number with comma, so I have to remove from data entry and then change the data type."
   ]
  },
  {
   "cell_type": "code",
   "execution_count": 409,
   "id": "b198f04c",
   "metadata": {},
   "outputs": [],
   "source": [
    "#Remove the comma from the 'Number' column\n",
    "asthma_age_4_1[\"Number\"]= asthma_age_4_1[\"Number\"].str.replace(\",\", \"\")"
   ]
  },
  {
   "cell_type": "code",
   "execution_count": 412,
   "id": "c0ef7522",
   "metadata": {},
   "outputs": [
    {
     "data": {
      "text/plain": [
       "759     1\n",
       "361     1\n",
       "126     1\n",
       "396     2\n",
       "500     2\n",
       "296     3\n",
       "6*      1\n",
       "1717    1\n",
       "212     2\n",
       "47      3\n",
       "621     1\n",
       "350     1\n",
       "1169    1\n",
       "647     1\n",
       "7939    1\n",
       "309     1\n",
       "167     1\n",
       "210     1\n",
       "806     1\n",
       "343     2\n",
       "Name: Number, dtype: int64"
      ]
     },
     "execution_count": 412,
     "metadata": {},
     "output_type": "execute_result"
    }
   ],
   "source": [
    "asthma_age_4_1[\"Number\"].value_counts().sample(20)"
   ]
  },
  {
   "cell_type": "code",
   "execution_count": 414,
   "id": "04d69224",
   "metadata": {},
   "outputs": [
    {
     "data": {
      "text/plain": [
       "dtype('O')"
      ]
     },
     "execution_count": 414,
     "metadata": {},
     "output_type": "execute_result"
    }
   ],
   "source": [
    "asthma_age_4_1[\"Number\"].dtype"
   ]
  },
  {
   "cell_type": "markdown",
   "id": "5bf81deb",
   "metadata": {},
   "source": [
    "Based on the results of sample there is * in the column. So we need to remove that, but the dtype of the column is objest. So we need to convert the column to string first and then remove * from data."
   ]
  },
  {
   "cell_type": "code",
   "execution_count": 417,
   "id": "33488320",
   "metadata": {},
   "outputs": [],
   "source": [
    "#Convert the column to string first\n",
    "asthma_age_4_1[\"Number\"]=asthma_age_4_1[\"Number\"].astype(str)\n",
    "#Remove asterisks\n",
    "asthma_age_4_1[\"Number\"]=asthma_age_4_1[\"Number\"].str.replace('*','',regex=False)"
   ]
  },
  {
   "cell_type": "code",
   "execution_count": 419,
   "id": "23c02a86",
   "metadata": {},
   "outputs": [],
   "source": [
    "#convert column to numeric, setting errors='coerce'\n",
    "asthma_age_4_1[\"Number\"]= pd.to_numeric(asthma_age_4_1[\"Number\"], errors=\"coerce\")"
   ]
  },
  {
   "cell_type": "code",
   "execution_count": 421,
   "id": "a9d185c4",
   "metadata": {},
   "outputs": [
    {
     "data": {
      "text/plain": [
       "dtype('int64')"
      ]
     },
     "execution_count": 421,
     "metadata": {},
     "output_type": "execute_result"
    }
   ],
   "source": [
    "asthma_age_4_1[\"Number\"].dtype"
   ]
  },
  {
   "cell_type": "code",
   "execution_count": 420,
   "id": "8413c8ca",
   "metadata": {},
   "outputs": [
    {
     "data": {
      "text/plain": [
       "0"
      ]
     },
     "execution_count": 420,
     "metadata": {},
     "output_type": "execute_result"
    }
   ],
   "source": [
    "asthma_age_4_1[\"Number\"].isna().sum()"
   ]
  },
  {
   "cell_type": "markdown",
   "id": "e01224e7",
   "metadata": {},
   "source": [
    "There are no any null value."
   ]
  },
  {
   "cell_type": "code",
   "execution_count": 425,
   "id": "c073822e",
   "metadata": {},
   "outputs": [
    {
     "data": {
      "text/html": [
       "<div>\n",
       "<style scoped>\n",
       "    .dataframe tbody tr th:only-of-type {\n",
       "        vertical-align: middle;\n",
       "    }\n",
       "\n",
       "    .dataframe tbody tr th {\n",
       "        vertical-align: top;\n",
       "    }\n",
       "\n",
       "    .dataframe thead th {\n",
       "        text-align: right;\n",
       "    }\n",
       "</style>\n",
       "<table border=\"1\" class=\"dataframe\">\n",
       "  <thead>\n",
       "    <tr style=\"text-align: right;\">\n",
       "      <th></th>\n",
       "      <th>TimePeriod</th>\n",
       "      <th>GeoType</th>\n",
       "      <th>GeoID</th>\n",
       "      <th>GeoRank</th>\n",
       "      <th>Geography</th>\n",
       "      <th>Estimated annual rate per 10,000</th>\n",
       "      <th>Number</th>\n",
       "    </tr>\n",
       "  </thead>\n",
       "  <tbody>\n",
       "    <tr>\n",
       "      <th>0</th>\n",
       "      <td>2020</td>\n",
       "      <td>CD</td>\n",
       "      <td>101</td>\n",
       "      <td>6</td>\n",
       "      <td>Financial District (CD1)</td>\n",
       "      <td>16.6</td>\n",
       "      <td>7</td>\n",
       "    </tr>\n",
       "    <tr>\n",
       "      <th>1</th>\n",
       "      <td>2020</td>\n",
       "      <td>CD</td>\n",
       "      <td>102</td>\n",
       "      <td>6</td>\n",
       "      <td>Greenwich Village and Soho (CD2)</td>\n",
       "      <td>3.2</td>\n",
       "      <td>1</td>\n",
       "    </tr>\n",
       "    <tr>\n",
       "      <th>2</th>\n",
       "      <td>2020</td>\n",
       "      <td>CD</td>\n",
       "      <td>103</td>\n",
       "      <td>6</td>\n",
       "      <td>Lower East Side and Chinatown (CD3)</td>\n",
       "      <td>73.0</td>\n",
       "      <td>47</td>\n",
       "    </tr>\n",
       "    <tr>\n",
       "      <th>3</th>\n",
       "      <td>2020</td>\n",
       "      <td>CD</td>\n",
       "      <td>104</td>\n",
       "      <td>6</td>\n",
       "      <td>Clinton and Chelsea (CD4)</td>\n",
       "      <td>23.6</td>\n",
       "      <td>11</td>\n",
       "    </tr>\n",
       "    <tr>\n",
       "      <th>4</th>\n",
       "      <td>2020</td>\n",
       "      <td>CD</td>\n",
       "      <td>105</td>\n",
       "      <td>6</td>\n",
       "      <td>Midtown (CD5)</td>\n",
       "      <td>32.5</td>\n",
       "      <td>7</td>\n",
       "    </tr>\n",
       "  </tbody>\n",
       "</table>\n",
       "</div>"
      ],
      "text/plain": [
       "   TimePeriod GeoType  GeoID  GeoRank                            Geography  \\\n",
       "0        2020      CD    101        6             Financial District (CD1)   \n",
       "1        2020      CD    102        6     Greenwich Village and Soho (CD2)   \n",
       "2        2020      CD    103        6  Lower East Side and Chinatown (CD3)   \n",
       "3        2020      CD    104        6            Clinton and Chelsea (CD4)   \n",
       "4        2020      CD    105        6                        Midtown (CD5)   \n",
       "\n",
       "   Estimated annual rate per 10,000  Number  \n",
       "0                              16.6       7  \n",
       "1                               3.2       1  \n",
       "2                              73.0      47  \n",
       "3                              23.6      11  \n",
       "4                              32.5       7  "
      ]
     },
     "execution_count": 425,
     "metadata": {},
     "output_type": "execute_result"
    }
   ],
   "source": [
    "asthma_age_4_1.head()"
   ]
  },
  {
   "cell_type": "code",
   "execution_count": 426,
   "id": "1fc2139f",
   "metadata": {},
   "outputs": [
    {
     "name": "stdout",
     "output_type": "stream",
     "text": [
      "<class 'pandas.core.series.Series'>\n",
      "RangeIndex: 839 entries, 0 to 838\n",
      "Series name: Number\n",
      "Non-Null Count  Dtype\n",
      "--------------  -----\n",
      "839 non-null    int64\n",
      "dtypes: int64(1)\n",
      "memory usage: 6.7 KB\n"
     ]
    }
   ],
   "source": [
    "asthma_age_4_1[\"Number\"].info()"
   ]
  },
  {
   "cell_type": "markdown",
   "id": "1f63b608",
   "metadata": {},
   "source": [
    "Result shows Dtype of \"Number\" has changed to integer."
   ]
  },
  {
   "cell_type": "markdown",
   "id": "537b9ebd",
   "metadata": {},
   "source": [
    "**2.3.Change data type of asthma_age5_17 dataset**\n",
    "\n",
    " Columns \"Estimated annual rate per 10,000\" and \"Number\" must change to numeric data type.But before that we need to remove(,) and (*) form the data."
   ]
  },
  {
   "cell_type": "code",
   "execution_count": 427,
   "id": "a6a848b5",
   "metadata": {},
   "outputs": [],
   "source": [
    "# Create a copy of the DataFrame\n",
    "asthma_age5_17_1= asthma_age5_17.copy()"
   ]
  },
  {
   "cell_type": "code",
   "execution_count": 428,
   "id": "eb782ce7",
   "metadata": {},
   "outputs": [
    {
     "data": {
      "text/plain": [
       "139.9    3\n",
       "47.8     3\n",
       "34.6     3\n",
       "98.5     3\n",
       "160.0    3\n",
       "        ..\n",
       "78.3     1\n",
       "22.4     1\n",
       "120.2    1\n",
       "186.4    1\n",
       "453.7    1\n",
       "Name: Estimated annual rate per 10,000, Length: 737, dtype: int64"
      ]
     },
     "execution_count": 428,
     "metadata": {},
     "output_type": "execute_result"
    }
   ],
   "source": [
    "# Using .value_counts()to see if there are any unusual values in column\"Estimated annual rate per 10,000\".\n",
    "asthma_age5_17_1[\"Estimated annual rate per 10,000\"].value_counts()"
   ]
  },
  {
   "cell_type": "code",
   "execution_count": 434,
   "id": "2e7b8838",
   "metadata": {},
   "outputs": [],
   "source": [
    "#Convert the column to string first\n",
    "asthma_age5_17_1[\"Estimated annual rate per 10,000\"]=asthma_age5_17_1[\"Estimated annual rate per 10,000\"].astype(str)\n",
    "#Remove asterisks\n",
    "asthma_age5_17_1[\"Estimated annual rate per 10,000\"]=asthma_age5_17_1[\"Estimated annual rate per 10,000\"].str.replace('*','',regex=False)"
   ]
  },
  {
   "cell_type": "code",
   "execution_count": 435,
   "id": "d5e79635",
   "metadata": {},
   "outputs": [],
   "source": [
    "#convert column to numeric, setting errors='coerce'\n",
    "asthma_age5_17_1[\"Estimated annual rate per 10,000\"]= pd.to_numeric(asthma_age5_17_1[\"Estimated annual rate per 10,000\"], errors=\"coerce\")\n"
   ]
  },
  {
   "cell_type": "code",
   "execution_count": 436,
   "id": "bb4a7e76",
   "metadata": {},
   "outputs": [
    {
     "data": {
      "text/plain": [
       "0"
      ]
     },
     "execution_count": 436,
     "metadata": {},
     "output_type": "execute_result"
    }
   ],
   "source": [
    "asthma_age5_17_1[\"Estimated annual rate per 10,000\"].isna().sum()"
   ]
  },
  {
   "cell_type": "markdown",
   "id": "c3f32a5e",
   "metadata": {},
   "source": [
    "There are no entries with NaN values."
   ]
  },
  {
   "cell_type": "code",
   "execution_count": 437,
   "id": "b1a72855",
   "metadata": {},
   "outputs": [
    {
     "data": {
      "text/plain": [
       "109      6\n",
       "113      5\n",
       "5*       4\n",
       "29       4\n",
       "135      4\n",
       "116      4\n",
       "139      4\n",
       "253      4\n",
       "202      4\n",
       "81       4\n",
       "94       4\n",
       "85       4\n",
       "327      3\n",
       "351      3\n",
       "37       3\n",
       "244      3\n",
       "1,209    3\n",
       "321      3\n",
       "348      3\n",
       "291      3\n",
       "Name: Number, dtype: int64"
      ]
     },
     "execution_count": 437,
     "metadata": {},
     "output_type": "execute_result"
    }
   ],
   "source": [
    "# Using .value_counts()to see if there are any unusual values in column\"Estimated annual rate per 10,000\".\n",
    "asthma_age5_17_1[\"Number\"].value_counts().head(20)"
   ]
  },
  {
   "cell_type": "markdown",
   "id": "de40ded3",
   "metadata": {},
   "source": [
    "Results shows that some number are with * and some of them have comma. (*) in dataset means that **Estimate is based on small numbers so should be interpreted with caution**. So I want to add new column to asthma_age5_17_1 that will indicate whether the original value had an asterisk. This way, I can maintain the information about the reliability of the estimate."
   ]
  },
  {
   "cell_type": "code",
   "execution_count": 438,
   "id": "be23e970",
   "metadata": {},
   "outputs": [],
   "source": [
    "#Create a new column to indicate estimates based on small numbers\n",
    "asthma_age5_17_1[\"small_number_estimate\"]= asthma_age5_17_1[\"Number\"].str.contains(\"\\*\")"
   ]
  },
  {
   "cell_type": "code",
   "execution_count": 439,
   "id": "4ef812a9",
   "metadata": {},
   "outputs": [
    {
     "data": {
      "text/html": [
       "<div>\n",
       "<style scoped>\n",
       "    .dataframe tbody tr th:only-of-type {\n",
       "        vertical-align: middle;\n",
       "    }\n",
       "\n",
       "    .dataframe tbody tr th {\n",
       "        vertical-align: top;\n",
       "    }\n",
       "\n",
       "    .dataframe thead th {\n",
       "        text-align: right;\n",
       "    }\n",
       "</style>\n",
       "<table border=\"1\" class=\"dataframe\">\n",
       "  <thead>\n",
       "    <tr style=\"text-align: right;\">\n",
       "      <th></th>\n",
       "      <th>TimePeriod</th>\n",
       "      <th>GeoType</th>\n",
       "      <th>GeoID</th>\n",
       "      <th>GeoRank</th>\n",
       "      <th>Geography</th>\n",
       "      <th>Estimated annual rate per 10,000</th>\n",
       "      <th>Number</th>\n",
       "      <th>small_number_estimate</th>\n",
       "    </tr>\n",
       "  </thead>\n",
       "  <tbody>\n",
       "    <tr>\n",
       "      <th>0</th>\n",
       "      <td>2020</td>\n",
       "      <td>CD</td>\n",
       "      <td>101</td>\n",
       "      <td>6</td>\n",
       "      <td>Financial District (CD1)</td>\n",
       "      <td>11.9</td>\n",
       "      <td>6*</td>\n",
       "      <td>True</td>\n",
       "    </tr>\n",
       "    <tr>\n",
       "      <th>1</th>\n",
       "      <td>2020</td>\n",
       "      <td>CD</td>\n",
       "      <td>102</td>\n",
       "      <td>6</td>\n",
       "      <td>Greenwich Village and Soho (CD2)</td>\n",
       "      <td>8.8</td>\n",
       "      <td>5*</td>\n",
       "      <td>True</td>\n",
       "    </tr>\n",
       "    <tr>\n",
       "      <th>2</th>\n",
       "      <td>2020</td>\n",
       "      <td>CD</td>\n",
       "      <td>103</td>\n",
       "      <td>6</td>\n",
       "      <td>Lower East Side and Chinatown (CD3)</td>\n",
       "      <td>81.9</td>\n",
       "      <td>136</td>\n",
       "      <td>False</td>\n",
       "    </tr>\n",
       "    <tr>\n",
       "      <th>3</th>\n",
       "      <td>2020</td>\n",
       "      <td>CD</td>\n",
       "      <td>104</td>\n",
       "      <td>6</td>\n",
       "      <td>Clinton and Chelsea (CD4)</td>\n",
       "      <td>42.1</td>\n",
       "      <td>34</td>\n",
       "      <td>False</td>\n",
       "    </tr>\n",
       "    <tr>\n",
       "      <th>4</th>\n",
       "      <td>2020</td>\n",
       "      <td>CD</td>\n",
       "      <td>105</td>\n",
       "      <td>6</td>\n",
       "      <td>Midtown (CD5)</td>\n",
       "      <td>19.4</td>\n",
       "      <td>5*</td>\n",
       "      <td>True</td>\n",
       "    </tr>\n",
       "  </tbody>\n",
       "</table>\n",
       "</div>"
      ],
      "text/plain": [
       "   TimePeriod GeoType  GeoID  GeoRank                            Geography  \\\n",
       "0        2020      CD    101        6             Financial District (CD1)   \n",
       "1        2020      CD    102        6     Greenwich Village and Soho (CD2)   \n",
       "2        2020      CD    103        6  Lower East Side and Chinatown (CD3)   \n",
       "3        2020      CD    104        6            Clinton and Chelsea (CD4)   \n",
       "4        2020      CD    105        6                        Midtown (CD5)   \n",
       "\n",
       "   Estimated annual rate per 10,000 Number  small_number_estimate  \n",
       "0                              11.9     6*                   True  \n",
       "1                               8.8     5*                   True  \n",
       "2                              81.9    136                  False  \n",
       "3                              42.1     34                  False  \n",
       "4                              19.4     5*                   True  "
      ]
     },
     "execution_count": 439,
     "metadata": {},
     "output_type": "execute_result"
    }
   ],
   "source": [
    "asthma_age5_17_1.head()"
   ]
  },
  {
   "cell_type": "markdown",
   "id": "5cf38a39",
   "metadata": {},
   "source": [
    "New column \"small_number_estimate\" added to the dataset and shows which number's estimate is based on small numbers so should be interpreted with caution."
   ]
  },
  {
   "cell_type": "code",
   "execution_count": 441,
   "id": "daff8456",
   "metadata": {},
   "outputs": [],
   "source": [
    "#Convert the column to string first\n",
    "asthma_age5_17_1[\"Number\"]=asthma_age5_17_1[\"Number\"].astype(str)\n",
    "\n",
    "# Remove the asterisks and commas\n",
    "asthma_age5_17_1[\"Number\"]=asthma_age5_17_1[\"Number\"].str.replace(\"*\", \"\",regex=False)\n"
   ]
  },
  {
   "cell_type": "code",
   "execution_count": 443,
   "id": "0a5504e1",
   "metadata": {},
   "outputs": [],
   "source": [
    "asthma_age5_17_1[\"Number\"]=asthma_age5_17_1[\"Number\"].str.replace(\",\",\"\")"
   ]
  },
  {
   "cell_type": "code",
   "execution_count": 444,
   "id": "07cb0aac",
   "metadata": {},
   "outputs": [
    {
     "data": {
      "text/plain": [
       "109      6\n",
       "113      5\n",
       "5        4\n",
       "29       4\n",
       "135      4\n",
       "        ..\n",
       "228      1\n",
       "1052     1\n",
       "444      1\n",
       "16       1\n",
       "25834    1\n",
       "Name: Number, Length: 614, dtype: int64"
      ]
     },
     "execution_count": 444,
     "metadata": {},
     "output_type": "execute_result"
    }
   ],
   "source": [
    "asthma_age5_17_1[\"Number\"].value_counts()"
   ]
  },
  {
   "cell_type": "code",
   "execution_count": 445,
   "id": "e99e81b8",
   "metadata": {},
   "outputs": [],
   "source": [
    "#convert column to numeric, setting errors='coerce'\n",
    "asthma_age5_17_1[\"Number\"]= pd.to_numeric(asthma_age5_17_1[\"Number\"], errors=\"coerce\")"
   ]
  },
  {
   "cell_type": "code",
   "execution_count": 446,
   "id": "c04cafa2",
   "metadata": {},
   "outputs": [
    {
     "data": {
      "text/plain": [
       "0"
      ]
     },
     "execution_count": 446,
     "metadata": {},
     "output_type": "execute_result"
    }
   ],
   "source": [
    "asthma_age5_17_1[\"Number\"].isna().sum()"
   ]
  },
  {
   "cell_type": "markdown",
   "id": "7191d7a8",
   "metadata": {},
   "source": [
    "**2.4.Change data type of pm2_5 dataset**\n",
    "\n",
    "The \"TimePeriod\" column has object data type that has to change to numeric."
   ]
  },
  {
   "cell_type": "code",
   "execution_count": 454,
   "id": "21e78ac3",
   "metadata": {},
   "outputs": [],
   "source": [
    "# Creat a copy of dataFrame\n",
    "pm2_5_1= pm2_5.copy()"
   ]
  },
  {
   "cell_type": "code",
   "execution_count": 455,
   "id": "b470ae27",
   "metadata": {},
   "outputs": [
    {
     "data": {
      "text/plain": [
       "Annual Average 2022    141\n",
       "Summer 2018            141\n",
       "Winter 2014-15         141\n",
       "Summer 2015            141\n",
       "Summer 2022            141\n",
       "Winter 2015-16         141\n",
       "Summer 2016            141\n",
       "Annual Average 2016    141\n",
       "Winter 2016-17         141\n",
       "Summer 2017            141\n",
       "Annual Average 2017    141\n",
       "Winter 2017-18         141\n",
       "Annual Average 2015    141\n",
       "Annual Average 2018    141\n",
       "Annual Average 2020    141\n",
       "Winter 2018-19         141\n",
       "Winter 2021-22         141\n",
       "Summer 2021            141\n",
       "Winter 2020-21         141\n",
       "Annual Average 2021    141\n",
       "Summer 2020            141\n",
       "Winter 2019-20         141\n",
       "Annual Average 2019    141\n",
       "Summer 2019            141\n",
       "Annual Average 2011     65\n",
       "Summer 2009             65\n",
       "Annual Average 2009     65\n",
       "Winter 2009-10          65\n",
       "Summer 2010             65\n",
       "Annual Average 2010     65\n",
       "Winter 2010-11          65\n",
       "Summer 2011             65\n",
       "Annual Average 2013     65\n",
       "Winter 2011-12          65\n",
       "Summer 2012             65\n",
       "Annual Average 2012     65\n",
       "Winter 2012-13          65\n",
       "Summer 2013             65\n",
       "Winter 2013-14          65\n",
       "Summer 2014             65\n",
       "Annual Average 2014     65\n",
       "Winter 2008-09          65\n",
       "Name: TimePeriod, dtype: int64"
      ]
     },
     "execution_count": 455,
     "metadata": {},
     "output_type": "execute_result"
    }
   ],
   "source": [
    "# Using .value_counts()to see if there are any unusual values in column\"TimePeriod\".\n",
    "pm2_5_1[\"TimePeriod\"].value_counts()"
   ]
  },
  {
   "cell_type": "markdown",
   "id": "d5401a21",
   "metadata": {},
   "source": [
    "Results of .value_counts() shows different type of entry including: Annual Average, Summer, and Winter. Because values of the other dataframes sucha as asthma_adults, asthma_age_4, and asthma_5_17 are based on annual not seasonal, therefore I decide to keep just Annual Average values."
   ]
  },
  {
   "cell_type": "code",
   "execution_count": 456,
   "id": "0da78b93",
   "metadata": {},
   "outputs": [],
   "source": [
    "# filter rows to keep Annual Average rows\n",
    "pm2_5_sub= pm2_5_1[pm2_5_1[\"TimePeriod\"].str.startswith(\"Annual Average\")]"
   ]
  },
  {
   "cell_type": "code",
   "execution_count": 457,
   "id": "8c8cb6f4",
   "metadata": {},
   "outputs": [
    {
     "data": {
      "text/html": [
       "<div>\n",
       "<style scoped>\n",
       "    .dataframe tbody tr th:only-of-type {\n",
       "        vertical-align: middle;\n",
       "    }\n",
       "\n",
       "    .dataframe tbody tr th {\n",
       "        vertical-align: top;\n",
       "    }\n",
       "\n",
       "    .dataframe thead th {\n",
       "        text-align: right;\n",
       "    }\n",
       "</style>\n",
       "<table border=\"1\" class=\"dataframe\">\n",
       "  <thead>\n",
       "    <tr style=\"text-align: right;\">\n",
       "      <th></th>\n",
       "      <th>TimePeriod</th>\n",
       "      <th>GeoType</th>\n",
       "      <th>GeoID</th>\n",
       "      <th>GeoRank</th>\n",
       "      <th>Geography</th>\n",
       "      <th>10th percentile mcg/m3</th>\n",
       "      <th>90th percentile mcg/m3</th>\n",
       "      <th>Mean mcg/m3</th>\n",
       "    </tr>\n",
       "  </thead>\n",
       "  <tbody>\n",
       "    <tr>\n",
       "      <th>0</th>\n",
       "      <td>Annual Average 2022</td>\n",
       "      <td>CD</td>\n",
       "      <td>101</td>\n",
       "      <td>6</td>\n",
       "      <td>Financial District (CD1)</td>\n",
       "      <td>6.7</td>\n",
       "      <td>7.8</td>\n",
       "      <td>7.2</td>\n",
       "    </tr>\n",
       "    <tr>\n",
       "      <th>1</th>\n",
       "      <td>Annual Average 2022</td>\n",
       "      <td>CD</td>\n",
       "      <td>102</td>\n",
       "      <td>6</td>\n",
       "      <td>Greenwich Village and Soho (CD2)</td>\n",
       "      <td>7.6</td>\n",
       "      <td>9.3</td>\n",
       "      <td>8.4</td>\n",
       "    </tr>\n",
       "    <tr>\n",
       "      <th>2</th>\n",
       "      <td>Annual Average 2022</td>\n",
       "      <td>CD</td>\n",
       "      <td>103</td>\n",
       "      <td>6</td>\n",
       "      <td>Lower East Side and Chinatown (CD3)</td>\n",
       "      <td>6.1</td>\n",
       "      <td>8.6</td>\n",
       "      <td>7.2</td>\n",
       "    </tr>\n",
       "    <tr>\n",
       "      <th>3</th>\n",
       "      <td>Annual Average 2022</td>\n",
       "      <td>CD</td>\n",
       "      <td>104</td>\n",
       "      <td>6</td>\n",
       "      <td>Clinton and Chelsea (CD4)</td>\n",
       "      <td>6.7</td>\n",
       "      <td>9.0</td>\n",
       "      <td>7.8</td>\n",
       "    </tr>\n",
       "    <tr>\n",
       "      <th>4</th>\n",
       "      <td>Annual Average 2022</td>\n",
       "      <td>CD</td>\n",
       "      <td>105</td>\n",
       "      <td>6</td>\n",
       "      <td>Midtown (CD5)</td>\n",
       "      <td>8.2</td>\n",
       "      <td>9.7</td>\n",
       "      <td>9.1</td>\n",
       "    </tr>\n",
       "  </tbody>\n",
       "</table>\n",
       "</div>"
      ],
      "text/plain": [
       "            TimePeriod GeoType  GeoID  GeoRank  \\\n",
       "0  Annual Average 2022      CD    101        6   \n",
       "1  Annual Average 2022      CD    102        6   \n",
       "2  Annual Average 2022      CD    103        6   \n",
       "3  Annual Average 2022      CD    104        6   \n",
       "4  Annual Average 2022      CD    105        6   \n",
       "\n",
       "                             Geography  10th percentile mcg/m3  \\\n",
       "0             Financial District (CD1)                     6.7   \n",
       "1     Greenwich Village and Soho (CD2)                     7.6   \n",
       "2  Lower East Side and Chinatown (CD3)                     6.1   \n",
       "3            Clinton and Chelsea (CD4)                     6.7   \n",
       "4                        Midtown (CD5)                     8.2   \n",
       "\n",
       "   90th percentile mcg/m3  Mean mcg/m3  \n",
       "0                     7.8          7.2  \n",
       "1                     9.3          8.4  \n",
       "2                     8.6          7.2  \n",
       "3                     9.0          7.8  \n",
       "4                     9.7          9.1  "
      ]
     },
     "execution_count": 457,
     "metadata": {},
     "output_type": "execute_result"
    }
   ],
   "source": [
    "pm2_5_sub.head()"
   ]
  },
  {
   "cell_type": "markdown",
   "id": "15afbaa4",
   "metadata": {},
   "source": [
    "All data for \"TimePeriod\" column just include Annual Average."
   ]
  },
  {
   "cell_type": "code",
   "execution_count": 458,
   "id": "abef711e",
   "metadata": {},
   "outputs": [],
   "source": [
    "#Remove the 'Annual' prefix from the 'TimePeriod' in pm2_5_sub\n",
    "pm2_5_sub= pm2_5_sub.copy()\n",
    "pm2_5_sub[\"TimePeriod\"]= pm2_5_sub[\"TimePeriod\"].str.replace(\"Annual Average\", \"\")"
   ]
  },
  {
   "cell_type": "code",
   "execution_count": 459,
   "id": "1baf3450",
   "metadata": {},
   "outputs": [
    {
     "data": {
      "text/html": [
       "<div>\n",
       "<style scoped>\n",
       "    .dataframe tbody tr th:only-of-type {\n",
       "        vertical-align: middle;\n",
       "    }\n",
       "\n",
       "    .dataframe tbody tr th {\n",
       "        vertical-align: top;\n",
       "    }\n",
       "\n",
       "    .dataframe thead th {\n",
       "        text-align: right;\n",
       "    }\n",
       "</style>\n",
       "<table border=\"1\" class=\"dataframe\">\n",
       "  <thead>\n",
       "    <tr style=\"text-align: right;\">\n",
       "      <th></th>\n",
       "      <th>TimePeriod</th>\n",
       "      <th>GeoType</th>\n",
       "      <th>GeoID</th>\n",
       "      <th>GeoRank</th>\n",
       "      <th>Geography</th>\n",
       "      <th>10th percentile mcg/m3</th>\n",
       "      <th>90th percentile mcg/m3</th>\n",
       "      <th>Mean mcg/m3</th>\n",
       "    </tr>\n",
       "  </thead>\n",
       "  <tbody>\n",
       "    <tr>\n",
       "      <th>0</th>\n",
       "      <td>2022</td>\n",
       "      <td>CD</td>\n",
       "      <td>101</td>\n",
       "      <td>6</td>\n",
       "      <td>Financial District (CD1)</td>\n",
       "      <td>6.7</td>\n",
       "      <td>7.8</td>\n",
       "      <td>7.2</td>\n",
       "    </tr>\n",
       "    <tr>\n",
       "      <th>1</th>\n",
       "      <td>2022</td>\n",
       "      <td>CD</td>\n",
       "      <td>102</td>\n",
       "      <td>6</td>\n",
       "      <td>Greenwich Village and Soho (CD2)</td>\n",
       "      <td>7.6</td>\n",
       "      <td>9.3</td>\n",
       "      <td>8.4</td>\n",
       "    </tr>\n",
       "    <tr>\n",
       "      <th>2</th>\n",
       "      <td>2022</td>\n",
       "      <td>CD</td>\n",
       "      <td>103</td>\n",
       "      <td>6</td>\n",
       "      <td>Lower East Side and Chinatown (CD3)</td>\n",
       "      <td>6.1</td>\n",
       "      <td>8.6</td>\n",
       "      <td>7.2</td>\n",
       "    </tr>\n",
       "    <tr>\n",
       "      <th>3</th>\n",
       "      <td>2022</td>\n",
       "      <td>CD</td>\n",
       "      <td>104</td>\n",
       "      <td>6</td>\n",
       "      <td>Clinton and Chelsea (CD4)</td>\n",
       "      <td>6.7</td>\n",
       "      <td>9.0</td>\n",
       "      <td>7.8</td>\n",
       "    </tr>\n",
       "    <tr>\n",
       "      <th>4</th>\n",
       "      <td>2022</td>\n",
       "      <td>CD</td>\n",
       "      <td>105</td>\n",
       "      <td>6</td>\n",
       "      <td>Midtown (CD5)</td>\n",
       "      <td>8.2</td>\n",
       "      <td>9.7</td>\n",
       "      <td>9.1</td>\n",
       "    </tr>\n",
       "  </tbody>\n",
       "</table>\n",
       "</div>"
      ],
      "text/plain": [
       "  TimePeriod GeoType  GeoID  GeoRank                            Geography  \\\n",
       "0       2022      CD    101        6             Financial District (CD1)   \n",
       "1       2022      CD    102        6     Greenwich Village and Soho (CD2)   \n",
       "2       2022      CD    103        6  Lower East Side and Chinatown (CD3)   \n",
       "3       2022      CD    104        6            Clinton and Chelsea (CD4)   \n",
       "4       2022      CD    105        6                        Midtown (CD5)   \n",
       "\n",
       "   10th percentile mcg/m3  90th percentile mcg/m3  Mean mcg/m3  \n",
       "0                     6.7                     7.8          7.2  \n",
       "1                     7.6                     9.3          8.4  \n",
       "2                     6.1                     8.6          7.2  \n",
       "3                     6.7                     9.0          7.8  \n",
       "4                     8.2                     9.7          9.1  "
      ]
     },
     "execution_count": 459,
     "metadata": {},
     "output_type": "execute_result"
    }
   ],
   "source": [
    "pm2_5_sub.head()"
   ]
  },
  {
   "cell_type": "code",
   "execution_count": 464,
   "id": "77a5cb79",
   "metadata": {},
   "outputs": [
    {
     "name": "stdout",
     "output_type": "stream",
     "text": [
      "<class 'pandas.core.frame.DataFrame'>\n",
      "Int64Index: 1518 entries, 0 to 4423\n",
      "Data columns (total 8 columns):\n",
      " #   Column                  Non-Null Count  Dtype  \n",
      "---  ------                  --------------  -----  \n",
      " 0   TimePeriod              1518 non-null   object \n",
      " 1   GeoType                 1518 non-null   object \n",
      " 2   GeoID                   1518 non-null   int64  \n",
      " 3   GeoRank                 1518 non-null   int64  \n",
      " 4   Geography               1518 non-null   object \n",
      " 5   10th percentile mcg/m3  1518 non-null   float64\n",
      " 6   90th percentile mcg/m3  1518 non-null   float64\n",
      " 7   Mean mcg/m3             1518 non-null   float64\n",
      "dtypes: float64(3), int64(2), object(3)\n",
      "memory usage: 106.7+ KB\n"
     ]
    }
   ],
   "source": [
    "pm2_5_sub.info()"
   ]
  },
  {
   "cell_type": "code",
   "execution_count": 460,
   "id": "7d3524e5",
   "metadata": {},
   "outputs": [],
   "source": [
    "#Creat a copy of dataframe\n",
    "no2_1= no2.copy()"
   ]
  },
  {
   "cell_type": "code",
   "execution_count": 191,
   "id": "6c5743ae",
   "metadata": {},
   "outputs": [
    {
     "data": {
      "text/html": [
       "<div>\n",
       "<style scoped>\n",
       "    .dataframe tbody tr th:only-of-type {\n",
       "        vertical-align: middle;\n",
       "    }\n",
       "\n",
       "    .dataframe tbody tr th {\n",
       "        vertical-align: top;\n",
       "    }\n",
       "\n",
       "    .dataframe thead th {\n",
       "        text-align: right;\n",
       "    }\n",
       "</style>\n",
       "<table border=\"1\" class=\"dataframe\">\n",
       "  <thead>\n",
       "    <tr style=\"text-align: right;\">\n",
       "      <th></th>\n",
       "      <th>TimePeriod</th>\n",
       "      <th>GeoType</th>\n",
       "      <th>GeoID</th>\n",
       "      <th>GeoRank</th>\n",
       "      <th>Geography</th>\n",
       "      <th>10th percentile ppb</th>\n",
       "      <th>90th percentile ppb</th>\n",
       "      <th>Mean ppb</th>\n",
       "    </tr>\n",
       "  </thead>\n",
       "  <tbody>\n",
       "    <tr>\n",
       "      <th>0</th>\n",
       "      <td>Annual Average 2022</td>\n",
       "      <td>CD</td>\n",
       "      <td>101</td>\n",
       "      <td>6</td>\n",
       "      <td>Financial District (CD1)</td>\n",
       "      <td>19.3</td>\n",
       "      <td>22.4</td>\n",
       "      <td>21.0</td>\n",
       "    </tr>\n",
       "    <tr>\n",
       "      <th>1</th>\n",
       "      <td>Annual Average 2022</td>\n",
       "      <td>CD</td>\n",
       "      <td>102</td>\n",
       "      <td>6</td>\n",
       "      <td>Greenwich Village and Soho (CD2)</td>\n",
       "      <td>19.2</td>\n",
       "      <td>21.1</td>\n",
       "      <td>20.2</td>\n",
       "    </tr>\n",
       "    <tr>\n",
       "      <th>2</th>\n",
       "      <td>Annual Average 2022</td>\n",
       "      <td>CD</td>\n",
       "      <td>103</td>\n",
       "      <td>6</td>\n",
       "      <td>Lower East Side and Chinatown (CD3)</td>\n",
       "      <td>15.8</td>\n",
       "      <td>19.9</td>\n",
       "      <td>17.8</td>\n",
       "    </tr>\n",
       "    <tr>\n",
       "      <th>3</th>\n",
       "      <td>Annual Average 2022</td>\n",
       "      <td>CD</td>\n",
       "      <td>104</td>\n",
       "      <td>6</td>\n",
       "      <td>Clinton and Chelsea (CD4)</td>\n",
       "      <td>18.6</td>\n",
       "      <td>24.4</td>\n",
       "      <td>21.4</td>\n",
       "    </tr>\n",
       "    <tr>\n",
       "      <th>4</th>\n",
       "      <td>Annual Average 2022</td>\n",
       "      <td>CD</td>\n",
       "      <td>105</td>\n",
       "      <td>6</td>\n",
       "      <td>Midtown (CD5)</td>\n",
       "      <td>22.4</td>\n",
       "      <td>27.8</td>\n",
       "      <td>25.5</td>\n",
       "    </tr>\n",
       "  </tbody>\n",
       "</table>\n",
       "</div>"
      ],
      "text/plain": [
       "            TimePeriod GeoType  GeoID  GeoRank  \\\n",
       "0  Annual Average 2022      CD    101        6   \n",
       "1  Annual Average 2022      CD    102        6   \n",
       "2  Annual Average 2022      CD    103        6   \n",
       "3  Annual Average 2022      CD    104        6   \n",
       "4  Annual Average 2022      CD    105        6   \n",
       "\n",
       "                             Geography  10th percentile ppb  \\\n",
       "0             Financial District (CD1)                 19.3   \n",
       "1     Greenwich Village and Soho (CD2)                 19.2   \n",
       "2  Lower East Side and Chinatown (CD3)                 15.8   \n",
       "3            Clinton and Chelsea (CD4)                 18.6   \n",
       "4                        Midtown (CD5)                 22.4   \n",
       "\n",
       "   90th percentile ppb  Mean ppb  \n",
       "0                 22.4      21.0  \n",
       "1                 21.1      20.2  \n",
       "2                 19.9      17.8  \n",
       "3                 24.4      21.4  \n",
       "4                 27.8      25.5  "
      ]
     },
     "execution_count": 191,
     "metadata": {},
     "output_type": "execute_result"
    }
   ],
   "source": [
    "# filter rows to keep Annual Average rows\n",
    "no2_sub= no2_1[no2_1[\"TimePeriod\"].str.startswith(\"Annual Average\")]\n",
    "no2_sub.head()"
   ]
  },
  {
   "cell_type": "code",
   "execution_count": 192,
   "id": "a44b8355",
   "metadata": {},
   "outputs": [
    {
     "data": {
      "text/html": [
       "<div>\n",
       "<style scoped>\n",
       "    .dataframe tbody tr th:only-of-type {\n",
       "        vertical-align: middle;\n",
       "    }\n",
       "\n",
       "    .dataframe tbody tr th {\n",
       "        vertical-align: top;\n",
       "    }\n",
       "\n",
       "    .dataframe thead th {\n",
       "        text-align: right;\n",
       "    }\n",
       "</style>\n",
       "<table border=\"1\" class=\"dataframe\">\n",
       "  <thead>\n",
       "    <tr style=\"text-align: right;\">\n",
       "      <th></th>\n",
       "      <th>TimePeriod</th>\n",
       "      <th>GeoType</th>\n",
       "      <th>GeoID</th>\n",
       "      <th>GeoRank</th>\n",
       "      <th>Geography</th>\n",
       "      <th>10th percentile ppb</th>\n",
       "      <th>90th percentile ppb</th>\n",
       "      <th>Mean ppb</th>\n",
       "    </tr>\n",
       "  </thead>\n",
       "  <tbody>\n",
       "    <tr>\n",
       "      <th>0</th>\n",
       "      <td>2022</td>\n",
       "      <td>CD</td>\n",
       "      <td>101</td>\n",
       "      <td>6</td>\n",
       "      <td>Financial District (CD1)</td>\n",
       "      <td>19.3</td>\n",
       "      <td>22.4</td>\n",
       "      <td>21.0</td>\n",
       "    </tr>\n",
       "    <tr>\n",
       "      <th>1</th>\n",
       "      <td>2022</td>\n",
       "      <td>CD</td>\n",
       "      <td>102</td>\n",
       "      <td>6</td>\n",
       "      <td>Greenwich Village and Soho (CD2)</td>\n",
       "      <td>19.2</td>\n",
       "      <td>21.1</td>\n",
       "      <td>20.2</td>\n",
       "    </tr>\n",
       "    <tr>\n",
       "      <th>2</th>\n",
       "      <td>2022</td>\n",
       "      <td>CD</td>\n",
       "      <td>103</td>\n",
       "      <td>6</td>\n",
       "      <td>Lower East Side and Chinatown (CD3)</td>\n",
       "      <td>15.8</td>\n",
       "      <td>19.9</td>\n",
       "      <td>17.8</td>\n",
       "    </tr>\n",
       "    <tr>\n",
       "      <th>3</th>\n",
       "      <td>2022</td>\n",
       "      <td>CD</td>\n",
       "      <td>104</td>\n",
       "      <td>6</td>\n",
       "      <td>Clinton and Chelsea (CD4)</td>\n",
       "      <td>18.6</td>\n",
       "      <td>24.4</td>\n",
       "      <td>21.4</td>\n",
       "    </tr>\n",
       "    <tr>\n",
       "      <th>4</th>\n",
       "      <td>2022</td>\n",
       "      <td>CD</td>\n",
       "      <td>105</td>\n",
       "      <td>6</td>\n",
       "      <td>Midtown (CD5)</td>\n",
       "      <td>22.4</td>\n",
       "      <td>27.8</td>\n",
       "      <td>25.5</td>\n",
       "    </tr>\n",
       "  </tbody>\n",
       "</table>\n",
       "</div>"
      ],
      "text/plain": [
       "  TimePeriod GeoType  GeoID  GeoRank                            Geography  \\\n",
       "0       2022      CD    101        6             Financial District (CD1)   \n",
       "1       2022      CD    102        6     Greenwich Village and Soho (CD2)   \n",
       "2       2022      CD    103        6  Lower East Side and Chinatown (CD3)   \n",
       "3       2022      CD    104        6            Clinton and Chelsea (CD4)   \n",
       "4       2022      CD    105        6                        Midtown (CD5)   \n",
       "\n",
       "   10th percentile ppb  90th percentile ppb  Mean ppb  \n",
       "0                 19.3                 22.4      21.0  \n",
       "1                 19.2                 21.1      20.2  \n",
       "2                 15.8                 19.9      17.8  \n",
       "3                 18.6                 24.4      21.4  \n",
       "4                 22.4                 27.8      25.5  "
      ]
     },
     "execution_count": 192,
     "metadata": {},
     "output_type": "execute_result"
    }
   ],
   "source": [
    "#Remove the 'Annual' prefix from the 'TimePeriod' in pm2_5_sub\n",
    "no2_sub=no2_sub.copy()\n",
    "no2_sub[\"TimePeriod\"]= no2_sub[\"TimePeriod\"].str.replace(\"Annual Average\", \"\")\n",
    "no2_sub.head()"
   ]
  },
  {
   "cell_type": "code",
   "execution_count": 465,
   "id": "f61ee51e",
   "metadata": {},
   "outputs": [],
   "source": [
    "# Change the data type into int\n",
    "pm2_5_sub[\"TimePeriod\"]=pm2_5_sub[\"TimePeriod\"].astype(int)\n",
    "\n",
    "no2_sub[\"TimePeriod\"]=no2_sub[\"TimePeriod\"].astype(int)"
   ]
  },
  {
   "cell_type": "code",
   "execution_count": 466,
   "id": "bcc9bde2",
   "metadata": {},
   "outputs": [
    {
     "name": "stdout",
     "output_type": "stream",
     "text": [
      "<class 'pandas.core.series.Series'>\n",
      "Int64Index: 1518 entries, 0 to 4423\n",
      "Series name: TimePeriod\n",
      "Non-Null Count  Dtype\n",
      "--------------  -----\n",
      "1518 non-null   int64\n",
      "dtypes: int64(1)\n",
      "memory usage: 23.7 KB\n"
     ]
    }
   ],
   "source": [
    "\n",
    "no2_sub[\"TimePeriod\"].info()"
   ]
  },
  {
   "cell_type": "markdown",
   "id": "75ebe4ba",
   "metadata": {},
   "source": [
    "Data type on the \"TimePeriod\" column changed to int."
   ]
  },
  {
   "cell_type": "markdown",
   "id": "5f91fedf",
   "metadata": {},
   "source": [
    "**3.Data Cleaning**"
   ]
  },
  {
   "cell_type": "markdown",
   "id": "a42460ef",
   "metadata": {},
   "source": [
    "**3.1. Dropping Unneccessary Rows:**\n",
    "\n",
    "I want to choose three neighborhoods in New York City to assess air quality that can provide an overview of the whole area requires considering diversity in geography, urban density, and potential sources of pollution. Based on the Geography column in csv files that includes all neighborhoods,I want to choose New yourk, Manhatan,Staten Island."
   ]
  },
  {
   "cell_type": "code",
   "execution_count": 467,
   "id": "32902e54",
   "metadata": {},
   "outputs": [],
   "source": [
    "# List of names I want to keep\n",
    "rows_to_keep=[\"New York City\",\"Manhattan\",\"Staten Island\"]"
   ]
  },
  {
   "cell_type": "code",
   "execution_count": 468,
   "id": "d3dff3b7",
   "metadata": {},
   "outputs": [],
   "source": [
    "# Creat a new Dataframe with only rows for our study with the name,\"New York City\",\"Manhattan\",\"Staten Island\"\n",
    "asthma_adults_df=asthma_adults_1.loc[asthma_adults_1[\"Geography\"].isin(rows_to_keep)]\n",
    "\n",
    "asthma_age_4_df= asthma_age_4_1.loc[asthma_age_4_1[\"Geography\"].isin(rows_to_keep)]\n",
    "\n",
    "asthma_age5_17_df=asthma_age5_17_1.loc[asthma_age5_17_1[\"Geography\"].isin(rows_to_keep)]\n",
    "\n",
    "pm2_5_df= pm2_5_sub.loc[pm2_5_sub[\"Geography\"].isin(rows_to_keep)]\n",
    "\n",
    "no2_df= no2_sub.loc[no2_sub[\"Geography\"].isin(rows_to_keep)]"
   ]
  },
  {
   "cell_type": "markdown",
   "id": "5a31c0cf",
   "metadata": {},
   "source": [
    "**3.2.Dropping unneccessary Columns**"
   ]
  },
  {
   "cell_type": "code",
   "execution_count": 197,
   "id": "5684110d",
   "metadata": {},
   "outputs": [
    {
     "name": "stdout",
     "output_type": "stream",
     "text": [
      "{'Geography', 'GeoRank', 'GeoID', 'GeoType', 'TimePeriod'}\n"
     ]
    }
   ],
   "source": [
    "# finding common column to merge\n",
    "common_columns= set(asthma_adults_df.columns)& set(asthma_age_4_df.columns)&set(asthma_age5_17_df.columns)&set(pm2_5_df.columns)&set(no2_df.columns)\n",
    "print(common_columns)"
   ]
  },
  {
   "cell_type": "markdown",
   "id": "6eb88ec2",
   "metadata": {},
   "source": [
    "These are common columns in all five dataFrames. I can choose one of them as a key column to merge all datasets. I want to choose \"GeoID\" as a key column and drop \"GeoType\" and \"GeoRank\" columns. Because these column doesn't have any valuable data."
   ]
  },
  {
   "cell_type": "code",
   "execution_count": 469,
   "id": "5e6ea2d2",
   "metadata": {},
   "outputs": [],
   "source": [
    "# List the columns that want to drop\n",
    "columns_to_drop=[\"GeoType\",\"GeoRank\"]\n"
   ]
  },
  {
   "cell_type": "code",
   "execution_count": 476,
   "id": "52620a32",
   "metadata": {},
   "outputs": [],
   "source": [
    "# Create a new DataFrame with only the necessary columns\n",
    "\n",
    "asthma_adults_df1= asthma_adults_df.drop(columns_to_drop, axis=1)\n",
    "\n",
    "asthma_age_4_df1=asthma_age_4_df.drop(columns_to_drop,axis=1)\n",
    "\n",
    "asthma_age5_17_df1=asthma_age5_17_df.drop(columns_to_drop, axis=1)\n",
    "\n",
    "pm2_5_df1= pm2_5_df.drop(columns_to_drop,axis=1)\n",
    "\n",
    "no2_df1= no2_df.drop(columns_to_drop,axis=1)"
   ]
  },
  {
   "cell_type": "code",
   "execution_count": 477,
   "id": "e39a9342",
   "metadata": {},
   "outputs": [
    {
     "name": "stdout",
     "output_type": "stream",
     "text": [
      "Index(['TimePeriod', 'GeoID', 'Geography', 'Estimated annual rate per 10,000',\n",
      "       'Number'],\n",
      "      dtype='object')\n"
     ]
    }
   ],
   "source": [
    "print(asthma_age_4_df1.columns)\n"
   ]
  },
  {
   "cell_type": "markdown",
   "id": "ff11554d",
   "metadata": {},
   "source": [
    "Columns \"GeoType\" and \"GeoRank\" have removed from dataframe."
   ]
  },
  {
   "cell_type": "code",
   "execution_count": 478,
   "id": "212d0ce5",
   "metadata": {},
   "outputs": [],
   "source": [
    "#rename the column 'TimePeriod' to 'Year'\n",
    "asthma_adults_df1= asthma_adults_df1.rename(columns={\"TimePeriod\":\"Year\"})\n",
    "\n",
    "asthma_age_4_df1=asthma_age_4_df1.rename(columns={\"TimePeriod\":\"Year\"})\n",
    "\n",
    "asthma_age5_17_df1=asthma_age5_17_df1.rename(columns={\"TimePeriod\":\"Year\"})\n",
    "\n",
    "pm2_5_df1= pm2_5_df1.rename(columns={\"TimePeriod\":\"Year\"})\n",
    "\n",
    "no2_df1= no2_df1.rename(columns={\"TimePeriod\":\"Year\"})"
   ]
  },
  {
   "cell_type": "code",
   "execution_count": 479,
   "id": "6a0bebf7",
   "metadata": {},
   "outputs": [
    {
     "data": {
      "text/html": [
       "<div>\n",
       "<style scoped>\n",
       "    .dataframe tbody tr th:only-of-type {\n",
       "        vertical-align: middle;\n",
       "    }\n",
       "\n",
       "    .dataframe tbody tr th {\n",
       "        vertical-align: top;\n",
       "    }\n",
       "\n",
       "    .dataframe thead th {\n",
       "        text-align: right;\n",
       "    }\n",
       "</style>\n",
       "<table border=\"1\" class=\"dataframe\">\n",
       "  <thead>\n",
       "    <tr style=\"text-align: right;\">\n",
       "      <th></th>\n",
       "      <th>Year</th>\n",
       "      <th>GeoID</th>\n",
       "      <th>Geography</th>\n",
       "      <th>10th percentile ppb</th>\n",
       "      <th>90th percentile ppb</th>\n",
       "      <th>Mean ppb</th>\n",
       "    </tr>\n",
       "  </thead>\n",
       "  <tbody>\n",
       "    <tr>\n",
       "      <th>137</th>\n",
       "      <td>2022</td>\n",
       "      <td>3</td>\n",
       "      <td>Manhattan</td>\n",
       "      <td>16.0</td>\n",
       "      <td>23.3</td>\n",
       "      <td>19.1</td>\n",
       "    </tr>\n",
       "    <tr>\n",
       "      <th>139</th>\n",
       "      <td>2022</td>\n",
       "      <td>5</td>\n",
       "      <td>Staten Island</td>\n",
       "      <td>8.4</td>\n",
       "      <td>13.9</td>\n",
       "      <td>11.2</td>\n",
       "    </tr>\n",
       "    <tr>\n",
       "      <th>140</th>\n",
       "      <td>2022</td>\n",
       "      <td>1</td>\n",
       "      <td>New York City</td>\n",
       "      <td>10.8</td>\n",
       "      <td>18.1</td>\n",
       "      <td>14.7</td>\n",
       "    </tr>\n",
       "    <tr>\n",
       "      <th>560</th>\n",
       "      <td>2021</td>\n",
       "      <td>3</td>\n",
       "      <td>Manhattan</td>\n",
       "      <td>17.0</td>\n",
       "      <td>23.7</td>\n",
       "      <td>20.0</td>\n",
       "    </tr>\n",
       "    <tr>\n",
       "      <th>562</th>\n",
       "      <td>2021</td>\n",
       "      <td>5</td>\n",
       "      <td>Staten Island</td>\n",
       "      <td>10.1</td>\n",
       "      <td>15.8</td>\n",
       "      <td>12.8</td>\n",
       "    </tr>\n",
       "  </tbody>\n",
       "</table>\n",
       "</div>"
      ],
      "text/plain": [
       "     Year  GeoID      Geography  10th percentile ppb  90th percentile ppb  \\\n",
       "137  2022      3      Manhattan                 16.0                 23.3   \n",
       "139  2022      5  Staten Island                  8.4                 13.9   \n",
       "140  2022      1  New York City                 10.8                 18.1   \n",
       "560  2021      3      Manhattan                 17.0                 23.7   \n",
       "562  2021      5  Staten Island                 10.1                 15.8   \n",
       "\n",
       "     Mean ppb  \n",
       "137      19.1  \n",
       "139      11.2  \n",
       "140      14.7  \n",
       "560      20.0  \n",
       "562      12.8  "
      ]
     },
     "execution_count": 479,
     "metadata": {},
     "output_type": "execute_result"
    }
   ],
   "source": [
    "no2_df1.head()"
   ]
  },
  {
   "cell_type": "code",
   "execution_count": 480,
   "id": "db77750e",
   "metadata": {},
   "outputs": [
    {
     "data": {
      "text/html": [
       "<div>\n",
       "<style scoped>\n",
       "    .dataframe tbody tr th:only-of-type {\n",
       "        vertical-align: middle;\n",
       "    }\n",
       "\n",
       "    .dataframe tbody tr th {\n",
       "        vertical-align: top;\n",
       "    }\n",
       "\n",
       "    .dataframe thead th {\n",
       "        text-align: right;\n",
       "    }\n",
       "</style>\n",
       "<table border=\"1\" class=\"dataframe\">\n",
       "  <thead>\n",
       "    <tr style=\"text-align: right;\">\n",
       "      <th></th>\n",
       "      <th>Year</th>\n",
       "      <th>GeoID</th>\n",
       "      <th>Geography</th>\n",
       "      <th>Estimated annual rate per 10,000</th>\n",
       "      <th>Number</th>\n",
       "    </tr>\n",
       "  </thead>\n",
       "  <tbody>\n",
       "    <tr>\n",
       "      <th>103</th>\n",
       "      <td>2020</td>\n",
       "      <td>3</td>\n",
       "      <td>Manhattan</td>\n",
       "      <td>58.6</td>\n",
       "      <td>454</td>\n",
       "    </tr>\n",
       "    <tr>\n",
       "      <th>105</th>\n",
       "      <td>2020</td>\n",
       "      <td>5</td>\n",
       "      <td>Staten Island</td>\n",
       "      <td>33.9</td>\n",
       "      <td>94</td>\n",
       "    </tr>\n",
       "    <tr>\n",
       "      <th>106</th>\n",
       "      <td>2020</td>\n",
       "      <td>1</td>\n",
       "      <td>New York City</td>\n",
       "      <td>62.4</td>\n",
       "      <td>3357</td>\n",
       "    </tr>\n",
       "    <tr>\n",
       "      <th>210</th>\n",
       "      <td>2019</td>\n",
       "      <td>3</td>\n",
       "      <td>Manhattan</td>\n",
       "      <td>193.0</td>\n",
       "      <td>1551</td>\n",
       "    </tr>\n",
       "    <tr>\n",
       "      <th>212</th>\n",
       "      <td>2019</td>\n",
       "      <td>5</td>\n",
       "      <td>Staten Island</td>\n",
       "      <td>91.8</td>\n",
       "      <td>264</td>\n",
       "    </tr>\n",
       "  </tbody>\n",
       "</table>\n",
       "</div>"
      ],
      "text/plain": [
       "     Year  GeoID      Geography  Estimated annual rate per 10,000  Number\n",
       "103  2020      3      Manhattan                              58.6     454\n",
       "105  2020      5  Staten Island                              33.9      94\n",
       "106  2020      1  New York City                              62.4    3357\n",
       "210  2019      3      Manhattan                             193.0    1551\n",
       "212  2019      5  Staten Island                              91.8     264"
      ]
     },
     "execution_count": 480,
     "metadata": {},
     "output_type": "execute_result"
    }
   ],
   "source": [
    "asthma_age_4_df1.head()"
   ]
  },
  {
   "cell_type": "code",
   "execution_count": 492,
   "id": "4f765da2",
   "metadata": {},
   "outputs": [
    {
     "data": {
      "text/plain": [
       "Year_ag_4                           0\n",
       "GeoID                               0\n",
       "Geography_ag_4                      0\n",
       "Estimated annual rate per 10,000    0\n",
       "Number                              0\n",
       "dtype: int64"
      ]
     },
     "execution_count": 492,
     "metadata": {},
     "output_type": "execute_result"
    }
   ],
   "source": [
    "asthma_age_4_df1.isna().sum()"
   ]
  },
  {
   "cell_type": "markdown",
   "id": "899bcd4d",
   "metadata": {},
   "source": [
    "**4.Joining Data**"
   ]
  },
  {
   "cell_type": "code",
   "execution_count": 496,
   "id": "a86964a9",
   "metadata": {},
   "outputs": [],
   "source": [
    "# rename the common columns except 'GeoID' to merge dataframes\n",
    "asthma_adults_df1= asthma_adults_df1.rename(columns={'Geography':'Geography_ad',\"Year\":\"Year_ad\"})\n",
    "\n",
    "asthma_age_4_df1= asthma_age_4_df1.rename(columns={'Geography':'Geography_ag_4',\"Year\":\"Year_ag_4\"})\n",
    "\n",
    "asthma_age5_17_df1= asthma_age5_17_df1.rename(columns={'Geography':'Geography_ag5_17',\"Year\":\"Year5_17\"})\n",
    "\n",
    "no2_df1=no2_df1.rename(columns={'Geography':'Geography_no2',\"Year\":\"Year_no\"})\n",
    "\n",
    "pm2_5_df1=pm2_5_df1.rename(columns={'Geography':'Geography_pm', \"Year\":\"Year_pm\"})"
   ]
  },
  {
   "cell_type": "code",
   "execution_count": 497,
   "id": "131a4678",
   "metadata": {},
   "outputs": [],
   "source": [
    "merge1=pd.merge(asthma_adults_df1,asthma_age_4_df1, on=\"GeoID\", how=\"inner\")\n"
   ]
  },
  {
   "cell_type": "code",
   "execution_count": 498,
   "id": "2c4ade9f",
   "metadata": {},
   "outputs": [],
   "source": [
    "merge2= pd.merge(merge1,asthma_age5_17_df1, on=\"GeoID\", how=\"inner\")"
   ]
  },
  {
   "cell_type": "code",
   "execution_count": 499,
   "id": "f848405b",
   "metadata": {},
   "outputs": [],
   "source": [
    "merge3= pd.merge(merge2,pm2_5_df1, on=\"GeoID\", how=\"inner\")"
   ]
  },
  {
   "cell_type": "code",
   "execution_count": 500,
   "id": "bb49ca98",
   "metadata": {},
   "outputs": [],
   "source": [
    "merge4=pd.merge(merge3,no2_df1, on=\"GeoID\", how=\"inner\")"
   ]
  },
  {
   "cell_type": "code",
   "execution_count": 501,
   "id": "640269bb",
   "metadata": {},
   "outputs": [
    {
     "data": {
      "text/html": [
       "<div>\n",
       "<style scoped>\n",
       "    .dataframe tbody tr th:only-of-type {\n",
       "        vertical-align: middle;\n",
       "    }\n",
       "\n",
       "    .dataframe tbody tr th {\n",
       "        vertical-align: top;\n",
       "    }\n",
       "\n",
       "    .dataframe thead th {\n",
       "        text-align: right;\n",
       "    }\n",
       "</style>\n",
       "<table border=\"1\" class=\"dataframe\">\n",
       "  <thead>\n",
       "    <tr style=\"text-align: right;\">\n",
       "      <th></th>\n",
       "      <th>Year_ad</th>\n",
       "      <th>GeoID</th>\n",
       "      <th>Geography_ad</th>\n",
       "      <th>Age-adjusted rate per 10,000</th>\n",
       "      <th>Estimated annual rate per 10,000_x</th>\n",
       "      <th>Number_x</th>\n",
       "      <th>Year_ag_4</th>\n",
       "      <th>Geography_ag_4</th>\n",
       "      <th>Estimated annual rate per 10,000_y</th>\n",
       "      <th>Number_y</th>\n",
       "      <th>...</th>\n",
       "      <th>Year_pm</th>\n",
       "      <th>Geography_pm</th>\n",
       "      <th>10th percentile mcg/m3</th>\n",
       "      <th>90th percentile mcg/m3</th>\n",
       "      <th>Mean mcg/m3</th>\n",
       "      <th>Year_no</th>\n",
       "      <th>Geography_no2</th>\n",
       "      <th>10th percentile ppb</th>\n",
       "      <th>90th percentile ppb</th>\n",
       "      <th>Mean ppb</th>\n",
       "    </tr>\n",
       "  </thead>\n",
       "  <tbody>\n",
       "    <tr>\n",
       "      <th>0</th>\n",
       "      <td>2020</td>\n",
       "      <td>3</td>\n",
       "      <td>Manhattan</td>\n",
       "      <td>44.7</td>\n",
       "      <td>43.5</td>\n",
       "      <td>6290.0</td>\n",
       "      <td>2020</td>\n",
       "      <td>Manhattan</td>\n",
       "      <td>58.6</td>\n",
       "      <td>454</td>\n",
       "      <td>...</td>\n",
       "      <td>2022</td>\n",
       "      <td>Manhattan</td>\n",
       "      <td>6.1</td>\n",
       "      <td>8.8</td>\n",
       "      <td>7.0</td>\n",
       "      <td>2022</td>\n",
       "      <td>Manhattan</td>\n",
       "      <td>16.0</td>\n",
       "      <td>23.3</td>\n",
       "      <td>19.1</td>\n",
       "    </tr>\n",
       "    <tr>\n",
       "      <th>1</th>\n",
       "      <td>2020</td>\n",
       "      <td>3</td>\n",
       "      <td>Manhattan</td>\n",
       "      <td>44.7</td>\n",
       "      <td>43.5</td>\n",
       "      <td>6290.0</td>\n",
       "      <td>2020</td>\n",
       "      <td>Manhattan</td>\n",
       "      <td>58.6</td>\n",
       "      <td>454</td>\n",
       "      <td>...</td>\n",
       "      <td>2022</td>\n",
       "      <td>Manhattan</td>\n",
       "      <td>6.1</td>\n",
       "      <td>8.8</td>\n",
       "      <td>7.0</td>\n",
       "      <td>2021</td>\n",
       "      <td>Manhattan</td>\n",
       "      <td>17.0</td>\n",
       "      <td>23.7</td>\n",
       "      <td>20.0</td>\n",
       "    </tr>\n",
       "    <tr>\n",
       "      <th>2</th>\n",
       "      <td>2020</td>\n",
       "      <td>3</td>\n",
       "      <td>Manhattan</td>\n",
       "      <td>44.7</td>\n",
       "      <td>43.5</td>\n",
       "      <td>6290.0</td>\n",
       "      <td>2020</td>\n",
       "      <td>Manhattan</td>\n",
       "      <td>58.6</td>\n",
       "      <td>454</td>\n",
       "      <td>...</td>\n",
       "      <td>2022</td>\n",
       "      <td>Manhattan</td>\n",
       "      <td>6.1</td>\n",
       "      <td>8.8</td>\n",
       "      <td>7.0</td>\n",
       "      <td>2020</td>\n",
       "      <td>Manhattan</td>\n",
       "      <td>17.7</td>\n",
       "      <td>24.4</td>\n",
       "      <td>20.5</td>\n",
       "    </tr>\n",
       "    <tr>\n",
       "      <th>3</th>\n",
       "      <td>2020</td>\n",
       "      <td>3</td>\n",
       "      <td>Manhattan</td>\n",
       "      <td>44.7</td>\n",
       "      <td>43.5</td>\n",
       "      <td>6290.0</td>\n",
       "      <td>2020</td>\n",
       "      <td>Manhattan</td>\n",
       "      <td>58.6</td>\n",
       "      <td>454</td>\n",
       "      <td>...</td>\n",
       "      <td>2022</td>\n",
       "      <td>Manhattan</td>\n",
       "      <td>6.1</td>\n",
       "      <td>8.8</td>\n",
       "      <td>7.0</td>\n",
       "      <td>2019</td>\n",
       "      <td>Manhattan</td>\n",
       "      <td>17.7</td>\n",
       "      <td>26.6</td>\n",
       "      <td>21.7</td>\n",
       "    </tr>\n",
       "    <tr>\n",
       "      <th>4</th>\n",
       "      <td>2020</td>\n",
       "      <td>3</td>\n",
       "      <td>Manhattan</td>\n",
       "      <td>44.7</td>\n",
       "      <td>43.5</td>\n",
       "      <td>6290.0</td>\n",
       "      <td>2020</td>\n",
       "      <td>Manhattan</td>\n",
       "      <td>58.6</td>\n",
       "      <td>454</td>\n",
       "      <td>...</td>\n",
       "      <td>2022</td>\n",
       "      <td>Manhattan</td>\n",
       "      <td>6.1</td>\n",
       "      <td>8.8</td>\n",
       "      <td>7.0</td>\n",
       "      <td>2018</td>\n",
       "      <td>Manhattan</td>\n",
       "      <td>19.4</td>\n",
       "      <td>28.8</td>\n",
       "      <td>23.4</td>\n",
       "    </tr>\n",
       "  </tbody>\n",
       "</table>\n",
       "<p>5 rows × 25 columns</p>\n",
       "</div>"
      ],
      "text/plain": [
       "   Year_ad  GeoID Geography_ad  Age-adjusted rate per 10,000  \\\n",
       "0     2020      3    Manhattan                          44.7   \n",
       "1     2020      3    Manhattan                          44.7   \n",
       "2     2020      3    Manhattan                          44.7   \n",
       "3     2020      3    Manhattan                          44.7   \n",
       "4     2020      3    Manhattan                          44.7   \n",
       "\n",
       "   Estimated annual rate per 10,000_x  Number_x  Year_ag_4 Geography_ag_4  \\\n",
       "0                                43.5    6290.0       2020      Manhattan   \n",
       "1                                43.5    6290.0       2020      Manhattan   \n",
       "2                                43.5    6290.0       2020      Manhattan   \n",
       "3                                43.5    6290.0       2020      Manhattan   \n",
       "4                                43.5    6290.0       2020      Manhattan   \n",
       "\n",
       "   Estimated annual rate per 10,000_y  Number_y  ...  Year_pm Geography_pm  \\\n",
       "0                                58.6       454  ...     2022    Manhattan   \n",
       "1                                58.6       454  ...     2022    Manhattan   \n",
       "2                                58.6       454  ...     2022    Manhattan   \n",
       "3                                58.6       454  ...     2022    Manhattan   \n",
       "4                                58.6       454  ...     2022    Manhattan   \n",
       "\n",
       "   10th percentile mcg/m3  90th percentile mcg/m3  Mean mcg/m3  Year_no  \\\n",
       "0                     6.1                     8.8          7.0     2022   \n",
       "1                     6.1                     8.8          7.0     2021   \n",
       "2                     6.1                     8.8          7.0     2020   \n",
       "3                     6.1                     8.8          7.0     2019   \n",
       "4                     6.1                     8.8          7.0     2018   \n",
       "\n",
       "  Geography_no2  10th percentile ppb  90th percentile ppb  Mean ppb  \n",
       "0     Manhattan                 16.0                 23.3      19.1  \n",
       "1     Manhattan                 17.0                 23.7      20.0  \n",
       "2     Manhattan                 17.7                 24.4      20.5  \n",
       "3     Manhattan                 17.7                 26.6      21.7  \n",
       "4     Manhattan                 19.4                 28.8      23.4  \n",
       "\n",
       "[5 rows x 25 columns]"
      ]
     },
     "execution_count": 501,
     "metadata": {},
     "output_type": "execute_result"
    }
   ],
   "source": [
    "merge4.head()"
   ]
  },
  {
   "cell_type": "code",
   "execution_count": 502,
   "id": "1208db25",
   "metadata": {},
   "outputs": [
    {
     "data": {
      "text/plain": [
       "Index(['Year_ad', 'GeoID', 'Geography_ad', 'Age-adjusted rate per 10,000',\n",
       "       'Estimated annual rate per 10,000_x', 'Number_x', 'Year_ag_4',\n",
       "       'Geography_ag_4', 'Estimated annual rate per 10,000_y', 'Number_y',\n",
       "       'Year5_17', 'Geography_ag5_17', 'Estimated annual rate per 10,000',\n",
       "       'Number', 'small_number_estimate', 'Year_pm', 'Geography_pm',\n",
       "       '10th percentile mcg/m3', '90th percentile mcg/m3', 'Mean mcg/m3',\n",
       "       'Year_no', 'Geography_no2', '10th percentile ppb',\n",
       "       '90th percentile ppb', 'Mean ppb'],\n",
       "      dtype='object')"
      ]
     },
     "execution_count": 502,
     "metadata": {},
     "output_type": "execute_result"
    }
   ],
   "source": [
    "merge4.columns"
   ]
  },
  {
   "cell_type": "markdown",
   "id": "70a92d79",
   "metadata": {},
   "source": [
    "Results show some duplicated columns that have to be remove."
   ]
  },
  {
   "cell_type": "code",
   "execution_count": 503,
   "id": "044c89ad",
   "metadata": {},
   "outputs": [],
   "source": [
    "# Duplicated columns to drop\n",
    "columns_to_remove=[\"Year_ag_4\",\"Geography_ag_4\",\"Year_pm\",\"Geography_pm\",\"Year_no\",\"Geography_no2\",'Geography_ag5_17',\"Year5_17\"]"
   ]
  },
  {
   "cell_type": "code",
   "execution_count": 504,
   "id": "a0144471",
   "metadata": {},
   "outputs": [],
   "source": [
    "merge4= merge4.drop(columns_to_remove, axis=1)"
   ]
  },
  {
   "cell_type": "code",
   "execution_count": 505,
   "id": "ee0d63e9",
   "metadata": {},
   "outputs": [
    {
     "data": {
      "text/html": [
       "<div>\n",
       "<style scoped>\n",
       "    .dataframe tbody tr th:only-of-type {\n",
       "        vertical-align: middle;\n",
       "    }\n",
       "\n",
       "    .dataframe tbody tr th {\n",
       "        vertical-align: top;\n",
       "    }\n",
       "\n",
       "    .dataframe thead th {\n",
       "        text-align: right;\n",
       "    }\n",
       "</style>\n",
       "<table border=\"1\" class=\"dataframe\">\n",
       "  <thead>\n",
       "    <tr style=\"text-align: right;\">\n",
       "      <th></th>\n",
       "      <th>Year_ad</th>\n",
       "      <th>GeoID</th>\n",
       "      <th>Geography_ad</th>\n",
       "      <th>Age-adjusted rate per 10,000</th>\n",
       "      <th>Estimated annual rate per 10,000_x</th>\n",
       "      <th>Number_x</th>\n",
       "      <th>Estimated annual rate per 10,000_y</th>\n",
       "      <th>Number_y</th>\n",
       "      <th>Estimated annual rate per 10,000</th>\n",
       "      <th>Number</th>\n",
       "      <th>small_number_estimate</th>\n",
       "      <th>10th percentile mcg/m3</th>\n",
       "      <th>90th percentile mcg/m3</th>\n",
       "      <th>Mean mcg/m3</th>\n",
       "      <th>10th percentile ppb</th>\n",
       "      <th>90th percentile ppb</th>\n",
       "      <th>Mean ppb</th>\n",
       "    </tr>\n",
       "  </thead>\n",
       "  <tbody>\n",
       "    <tr>\n",
       "      <th>0</th>\n",
       "      <td>2020</td>\n",
       "      <td>3</td>\n",
       "      <td>Manhattan</td>\n",
       "      <td>44.7</td>\n",
       "      <td>43.5</td>\n",
       "      <td>6290.0</td>\n",
       "      <td>58.6</td>\n",
       "      <td>454</td>\n",
       "      <td>65.9</td>\n",
       "      <td>1088</td>\n",
       "      <td>False</td>\n",
       "      <td>6.1</td>\n",
       "      <td>8.8</td>\n",
       "      <td>7.0</td>\n",
       "      <td>16.0</td>\n",
       "      <td>23.3</td>\n",
       "      <td>19.1</td>\n",
       "    </tr>\n",
       "    <tr>\n",
       "      <th>1</th>\n",
       "      <td>2020</td>\n",
       "      <td>3</td>\n",
       "      <td>Manhattan</td>\n",
       "      <td>44.7</td>\n",
       "      <td>43.5</td>\n",
       "      <td>6290.0</td>\n",
       "      <td>58.6</td>\n",
       "      <td>454</td>\n",
       "      <td>65.9</td>\n",
       "      <td>1088</td>\n",
       "      <td>False</td>\n",
       "      <td>6.1</td>\n",
       "      <td>8.8</td>\n",
       "      <td>7.0</td>\n",
       "      <td>17.0</td>\n",
       "      <td>23.7</td>\n",
       "      <td>20.0</td>\n",
       "    </tr>\n",
       "    <tr>\n",
       "      <th>2</th>\n",
       "      <td>2020</td>\n",
       "      <td>3</td>\n",
       "      <td>Manhattan</td>\n",
       "      <td>44.7</td>\n",
       "      <td>43.5</td>\n",
       "      <td>6290.0</td>\n",
       "      <td>58.6</td>\n",
       "      <td>454</td>\n",
       "      <td>65.9</td>\n",
       "      <td>1088</td>\n",
       "      <td>False</td>\n",
       "      <td>6.1</td>\n",
       "      <td>8.8</td>\n",
       "      <td>7.0</td>\n",
       "      <td>17.7</td>\n",
       "      <td>24.4</td>\n",
       "      <td>20.5</td>\n",
       "    </tr>\n",
       "    <tr>\n",
       "      <th>3</th>\n",
       "      <td>2020</td>\n",
       "      <td>3</td>\n",
       "      <td>Manhattan</td>\n",
       "      <td>44.7</td>\n",
       "      <td>43.5</td>\n",
       "      <td>6290.0</td>\n",
       "      <td>58.6</td>\n",
       "      <td>454</td>\n",
       "      <td>65.9</td>\n",
       "      <td>1088</td>\n",
       "      <td>False</td>\n",
       "      <td>6.1</td>\n",
       "      <td>8.8</td>\n",
       "      <td>7.0</td>\n",
       "      <td>17.7</td>\n",
       "      <td>26.6</td>\n",
       "      <td>21.7</td>\n",
       "    </tr>\n",
       "    <tr>\n",
       "      <th>4</th>\n",
       "      <td>2020</td>\n",
       "      <td>3</td>\n",
       "      <td>Manhattan</td>\n",
       "      <td>44.7</td>\n",
       "      <td>43.5</td>\n",
       "      <td>6290.0</td>\n",
       "      <td>58.6</td>\n",
       "      <td>454</td>\n",
       "      <td>65.9</td>\n",
       "      <td>1088</td>\n",
       "      <td>False</td>\n",
       "      <td>6.1</td>\n",
       "      <td>8.8</td>\n",
       "      <td>7.0</td>\n",
       "      <td>19.4</td>\n",
       "      <td>28.8</td>\n",
       "      <td>23.4</td>\n",
       "    </tr>\n",
       "  </tbody>\n",
       "</table>\n",
       "</div>"
      ],
      "text/plain": [
       "   Year_ad  GeoID Geography_ad  Age-adjusted rate per 10,000  \\\n",
       "0     2020      3    Manhattan                          44.7   \n",
       "1     2020      3    Manhattan                          44.7   \n",
       "2     2020      3    Manhattan                          44.7   \n",
       "3     2020      3    Manhattan                          44.7   \n",
       "4     2020      3    Manhattan                          44.7   \n",
       "\n",
       "   Estimated annual rate per 10,000_x  Number_x  \\\n",
       "0                                43.5    6290.0   \n",
       "1                                43.5    6290.0   \n",
       "2                                43.5    6290.0   \n",
       "3                                43.5    6290.0   \n",
       "4                                43.5    6290.0   \n",
       "\n",
       "   Estimated annual rate per 10,000_y  Number_y  \\\n",
       "0                                58.6       454   \n",
       "1                                58.6       454   \n",
       "2                                58.6       454   \n",
       "3                                58.6       454   \n",
       "4                                58.6       454   \n",
       "\n",
       "   Estimated annual rate per 10,000  Number  small_number_estimate  \\\n",
       "0                              65.9    1088                  False   \n",
       "1                              65.9    1088                  False   \n",
       "2                              65.9    1088                  False   \n",
       "3                              65.9    1088                  False   \n",
       "4                              65.9    1088                  False   \n",
       "\n",
       "   10th percentile mcg/m3  90th percentile mcg/m3  Mean mcg/m3  \\\n",
       "0                     6.1                     8.8          7.0   \n",
       "1                     6.1                     8.8          7.0   \n",
       "2                     6.1                     8.8          7.0   \n",
       "3                     6.1                     8.8          7.0   \n",
       "4                     6.1                     8.8          7.0   \n",
       "\n",
       "   10th percentile ppb  90th percentile ppb  Mean ppb  \n",
       "0                 16.0                 23.3      19.1  \n",
       "1                 17.0                 23.7      20.0  \n",
       "2                 17.7                 24.4      20.5  \n",
       "3                 17.7                 26.6      21.7  \n",
       "4                 19.4                 28.8      23.4  "
      ]
     },
     "execution_count": 505,
     "metadata": {},
     "output_type": "execute_result"
    }
   ],
   "source": [
    "merge4.head()"
   ]
  },
  {
   "cell_type": "code",
   "execution_count": 506,
   "id": "07497cf9",
   "metadata": {},
   "outputs": [],
   "source": [
    "# Rename some of column's name\n",
    "merge4= merge4.rename(columns={\"Year_ad\":\"Year\", \"Geography_ad\":\"Geography\",\"Age-adjusted rate per 10,000\":\"ad_per 10,000\",\n",
    "                              \"Estimated annual rate per 10,000_x\":\"annual_ad per 10,000 \",\"Number_x\":\"Number_ad\",\n",
    "                               \"Number_y\":\"Number_ag4\", \"Estimated annual rate per 10,000_y\":\"annual_ag4 per 10,000\",\"Estimated annual rate per 10,000\":\"annual5_17 per 10,000\",\n",
    "                              \"Number\":\"Number5_17\",\"Mean mcg/m3\":\"pm/Mean mcg/m3\",\"Mean ppb\":\"no2/Mean ppb\"})"
   ]
  },
  {
   "cell_type": "code",
   "execution_count": 507,
   "id": "c5a5ba42",
   "metadata": {},
   "outputs": [
    {
     "data": {
      "text/html": [
       "<div>\n",
       "<style scoped>\n",
       "    .dataframe tbody tr th:only-of-type {\n",
       "        vertical-align: middle;\n",
       "    }\n",
       "\n",
       "    .dataframe tbody tr th {\n",
       "        vertical-align: top;\n",
       "    }\n",
       "\n",
       "    .dataframe thead th {\n",
       "        text-align: right;\n",
       "    }\n",
       "</style>\n",
       "<table border=\"1\" class=\"dataframe\">\n",
       "  <thead>\n",
       "    <tr style=\"text-align: right;\">\n",
       "      <th></th>\n",
       "      <th>Year</th>\n",
       "      <th>GeoID</th>\n",
       "      <th>Geography</th>\n",
       "      <th>ad_per 10,000</th>\n",
       "      <th>annual_ad per 10,000</th>\n",
       "      <th>Number_ad</th>\n",
       "      <th>annual_ag4 per 10,000</th>\n",
       "      <th>Number_ag4</th>\n",
       "      <th>annual5_17 per 10,000</th>\n",
       "      <th>Number5_17</th>\n",
       "      <th>small_number_estimate</th>\n",
       "      <th>10th percentile mcg/m3</th>\n",
       "      <th>90th percentile mcg/m3</th>\n",
       "      <th>pm/Mean mcg/m3</th>\n",
       "      <th>10th percentile ppb</th>\n",
       "      <th>90th percentile ppb</th>\n",
       "      <th>no2/Mean ppb</th>\n",
       "    </tr>\n",
       "  </thead>\n",
       "  <tbody>\n",
       "    <tr>\n",
       "      <th>0</th>\n",
       "      <td>2020</td>\n",
       "      <td>3</td>\n",
       "      <td>Manhattan</td>\n",
       "      <td>44.7</td>\n",
       "      <td>43.5</td>\n",
       "      <td>6290.0</td>\n",
       "      <td>58.6</td>\n",
       "      <td>454</td>\n",
       "      <td>65.9</td>\n",
       "      <td>1088</td>\n",
       "      <td>False</td>\n",
       "      <td>6.1</td>\n",
       "      <td>8.8</td>\n",
       "      <td>7.0</td>\n",
       "      <td>16.0</td>\n",
       "      <td>23.3</td>\n",
       "      <td>19.1</td>\n",
       "    </tr>\n",
       "    <tr>\n",
       "      <th>1</th>\n",
       "      <td>2020</td>\n",
       "      <td>3</td>\n",
       "      <td>Manhattan</td>\n",
       "      <td>44.7</td>\n",
       "      <td>43.5</td>\n",
       "      <td>6290.0</td>\n",
       "      <td>58.6</td>\n",
       "      <td>454</td>\n",
       "      <td>65.9</td>\n",
       "      <td>1088</td>\n",
       "      <td>False</td>\n",
       "      <td>6.1</td>\n",
       "      <td>8.8</td>\n",
       "      <td>7.0</td>\n",
       "      <td>17.0</td>\n",
       "      <td>23.7</td>\n",
       "      <td>20.0</td>\n",
       "    </tr>\n",
       "    <tr>\n",
       "      <th>2</th>\n",
       "      <td>2020</td>\n",
       "      <td>3</td>\n",
       "      <td>Manhattan</td>\n",
       "      <td>44.7</td>\n",
       "      <td>43.5</td>\n",
       "      <td>6290.0</td>\n",
       "      <td>58.6</td>\n",
       "      <td>454</td>\n",
       "      <td>65.9</td>\n",
       "      <td>1088</td>\n",
       "      <td>False</td>\n",
       "      <td>6.1</td>\n",
       "      <td>8.8</td>\n",
       "      <td>7.0</td>\n",
       "      <td>17.7</td>\n",
       "      <td>24.4</td>\n",
       "      <td>20.5</td>\n",
       "    </tr>\n",
       "    <tr>\n",
       "      <th>3</th>\n",
       "      <td>2020</td>\n",
       "      <td>3</td>\n",
       "      <td>Manhattan</td>\n",
       "      <td>44.7</td>\n",
       "      <td>43.5</td>\n",
       "      <td>6290.0</td>\n",
       "      <td>58.6</td>\n",
       "      <td>454</td>\n",
       "      <td>65.9</td>\n",
       "      <td>1088</td>\n",
       "      <td>False</td>\n",
       "      <td>6.1</td>\n",
       "      <td>8.8</td>\n",
       "      <td>7.0</td>\n",
       "      <td>17.7</td>\n",
       "      <td>26.6</td>\n",
       "      <td>21.7</td>\n",
       "    </tr>\n",
       "    <tr>\n",
       "      <th>4</th>\n",
       "      <td>2020</td>\n",
       "      <td>3</td>\n",
       "      <td>Manhattan</td>\n",
       "      <td>44.7</td>\n",
       "      <td>43.5</td>\n",
       "      <td>6290.0</td>\n",
       "      <td>58.6</td>\n",
       "      <td>454</td>\n",
       "      <td>65.9</td>\n",
       "      <td>1088</td>\n",
       "      <td>False</td>\n",
       "      <td>6.1</td>\n",
       "      <td>8.8</td>\n",
       "      <td>7.0</td>\n",
       "      <td>19.4</td>\n",
       "      <td>28.8</td>\n",
       "      <td>23.4</td>\n",
       "    </tr>\n",
       "  </tbody>\n",
       "</table>\n",
       "</div>"
      ],
      "text/plain": [
       "   Year  GeoID  Geography  ad_per 10,000  annual_ad per 10,000   Number_ad  \\\n",
       "0  2020      3  Manhattan           44.7                   43.5     6290.0   \n",
       "1  2020      3  Manhattan           44.7                   43.5     6290.0   \n",
       "2  2020      3  Manhattan           44.7                   43.5     6290.0   \n",
       "3  2020      3  Manhattan           44.7                   43.5     6290.0   \n",
       "4  2020      3  Manhattan           44.7                   43.5     6290.0   \n",
       "\n",
       "   annual_ag4 per 10,000  Number_ag4  annual5_17 per 10,000  Number5_17  \\\n",
       "0                   58.6         454                   65.9        1088   \n",
       "1                   58.6         454                   65.9        1088   \n",
       "2                   58.6         454                   65.9        1088   \n",
       "3                   58.6         454                   65.9        1088   \n",
       "4                   58.6         454                   65.9        1088   \n",
       "\n",
       "   small_number_estimate  10th percentile mcg/m3  90th percentile mcg/m3  \\\n",
       "0                  False                     6.1                     8.8   \n",
       "1                  False                     6.1                     8.8   \n",
       "2                  False                     6.1                     8.8   \n",
       "3                  False                     6.1                     8.8   \n",
       "4                  False                     6.1                     8.8   \n",
       "\n",
       "   pm/Mean mcg/m3  10th percentile ppb  90th percentile ppb  no2/Mean ppb  \n",
       "0             7.0                 16.0                 23.3          19.1  \n",
       "1             7.0                 17.0                 23.7          20.0  \n",
       "2             7.0                 17.7                 24.4          20.5  \n",
       "3             7.0                 17.7                 26.6          21.7  \n",
       "4             7.0                 19.4                 28.8          23.4  "
      ]
     },
     "execution_count": 507,
     "metadata": {},
     "output_type": "execute_result"
    }
   ],
   "source": [
    "merge4.head()"
   ]
  },
  {
   "cell_type": "code",
   "execution_count": 508,
   "id": "8b102a4d",
   "metadata": {},
   "outputs": [
    {
     "data": {
      "text/plain": [
       "(2037616, 17)"
      ]
     },
     "execution_count": 508,
     "metadata": {},
     "output_type": "execute_result"
    }
   ],
   "source": [
    "merge4.shape"
   ]
  },
  {
   "cell_type": "code",
   "execution_count": 509,
   "id": "de7911b6",
   "metadata": {},
   "outputs": [
    {
     "name": "stdout",
     "output_type": "stream",
     "text": [
      "<class 'pandas.core.frame.DataFrame'>\n",
      "Int64Index: 2037616 entries, 0 to 2037615\n",
      "Data columns (total 17 columns):\n",
      " #   Column                  Dtype  \n",
      "---  ------                  -----  \n",
      " 0   Year                    int64  \n",
      " 1   GeoID                   int64  \n",
      " 2   Geography               object \n",
      " 3   ad_per 10,000           float64\n",
      " 4   annual_ad per 10,000    float64\n",
      " 5   Number_ad               float64\n",
      " 6   annual_ag4 per 10,000   float64\n",
      " 7   Number_ag4              int64  \n",
      " 8   annual5_17 per 10,000   float64\n",
      " 9   Number5_17              int64  \n",
      " 10  small_number_estimate   bool   \n",
      " 11  10th percentile mcg/m3  float64\n",
      " 12  90th percentile mcg/m3  float64\n",
      " 13  pm/Mean mcg/m3          float64\n",
      " 14  10th percentile ppb     float64\n",
      " 15  90th percentile ppb     float64\n",
      " 16  no2/Mean ppb            float64\n",
      "dtypes: bool(1), float64(11), int64(4), object(1)\n",
      "memory usage: 266.2+ MB\n"
     ]
    }
   ],
   "source": [
    "# Using .ifo() to check Dtype of our data\n",
    "merge4.info()"
   ]
  },
  {
   "cell_type": "markdown",
   "id": "725af84b",
   "metadata": {},
   "source": [
    "Based on the .info() columns 'annual_ag4 per 10,000' and ' Number_ag4' changed their datatype into object again. So we need to chnage to numeric again."
   ]
  },
  {
   "cell_type": "code",
   "execution_count": 510,
   "id": "0652802d",
   "metadata": {},
   "outputs": [],
   "source": [
    "merge4['annual_ag4 per 10,000']=pd.to_numeric(merge4['annual_ag4 per 10,000'],errors='coerce')"
   ]
  },
  {
   "cell_type": "code",
   "execution_count": 511,
   "id": "03ca5f5a",
   "metadata": {},
   "outputs": [],
   "source": [
    "merge4['Number_ag4']=pd.to_numeric(merge4['Number_ag4'],errors='coerce')"
   ]
  },
  {
   "cell_type": "code",
   "execution_count": 512,
   "id": "16956b49",
   "metadata": {},
   "outputs": [
    {
     "name": "stdout",
     "output_type": "stream",
     "text": [
      "<class 'pandas.core.frame.DataFrame'>\n",
      "Int64Index: 2037616 entries, 0 to 2037615\n",
      "Data columns (total 17 columns):\n",
      " #   Column                  Dtype  \n",
      "---  ------                  -----  \n",
      " 0   Year                    int64  \n",
      " 1   GeoID                   int64  \n",
      " 2   Geography               object \n",
      " 3   ad_per 10,000           float64\n",
      " 4   annual_ad per 10,000    float64\n",
      " 5   Number_ad               float64\n",
      " 6   annual_ag4 per 10,000   float64\n",
      " 7   Number_ag4              int64  \n",
      " 8   annual5_17 per 10,000   float64\n",
      " 9   Number5_17              int64  \n",
      " 10  small_number_estimate   bool   \n",
      " 11  10th percentile mcg/m3  float64\n",
      " 12  90th percentile mcg/m3  float64\n",
      " 13  pm/Mean mcg/m3          float64\n",
      " 14  10th percentile ppb     float64\n",
      " 15  90th percentile ppb     float64\n",
      " 16  no2/Mean ppb            float64\n",
      "dtypes: bool(1), float64(11), int64(4), object(1)\n",
      "memory usage: 266.2+ MB\n"
     ]
    }
   ],
   "source": [
    "merge4.info()"
   ]
  },
  {
   "cell_type": "code",
   "execution_count": 514,
   "id": "29e3559b",
   "metadata": {},
   "outputs": [
    {
     "data": {
      "text/plain": [
       "Year                      0\n",
       "GeoID                     0\n",
       "Geography                 0\n",
       "ad_per 10,000             0\n",
       "annual_ad per 10,000      0\n",
       "Number_ad                 0\n",
       "annual_ag4 per 10,000     0\n",
       "Number_ag4                0\n",
       "annual5_17 per 10,000     0\n",
       "Number5_17                0\n",
       "small_number_estimate     0\n",
       "10th percentile mcg/m3    0\n",
       "90th percentile mcg/m3    0\n",
       "pm/Mean mcg/m3            0\n",
       "10th percentile ppb       0\n",
       "90th percentile ppb       0\n",
       "no2/Mean ppb              0\n",
       "dtype: int64"
      ]
     },
     "execution_count": 514,
     "metadata": {},
     "output_type": "execute_result"
    }
   ],
   "source": [
    "# calculates the sum of NA (missing) values.\n",
    "merge4.isna().sum()"
   ]
  },
  {
   "cell_type": "markdown",
   "id": "0377da86",
   "metadata": {},
   "source": [
    "There is no any NaN values in the dataframe."
   ]
  },
  {
   "cell_type": "code",
   "execution_count": 515,
   "id": "130eb881",
   "metadata": {},
   "outputs": [
    {
     "data": {
      "text/plain": [
       "57344"
      ]
     },
     "execution_count": 515,
     "metadata": {},
     "output_type": "execute_result"
    }
   ],
   "source": [
    "# calculates the sum of duplicate values\n",
    "merge4.duplicated().sum()"
   ]
  },
  {
   "cell_type": "markdown",
   "id": "895becff",
   "metadata": {},
   "source": [
    "There are 57344 duplicate data in merged dataset."
   ]
  },
  {
   "cell_type": "markdown",
   "id": "ee72b439",
   "metadata": {},
   "source": [
    "**5.Numerical Features**"
   ]
  },
  {
   "cell_type": "code",
   "execution_count": 516,
   "id": "0cfd2317",
   "metadata": {},
   "outputs": [
    {
     "data": {
      "text/html": [
       "<div>\n",
       "<style scoped>\n",
       "    .dataframe tbody tr th:only-of-type {\n",
       "        vertical-align: middle;\n",
       "    }\n",
       "\n",
       "    .dataframe tbody tr th {\n",
       "        vertical-align: top;\n",
       "    }\n",
       "\n",
       "    .dataframe thead th {\n",
       "        text-align: right;\n",
       "    }\n",
       "</style>\n",
       "<table border=\"1\" class=\"dataframe\">\n",
       "  <thead>\n",
       "    <tr style=\"text-align: right;\">\n",
       "      <th></th>\n",
       "      <th>Year</th>\n",
       "      <th>GeoID</th>\n",
       "      <th>ad_per 10,000</th>\n",
       "      <th>annual_ad per 10,000</th>\n",
       "      <th>Number_ad</th>\n",
       "      <th>annual_ag4 per 10,000</th>\n",
       "      <th>Number_ag4</th>\n",
       "      <th>annual5_17 per 10,000</th>\n",
       "      <th>Number5_17</th>\n",
       "      <th>10th percentile mcg/m3</th>\n",
       "      <th>90th percentile mcg/m3</th>\n",
       "      <th>pm/Mean mcg/m3</th>\n",
       "      <th>10th percentile ppb</th>\n",
       "      <th>90th percentile ppb</th>\n",
       "      <th>no2/Mean ppb</th>\n",
       "    </tr>\n",
       "  </thead>\n",
       "  <tbody>\n",
       "    <tr>\n",
       "      <th>0</th>\n",
       "      <td>2020</td>\n",
       "      <td>3</td>\n",
       "      <td>44.7</td>\n",
       "      <td>43.5</td>\n",
       "      <td>6290.0</td>\n",
       "      <td>58.6</td>\n",
       "      <td>454</td>\n",
       "      <td>65.9</td>\n",
       "      <td>1088</td>\n",
       "      <td>6.1</td>\n",
       "      <td>8.8</td>\n",
       "      <td>7.0</td>\n",
       "      <td>16.0</td>\n",
       "      <td>23.3</td>\n",
       "      <td>19.1</td>\n",
       "    </tr>\n",
       "    <tr>\n",
       "      <th>1</th>\n",
       "      <td>2020</td>\n",
       "      <td>3</td>\n",
       "      <td>44.7</td>\n",
       "      <td>43.5</td>\n",
       "      <td>6290.0</td>\n",
       "      <td>58.6</td>\n",
       "      <td>454</td>\n",
       "      <td>65.9</td>\n",
       "      <td>1088</td>\n",
       "      <td>6.1</td>\n",
       "      <td>8.8</td>\n",
       "      <td>7.0</td>\n",
       "      <td>17.0</td>\n",
       "      <td>23.7</td>\n",
       "      <td>20.0</td>\n",
       "    </tr>\n",
       "    <tr>\n",
       "      <th>2</th>\n",
       "      <td>2020</td>\n",
       "      <td>3</td>\n",
       "      <td>44.7</td>\n",
       "      <td>43.5</td>\n",
       "      <td>6290.0</td>\n",
       "      <td>58.6</td>\n",
       "      <td>454</td>\n",
       "      <td>65.9</td>\n",
       "      <td>1088</td>\n",
       "      <td>6.1</td>\n",
       "      <td>8.8</td>\n",
       "      <td>7.0</td>\n",
       "      <td>17.7</td>\n",
       "      <td>24.4</td>\n",
       "      <td>20.5</td>\n",
       "    </tr>\n",
       "    <tr>\n",
       "      <th>3</th>\n",
       "      <td>2020</td>\n",
       "      <td>3</td>\n",
       "      <td>44.7</td>\n",
       "      <td>43.5</td>\n",
       "      <td>6290.0</td>\n",
       "      <td>58.6</td>\n",
       "      <td>454</td>\n",
       "      <td>65.9</td>\n",
       "      <td>1088</td>\n",
       "      <td>6.1</td>\n",
       "      <td>8.8</td>\n",
       "      <td>7.0</td>\n",
       "      <td>17.7</td>\n",
       "      <td>26.6</td>\n",
       "      <td>21.7</td>\n",
       "    </tr>\n",
       "    <tr>\n",
       "      <th>4</th>\n",
       "      <td>2020</td>\n",
       "      <td>3</td>\n",
       "      <td>44.7</td>\n",
       "      <td>43.5</td>\n",
       "      <td>6290.0</td>\n",
       "      <td>58.6</td>\n",
       "      <td>454</td>\n",
       "      <td>65.9</td>\n",
       "      <td>1088</td>\n",
       "      <td>6.1</td>\n",
       "      <td>8.8</td>\n",
       "      <td>7.0</td>\n",
       "      <td>19.4</td>\n",
       "      <td>28.8</td>\n",
       "      <td>23.4</td>\n",
       "    </tr>\n",
       "    <tr>\n",
       "      <th>...</th>\n",
       "      <td>...</td>\n",
       "      <td>...</td>\n",
       "      <td>...</td>\n",
       "      <td>...</td>\n",
       "      <td>...</td>\n",
       "      <td>...</td>\n",
       "      <td>...</td>\n",
       "      <td>...</td>\n",
       "      <td>...</td>\n",
       "      <td>...</td>\n",
       "      <td>...</td>\n",
       "      <td>...</td>\n",
       "      <td>...</td>\n",
       "      <td>...</td>\n",
       "      <td>...</td>\n",
       "    </tr>\n",
       "    <tr>\n",
       "      <th>2037611</th>\n",
       "      <td>2005</td>\n",
       "      <td>1</td>\n",
       "      <td>99.5</td>\n",
       "      <td>100.3</td>\n",
       "      <td>62425.0</td>\n",
       "      <td>377.2</td>\n",
       "      <td>19927</td>\n",
       "      <td>199.2</td>\n",
       "      <td>25834</td>\n",
       "      <td>9.3</td>\n",
       "      <td>11.9</td>\n",
       "      <td>10.4</td>\n",
       "      <td>12.6</td>\n",
       "      <td>23.6</td>\n",
       "      <td>18.8</td>\n",
       "    </tr>\n",
       "    <tr>\n",
       "      <th>2037612</th>\n",
       "      <td>2005</td>\n",
       "      <td>1</td>\n",
       "      <td>99.5</td>\n",
       "      <td>100.3</td>\n",
       "      <td>62425.0</td>\n",
       "      <td>377.2</td>\n",
       "      <td>19927</td>\n",
       "      <td>199.2</td>\n",
       "      <td>25834</td>\n",
       "      <td>9.3</td>\n",
       "      <td>11.9</td>\n",
       "      <td>10.4</td>\n",
       "      <td>13.3</td>\n",
       "      <td>24.3</td>\n",
       "      <td>19.6</td>\n",
       "    </tr>\n",
       "    <tr>\n",
       "      <th>2037613</th>\n",
       "      <td>2005</td>\n",
       "      <td>1</td>\n",
       "      <td>99.5</td>\n",
       "      <td>100.3</td>\n",
       "      <td>62425.0</td>\n",
       "      <td>377.2</td>\n",
       "      <td>19927</td>\n",
       "      <td>199.2</td>\n",
       "      <td>25834</td>\n",
       "      <td>9.3</td>\n",
       "      <td>11.9</td>\n",
       "      <td>10.4</td>\n",
       "      <td>14.7</td>\n",
       "      <td>26.7</td>\n",
       "      <td>21.6</td>\n",
       "    </tr>\n",
       "    <tr>\n",
       "      <th>2037614</th>\n",
       "      <td>2005</td>\n",
       "      <td>1</td>\n",
       "      <td>99.5</td>\n",
       "      <td>100.3</td>\n",
       "      <td>62425.0</td>\n",
       "      <td>377.2</td>\n",
       "      <td>19927</td>\n",
       "      <td>199.2</td>\n",
       "      <td>25834</td>\n",
       "      <td>9.3</td>\n",
       "      <td>11.9</td>\n",
       "      <td>10.4</td>\n",
       "      <td>14.1</td>\n",
       "      <td>26.3</td>\n",
       "      <td>21.1</td>\n",
       "    </tr>\n",
       "    <tr>\n",
       "      <th>2037615</th>\n",
       "      <td>2005</td>\n",
       "      <td>1</td>\n",
       "      <td>99.5</td>\n",
       "      <td>100.3</td>\n",
       "      <td>62425.0</td>\n",
       "      <td>377.2</td>\n",
       "      <td>19927</td>\n",
       "      <td>199.2</td>\n",
       "      <td>25834</td>\n",
       "      <td>9.3</td>\n",
       "      <td>11.9</td>\n",
       "      <td>10.4</td>\n",
       "      <td>15.4</td>\n",
       "      <td>28.6</td>\n",
       "      <td>22.7</td>\n",
       "    </tr>\n",
       "  </tbody>\n",
       "</table>\n",
       "<p>2037616 rows × 15 columns</p>\n",
       "</div>"
      ],
      "text/plain": [
       "         Year  GeoID  ad_per 10,000  annual_ad per 10,000   Number_ad  \\\n",
       "0        2020      3           44.7                   43.5     6290.0   \n",
       "1        2020      3           44.7                   43.5     6290.0   \n",
       "2        2020      3           44.7                   43.5     6290.0   \n",
       "3        2020      3           44.7                   43.5     6290.0   \n",
       "4        2020      3           44.7                   43.5     6290.0   \n",
       "...       ...    ...            ...                    ...        ...   \n",
       "2037611  2005      1           99.5                  100.3    62425.0   \n",
       "2037612  2005      1           99.5                  100.3    62425.0   \n",
       "2037613  2005      1           99.5                  100.3    62425.0   \n",
       "2037614  2005      1           99.5                  100.3    62425.0   \n",
       "2037615  2005      1           99.5                  100.3    62425.0   \n",
       "\n",
       "         annual_ag4 per 10,000  Number_ag4  annual5_17 per 10,000  Number5_17  \\\n",
       "0                         58.6         454                   65.9        1088   \n",
       "1                         58.6         454                   65.9        1088   \n",
       "2                         58.6         454                   65.9        1088   \n",
       "3                         58.6         454                   65.9        1088   \n",
       "4                         58.6         454                   65.9        1088   \n",
       "...                        ...         ...                    ...         ...   \n",
       "2037611                  377.2       19927                  199.2       25834   \n",
       "2037612                  377.2       19927                  199.2       25834   \n",
       "2037613                  377.2       19927                  199.2       25834   \n",
       "2037614                  377.2       19927                  199.2       25834   \n",
       "2037615                  377.2       19927                  199.2       25834   \n",
       "\n",
       "         10th percentile mcg/m3  90th percentile mcg/m3  pm/Mean mcg/m3  \\\n",
       "0                           6.1                     8.8             7.0   \n",
       "1                           6.1                     8.8             7.0   \n",
       "2                           6.1                     8.8             7.0   \n",
       "3                           6.1                     8.8             7.0   \n",
       "4                           6.1                     8.8             7.0   \n",
       "...                         ...                     ...             ...   \n",
       "2037611                     9.3                    11.9            10.4   \n",
       "2037612                     9.3                    11.9            10.4   \n",
       "2037613                     9.3                    11.9            10.4   \n",
       "2037614                     9.3                    11.9            10.4   \n",
       "2037615                     9.3                    11.9            10.4   \n",
       "\n",
       "         10th percentile ppb  90th percentile ppb  no2/Mean ppb  \n",
       "0                       16.0                 23.3          19.1  \n",
       "1                       17.0                 23.7          20.0  \n",
       "2                       17.7                 24.4          20.5  \n",
       "3                       17.7                 26.6          21.7  \n",
       "4                       19.4                 28.8          23.4  \n",
       "...                      ...                  ...           ...  \n",
       "2037611                 12.6                 23.6          18.8  \n",
       "2037612                 13.3                 24.3          19.6  \n",
       "2037613                 14.7                 26.7          21.6  \n",
       "2037614                 14.1                 26.3          21.1  \n",
       "2037615                 15.4                 28.6          22.7  \n",
       "\n",
       "[2037616 rows x 15 columns]"
      ]
     },
     "execution_count": 516,
     "metadata": {},
     "output_type": "execute_result"
    }
   ],
   "source": [
    "# Filter columns with number data to claculate some statistic such as: mean,max,min,...\n",
    "merge4.select_dtypes(include=[\"number\"])"
   ]
  },
  {
   "cell_type": "code",
   "execution_count": 519,
   "id": "8b81911c",
   "metadata": {},
   "outputs": [
    {
     "data": {
      "text/plain": [
       "count    2.037616e+06\n",
       "mean     2.913874e+04\n",
       "std      2.871973e+04\n",
       "min      1.287000e+03\n",
       "25%      2.801000e+03\n",
       "50%      1.429400e+04\n",
       "75%      6.242500e+04\n",
       "max      7.779200e+04\n",
       "Name: Number_ad, dtype: float64"
      ]
     },
     "execution_count": 519,
     "metadata": {},
     "output_type": "execute_result"
    }
   ],
   "source": [
    "#Creat descriptive statistics of number of asthma for adults \n",
    "merge4[\"Number_ad\"].describe()"
   ]
  },
  {
   "cell_type": "code",
   "execution_count": 520,
   "id": "ce22eaba",
   "metadata": {},
   "outputs": [
    {
     "data": {
      "text/plain": [
       "count    2.037616e+06\n",
       "mean     7.660372e+03\n",
       "std      8.247117e+03\n",
       "min      9.400000e+01\n",
       "25%      5.280000e+02\n",
       "50%      2.982000e+03\n",
       "75%      1.722800e+04\n",
       "max      2.149200e+04\n",
       "Name: Number_ag4, dtype: float64"
      ]
     },
     "execution_count": 520,
     "metadata": {},
     "output_type": "execute_result"
    }
   ],
   "source": [
    "#Creat descriptive statistics of number of asthma for children up to 4 years.\n",
    "merge4[\"Number_ag4\"].describe()"
   ]
  },
  {
   "cell_type": "code",
   "execution_count": 521,
   "id": "a3359fe3",
   "metadata": {},
   "outputs": [
    {
     "data": {
      "text/plain": [
       "count    2.037616e+06\n",
       "mean     1.128678e+04\n",
       "std      1.121299e+04\n",
       "min      2.180000e+02\n",
       "25%      8.630000e+02\n",
       "50%      4.594000e+03\n",
       "75%      2.510000e+04\n",
       "max      2.837000e+04\n",
       "Name: Number5_17, dtype: float64"
      ]
     },
     "execution_count": 521,
     "metadata": {},
     "output_type": "execute_result"
    }
   ],
   "source": [
    "#Creat descriptive statistics of number of asthma for children aged 5 to 17 years.\n",
    "merge4[\"Number5_17\"].describe()"
   ]
  },
  {
   "cell_type": "code",
   "execution_count": 522,
   "id": "0c307bf9",
   "metadata": {},
   "outputs": [
    {
     "data": {
      "text/plain": [
       "count    2.037616e+06\n",
       "mean     8.297373e+00\n",
       "std      1.793996e+00\n",
       "min      5.200000e+00\n",
       "25%      6.800000e+00\n",
       "50%      8.350000e+00\n",
       "75%      9.500000e+00\n",
       "max      1.260000e+01\n",
       "Name: pm/Mean mcg/m3, dtype: float64"
      ]
     },
     "execution_count": 522,
     "metadata": {},
     "output_type": "execute_result"
    }
   ],
   "source": [
    "#Creat descriptive statistics of PM2.5.\n",
    "merge4[\"pm/Mean mcg/m3\"].describe()"
   ]
  },
  {
   "cell_type": "code",
   "execution_count": 523,
   "id": "e9a429a4",
   "metadata": {},
   "outputs": [
    {
     "data": {
      "text/plain": [
       "count    2.037616e+06\n",
       "mean     1.906507e+01\n",
       "std      5.516172e+00\n",
       "min      1.120000e+01\n",
       "25%      1.470000e+01\n",
       "50%      1.810000e+01\n",
       "75%      2.170000e+01\n",
       "max      3.390000e+01\n",
       "Name: no2/Mean ppb, dtype: float64"
      ]
     },
     "execution_count": 523,
     "metadata": {},
     "output_type": "execute_result"
    }
   ],
   "source": [
    "#Creat descriptive statistics of no2.\n",
    "merge4[\"no2/Mean ppb\"].describe()"
   ]
  },
  {
   "cell_type": "markdown",
   "id": "cd46be86",
   "metadata": {},
   "source": [
    " **6.Categorical Features**"
   ]
  },
  {
   "cell_type": "code",
   "execution_count": 524,
   "id": "b71b3af5",
   "metadata": {},
   "outputs": [
    {
     "data": {
      "text/html": [
       "<div>\n",
       "<style scoped>\n",
       "    .dataframe tbody tr th:only-of-type {\n",
       "        vertical-align: middle;\n",
       "    }\n",
       "\n",
       "    .dataframe tbody tr th {\n",
       "        vertical-align: top;\n",
       "    }\n",
       "\n",
       "    .dataframe thead th {\n",
       "        text-align: right;\n",
       "    }\n",
       "</style>\n",
       "<table border=\"1\" class=\"dataframe\">\n",
       "  <thead>\n",
       "    <tr style=\"text-align: right;\">\n",
       "      <th></th>\n",
       "      <th>Geography</th>\n",
       "    </tr>\n",
       "  </thead>\n",
       "  <tbody>\n",
       "    <tr>\n",
       "      <th>0</th>\n",
       "      <td>Manhattan</td>\n",
       "    </tr>\n",
       "    <tr>\n",
       "      <th>1</th>\n",
       "      <td>Manhattan</td>\n",
       "    </tr>\n",
       "    <tr>\n",
       "      <th>2</th>\n",
       "      <td>Manhattan</td>\n",
       "    </tr>\n",
       "    <tr>\n",
       "      <th>3</th>\n",
       "      <td>Manhattan</td>\n",
       "    </tr>\n",
       "    <tr>\n",
       "      <th>4</th>\n",
       "      <td>Manhattan</td>\n",
       "    </tr>\n",
       "    <tr>\n",
       "      <th>...</th>\n",
       "      <td>...</td>\n",
       "    </tr>\n",
       "    <tr>\n",
       "      <th>2037611</th>\n",
       "      <td>New York City</td>\n",
       "    </tr>\n",
       "    <tr>\n",
       "      <th>2037612</th>\n",
       "      <td>New York City</td>\n",
       "    </tr>\n",
       "    <tr>\n",
       "      <th>2037613</th>\n",
       "      <td>New York City</td>\n",
       "    </tr>\n",
       "    <tr>\n",
       "      <th>2037614</th>\n",
       "      <td>New York City</td>\n",
       "    </tr>\n",
       "    <tr>\n",
       "      <th>2037615</th>\n",
       "      <td>New York City</td>\n",
       "    </tr>\n",
       "  </tbody>\n",
       "</table>\n",
       "<p>2037616 rows × 1 columns</p>\n",
       "</div>"
      ],
      "text/plain": [
       "             Geography\n",
       "0            Manhattan\n",
       "1            Manhattan\n",
       "2            Manhattan\n",
       "3            Manhattan\n",
       "4            Manhattan\n",
       "...                ...\n",
       "2037611  New York City\n",
       "2037612  New York City\n",
       "2037613  New York City\n",
       "2037614  New York City\n",
       "2037615  New York City\n",
       "\n",
       "[2037616 rows x 1 columns]"
      ]
     },
     "execution_count": 524,
     "metadata": {},
     "output_type": "execute_result"
    }
   ],
   "source": [
    "merge4.select_dtypes(include=['object'])\n"
   ]
  },
  {
   "cell_type": "code",
   "execution_count": 525,
   "id": "0cd2cfeb",
   "metadata": {},
   "outputs": [
    {
     "data": {
      "text/plain": [
       "(2037616, 17)"
      ]
     },
     "execution_count": 525,
     "metadata": {},
     "output_type": "execute_result"
    }
   ],
   "source": [
    "merge4.shape"
   ]
  },
  {
   "cell_type": "code",
   "execution_count": 526,
   "id": "cf9d95f3",
   "metadata": {},
   "outputs": [
    {
     "data": {
      "text/html": [
       "<div>\n",
       "<style scoped>\n",
       "    .dataframe tbody tr th:only-of-type {\n",
       "        vertical-align: middle;\n",
       "    }\n",
       "\n",
       "    .dataframe tbody tr th {\n",
       "        vertical-align: top;\n",
       "    }\n",
       "\n",
       "    .dataframe thead th {\n",
       "        text-align: right;\n",
       "    }\n",
       "</style>\n",
       "<table border=\"1\" class=\"dataframe\">\n",
       "  <thead>\n",
       "    <tr style=\"text-align: right;\">\n",
       "      <th></th>\n",
       "      <th>Year</th>\n",
       "      <th>GeoID</th>\n",
       "      <th>Geography</th>\n",
       "      <th>ad_per 10,000</th>\n",
       "      <th>annual_ad per 10,000</th>\n",
       "      <th>Number_ad</th>\n",
       "      <th>annual_ag4 per 10,000</th>\n",
       "      <th>Number_ag4</th>\n",
       "      <th>annual5_17 per 10,000</th>\n",
       "      <th>Number5_17</th>\n",
       "      <th>small_number_estimate</th>\n",
       "      <th>10th percentile mcg/m3</th>\n",
       "      <th>90th percentile mcg/m3</th>\n",
       "      <th>pm/Mean mcg/m3</th>\n",
       "      <th>10th percentile ppb</th>\n",
       "      <th>90th percentile ppb</th>\n",
       "      <th>no2/Mean ppb</th>\n",
       "    </tr>\n",
       "  </thead>\n",
       "  <tbody>\n",
       "    <tr>\n",
       "      <th>0</th>\n",
       "      <td>2020</td>\n",
       "      <td>3</td>\n",
       "      <td>Manhattan</td>\n",
       "      <td>44.7</td>\n",
       "      <td>43.5</td>\n",
       "      <td>6290.0</td>\n",
       "      <td>58.6</td>\n",
       "      <td>454</td>\n",
       "      <td>65.9</td>\n",
       "      <td>1088</td>\n",
       "      <td>False</td>\n",
       "      <td>6.1</td>\n",
       "      <td>8.8</td>\n",
       "      <td>7.0</td>\n",
       "      <td>16.0</td>\n",
       "      <td>23.3</td>\n",
       "      <td>19.1</td>\n",
       "    </tr>\n",
       "    <tr>\n",
       "      <th>1</th>\n",
       "      <td>2020</td>\n",
       "      <td>3</td>\n",
       "      <td>Manhattan</td>\n",
       "      <td>44.7</td>\n",
       "      <td>43.5</td>\n",
       "      <td>6290.0</td>\n",
       "      <td>58.6</td>\n",
       "      <td>454</td>\n",
       "      <td>65.9</td>\n",
       "      <td>1088</td>\n",
       "      <td>False</td>\n",
       "      <td>6.1</td>\n",
       "      <td>8.8</td>\n",
       "      <td>7.0</td>\n",
       "      <td>17.0</td>\n",
       "      <td>23.7</td>\n",
       "      <td>20.0</td>\n",
       "    </tr>\n",
       "    <tr>\n",
       "      <th>2</th>\n",
       "      <td>2020</td>\n",
       "      <td>3</td>\n",
       "      <td>Manhattan</td>\n",
       "      <td>44.7</td>\n",
       "      <td>43.5</td>\n",
       "      <td>6290.0</td>\n",
       "      <td>58.6</td>\n",
       "      <td>454</td>\n",
       "      <td>65.9</td>\n",
       "      <td>1088</td>\n",
       "      <td>False</td>\n",
       "      <td>6.1</td>\n",
       "      <td>8.8</td>\n",
       "      <td>7.0</td>\n",
       "      <td>17.7</td>\n",
       "      <td>24.4</td>\n",
       "      <td>20.5</td>\n",
       "    </tr>\n",
       "    <tr>\n",
       "      <th>3</th>\n",
       "      <td>2020</td>\n",
       "      <td>3</td>\n",
       "      <td>Manhattan</td>\n",
       "      <td>44.7</td>\n",
       "      <td>43.5</td>\n",
       "      <td>6290.0</td>\n",
       "      <td>58.6</td>\n",
       "      <td>454</td>\n",
       "      <td>65.9</td>\n",
       "      <td>1088</td>\n",
       "      <td>False</td>\n",
       "      <td>6.1</td>\n",
       "      <td>8.8</td>\n",
       "      <td>7.0</td>\n",
       "      <td>17.7</td>\n",
       "      <td>26.6</td>\n",
       "      <td>21.7</td>\n",
       "    </tr>\n",
       "    <tr>\n",
       "      <th>4</th>\n",
       "      <td>2020</td>\n",
       "      <td>3</td>\n",
       "      <td>Manhattan</td>\n",
       "      <td>44.7</td>\n",
       "      <td>43.5</td>\n",
       "      <td>6290.0</td>\n",
       "      <td>58.6</td>\n",
       "      <td>454</td>\n",
       "      <td>65.9</td>\n",
       "      <td>1088</td>\n",
       "      <td>False</td>\n",
       "      <td>6.1</td>\n",
       "      <td>8.8</td>\n",
       "      <td>7.0</td>\n",
       "      <td>19.4</td>\n",
       "      <td>28.8</td>\n",
       "      <td>23.4</td>\n",
       "    </tr>\n",
       "  </tbody>\n",
       "</table>\n",
       "</div>"
      ],
      "text/plain": [
       "   Year  GeoID  Geography  ad_per 10,000  annual_ad per 10,000   Number_ad  \\\n",
       "0  2020      3  Manhattan           44.7                   43.5     6290.0   \n",
       "1  2020      3  Manhattan           44.7                   43.5     6290.0   \n",
       "2  2020      3  Manhattan           44.7                   43.5     6290.0   \n",
       "3  2020      3  Manhattan           44.7                   43.5     6290.0   \n",
       "4  2020      3  Manhattan           44.7                   43.5     6290.0   \n",
       "\n",
       "   annual_ag4 per 10,000  Number_ag4  annual5_17 per 10,000  Number5_17  \\\n",
       "0                   58.6         454                   65.9        1088   \n",
       "1                   58.6         454                   65.9        1088   \n",
       "2                   58.6         454                   65.9        1088   \n",
       "3                   58.6         454                   65.9        1088   \n",
       "4                   58.6         454                   65.9        1088   \n",
       "\n",
       "   small_number_estimate  10th percentile mcg/m3  90th percentile mcg/m3  \\\n",
       "0                  False                     6.1                     8.8   \n",
       "1                  False                     6.1                     8.8   \n",
       "2                  False                     6.1                     8.8   \n",
       "3                  False                     6.1                     8.8   \n",
       "4                  False                     6.1                     8.8   \n",
       "\n",
       "   pm/Mean mcg/m3  10th percentile ppb  90th percentile ppb  no2/Mean ppb  \n",
       "0             7.0                 16.0                 23.3          19.1  \n",
       "1             7.0                 17.0                 23.7          20.0  \n",
       "2             7.0                 17.7                 24.4          20.5  \n",
       "3             7.0                 17.7                 26.6          21.7  \n",
       "4             7.0                 19.4                 28.8          23.4  "
      ]
     },
     "execution_count": 526,
     "metadata": {},
     "output_type": "execute_result"
    }
   ],
   "source": [
    "merge4.head()"
   ]
  },
  {
   "cell_type": "markdown",
   "id": "2f70f7bc",
   "metadata": {},
   "source": [
    "**7.Save data**"
   ]
  },
  {
   "cell_type": "code",
   "execution_count": 527,
   "id": "82379cf3",
   "metadata": {},
   "outputs": [],
   "source": [
    "# save the data to a new csv file\n",
    "# Path to the directory where you want to save the file\n",
    "data_path = '../data'\n",
    "# Create the directory if it does not exist\n",
    "os.makedirs(data_path, exist_ok=True)\n",
    "\n",
    "#save the dataframe to a CSV file in the new directory\n",
    "merge4.to_csv(os.path.join(data_path, 'merge4_cleaned.csv'), index=False)\n"
   ]
  },
  {
   "cell_type": "code",
   "execution_count": null,
   "id": "53c03173",
   "metadata": {},
   "outputs": [],
   "source": []
  }
 ],
 "metadata": {
  "kernelspec": {
   "display_name": "Python 3 (ipykernel)",
   "language": "python",
   "name": "python3"
  },
  "language_info": {
   "codemirror_mode": {
    "name": "ipython",
    "version": 3
   },
   "file_extension": ".py",
   "mimetype": "text/x-python",
   "name": "python",
   "nbconvert_exporter": "python",
   "pygments_lexer": "ipython3",
   "version": "3.11.3"
  }
 },
 "nbformat": 4,
 "nbformat_minor": 5
}
