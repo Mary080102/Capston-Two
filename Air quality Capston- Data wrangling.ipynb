{
 "cells": [
  {
   "cell_type": "code",
   "execution_count": 1,
   "id": "ed018367",
   "metadata": {},
   "outputs": [],
   "source": [
    "import pandas as pd\n"
   ]
  },
  {
   "cell_type": "code",
   "execution_count": 2,
   "id": "3a394c04",
   "metadata": {},
   "outputs": [],
   "source": [
    "df1= pd.read_csv(\"/Users/marzieh/Desktop/springboard.class/Projects/Capston Two/NYC EH Data Portal - Asthma emergency department visits (adults) (full table).csv\")\n",
    "df2= pd.read_csv(\"/Users/marzieh/Desktop/springboard.class/Projects/Capston Two/NYC EH Data Portal - Asthma emergency department visits (age 4 and under) (full table).csv\")\n",
    "df3=pd.read_csv(\"/Users/marzieh/Desktop/springboard.class/Projects/Capston Two/NYC EH Data Portal - Asthma emergency department visits (age 5 to 17) (full table).csv\")\n",
    "df4=pd.read_csv(\"/Users/marzieh/Desktop/springboard.class/Projects/Capston Two/NYC EH Data Portal - Fine particles (PM 2.5) (full table).csv\")\n",
    "df5=pd.read_csv(\"/Users/marzieh/Desktop/springboard.class/Projects/Capston Two/NYC EH Data Portal - Nitric oxide (NOx) (full table).csv\")\n",
    "df6=pd.read_csv(\"/Users/marzieh/Desktop/springboard.class/Projects/Capston Two/NYC EH Data Portal - Nitrogen dioxide (NO2) (full table).csv\")\n",
    "df7=pd.read_csv(\"/Users/marzieh/Desktop/springboard.class/Projects/Capston Two/NYC EH Data Portal - Ozone (O3) (full table).csv\")\n",
    "df8=pd.read_csv(\"/Users/marzieh/Desktop/springboard.class/Projects/Capston Two/NYC EH Data Portal - Sulfur dioxide (SO2) (full table).csv\")\n"
   ]
  },
  {
   "cell_type": "code",
   "execution_count": 3,
   "id": "c4339eed",
   "metadata": {},
   "outputs": [
    {
     "name": "stdout",
     "output_type": "stream",
     "text": [
      "{'GeoID', 'Geography', 'TimePeriod', 'GeoType', 'GeoRank'}\n"
     ]
    }
   ],
   "source": [
    "# finding common column to merge\n",
    "common_columns= set(df1.columns)& set(df2.columns)&set(df3.columns)&set(df4.columns)&set(df5.columns)&set(df6.columns)&set(df7.columns)&set(df8.columns)\n",
    "print(common_columns)"
   ]
  },
  {
   "cell_type": "code",
   "execution_count": 4,
   "id": "86131900",
   "metadata": {},
   "outputs": [
    {
     "name": "stdout",
     "output_type": "stream",
     "text": [
      "   TimePeriod GeoType  GeoID  GeoRank                            Geography  \\\n",
      "0        2020      CD    101        6             Financial District (CD1)   \n",
      "1        2020      CD    102        6     Greenwich Village and Soho (CD2)   \n",
      "2        2020      CD    103        6  Lower East Side and Chinatown (CD3)   \n",
      "3        2020      CD    104        6            Clinton and Chelsea (CD4)   \n",
      "4        2020      CD    105        6                        Midtown (CD5)   \n",
      "\n",
      "  Age-adjusted rate per 10,000 Estimated annual rate per 10,000 Number  \n",
      "0                         17.9                             14.6     80  \n",
      "1                          9.8                              9.7     81  \n",
      "2                         44.9                             43.9    661  \n",
      "3                         28.6                             26.6    364  \n",
      "4                         21.5                             20.0    116  \n"
     ]
    }
   ],
   "source": [
    "print(df1.head())"
   ]
  },
  {
   "cell_type": "code",
   "execution_count": 5,
   "id": "e1e7081d",
   "metadata": {},
   "outputs": [
    {
     "name": "stdout",
     "output_type": "stream",
     "text": [
      "   TimePeriod GeoType  GeoID  GeoRank                            Geography  \\\n",
      "0        2020      CD    101        6             Financial District (CD1)   \n",
      "1        2020      CD    102        6     Greenwich Village and Soho (CD2)   \n",
      "2        2020      CD    103        6  Lower East Side and Chinatown (CD3)   \n",
      "3        2020      CD    104        6            Clinton and Chelsea (CD4)   \n",
      "4        2020      CD    105        6                        Midtown (CD5)   \n",
      "\n",
      "  Estimated annual rate per 10,000 Number  \n",
      "0                            16.6*     7*  \n",
      "1                             3.2*     1*  \n",
      "2                             73.0     47  \n",
      "3                             23.6     11  \n",
      "4                            32.5*     7*  \n"
     ]
    }
   ],
   "source": [
    "print(df2.head())"
   ]
  },
  {
   "cell_type": "code",
   "execution_count": 6,
   "id": "046ecad4",
   "metadata": {},
   "outputs": [],
   "source": [
    "# creat a list of our dfs to use in loop\n",
    "\n",
    "dfs=[df1,df2,df3,df4,df5,df6,df7,df8]"
   ]
  },
  {
   "cell_type": "code",
   "execution_count": 7,
   "id": "b8305bd1",
   "metadata": {},
   "outputs": [],
   "source": [
    "# Initialize merged_df with the first DataFrame\n",
    "merged_df= dfs[0]"
   ]
  },
  {
   "cell_type": "code",
   "execution_count": null,
   "id": "2cadb7d5",
   "metadata": {},
   "outputs": [
    {
     "name": "stderr",
     "output_type": "stream",
     "text": [
      "/var/folders/4m/z4mg17k15k1955vh989t499c0000gn/T/ipykernel_15182/4175888946.py:4: FutureWarning: Passing 'suffixes' which cause duplicate columns {'TimePeriod_x', 'GeoID_x', 'GeoType_x', 'GeoRank_x'} in the result is deprecated and will raise a MergeError in a future version.\n",
      "  merged_df=pd.merge(merged_df,df, on= \"Geography\", how=\"outer\")\n"
     ]
    }
   ],
   "source": [
    "# Loop through the dataframes and merge them one by one\n",
    "\n",
    "for df in dfs[1:]:\n",
    "    merged_df=pd.merge(merged_df,df, on= \"Geography\", how=\"outer\")"
   ]
  },
  {
   "cell_type": "code",
   "execution_count": null,
   "id": "11787f25",
   "metadata": {},
   "outputs": [],
   "source": [
    "#Loop through the the DataFrames and compare common columns before merging\n",
    "\n",
    "for df in dfs[1:]:\n",
    "    # Select only the common columns for comparison\n",
    "    merged_common=merged_df[common_columns]\n",
    "    df_common=df[common_columns]\n",
    "    if not merged_common.equals(df_common):\n",
    "        raise ValueError(\"Common columns do not match between DataFrames.\")\n",
    "    else:\n",
    "         # If they match, perform the merge\n",
    "        merged_df = pd.merge(merged_df, df, on='Geography', how='outer')   "
   ]
  },
  {
   "cell_type": "code",
   "execution_count": null,
   "id": "71e0aaec",
   "metadata": {},
   "outputs": [],
   "source": [
    "# If no error is raised, all common columns match, and I can drop duplicated columns"
   ]
  },
  {
   "cell_type": "code",
   "execution_count": null,
   "id": "c38a0104",
   "metadata": {},
   "outputs": [],
   "source": [
    "print(merged_df.shape)"
   ]
  },
  {
   "cell_type": "code",
   "execution_count": 7,
   "id": "d1029cdc",
   "metadata": {},
   "outputs": [
    {
     "name": "stdout",
     "output_type": "stream",
     "text": [
      "       TimePeriod GeoType  GeoID  GeoRank  \\\n",
      "0  Winter 2015-16      CD    101        6   \n",
      "1  Winter 2015-16      CD    102        6   \n",
      "2  Winter 2015-16      CD    103        6   \n",
      "3  Winter 2015-16      CD    104        6   \n",
      "4  Winter 2015-16      CD    105        6   \n",
      "\n",
      "                             Geography  10th percentile ppb  \\\n",
      "0             Financial District (CD1)                  0.2   \n",
      "1     Greenwich Village and Soho (CD2)                  0.3   \n",
      "2  Lower East Side and Chinatown (CD3)                  0.2   \n",
      "3            Clinton and Chelsea (CD4)                  0.2   \n",
      "4                        Midtown (CD5)                  0.3   \n",
      "\n",
      "   90th percentile ppb  Mean ppb  \n",
      "0                  0.2       0.2  \n",
      "1                  0.5       0.4  \n",
      "2                  0.4       0.3  \n",
      "3                  0.4       0.3  \n",
      "4                  0.5       0.4  \n"
     ]
    }
   ],
   "source": [
    "print(df8.head())"
   ]
  },
  {
   "cell_type": "code",
   "execution_count": null,
   "id": "76fd18ea",
   "metadata": {},
   "outputs": [],
   "source": []
  }
 ],
 "metadata": {
  "kernelspec": {
   "display_name": "Python 3 (ipykernel)",
   "language": "python",
   "name": "python3"
  },
  "language_info": {
   "codemirror_mode": {
    "name": "ipython",
    "version": 3
   },
   "file_extension": ".py",
   "mimetype": "text/x-python",
   "name": "python",
   "nbconvert_exporter": "python",
   "pygments_lexer": "ipython3",
   "version": "3.11.3"
  }
 },
 "nbformat": 4,
 "nbformat_minor": 5
}
