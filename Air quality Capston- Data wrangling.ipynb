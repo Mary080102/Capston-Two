{
 "cells": [
  {
   "cell_type": "markdown",
   "id": "7f453379",
   "metadata": {},
   "source": [
    "**1.Data Collection**\n",
    "\n",
    "**1.1. Imports**"
   ]
  },
  {
   "cell_type": "code",
   "execution_count": 96,
   "id": "ed018367",
   "metadata": {},
   "outputs": [],
   "source": [
    "import pandas as pd\n",
    "import numpy as np\n"
   ]
  },
  {
   "cell_type": "markdown",
   "id": "4295115c",
   "metadata": {},
   "source": [
    "**1.2.Load Data**"
   ]
  },
  {
   "cell_type": "code",
   "execution_count": 70,
   "id": "3a394c04",
   "metadata": {},
   "outputs": [],
   "source": [
    "asthma_adults= pd.read_csv(\"https://raw.githubusercontent.com/Mary080102/Capston-Two/main/Raw%20data/NYC%20EH%20Data%20Portal%20-%20Asthma%20emergency%20department%20visits%20(adults)%20(full%20table).csv\")\n",
    "asthma_age_4= pd.read_csv(\"https://raw.githubusercontent.com/Mary080102/Capston-Two/main/Raw%20data/NYC%20EH%20Data%20Portal%20-%20Asthma%20emergency%20department%20visits%20(age%204%20and%20under)%20(full%20table).csv\")\n",
    "asthma_age5_17=pd.read_csv(\"https://raw.githubusercontent.com/Mary080102/Capston-Two/main/Raw%20data/NYC%20EH%20Data%20Portal%20-%20Asthma%20emergency%20department%20visits%20(age%205%20to%2017)%20(full%20table).csv\")\n",
    "pm2_5=pd.read_csv(\"https://raw.githubusercontent.com/Mary080102/Capston-Two/main/Raw%20data/NYC%20EH%20Data%20Portal%20-%20Fine%20particles%20(PM%202.5)%20(full%20table).csv\")\n",
    "no2=pd.read_csv(\"https://raw.githubusercontent.com/Mary080102/Capston-Two/main/Raw%20data/NYC%20EH%20Data%20Portal%20-%20Nitrogen%20dioxide%20(NO2)%20(full%20table).csv\")"
   ]
  },
  {
   "cell_type": "code",
   "execution_count": 147,
   "id": "a5bc66e7",
   "metadata": {},
   "outputs": [
    {
     "name": "stdout",
     "output_type": "stream",
     "text": [
      "1\n"
     ]
    }
   ],
   "source": [
    "print(asthma_adults[\"Age-adjusted rate per 10,000\"].str.contains('†').sum())"
   ]
  },
  {
   "cell_type": "code",
   "execution_count": 146,
   "id": "84c45683",
   "metadata": {},
   "outputs": [
    {
     "name": "stdout",
     "output_type": "stream",
     "text": [
      "727\n"
     ]
    }
   ],
   "source": [
    "print(asthma_adults[\"GeoID\"].duplicated().sum())\n"
   ]
  },
  {
   "cell_type": "markdown",
   "id": "fdaa6007",
   "metadata": {},
   "source": [
    "**1.3.Data Joining**"
   ]
  },
  {
   "cell_type": "code",
   "execution_count": 71,
   "id": "c4339eed",
   "metadata": {},
   "outputs": [
    {
     "name": "stdout",
     "output_type": "stream",
     "text": [
      "{'GeoID', 'Geography', 'TimePeriod', 'GeoRank', 'GeoType'}\n"
     ]
    }
   ],
   "source": [
    "# finding common column to merge\n",
    "common_columns= set(asthma_adults.columns)& set(asthma_age_4.columns)&set(asthma_age5_17.columns)&set(pm2_5.columns)&set(no2.columns)\n",
    "print(common_columns)"
   ]
  },
  {
   "cell_type": "code",
   "execution_count": 72,
   "id": "ac5f7b7c",
   "metadata": {},
   "outputs": [
    {
     "name": "stdout",
     "output_type": "stream",
     "text": [
      "            TimePeriod GeoType  GeoID  GeoRank  \\\n",
      "0  Annual Average 2022      CD    101        6   \n",
      "1  Annual Average 2022      CD    102        6   \n",
      "2  Annual Average 2022      CD    103        6   \n",
      "3  Annual Average 2022      CD    104        6   \n",
      "4  Annual Average 2022      CD    105        6   \n",
      "\n",
      "                             Geography  10th percentile ppb  \\\n",
      "0             Financial District (CD1)                 19.3   \n",
      "1     Greenwich Village and Soho (CD2)                 19.2   \n",
      "2  Lower East Side and Chinatown (CD3)                 15.8   \n",
      "3            Clinton and Chelsea (CD4)                 18.6   \n",
      "4                        Midtown (CD5)                 22.4   \n",
      "\n",
      "   90th percentile ppb  Mean ppb  \n",
      "0                 22.4      21.0  \n",
      "1                 21.1      20.2  \n",
      "2                 19.9      17.8  \n",
      "3                 24.4      21.4  \n",
      "4                 27.8      25.5  \n"
     ]
    }
   ],
   "source": [
    "print(no2.head())"
   ]
  },
  {
   "cell_type": "markdown",
   "id": "c12dce1c",
   "metadata": {},
   "source": [
    "**Because of large dataset that use too much memory, I need to reduce data size by dropping unnecessary columns and filter out unnecessary rows before merging or processing.**\n",
    "\n",
    "**1.3.1. Dropping Unnecessay Columns:**"
   ]
  },
  {
   "cell_type": "code",
   "execution_count": 73,
   "id": "52620a32",
   "metadata": {},
   "outputs": [],
   "source": [
    "# List the columns that want to drop\n",
    "columns_to_drop=[\"GeoType\",\"GeoRank\"]\n"
   ]
  },
  {
   "cell_type": "code",
   "execution_count": 74,
   "id": "d07f4758",
   "metadata": {},
   "outputs": [],
   "source": [
    "## Create a new DataFrame with only the necessary columns\n",
    "asthma_age_4_sub=asthma_age_4.drop(columns_to_drop,axis=1)"
   ]
  },
  {
   "cell_type": "code",
   "execution_count": 75,
   "id": "36b05a7a",
   "metadata": {},
   "outputs": [
    {
     "name": "stdout",
     "output_type": "stream",
     "text": [
      "Index(['TimePeriod', 'GeoID', 'Geography', 'Estimated annual rate per 10,000',\n",
      "       'Number'],\n",
      "      dtype='object')\n"
     ]
    }
   ],
   "source": [
    "print(asthma_age_4_sub.columns)"
   ]
  },
  {
   "cell_type": "code",
   "execution_count": 76,
   "id": "8ecc9d84",
   "metadata": {},
   "outputs": [],
   "source": [
    "asthma_age5_17_sub= asthma_age5_17.drop(columns_to_drop,axis=1)\n",
    "pm2_5_sub= pm2_5.drop(columns_to_drop,axis=1)\n",
    "no2_sub=no2.drop(columns_to_drop,axis=1)\n"
   ]
  },
  {
   "cell_type": "markdown",
   "id": "573f4451",
   "metadata": {},
   "source": [
    "**1.3.2. Dropping Unnecessay Rows:**\n",
    "\n",
    "I want to choose three neighborhoods in New York City to assess air quality that can provide an overview of the whole area requires considering diversity in geography, urban density, and potential sources of pollution. Based on the Geography column in csv files that includes all neighborhoods,I want to choose New yourk, Manhatan,Staten Island."
   ]
  },
  {
   "cell_type": "code",
   "execution_count": 77,
   "id": "7089a818",
   "metadata": {},
   "outputs": [],
   "source": [
    "# List of names I want to keep\n",
    "rows_to_keep=[\"New York City\",\"Manhattan\",\"Staten Island\"]\n"
   ]
  },
  {
   "cell_type": "code",
   "execution_count": 78,
   "id": "d19b7d43",
   "metadata": {},
   "outputs": [],
   "source": [
    "# Creat a new Dataframe with only rows for our study with the name,\"New York City\",\"Manhattan\",\"Staten Island\"\n",
    "asthma_adults_df=asthma_adults.loc[asthma_adults[\"Geography\"].isin(rows_to_keep)]"
   ]
  },
  {
   "cell_type": "code",
   "execution_count": 79,
   "id": "bbed4b43",
   "metadata": {},
   "outputs": [
    {
     "name": "stdout",
     "output_type": "stream",
     "text": [
      "     TimePeriod   GeoType  GeoID  GeoRank      Geography  \\\n",
      "103        2020   Borough      3        1      Manhattan   \n",
      "105        2020   Borough      5        1  Staten Island   \n",
      "106        2020  Citywide      1        0  New York City   \n",
      "210        2019   Borough      3        1      Manhattan   \n",
      "212        2019   Borough      5        1  Staten Island   \n",
      "\n",
      "    Age-adjusted rate per 10,000 Estimated annual rate per 10,000  Number  \n",
      "103                         44.7                             43.5   6,290  \n",
      "105                         35.1                             33.2   1,287  \n",
      "106                         48.4                             47.7  33,238  \n",
      "210                         73.5                             71.1  10,543  \n",
      "212                         55.4                             52.3   2,066  \n"
     ]
    }
   ],
   "source": [
    "print(asthma_adults_df.head())"
   ]
  },
  {
   "cell_type": "code",
   "execution_count": 80,
   "id": "2a33f29f",
   "metadata": {},
   "outputs": [],
   "source": [
    "asthma_age_4_df= asthma_age_4_sub.loc[asthma_age_4_sub[\"Geography\"].isin(rows_to_keep)]\n",
    "asthma_age5_17_df=asthma_age5_17_sub.loc[asthma_age5_17_sub[\"Geography\"].isin(rows_to_keep)]\n",
    "pm2_5_df= pm2_5_sub.loc[pm2_5_sub[\"Geography\"].isin(rows_to_keep)]\n",
    "no2_df= no2_sub.loc[no2_sub[\"Geography\"].isin(rows_to_keep)]"
   ]
  },
  {
   "cell_type": "code",
   "execution_count": 138,
   "id": "94a57bb1",
   "metadata": {},
   "outputs": [
    {
     "name": "stdout",
     "output_type": "stream",
     "text": [
      "['43.5' '33.2' '47.7' '71.1' '52.3' '77.1' '84.0' '60.2' '88.4' '92.5'\n",
      " '91.7' '55.5' '98.1' '†' '102.4' '71.3' '114.3' '97.7' '71.6' '113.7'\n",
      " '104.9' '84.3' '118.2' '101.7' '109.6' '97.0' '76.5' '107.4' '107.6'\n",
      " '79.5' '109.1' '108.5' '72.8' '109.0' '148.5' '63.1' '105.0' '144.6'\n",
      " '64.3' '103.5' '137.1' '100.3']\n"
     ]
    }
   ],
   "source": [
    "print(asthma_adults_df['Estimated annual rate per 10,000'].unique())"
   ]
  },
  {
   "cell_type": "code",
   "execution_count": 139,
   "id": "b775806e",
   "metadata": {},
   "outputs": [
    {
     "name": "stdout",
     "output_type": "stream",
     "text": [
      "1\n"
     ]
    }
   ],
   "source": [
    "print(asthma_adults_df['Estimated annual rate per 10,000'].str.contains('†').sum())"
   ]
  },
  {
   "cell_type": "markdown",
   "id": "1a9903d6",
   "metadata": {},
   "source": [
    "**1.3.3.Joining Data**"
   ]
  },
  {
   "cell_type": "code",
   "execution_count": 81,
   "id": "e61aa094",
   "metadata": {},
   "outputs": [],
   "source": [
    "# rename the common columns except 'GeoID' to merge dataframes\n",
    "asthma_adults_df= asthma_adults_df.rename(columns={'Geography':'Geography_as','TimePeriod':'TimePeriod_as'})\n",
    "\n",
    "asthma_age_4_df= asthma_age_4_df.rename(columns={'Geography':'Geography_age4','TimePeriod':'TimePeriod_age4'})\n",
    "\n",
    "asthma_age5_17_df=asthma_age5_17_df.rename(columns={'Geography':'Geography_age5-17','TimePeriod':'TimePeriod_age5-17'})\n",
    "\n",
    "pm2_5_df=pm2_5_df.rename(columns={'Geography':'Geography_pm_2_5','TimePeriod':'TimePeriod_pm_2_5'})\n",
    "\n",
    "no2_df=no2_df.rename(columns={'Geography':'Geography_no2','TimePeriod':'TimePeriod_no2'})\n"
   ]
  },
  {
   "cell_type": "code",
   "execution_count": 82,
   "id": "71e0aaec",
   "metadata": {},
   "outputs": [],
   "source": [
    "# merge filtered DataFrames\n",
    "merge1= pd.merge(asthma_adults_df,asthma_age_4_df, on=\"GeoID\", how=\"inner\")"
   ]
  },
  {
   "cell_type": "code",
   "execution_count": 83,
   "id": "2cd77fca",
   "metadata": {},
   "outputs": [],
   "source": [
    "merge2= pd.merge(merge1,asthma_age5_17_df, on=\"GeoID\", how=\"inner\")"
   ]
  },
  {
   "cell_type": "code",
   "execution_count": 84,
   "id": "46239ba3",
   "metadata": {},
   "outputs": [],
   "source": [
    "merge3= pd.merge(merge2,pm2_5_df, on=\"GeoID\", how=\"inner\")"
   ]
  },
  {
   "cell_type": "code",
   "execution_count": 85,
   "id": "72bedc7e",
   "metadata": {},
   "outputs": [],
   "source": [
    "merge4=pd.merge(merge3,no2_df,on=\"GeoID\", how=\"inner\")"
   ]
  },
  {
   "cell_type": "code",
   "execution_count": 86,
   "id": "be3245bb",
   "metadata": {},
   "outputs": [
    {
     "name": "stdout",
     "output_type": "stream",
     "text": [
      "   TimePeriod_as  GeoType  GeoID  GeoRank Geography_as  \\\n",
      "0           2020  Borough      3        1    Manhattan   \n",
      "1           2020  Borough      3        1    Manhattan   \n",
      "2           2020  Borough      3        1    Manhattan   \n",
      "3           2020  Borough      3        1    Manhattan   \n",
      "4           2020  Borough      3        1    Manhattan   \n",
      "\n",
      "  Age-adjusted rate per 10,000 Estimated annual rate per 10,000_x Number_x  \\\n",
      "0                         44.7                               43.5    6,290   \n",
      "1                         44.7                               43.5    6,290   \n",
      "2                         44.7                               43.5    6,290   \n",
      "3                         44.7                               43.5    6,290   \n",
      "4                         44.7                               43.5    6,290   \n",
      "\n",
      "   TimePeriod_age4 Geography_age4  ...    TimePeriod_pm_2_5 Geography_pm_2_5  \\\n",
      "0             2020      Manhattan  ...  Annual Average 2022        Manhattan   \n",
      "1             2020      Manhattan  ...  Annual Average 2022        Manhattan   \n",
      "2             2020      Manhattan  ...  Annual Average 2022        Manhattan   \n",
      "3             2020      Manhattan  ...  Annual Average 2022        Manhattan   \n",
      "4             2020      Manhattan  ...  Annual Average 2022        Manhattan   \n",
      "\n",
      "   10th percentile mcg/m3 90th percentile mcg/m3 Mean mcg/m3  \\\n",
      "0                     6.1                    8.8         7.0   \n",
      "1                     6.1                    8.8         7.0   \n",
      "2                     6.1                    8.8         7.0   \n",
      "3                     6.1                    8.8         7.0   \n",
      "4                     6.1                    8.8         7.0   \n",
      "\n",
      "        TimePeriod_no2 Geography_no2 10th percentile ppb  90th percentile ppb  \\\n",
      "0  Annual Average 2022     Manhattan                16.0                 23.3   \n",
      "1          Summer 2022     Manhattan                12.0                 20.4   \n",
      "2       Winter 2021-22     Manhattan                20.9                 27.2   \n",
      "3  Annual Average 2021     Manhattan                17.0                 23.7   \n",
      "4          Summer 2021     Manhattan                13.1                 20.5   \n",
      "\n",
      "   Mean ppb  \n",
      "0      19.1  \n",
      "1      15.4  \n",
      "2      23.4  \n",
      "3      20.0  \n",
      "4      16.4  \n",
      "\n",
      "[5 rows x 26 columns]\n"
     ]
    }
   ],
   "source": [
    "print(merge4.head())"
   ]
  },
  {
   "cell_type": "code",
   "execution_count": 87,
   "id": "ed137c3c",
   "metadata": {},
   "outputs": [
    {
     "name": "stdout",
     "output_type": "stream",
     "text": [
      "(18338544, 26)\n"
     ]
    }
   ],
   "source": [
    "print(merge4.shape)"
   ]
  },
  {
   "cell_type": "markdown",
   "id": "38226dfc",
   "metadata": {},
   "source": [
    "**2.Data Definition**"
   ]
  },
  {
   "cell_type": "code",
   "execution_count": 88,
   "id": "ce8406e2",
   "metadata": {},
   "outputs": [
    {
     "name": "stdout",
     "output_type": "stream",
     "text": [
      "<class 'pandas.core.frame.DataFrame'>\n",
      "Int64Index: 18338544 entries, 0 to 18338543\n",
      "Data columns (total 26 columns):\n",
      " #   Column                              Dtype  \n",
      "---  ------                              -----  \n",
      " 0   TimePeriod_as                       int64  \n",
      " 1   GeoType                             object \n",
      " 2   GeoID                               int64  \n",
      " 3   GeoRank                             int64  \n",
      " 4   Geography_as                        object \n",
      " 5   Age-adjusted rate per 10,000        object \n",
      " 6   Estimated annual rate per 10,000_x  object \n",
      " 7   Number_x                            object \n",
      " 8   TimePeriod_age4                     int64  \n",
      " 9   Geography_age4                      object \n",
      " 10  Estimated annual rate per 10,000_y  object \n",
      " 11  Number_y                            object \n",
      " 12  TimePeriod_age5-17                  int64  \n",
      " 13  Geography_age5-17                   object \n",
      " 14  Estimated annual rate per 10,000    object \n",
      " 15  Number                              object \n",
      " 16  TimePeriod_pm_2_5                   object \n",
      " 17  Geography_pm_2_5                    object \n",
      " 18  10th percentile mcg/m3              float64\n",
      " 19  90th percentile mcg/m3              float64\n",
      " 20  Mean mcg/m3                         float64\n",
      " 21  TimePeriod_no2                      object \n",
      " 22  Geography_no2                       object \n",
      " 23  10th percentile ppb                 float64\n",
      " 24  90th percentile ppb                 float64\n",
      " 25  Mean ppb                            float64\n",
      "dtypes: float64(6), int64(5), object(15)\n",
      "memory usage: 3.7+ GB\n"
     ]
    }
   ],
   "source": [
    "#Using the info method on merge4 to see a summary of the data\n",
    "merge4.info()"
   ]
  },
  {
   "cell_type": "markdown",
   "id": "c7f84c0b",
   "metadata": {},
   "source": [
    "Based on the results of .info(), some of columns datatype must be changed to int or float. \"Age-adjusted rate per 10,000\", \"Estimated annual rate per 10,000_x\",\"Number_x\", \"Estimated annual rate per 10,000_y\", \"Number_y\",\"Estimated annual rate per 10,000\", and \"Number\".\n",
    "\n"
   ]
  },
  {
   "cell_type": "code",
   "execution_count": 127,
   "id": "7d4477a1",
   "metadata": {},
   "outputs": [
    {
     "name": "stdout",
     "output_type": "stream",
     "text": [
      "['43.5' '71.1' '84.0' '91.7' '102.4' '97.7' '104.9' '101.7' '97.0' '107.6'\n",
      " '108.5' '148.5' '144.6' '137.1' '33.2' '52.3' '60.2' '55.5' '71.3' '71.6'\n",
      " '84.3' '77.1' '76.5' '79.5' '72.8' '63.1' '64.3' '47.7' '88.4' '92.5'\n",
      " '98.1' '†' '114.3' '113.7' '118.2' '109.6' '107.4' '109.1' '109.0'\n",
      " '105.0' '103.5' '100.3']\n"
     ]
    }
   ],
   "source": [
    "print(merge4['Estimated annual rate per 10,000_x'].unique())\n",
    "     "
   ]
  },
  {
   "cell_type": "code",
   "execution_count": 132,
   "id": "54081e19",
   "metadata": {},
   "outputs": [],
   "source": [
    "contain_symbol_1= merge4[\"Estimated annual rate per 10,000_x\"].str.contains('†').sum()"
   ]
  },
  {
   "cell_type": "code",
   "execution_count": 133,
   "id": "f5bbcd95",
   "metadata": {},
   "outputs": [
    {
     "name": "stdout",
     "output_type": "stream",
     "text": [
      "451584\n"
     ]
    }
   ],
   "source": [
    "print(contain_symbol_1)"
   ]
  },
  {
   "cell_type": "code",
   "execution_count": 134,
   "id": "29a8a69c",
   "metadata": {},
   "outputs": [
    {
     "name": "stdout",
     "output_type": "stream",
     "text": [
      "['44.7' '73.5' '86.8' '95.5' '106.6' '101.6' '109.0' '105.1' '100.0'\n",
      " '111.0' '111.3' '150.8' '146.3' '138.3' '35.1' '55.4' '64.0' '59.1'\n",
      " '73.7' '73.3' '85.9' '78.0' '78.1' '80.4' '72.8' '63.8' '64.7' '60.3'\n",
      " '48.4' '78.3' '89.9' nan '99.1' '†' '114.7' '114.0' '118.3' '109.5'\n",
      " '107.2' '108.7' '108.5' '104.4' '102.7' '99.5']\n"
     ]
    }
   ],
   "source": [
    "print(merge4[\"Age-adjusted rate per 10,000\"].unique())"
   ]
  },
  {
   "cell_type": "code",
   "execution_count": 135,
   "id": "1d05f7f2",
   "metadata": {},
   "outputs": [],
   "source": [
    "contain_symbol2= merge4[\"Age-adjusted rate per 10,000\"].str.contains('†').sum()"
   ]
  },
  {
   "cell_type": "code",
   "execution_count": 136,
   "id": "c7b16554",
   "metadata": {},
   "outputs": [
    {
     "name": "stdout",
     "output_type": "stream",
     "text": [
      "451584\n"
     ]
    }
   ],
   "source": [
    "print(contain_symbol2)"
   ]
  },
  {
   "cell_type": "code",
   "execution_count": 108,
   "id": "5f845d15",
   "metadata": {},
   "outputs": [],
   "source": [
    "# to change data type of \"Number_x\", because of  contains a comma, first of all need to removve comma\n",
    "merge4[\"Number\"]=merge4[\"Number\"].str.replace(\",\",\"\").astype(int)"
   ]
  },
  {
   "cell_type": "code",
   "execution_count": 112,
   "id": "a481f78f",
   "metadata": {},
   "outputs": [],
   "source": [
    "merge4[\"Number_y\"]=merge4[\"Number_y\"].str.replace(\",\", \"\").astype(int)"
   ]
  },
  {
   "cell_type": "code",
   "execution_count": 124,
   "id": "5f472e4c",
   "metadata": {},
   "outputs": [
    {
     "name": "stdout",
     "output_type": "stream",
     "text": [
      "['6,290' '10,543' '11,725' '12,872' '14,294' '13,586' '14,537' '13,959'\n",
      " '13,121' '14,493' '14,596' '19,862' '19,238' '18,146' '1,287' '2,066'\n",
      " '2,246' '2,062' '2,626' '2,625' '3,069' '2,801' '2,755' '2,843' '2,580'\n",
      " '2,212' '2,236' '2,085' '33,238' '54,166' '58,907' '61,909' '66,229' '†'\n",
      " '76,396' '75,473' '77,792' '71,351' '69,536' '69,944' '69,081' '65,905'\n",
      " '64,534' '62,425']\n"
     ]
    }
   ],
   "source": [
    "print(merge4[\"Number_x\"].unique())"
   ]
  },
  {
   "cell_type": "code",
   "execution_count": 125,
   "id": "936a45e7",
   "metadata": {},
   "outputs": [],
   "source": [
    "merge4[\"Number_x\"]= merge4[\"Number_x\"].str.replace(\",\", \"\")"
   ]
  },
  {
   "cell_type": "code",
   "execution_count": 117,
   "id": "e9323d61",
   "metadata": {},
   "outputs": [],
   "source": [
    "# \"Number_x\" column contain '†' character.At first need to  identifying the rows with the '†' character\n",
    "contain_symbol= merge4[\"Number_x\"].astype(str).str.contains('†').sum()"
   ]
  },
  {
   "cell_type": "code",
   "execution_count": 121,
   "id": "4558b6ee",
   "metadata": {},
   "outputs": [
    {
     "name": "stdout",
     "output_type": "stream",
     "text": [
      "451584\n"
     ]
    }
   ],
   "source": [
    "print(contain_symbol)"
   ]
  },
  {
   "cell_type": "code",
   "execution_count": null,
   "id": "046bcffc",
   "metadata": {},
   "outputs": [],
   "source": []
  },
  {
   "cell_type": "code",
   "execution_count": 26,
   "id": "d095e96b",
   "metadata": {},
   "outputs": [
    {
     "name": "stdout",
     "output_type": "stream",
     "text": [
      "TimePeriod_as                          16\n",
      "GeoType                                 2\n",
      "GeoID                                   3\n",
      "GeoRank                                 2\n",
      "Geography_as                            3\n",
      "Age-adjusted rate per 10,000           43\n",
      "Estimated annual rate per 10,000_x     42\n",
      "Number_x                               44\n",
      "TimePeriod_age4                        16\n",
      "Geography_age4                          3\n",
      "Estimated annual rate per 10,000_y     46\n",
      "Number_y                               46\n",
      "TimePeriod_age5-17                     16\n",
      "Geography_age5-17                       3\n",
      "Estimated annual rate per 10,000       46\n",
      "Number                                 46\n",
      "TimePeriod_pm_2_5                      42\n",
      "Geography_pm_2_5                        3\n",
      "10th percentile mcg/m3                 60\n",
      "90th percentile mcg/m3                 66\n",
      "Mean mcg/m3                            63\n",
      "TimePeriod_no2                         42\n",
      "Geography_no2                           3\n",
      "10th percentile ppb                   104\n",
      "90th percentile ppb                   101\n",
      "Mean ppb                              103\n",
      "dtype: int64\n"
     ]
    }
   ],
   "source": [
    "#Counts and Percents of Unique Values\n",
    "unique_counts= merge4.nunique()\n",
    "print(unique_counts)"
   ]
  },
  {
   "cell_type": "code",
   "execution_count": 44,
   "id": "e5183353",
   "metadata": {},
   "outputs": [],
   "source": [
    "# Rename some columns\n",
    "rename_dict={\"Number_x\":\"asthma_adults_num\",\"Number_y\":\"asthma_age_4_num\",\"Number\":\"asthma_age5_17_num\",\n",
    "            \"Mean mcg/m3\":\"pm2.5_mean_mcg/m3\",\"Mean ppb\":\"no2_mean_ppb\"}\n",
    "\n",
    "# Rename the columns using the dictionary\n",
    "merge4.rename(columns=rename_dict, inplace=True)"
   ]
  },
  {
   "cell_type": "code",
   "execution_count": 52,
   "id": "ff8a712f",
   "metadata": {},
   "outputs": [
    {
     "name": "stdout",
     "output_type": "stream",
     "text": [
      "Index(['TimePeriod_as', 'GeoType', 'GeoID', 'GeoRank', 'Geography_as',\n",
      "       'Age-adjusted rate per 10,000', 'Estimated annual rate per 10,000_x',\n",
      "       'asthma_adults_num', 'TimePeriod_age4', 'Geography_age4',\n",
      "       'Estimated annual rate per 10,000_y', 'asthma_age_4_num',\n",
      "       'TimePeriod_age5-17', 'Geography_age5-17',\n",
      "       'Estimated annual rate per 10,000', 'asthma_age5_17_num',\n",
      "       'TimePeriod_pm_2_5', 'Geography_pm_2_5', '10th percentile mcg/m3',\n",
      "       '90th percentile mcg/m3', 'pm2.5_mean_mcg/m3', 'TimePeriod_no2',\n",
      "       'Geography_no2', '10th percentile ppb', '90th percentile ppb',\n",
      "       'no2_mean_ppb'],\n",
      "      dtype='object')\n"
     ]
    }
   ],
   "source": [
    "print(merge4.columns)"
   ]
  },
  {
   "cell_type": "code",
   "execution_count": 45,
   "id": "3c55d966",
   "metadata": {},
   "outputs": [
    {
     "name": "stdout",
     "output_type": "stream",
     "text": [
      "2020    1245384\n",
      "2019    1245384\n",
      "2018    1245384\n",
      "2016    1245384\n",
      "2014    1245384\n",
      "Name: TimePeriod_as, dtype: int64\n"
     ]
    }
   ],
   "source": [
    "print(merge4[\"TimePeriod_as\"].value_counts().head())"
   ]
  },
  {
   "cell_type": "code",
   "execution_count": 46,
   "id": "be403600",
   "metadata": {},
   "outputs": [
    {
     "name": "stdout",
     "output_type": "stream",
     "text": [
      "2020    1192464\n",
      "2019    1192464\n",
      "2018    1192464\n",
      "2016    1192464\n",
      "2015    1192464\n",
      "Name: TimePeriod_age4, dtype: int64\n"
     ]
    }
   ],
   "source": [
    "print(merge4[\"TimePeriod_age4\"].value_counts().head())"
   ]
  },
  {
   "cell_type": "code",
   "execution_count": 47,
   "id": "785e1c6e",
   "metadata": {},
   "outputs": [
    {
     "name": "stdout",
     "output_type": "stream",
     "text": [
      "2020    1192464\n",
      "2019    1192464\n",
      "2018    1192464\n",
      "2016    1192464\n",
      "2015    1192464\n",
      "Name: TimePeriod_age5-17, dtype: int64\n"
     ]
    }
   ],
   "source": [
    "print(merge4[\"TimePeriod_age5-17\"].value_counts().head())"
   ]
  },
  {
   "cell_type": "code",
   "execution_count": 48,
   "id": "7baefd5d",
   "metadata": {},
   "outputs": [
    {
     "name": "stdout",
     "output_type": "stream",
     "text": [
      "Annual Average 2022    436632\n",
      "Summer 2012            436632\n",
      "Winter 2014-15         436632\n",
      "Annual Average 2014    436632\n",
      "Summer 2014            436632\n",
      "Name: TimePeriod_pm_2_5, dtype: int64\n"
     ]
    }
   ],
   "source": [
    "print(merge4[\"TimePeriod_pm_2_5\"].value_counts().head())"
   ]
  },
  {
   "cell_type": "code",
   "execution_count": 49,
   "id": "328a1b09",
   "metadata": {},
   "outputs": [
    {
     "name": "stdout",
     "output_type": "stream",
     "text": [
      "Annual Average 2022    436632\n",
      "Summer 2012            436632\n",
      "Winter 2014-15         436632\n",
      "Annual Average 2014    436632\n",
      "Summer 2014            436632\n",
      "Name: TimePeriod_no2, dtype: int64\n"
     ]
    }
   ],
   "source": [
    "print(merge4[\"TimePeriod_no2\"].value_counts().head())"
   ]
  },
  {
   "cell_type": "markdown",
   "id": "8a572aeb",
   "metadata": {},
   "source": [
    "Based on the results of value_counts method TimePeriod column has two different data type. The Asthma datas have int type,no2 and pm2.5 have object type. This difference is because of object type contains values that are categorica(like \"Annual Average 2022\") and the int one include \"2028\".For the purpose of facilitating chronological comparisons or time series analysis, it is necessary to standardize the data type of the entire TimePeriod column to integer."
   ]
  },
  {
   "cell_type": "code",
   "execution_count": 57,
   "id": "cd5a4191",
   "metadata": {},
   "outputs": [
    {
     "data": {
      "text/html": [
       "<div>\n",
       "<style scoped>\n",
       "    .dataframe tbody tr th:only-of-type {\n",
       "        vertical-align: middle;\n",
       "    }\n",
       "\n",
       "    .dataframe tbody tr th {\n",
       "        vertical-align: top;\n",
       "    }\n",
       "\n",
       "    .dataframe thead th {\n",
       "        text-align: right;\n",
       "    }\n",
       "</style>\n",
       "<table border=\"1\" class=\"dataframe\">\n",
       "  <thead>\n",
       "    <tr style=\"text-align: right;\">\n",
       "      <th></th>\n",
       "      <th>asthma_adults_num</th>\n",
       "      <th>asthma_age_4_num</th>\n",
       "      <th>asthma_age5_17_num</th>\n",
       "    </tr>\n",
       "  </thead>\n",
       "  <tbody>\n",
       "    <tr>\n",
       "      <th>count</th>\n",
       "      <td>18338544</td>\n",
       "      <td>18338544</td>\n",
       "      <td>18338544</td>\n",
       "    </tr>\n",
       "    <tr>\n",
       "      <th>unique</th>\n",
       "      <td>44</td>\n",
       "      <td>46</td>\n",
       "      <td>46</td>\n",
       "    </tr>\n",
       "    <tr>\n",
       "      <th>top</th>\n",
       "      <td>62,425</td>\n",
       "      <td>19,927</td>\n",
       "      <td>25,834</td>\n",
       "    </tr>\n",
       "    <tr>\n",
       "      <th>freq</th>\n",
       "      <td>451584</td>\n",
       "      <td>451584</td>\n",
       "      <td>451584</td>\n",
       "    </tr>\n",
       "  </tbody>\n",
       "</table>\n",
       "</div>"
      ],
      "text/plain": [
       "       asthma_adults_num asthma_age_4_num asthma_age5_17_num\n",
       "count           18338544         18338544           18338544\n",
       "unique                44               46                 46\n",
       "top               62,425           19,927             25,834\n",
       "freq              451584           451584             451584"
      ]
     },
     "execution_count": 57,
     "metadata": {},
     "output_type": "execute_result"
    }
   ],
   "source": [
    "merge4[[\"asthma_adults_num\",\"asthma_age_4_num\",\"asthma_age5_17_num\"]].describe()"
   ]
  },
  {
   "cell_type": "code",
   "execution_count": 58,
   "id": "9a0f5d2e",
   "metadata": {},
   "outputs": [
    {
     "data": {
      "text/html": [
       "<div>\n",
       "<style scoped>\n",
       "    .dataframe tbody tr th:only-of-type {\n",
       "        vertical-align: middle;\n",
       "    }\n",
       "\n",
       "    .dataframe tbody tr th {\n",
       "        vertical-align: top;\n",
       "    }\n",
       "\n",
       "    .dataframe thead th {\n",
       "        text-align: right;\n",
       "    }\n",
       "</style>\n",
       "<table border=\"1\" class=\"dataframe\">\n",
       "  <thead>\n",
       "    <tr style=\"text-align: right;\">\n",
       "      <th></th>\n",
       "      <th>pm2.5_mean_mcg/m3</th>\n",
       "      <th>no2_mean_ppb</th>\n",
       "    </tr>\n",
       "  </thead>\n",
       "  <tbody>\n",
       "    <tr>\n",
       "      <th>count</th>\n",
       "      <td>1.833854e+07</td>\n",
       "      <td>1.833854e+07</td>\n",
       "    </tr>\n",
       "    <tr>\n",
       "      <th>mean</th>\n",
       "      <td>9.051630e+00</td>\n",
       "      <td>1.945028e+01</td>\n",
       "    </tr>\n",
       "    <tr>\n",
       "      <th>std</th>\n",
       "      <td>2.077847e+00</td>\n",
       "      <td>6.599239e+00</td>\n",
       "    </tr>\n",
       "    <tr>\n",
       "      <th>min</th>\n",
       "      <td>5.200000e+00</td>\n",
       "      <td>7.700000e+00</td>\n",
       "    </tr>\n",
       "    <tr>\n",
       "      <th>25%</th>\n",
       "      <td>7.400000e+00</td>\n",
       "      <td>1.390000e+01</td>\n",
       "    </tr>\n",
       "    <tr>\n",
       "      <th>50%</th>\n",
       "      <td>8.800000e+00</td>\n",
       "      <td>1.890000e+01</td>\n",
       "    </tr>\n",
       "    <tr>\n",
       "      <th>75%</th>\n",
       "      <td>1.040000e+01</td>\n",
       "      <td>2.370000e+01</td>\n",
       "    </tr>\n",
       "    <tr>\n",
       "      <th>max</th>\n",
       "      <td>1.530000e+01</td>\n",
       "      <td>3.840000e+01</td>\n",
       "    </tr>\n",
       "  </tbody>\n",
       "</table>\n",
       "</div>"
      ],
      "text/plain": [
       "       pm2.5_mean_mcg/m3  no2_mean_ppb\n",
       "count       1.833854e+07  1.833854e+07\n",
       "mean        9.051630e+00  1.945028e+01\n",
       "std         2.077847e+00  6.599239e+00\n",
       "min         5.200000e+00  7.700000e+00\n",
       "25%         7.400000e+00  1.390000e+01\n",
       "50%         8.800000e+00  1.890000e+01\n",
       "75%         1.040000e+01  2.370000e+01\n",
       "max         1.530000e+01  3.840000e+01"
      ]
     },
     "execution_count": 58,
     "metadata": {},
     "output_type": "execute_result"
    }
   ],
   "source": [
    "merge4[[\"pm2.5_mean_mcg/m3\",\"no2_mean_ppb\"]].describe()"
   ]
  },
  {
   "cell_type": "markdown",
   "id": "914db787",
   "metadata": {},
   "source": [
    " **2.1.Categorical Features**"
   ]
  },
  {
   "cell_type": "code",
   "execution_count": 65,
   "id": "c9b678b5",
   "metadata": {},
   "outputs": [
    {
     "data": {
      "text/html": [
       "<div>\n",
       "<style scoped>\n",
       "    .dataframe tbody tr th:only-of-type {\n",
       "        vertical-align: middle;\n",
       "    }\n",
       "\n",
       "    .dataframe tbody tr th {\n",
       "        vertical-align: top;\n",
       "    }\n",
       "\n",
       "    .dataframe thead th {\n",
       "        text-align: right;\n",
       "    }\n",
       "</style>\n",
       "<table border=\"1\" class=\"dataframe\">\n",
       "  <thead>\n",
       "    <tr style=\"text-align: right;\">\n",
       "      <th></th>\n",
       "      <th>GeoType</th>\n",
       "      <th>Geography_as</th>\n",
       "      <th>Age-adjusted rate per 10,000</th>\n",
       "      <th>Estimated annual rate per 10,000_x</th>\n",
       "      <th>asthma_adults_num</th>\n",
       "      <th>Geography_age4</th>\n",
       "      <th>Estimated annual rate per 10,000_y</th>\n",
       "      <th>asthma_age_4_num</th>\n",
       "      <th>Geography_age5-17</th>\n",
       "      <th>Estimated annual rate per 10,000</th>\n",
       "      <th>asthma_age5_17_num</th>\n",
       "      <th>TimePeriod_pm_2_5</th>\n",
       "      <th>Geography_pm_2_5</th>\n",
       "      <th>TimePeriod_no2</th>\n",
       "      <th>Geography_no2</th>\n",
       "    </tr>\n",
       "  </thead>\n",
       "  <tbody>\n",
       "    <tr>\n",
       "      <th>0</th>\n",
       "      <td>Borough</td>\n",
       "      <td>Manhattan</td>\n",
       "      <td>44.7</td>\n",
       "      <td>43.5</td>\n",
       "      <td>6,290</td>\n",
       "      <td>Manhattan</td>\n",
       "      <td>58.6</td>\n",
       "      <td>454</td>\n",
       "      <td>Manhattan</td>\n",
       "      <td>65.9</td>\n",
       "      <td>1,088</td>\n",
       "      <td>Annual Average 2022</td>\n",
       "      <td>Manhattan</td>\n",
       "      <td>Annual Average 2022</td>\n",
       "      <td>Manhattan</td>\n",
       "    </tr>\n",
       "    <tr>\n",
       "      <th>1</th>\n",
       "      <td>Borough</td>\n",
       "      <td>Manhattan</td>\n",
       "      <td>44.7</td>\n",
       "      <td>43.5</td>\n",
       "      <td>6,290</td>\n",
       "      <td>Manhattan</td>\n",
       "      <td>58.6</td>\n",
       "      <td>454</td>\n",
       "      <td>Manhattan</td>\n",
       "      <td>65.9</td>\n",
       "      <td>1,088</td>\n",
       "      <td>Annual Average 2022</td>\n",
       "      <td>Manhattan</td>\n",
       "      <td>Summer 2022</td>\n",
       "      <td>Manhattan</td>\n",
       "    </tr>\n",
       "    <tr>\n",
       "      <th>2</th>\n",
       "      <td>Borough</td>\n",
       "      <td>Manhattan</td>\n",
       "      <td>44.7</td>\n",
       "      <td>43.5</td>\n",
       "      <td>6,290</td>\n",
       "      <td>Manhattan</td>\n",
       "      <td>58.6</td>\n",
       "      <td>454</td>\n",
       "      <td>Manhattan</td>\n",
       "      <td>65.9</td>\n",
       "      <td>1,088</td>\n",
       "      <td>Annual Average 2022</td>\n",
       "      <td>Manhattan</td>\n",
       "      <td>Winter 2021-22</td>\n",
       "      <td>Manhattan</td>\n",
       "    </tr>\n",
       "    <tr>\n",
       "      <th>3</th>\n",
       "      <td>Borough</td>\n",
       "      <td>Manhattan</td>\n",
       "      <td>44.7</td>\n",
       "      <td>43.5</td>\n",
       "      <td>6,290</td>\n",
       "      <td>Manhattan</td>\n",
       "      <td>58.6</td>\n",
       "      <td>454</td>\n",
       "      <td>Manhattan</td>\n",
       "      <td>65.9</td>\n",
       "      <td>1,088</td>\n",
       "      <td>Annual Average 2022</td>\n",
       "      <td>Manhattan</td>\n",
       "      <td>Annual Average 2021</td>\n",
       "      <td>Manhattan</td>\n",
       "    </tr>\n",
       "    <tr>\n",
       "      <th>4</th>\n",
       "      <td>Borough</td>\n",
       "      <td>Manhattan</td>\n",
       "      <td>44.7</td>\n",
       "      <td>43.5</td>\n",
       "      <td>6,290</td>\n",
       "      <td>Manhattan</td>\n",
       "      <td>58.6</td>\n",
       "      <td>454</td>\n",
       "      <td>Manhattan</td>\n",
       "      <td>65.9</td>\n",
       "      <td>1,088</td>\n",
       "      <td>Annual Average 2022</td>\n",
       "      <td>Manhattan</td>\n",
       "      <td>Summer 2021</td>\n",
       "      <td>Manhattan</td>\n",
       "    </tr>\n",
       "    <tr>\n",
       "      <th>...</th>\n",
       "      <td>...</td>\n",
       "      <td>...</td>\n",
       "      <td>...</td>\n",
       "      <td>...</td>\n",
       "      <td>...</td>\n",
       "      <td>...</td>\n",
       "      <td>...</td>\n",
       "      <td>...</td>\n",
       "      <td>...</td>\n",
       "      <td>...</td>\n",
       "      <td>...</td>\n",
       "      <td>...</td>\n",
       "      <td>...</td>\n",
       "      <td>...</td>\n",
       "      <td>...</td>\n",
       "    </tr>\n",
       "    <tr>\n",
       "      <th>18338539</th>\n",
       "      <td>Citywide</td>\n",
       "      <td>New York City</td>\n",
       "      <td>99.5</td>\n",
       "      <td>100.3</td>\n",
       "      <td>62,425</td>\n",
       "      <td>New York City</td>\n",
       "      <td>377.2</td>\n",
       "      <td>19,927</td>\n",
       "      <td>New York City</td>\n",
       "      <td>199.2</td>\n",
       "      <td>25,834</td>\n",
       "      <td>Winter 2008-09</td>\n",
       "      <td>New York City</td>\n",
       "      <td>Summer 2010</td>\n",
       "      <td>New York City</td>\n",
       "    </tr>\n",
       "    <tr>\n",
       "      <th>18338540</th>\n",
       "      <td>Citywide</td>\n",
       "      <td>New York City</td>\n",
       "      <td>99.5</td>\n",
       "      <td>100.3</td>\n",
       "      <td>62,425</td>\n",
       "      <td>New York City</td>\n",
       "      <td>377.2</td>\n",
       "      <td>19,927</td>\n",
       "      <td>New York City</td>\n",
       "      <td>199.2</td>\n",
       "      <td>25,834</td>\n",
       "      <td>Winter 2008-09</td>\n",
       "      <td>New York City</td>\n",
       "      <td>Winter 2009-10</td>\n",
       "      <td>New York City</td>\n",
       "    </tr>\n",
       "    <tr>\n",
       "      <th>18338541</th>\n",
       "      <td>Citywide</td>\n",
       "      <td>New York City</td>\n",
       "      <td>99.5</td>\n",
       "      <td>100.3</td>\n",
       "      <td>62,425</td>\n",
       "      <td>New York City</td>\n",
       "      <td>377.2</td>\n",
       "      <td>19,927</td>\n",
       "      <td>New York City</td>\n",
       "      <td>199.2</td>\n",
       "      <td>25,834</td>\n",
       "      <td>Winter 2008-09</td>\n",
       "      <td>New York City</td>\n",
       "      <td>Annual Average 2009</td>\n",
       "      <td>New York City</td>\n",
       "    </tr>\n",
       "    <tr>\n",
       "      <th>18338542</th>\n",
       "      <td>Citywide</td>\n",
       "      <td>New York City</td>\n",
       "      <td>99.5</td>\n",
       "      <td>100.3</td>\n",
       "      <td>62,425</td>\n",
       "      <td>New York City</td>\n",
       "      <td>377.2</td>\n",
       "      <td>19,927</td>\n",
       "      <td>New York City</td>\n",
       "      <td>199.2</td>\n",
       "      <td>25,834</td>\n",
       "      <td>Winter 2008-09</td>\n",
       "      <td>New York City</td>\n",
       "      <td>Summer 2009</td>\n",
       "      <td>New York City</td>\n",
       "    </tr>\n",
       "    <tr>\n",
       "      <th>18338543</th>\n",
       "      <td>Citywide</td>\n",
       "      <td>New York City</td>\n",
       "      <td>99.5</td>\n",
       "      <td>100.3</td>\n",
       "      <td>62,425</td>\n",
       "      <td>New York City</td>\n",
       "      <td>377.2</td>\n",
       "      <td>19,927</td>\n",
       "      <td>New York City</td>\n",
       "      <td>199.2</td>\n",
       "      <td>25,834</td>\n",
       "      <td>Winter 2008-09</td>\n",
       "      <td>New York City</td>\n",
       "      <td>Winter 2008-09</td>\n",
       "      <td>New York City</td>\n",
       "    </tr>\n",
       "  </tbody>\n",
       "</table>\n",
       "<p>18338544 rows × 15 columns</p>\n",
       "</div>"
      ],
      "text/plain": [
       "           GeoType   Geography_as Age-adjusted rate per 10,000  \\\n",
       "0          Borough      Manhattan                         44.7   \n",
       "1          Borough      Manhattan                         44.7   \n",
       "2          Borough      Manhattan                         44.7   \n",
       "3          Borough      Manhattan                         44.7   \n",
       "4          Borough      Manhattan                         44.7   \n",
       "...            ...            ...                          ...   \n",
       "18338539  Citywide  New York City                         99.5   \n",
       "18338540  Citywide  New York City                         99.5   \n",
       "18338541  Citywide  New York City                         99.5   \n",
       "18338542  Citywide  New York City                         99.5   \n",
       "18338543  Citywide  New York City                         99.5   \n",
       "\n",
       "         Estimated annual rate per 10,000_x asthma_adults_num Geography_age4  \\\n",
       "0                                      43.5             6,290      Manhattan   \n",
       "1                                      43.5             6,290      Manhattan   \n",
       "2                                      43.5             6,290      Manhattan   \n",
       "3                                      43.5             6,290      Manhattan   \n",
       "4                                      43.5             6,290      Manhattan   \n",
       "...                                     ...               ...            ...   \n",
       "18338539                              100.3            62,425  New York City   \n",
       "18338540                              100.3            62,425  New York City   \n",
       "18338541                              100.3            62,425  New York City   \n",
       "18338542                              100.3            62,425  New York City   \n",
       "18338543                              100.3            62,425  New York City   \n",
       "\n",
       "         Estimated annual rate per 10,000_y asthma_age_4_num  \\\n",
       "0                                      58.6              454   \n",
       "1                                      58.6              454   \n",
       "2                                      58.6              454   \n",
       "3                                      58.6              454   \n",
       "4                                      58.6              454   \n",
       "...                                     ...              ...   \n",
       "18338539                              377.2           19,927   \n",
       "18338540                              377.2           19,927   \n",
       "18338541                              377.2           19,927   \n",
       "18338542                              377.2           19,927   \n",
       "18338543                              377.2           19,927   \n",
       "\n",
       "         Geography_age5-17 Estimated annual rate per 10,000  \\\n",
       "0                Manhattan                             65.9   \n",
       "1                Manhattan                             65.9   \n",
       "2                Manhattan                             65.9   \n",
       "3                Manhattan                             65.9   \n",
       "4                Manhattan                             65.9   \n",
       "...                    ...                              ...   \n",
       "18338539     New York City                            199.2   \n",
       "18338540     New York City                            199.2   \n",
       "18338541     New York City                            199.2   \n",
       "18338542     New York City                            199.2   \n",
       "18338543     New York City                            199.2   \n",
       "\n",
       "         asthma_age5_17_num    TimePeriod_pm_2_5 Geography_pm_2_5  \\\n",
       "0                     1,088  Annual Average 2022        Manhattan   \n",
       "1                     1,088  Annual Average 2022        Manhattan   \n",
       "2                     1,088  Annual Average 2022        Manhattan   \n",
       "3                     1,088  Annual Average 2022        Manhattan   \n",
       "4                     1,088  Annual Average 2022        Manhattan   \n",
       "...                     ...                  ...              ...   \n",
       "18338539             25,834       Winter 2008-09    New York City   \n",
       "18338540             25,834       Winter 2008-09    New York City   \n",
       "18338541             25,834       Winter 2008-09    New York City   \n",
       "18338542             25,834       Winter 2008-09    New York City   \n",
       "18338543             25,834       Winter 2008-09    New York City   \n",
       "\n",
       "               TimePeriod_no2  Geography_no2  \n",
       "0         Annual Average 2022      Manhattan  \n",
       "1                 Summer 2022      Manhattan  \n",
       "2              Winter 2021-22      Manhattan  \n",
       "3         Annual Average 2021      Manhattan  \n",
       "4                 Summer 2021      Manhattan  \n",
       "...                       ...            ...  \n",
       "18338539          Summer 2010  New York City  \n",
       "18338540       Winter 2009-10  New York City  \n",
       "18338541  Annual Average 2009  New York City  \n",
       "18338542          Summer 2009  New York City  \n",
       "18338543       Winter 2008-09  New York City  \n",
       "\n",
       "[18338544 rows x 15 columns]"
      ]
     },
     "execution_count": 65,
     "metadata": {},
     "output_type": "execute_result"
    }
   ],
   "source": [
    "merge4.select_dtypes(include=['object'])\n",
    "# some of columns type must be changed before this step"
   ]
  },
  {
   "cell_type": "markdown",
   "id": "ccfcafb3",
   "metadata": {},
   "source": [
    "**3.Data Cleaning**"
   ]
  },
  {
   "cell_type": "markdown",
   "id": "40e45e67",
   "metadata": {},
   "source": [
    "**3.1.Number Of Missing Values By Column**"
   ]
  },
  {
   "cell_type": "code",
   "execution_count": 59,
   "id": "4558df18",
   "metadata": {},
   "outputs": [],
   "source": [
    "missing=(merge4.isna().sum()/len(merge4))*100"
   ]
  },
  {
   "cell_type": "code",
   "execution_count": 61,
   "id": "e6f821c7",
   "metadata": {},
   "outputs": [
    {
     "name": "stdout",
     "output_type": "stream",
     "text": [
      "TimePeriod_as                         0.000000\n",
      "GeoType                               0.000000\n",
      "GeoID                                 0.000000\n",
      "GeoRank                               0.000000\n",
      "Geography_as                          0.000000\n",
      "Age-adjusted rate per 10,000          2.462486\n",
      "Estimated annual rate per 10,000_x    0.000000\n",
      "asthma_adults_num                     0.000000\n",
      "TimePeriod_age4                       0.000000\n",
      "Geography_age4                        0.000000\n",
      "Estimated annual rate per 10,000_y    0.000000\n",
      "asthma_age_4_num                      0.000000\n",
      "TimePeriod_age5-17                    0.000000\n",
      "Geography_age5-17                     0.000000\n",
      "Estimated annual rate per 10,000      0.000000\n",
      "asthma_age5_17_num                    0.000000\n",
      "TimePeriod_pm_2_5                     0.000000\n",
      "Geography_pm_2_5                      0.000000\n",
      "10th percentile mcg/m3                0.000000\n",
      "90th percentile mcg/m3                0.000000\n",
      "pm2.5_mean_mcg/m3                     0.000000\n",
      "TimePeriod_no2                        0.000000\n",
      "Geography_no2                         0.000000\n",
      "10th percentile ppb                   0.000000\n",
      "90th percentile ppb                   0.000000\n",
      "no2_mean_ppb                          0.000000\n",
      "dtype: float64\n"
     ]
    }
   ],
   "source": [
    "print(missing)"
   ]
  },
  {
   "cell_type": "markdown",
   "id": "68754d20",
   "metadata": {},
   "source": [
    "**3.2.Find Duplicate Rows**"
   ]
  },
  {
   "cell_type": "code",
   "execution_count": 62,
   "id": "324d3d2a",
   "metadata": {},
   "outputs": [],
   "source": [
    "duplicates= merge4.duplicated().sum()"
   ]
  },
  {
   "cell_type": "code",
   "execution_count": 64,
   "id": "ec5cf0bf",
   "metadata": {},
   "outputs": [
    {
     "name": "stdout",
     "output_type": "stream",
     "text": [
      "0\n"
     ]
    }
   ],
   "source": [
    "print(duplicates)"
   ]
  },
  {
   "cell_type": "code",
   "execution_count": null,
   "id": "e1cf69dd",
   "metadata": {},
   "outputs": [],
   "source": []
  }
 ],
 "metadata": {
  "kernelspec": {
   "display_name": "Python 3 (ipykernel)",
   "language": "python",
   "name": "python3"
  },
  "language_info": {
   "codemirror_mode": {
    "name": "ipython",
    "version": 3
   },
   "file_extension": ".py",
   "mimetype": "text/x-python",
   "name": "python",
   "nbconvert_exporter": "python",
   "pygments_lexer": "ipython3",
   "version": "3.11.3"
  }
 },
 "nbformat": 4,
 "nbformat_minor": 5
}
