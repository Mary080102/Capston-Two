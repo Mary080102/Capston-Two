{
 "cells": [
  {
   "cell_type": "markdown",
   "id": "7f453379",
   "metadata": {},
   "source": [
    "**1.Data Collection**\n",
    "\n",
    "**1.1. Imports**"
   ]
  },
  {
   "cell_type": "code",
   "execution_count": 97,
   "id": "ed018367",
   "metadata": {},
   "outputs": [],
   "source": [
    "import pandas as pd\n",
    "import numpy as np\n"
   ]
  },
  {
   "cell_type": "markdown",
   "id": "4295115c",
   "metadata": {},
   "source": [
    "**1.2.Load Data**"
   ]
  },
  {
   "cell_type": "code",
   "execution_count": 98,
   "id": "3a394c04",
   "metadata": {},
   "outputs": [],
   "source": [
    "asthma_adults= pd.read_csv(\"https://raw.githubusercontent.com/Mary080102/Capston-Two/main/Raw%20data/NYC%20EH%20Data%20Portal%20-%20Asthma%20emergency%20department%20visits%20(adults)%20(full%20table).csv\")\n",
    "asthma_age_4= pd.read_csv(\"https://raw.githubusercontent.com/Mary080102/Capston-Two/main/Raw%20data/NYC%20EH%20Data%20Portal%20-%20Asthma%20emergency%20department%20visits%20(age%204%20and%20under)%20(full%20table).csv\")\n",
    "asthma_age5_17=pd.read_csv(\"https://raw.githubusercontent.com/Mary080102/Capston-Two/main/Raw%20data/NYC%20EH%20Data%20Portal%20-%20Asthma%20emergency%20department%20visits%20(age%205%20to%2017)%20(full%20table).csv\")\n",
    "pm2_5=pd.read_csv(\"https://raw.githubusercontent.com/Mary080102/Capston-Two/main/Raw%20data/NYC%20EH%20Data%20Portal%20-%20Fine%20particles%20(PM%202.5)%20(full%20table).csv\")\n",
    "no2=pd.read_csv(\"https://raw.githubusercontent.com/Mary080102/Capston-Two/main/Raw%20data/NYC%20EH%20Data%20Portal%20-%20Nitrogen%20dioxide%20(NO2)%20(full%20table).csv\")"
   ]
  },
  {
   "cell_type": "markdown",
   "id": "170a27b8",
   "metadata": {},
   "source": [
    "**2.Data Definition**"
   ]
  },
  {
   "cell_type": "code",
   "execution_count": 99,
   "id": "009649a6",
   "metadata": {},
   "outputs": [
    {
     "name": "stdout",
     "output_type": "stream",
     "text": [
      "<class 'pandas.core.frame.DataFrame'>\n",
      "RangeIndex: 792 entries, 0 to 791\n",
      "Data columns (total 8 columns):\n",
      " #   Column                            Non-Null Count  Dtype \n",
      "---  ------                            --------------  ----- \n",
      " 0   TimePeriod                        792 non-null    int64 \n",
      " 1   GeoType                           792 non-null    object\n",
      " 2   GeoID                             792 non-null    int64 \n",
      " 3   GeoRank                           792 non-null    int64 \n",
      " 4   Geography                         792 non-null    object\n",
      " 5   Age-adjusted rate per 10,000      791 non-null    object\n",
      " 6   Estimated annual rate per 10,000  792 non-null    object\n",
      " 7   Number                            792 non-null    object\n",
      "dtypes: int64(3), object(5)\n",
      "memory usage: 49.6+ KB\n"
     ]
    }
   ],
   "source": [
    "#getting a quick overview of the DataFrame\n",
    "asthma_adults.info()"
   ]
  },
  {
   "cell_type": "code",
   "execution_count": 100,
   "id": "9be45f3f",
   "metadata": {},
   "outputs": [
    {
     "name": "stdout",
     "output_type": "stream",
     "text": [
      "<class 'pandas.core.frame.DataFrame'>\n",
      "RangeIndex: 839 entries, 0 to 838\n",
      "Data columns (total 7 columns):\n",
      " #   Column                            Non-Null Count  Dtype \n",
      "---  ------                            --------------  ----- \n",
      " 0   TimePeriod                        839 non-null    int64 \n",
      " 1   GeoType                           839 non-null    object\n",
      " 2   GeoID                             839 non-null    int64 \n",
      " 3   GeoRank                           839 non-null    int64 \n",
      " 4   Geography                         839 non-null    object\n",
      " 5   Estimated annual rate per 10,000  839 non-null    object\n",
      " 6   Number                            839 non-null    object\n",
      "dtypes: int64(3), object(4)\n",
      "memory usage: 46.0+ KB\n"
     ]
    }
   ],
   "source": [
    "asthma_age_4.info()"
   ]
  },
  {
   "cell_type": "code",
   "execution_count": 101,
   "id": "fe573920",
   "metadata": {},
   "outputs": [
    {
     "name": "stdout",
     "output_type": "stream",
     "text": [
      "<class 'pandas.core.frame.DataFrame'>\n",
      "RangeIndex: 839 entries, 0 to 838\n",
      "Data columns (total 7 columns):\n",
      " #   Column                            Non-Null Count  Dtype \n",
      "---  ------                            --------------  ----- \n",
      " 0   TimePeriod                        839 non-null    int64 \n",
      " 1   GeoType                           839 non-null    object\n",
      " 2   GeoID                             839 non-null    int64 \n",
      " 3   GeoRank                           839 non-null    int64 \n",
      " 4   Geography                         839 non-null    object\n",
      " 5   Estimated annual rate per 10,000  839 non-null    object\n",
      " 6   Number                            839 non-null    object\n",
      "dtypes: int64(3), object(4)\n",
      "memory usage: 46.0+ KB\n"
     ]
    }
   ],
   "source": [
    "asthma_age5_17.info()"
   ]
  },
  {
   "cell_type": "code",
   "execution_count": 102,
   "id": "ff29e7c4",
   "metadata": {},
   "outputs": [
    {
     "name": "stdout",
     "output_type": "stream",
     "text": [
      "<class 'pandas.core.frame.DataFrame'>\n",
      "RangeIndex: 4554 entries, 0 to 4553\n",
      "Data columns (total 8 columns):\n",
      " #   Column                  Non-Null Count  Dtype  \n",
      "---  ------                  --------------  -----  \n",
      " 0   TimePeriod              4554 non-null   object \n",
      " 1   GeoType                 4554 non-null   object \n",
      " 2   GeoID                   4554 non-null   int64  \n",
      " 3   GeoRank                 4554 non-null   int64  \n",
      " 4   Geography               4554 non-null   object \n",
      " 5   10th percentile mcg/m3  4554 non-null   float64\n",
      " 6   90th percentile mcg/m3  4554 non-null   float64\n",
      " 7   Mean mcg/m3             4554 non-null   float64\n",
      "dtypes: float64(3), int64(2), object(3)\n",
      "memory usage: 284.8+ KB\n"
     ]
    }
   ],
   "source": [
    "pm2_5.info()"
   ]
  },
  {
   "cell_type": "code",
   "execution_count": 103,
   "id": "be38588e",
   "metadata": {},
   "outputs": [
    {
     "name": "stdout",
     "output_type": "stream",
     "text": [
      "<class 'pandas.core.frame.DataFrame'>\n",
      "RangeIndex: 4554 entries, 0 to 4553\n",
      "Data columns (total 8 columns):\n",
      " #   Column               Non-Null Count  Dtype  \n",
      "---  ------               --------------  -----  \n",
      " 0   TimePeriod           4554 non-null   object \n",
      " 1   GeoType              4554 non-null   object \n",
      " 2   GeoID                4554 non-null   int64  \n",
      " 3   GeoRank              4554 non-null   int64  \n",
      " 4   Geography            4554 non-null   object \n",
      " 5   10th percentile ppb  4554 non-null   float64\n",
      " 6   90th percentile ppb  4554 non-null   float64\n",
      " 7   Mean ppb             4554 non-null   float64\n",
      "dtypes: float64(3), int64(2), object(3)\n",
      "memory usage: 284.8+ KB\n"
     ]
    }
   ],
   "source": [
    "no2.info()"
   ]
  },
  {
   "cell_type": "markdown",
   "id": "639bc05e",
   "metadata": {},
   "source": [
    "Based on the results of .info() method, data type of some of columns must be changede. For example TimePeriod in pm2_5 dataset and no2 dataset are object that should change to int. data type of Estimated annual rate per 10,000, and Age-adjusted rate per 10,000 are object that must be foat. Data type of Number is object that must be int. After run .astype() for change data type I got error the dataset contain charector '†'. So first of all I have to find how many of this character are there? and handle it."
   ]
  },
  {
   "cell_type": "markdown",
   "id": "c2b21a14",
   "metadata": {},
   "source": [
    "**2.1.Change data type of asthma_adults dataset**"
   ]
  },
  {
   "cell_type": "code",
   "execution_count": 104,
   "id": "f57ce26e",
   "metadata": {
    "scrolled": true
   },
   "outputs": [
    {
     "data": {
      "text/plain": [
       "1"
      ]
     },
     "execution_count": 104,
     "metadata": {},
     "output_type": "execute_result"
    }
   ],
   "source": [
    "asthma_adults[\"Age-adjusted rate per 10,000\"].str.contains('†').sum()"
   ]
  },
  {
   "cell_type": "markdown",
   "id": "b673b9d7",
   "metadata": {},
   "source": [
    "there is exactly one entry in the \"Age-adjusted rate per 10,000\" column of the asthma_adults DataFrame that contains the symbol '†'."
   ]
  },
  {
   "cell_type": "code",
   "execution_count": 105,
   "id": "4ea623c9",
   "metadata": {},
   "outputs": [],
   "source": [
    "# Create a copy of the DataFrame\n",
    "asthma_adults_1 = asthma_adults.copy()\n"
   ]
  },
  {
   "cell_type": "code",
   "execution_count": 106,
   "id": "b4290ebd",
   "metadata": {},
   "outputs": [],
   "source": [
    "# replace '†' with empty string, then convert to numeric, setting errors='coerce'\n",
    "asthma_adults_1[\"Age-adjusted rate per 10,000\"] = pd.to_numeric(asthma_adults_1[\"Age-adjusted rate per 10,000\"].str.replace('†', ''), errors='coerce')\n"
   ]
  },
  {
   "cell_type": "code",
   "execution_count": 107,
   "id": "f68e55de",
   "metadata": {},
   "outputs": [],
   "source": [
    "# Calculate the mean of the column, excluding NaN values\n",
    "mean_value= round(asthma_adults_1[\"Age-adjusted rate per 10,000\"].mean(),2)"
   ]
  },
  {
   "cell_type": "code",
   "execution_count": 108,
   "id": "a8f89b1a",
   "metadata": {},
   "outputs": [
    {
     "name": "stdout",
     "output_type": "stream",
     "text": [
      "96.83\n"
     ]
    }
   ],
   "source": [
    "print(mean_value)"
   ]
  },
  {
   "cell_type": "code",
   "execution_count": 109,
   "id": "e91748cc",
   "metadata": {},
   "outputs": [],
   "source": [
    "# Fill NaN values with the mean value\n",
    "asthma_adults_1[\"Age-adjusted rate per 10,000\"].fillna(mean_value, inplace=True)"
   ]
  },
  {
   "cell_type": "code",
   "execution_count": 110,
   "id": "e738f226",
   "metadata": {},
   "outputs": [],
   "source": [
    "#convert column \"Estimated annual rate per 10,000\" to numeric, setting errors='coerce'\n",
    "asthma_adults_1[\"Estimated annual rate per 10,000\"] = pd.to_numeric(asthma_adults_1[\"Estimated annual rate per 10,000\"], errors='coerce')\n"
   ]
  },
  {
   "cell_type": "code",
   "execution_count": 111,
   "id": "aabf53e0",
   "metadata": {},
   "outputs": [
    {
     "data": {
      "text/plain": [
       "1"
      ]
     },
     "execution_count": 111,
     "metadata": {},
     "output_type": "execute_result"
    }
   ],
   "source": [
    "asthma_adults_1[\"Estimated annual rate per 10,000\"].isna().sum()"
   ]
  },
  {
   "cell_type": "markdown",
   "id": "2d065680",
   "metadata": {},
   "source": [
    "There is one entry with NaN value. I want to replace it with mean value."
   ]
  },
  {
   "cell_type": "code",
   "execution_count": 112,
   "id": "648f803d",
   "metadata": {},
   "outputs": [],
   "source": [
    "# Calculate the mean of the column, excluding NaN values\n",
    "mean_value_es=round(asthma_adults_1[\"Estimated annual rate per 10,000\"].mean(),2)"
   ]
  },
  {
   "cell_type": "code",
   "execution_count": 113,
   "id": "36d852ed",
   "metadata": {},
   "outputs": [
    {
     "name": "stdout",
     "output_type": "stream",
     "text": [
      "95.58\n"
     ]
    }
   ],
   "source": [
    "print(mean_value_es)"
   ]
  },
  {
   "cell_type": "code",
   "execution_count": 114,
   "id": "e8cbc707",
   "metadata": {},
   "outputs": [],
   "source": [
    "# Fill NaN values with the mean value\n",
    "asthma_adults_1[\"Estimated annual rate per 10,000\"].fillna(mean_value_es, inplace=True)"
   ]
  },
  {
   "cell_type": "code",
   "execution_count": 115,
   "id": "fab4ef7b",
   "metadata": {},
   "outputs": [
    {
     "data": {
      "text/plain": [
       "520       4\n",
       "494       3\n",
       "982       3\n",
       "1,348     3\n",
       "740       3\n",
       "         ..\n",
       "21,089    1\n",
       "20,608    1\n",
       "12,872    1\n",
       "9,598     1\n",
       "62,425    1\n",
       "Name: Number, Length: 691, dtype: int64"
      ]
     },
     "execution_count": 115,
     "metadata": {},
     "output_type": "execute_result"
    }
   ],
   "source": [
    "# Using .value_counts()to see if there are any unusual values in column\"Number\". \n",
    "asthma_adults_1[\"Number\"].value_counts()"
   ]
  },
  {
   "cell_type": "markdown",
   "id": "338264db",
   "metadata": {},
   "source": [
    "The result showed that some of entries has (,). I ahve to remove the comma and then change the type od data."
   ]
  },
  {
   "cell_type": "code",
   "execution_count": 116,
   "id": "9c8d3e0b",
   "metadata": {},
   "outputs": [],
   "source": [
    "#Remove the ','  from the 'Number' in asthma_adults_1 dataset.\n",
    "asthma_adults_1[\"Number\"]= asthma_adults_1[\"Number\"].str.replace(\",\", \"\")"
   ]
  },
  {
   "cell_type": "code",
   "execution_count": 117,
   "id": "dd3b8a13",
   "metadata": {},
   "outputs": [],
   "source": [
    "#convert column \"Number\" to numeric, setting errors='coerce'\n",
    "asthma_adults_1[\"Number\"]= pd.to_numeric(asthma_adults_1[\"Number\"], errors=\"coerce\")"
   ]
  },
  {
   "cell_type": "code",
   "execution_count": 118,
   "id": "f25e4833",
   "metadata": {},
   "outputs": [
    {
     "data": {
      "text/plain": [
       "1"
      ]
     },
     "execution_count": 118,
     "metadata": {},
     "output_type": "execute_result"
    }
   ],
   "source": [
    "asthma_adults_1[\"Number\"].isna().sum()"
   ]
  },
  {
   "cell_type": "markdown",
   "id": "4aa4e449",
   "metadata": {},
   "source": [
    "Result shows there is one entry with NaN value and it will be replace with mean value."
   ]
  },
  {
   "cell_type": "code",
   "execution_count": 119,
   "id": "71596bf0",
   "metadata": {},
   "outputs": [],
   "source": [
    "#Calculate the mean of the column \"Number\", excluding NaN values\n",
    "mean_value_num= round(asthma_adults_1[\"Number\"].mean(),2)"
   ]
  },
  {
   "cell_type": "code",
   "execution_count": 120,
   "id": "2b88e43c",
   "metadata": {},
   "outputs": [
    {
     "name": "stdout",
     "output_type": "stream",
     "text": [
      "3608.03\n"
     ]
    }
   ],
   "source": [
    "print(mean_value_num)"
   ]
  },
  {
   "cell_type": "code",
   "execution_count": 121,
   "id": "5cc1e0af",
   "metadata": {},
   "outputs": [],
   "source": [
    "# Fill NaN values with the mean value\n",
    "asthma_adults_1[\"Number\"].fillna(mean_value_num, inplace=True)"
   ]
  },
  {
   "cell_type": "markdown",
   "id": "ed310b92",
   "metadata": {},
   "source": [
    "**2.2.Change data type of asthma_age_4 dataset**\n",
    "\n",
    "Based on the results of .info(), columns of \" Estimated annual rate per 10,000\" and \"Number\" must be change to numeric data type."
   ]
  },
  {
   "cell_type": "code",
   "execution_count": 122,
   "id": "98e8d7de",
   "metadata": {},
   "outputs": [],
   "source": [
    "# Create a copy of the DataFrame\n",
    "asthma_age_4_1=asthma_age_4.copy()"
   ]
  },
  {
   "cell_type": "code",
   "execution_count": 123,
   "id": "b4bdd00a",
   "metadata": {},
   "outputs": [
    {
     "data": {
      "text/plain": [
       "23.6     3\n",
       "99.1     3\n",
       "72.3     2\n",
       "188.8    2\n",
       "155.5    2\n",
       "        ..\n",
       "316.4    1\n",
       "183.2    1\n",
       "198.7    1\n",
       "284.7    1\n",
       "377.2    1\n",
       "Name: Estimated annual rate per 10,000, Length: 784, dtype: int64"
      ]
     },
     "execution_count": 123,
     "metadata": {},
     "output_type": "execute_result"
    }
   ],
   "source": [
    "# Using .value_counts()to see if there are any unusual values in column\"Estimated annual rate per 10,000\". \n",
    "asthma_age_4_1[\"Estimated annual rate per 10,000\"].value_counts()"
   ]
  },
  {
   "cell_type": "code",
   "execution_count": 124,
   "id": "294bf8a4",
   "metadata": {},
   "outputs": [],
   "source": [
    "#convert column to numeric, setting errors='coerce'\n",
    "asthma_age_4_1[\"Estimated annual rate per 10,000\"]= pd.to_numeric(asthma_age_4_1[\"Estimated annual rate per 10,000\"], errors=\"coerce\")"
   ]
  },
  {
   "cell_type": "code",
   "execution_count": 125,
   "id": "7004b03a",
   "metadata": {},
   "outputs": [
    {
     "data": {
      "text/plain": [
       "16"
      ]
     },
     "execution_count": 125,
     "metadata": {},
     "output_type": "execute_result"
    }
   ],
   "source": [
    "asthma_age_4_1[\"Estimated annual rate per 10,000\"].isna().sum()"
   ]
  },
  {
   "cell_type": "markdown",
   "id": "60a3005d",
   "metadata": {},
   "source": [
    "Result shows that there 16 entry with NaN values in column \"Estimated annual rate per 10,000\". These have to be replace with mean value."
   ]
  },
  {
   "cell_type": "code",
   "execution_count": 126,
   "id": "e1e9b762",
   "metadata": {},
   "outputs": [],
   "source": [
    "#Calculate the mean of the column \"Estimated annual rate per 10,000\", excluding NaN values\n",
    "mean_age_4= round(asthma_age_4_1[\"Estimated annual rate per 10,000\"].mean(),2)"
   ]
  },
  {
   "cell_type": "code",
   "execution_count": 127,
   "id": "70bdecbd",
   "metadata": {},
   "outputs": [
    {
     "name": "stdout",
     "output_type": "stream",
     "text": [
      "270.35\n"
     ]
    }
   ],
   "source": [
    "print(mean_age_4)"
   ]
  },
  {
   "cell_type": "code",
   "execution_count": 128,
   "id": "ac1c0a44",
   "metadata": {},
   "outputs": [],
   "source": [
    "# Fill NaN values with the mean value\n",
    "asthma_age_4_1[\"Estimated annual rate per 10,000\"].fillna(mean_age_4, inplace=True)"
   ]
  },
  {
   "cell_type": "code",
   "execution_count": 129,
   "id": "33d70fe3",
   "metadata": {},
   "outputs": [
    {
     "name": "stdout",
     "output_type": "stream",
     "text": [
      "<class 'pandas.core.series.Series'>\n",
      "RangeIndex: 839 entries, 0 to 838\n",
      "Series name: Estimated annual rate per 10,000\n",
      "Non-Null Count  Dtype  \n",
      "--------------  -----  \n",
      "839 non-null    float64\n",
      "dtypes: float64(1)\n",
      "memory usage: 6.7 KB\n"
     ]
    }
   ],
   "source": [
    "asthma_age_4_1[\"Estimated annual rate per 10,000\"].info()"
   ]
  },
  {
   "cell_type": "markdown",
   "id": "1a844ff0",
   "metadata": {},
   "source": [
    "Result shows Dtype of \"Estimated annual rate per 10,000\" column change to float."
   ]
  },
  {
   "cell_type": "code",
   "execution_count": 130,
   "id": "6a570fa8",
   "metadata": {},
   "outputs": [
    {
     "data": {
      "text/plain": [
       "122       8\n",
       "118       7\n",
       "50        7\n",
       "23        6\n",
       "43        6\n",
       "         ..\n",
       "1,024     1\n",
       "1,454     1\n",
       "1,070     1\n",
       "1,561     1\n",
       "19,927    1\n",
       "Name: Number, Length: 543, dtype: int64"
      ]
     },
     "execution_count": 130,
     "metadata": {},
     "output_type": "execute_result"
    }
   ],
   "source": [
    "# Using .value_counts()to see if there are any unusual values in column\"Number\".\n",
    "asthma_age_4_1[\"Number\"].value_counts()"
   ]
  },
  {
   "cell_type": "markdown",
   "id": "81a06236",
   "metadata": {},
   "source": [
    "It looks like the column has number with comma, so I have to remove from data entry and then change the data type."
   ]
  },
  {
   "cell_type": "code",
   "execution_count": 131,
   "id": "b198f04c",
   "metadata": {},
   "outputs": [],
   "source": [
    "#Remove the comma from the 'Number' column\n",
    "asthma_age_4_1[\"Number\"]= asthma_age_4_1[\"Number\"].str.replace(\",\", \"\")"
   ]
  },
  {
   "cell_type": "code",
   "execution_count": 136,
   "id": "23c02a86",
   "metadata": {},
   "outputs": [],
   "source": [
    "#convert column to numeric, setting errors='coerce'\n",
    "asthma_age_4_1[\"Number\"]= pd.to_numeric(asthma_age_4_1[\"Number\"], errors=\"coerce\")"
   ]
  },
  {
   "cell_type": "code",
   "execution_count": 137,
   "id": "8413c8ca",
   "metadata": {},
   "outputs": [
    {
     "data": {
      "text/plain": [
       "7"
      ]
     },
     "execution_count": 137,
     "metadata": {},
     "output_type": "execute_result"
    }
   ],
   "source": [
    "asthma_age_4_1[\"Number\"].isna().sum()"
   ]
  },
  {
   "cell_type": "markdown",
   "id": "e01224e7",
   "metadata": {},
   "source": [
    "There are 7 entry with NaN values that have to be replace with mean value."
   ]
  },
  {
   "cell_type": "code",
   "execution_count": 138,
   "id": "fb96c766",
   "metadata": {},
   "outputs": [],
   "source": [
    "#Calculate the mean of the column \"Number\", excluding NaN values\n",
    "mean_age4_num= round(asthma_age_4_1[\"Number\"].mean(),2)"
   ]
  },
  {
   "cell_type": "code",
   "execution_count": 139,
   "id": "84e942b5",
   "metadata": {},
   "outputs": [
    {
     "name": "stdout",
     "output_type": "stream",
     "text": [
      "972.28\n"
     ]
    }
   ],
   "source": [
    "print(mean_age4_num)"
   ]
  },
  {
   "cell_type": "code",
   "execution_count": 140,
   "id": "5e3fe256",
   "metadata": {},
   "outputs": [],
   "source": [
    "# Fill NaN values with the mean value\n",
    "asthma_age_4_1[\"Number\"].fillna(mean_age4_num, inplace= True)"
   ]
  },
  {
   "cell_type": "code",
   "execution_count": 141,
   "id": "1fc2139f",
   "metadata": {},
   "outputs": [
    {
     "name": "stdout",
     "output_type": "stream",
     "text": [
      "<class 'pandas.core.series.Series'>\n",
      "RangeIndex: 839 entries, 0 to 838\n",
      "Series name: Number\n",
      "Non-Null Count  Dtype  \n",
      "--------------  -----  \n",
      "839 non-null    float64\n",
      "dtypes: float64(1)\n",
      "memory usage: 6.7 KB\n"
     ]
    }
   ],
   "source": [
    "asthma_age_4_1[\"Number\"].info()"
   ]
  },
  {
   "cell_type": "markdown",
   "id": "1f63b608",
   "metadata": {},
   "source": [
    "Result shows Dtype of \"Number\" has changed to float."
   ]
  },
  {
   "cell_type": "markdown",
   "id": "537b9ebd",
   "metadata": {},
   "source": [
    "**2.3.Change data type of asthma_age5_17 dataset**\n",
    "\n",
    " Columns \"Estimated annual rate per 10,000\" and \"Number\" must change to numeric data type."
   ]
  },
  {
   "cell_type": "code",
   "execution_count": 142,
   "id": "a6a848b5",
   "metadata": {},
   "outputs": [],
   "source": [
    "# Create a copy of the DataFrame\n",
    "asthma_age5_17_1= asthma_age5_17.copy()"
   ]
  },
  {
   "cell_type": "code",
   "execution_count": 143,
   "id": "eb782ce7",
   "metadata": {},
   "outputs": [
    {
     "data": {
      "text/plain": [
       "139.9    3\n",
       "47.8     3\n",
       "34.6     3\n",
       "98.5     3\n",
       "160.0    3\n",
       "        ..\n",
       "78.3     1\n",
       "22.4     1\n",
       "120.2    1\n",
       "186.4    1\n",
       "453.7    1\n",
       "Name: Estimated annual rate per 10,000, Length: 737, dtype: int64"
      ]
     },
     "execution_count": 143,
     "metadata": {},
     "output_type": "execute_result"
    }
   ],
   "source": [
    "# Using .value_counts()to see if there are any unusual values in column\"Estimated annual rate per 10,000\".\n",
    "asthma_age5_17_1[\"Estimated annual rate per 10,000\"].value_counts()"
   ]
  },
  {
   "cell_type": "code",
   "execution_count": 144,
   "id": "d5e79635",
   "metadata": {},
   "outputs": [],
   "source": [
    "#convert column to numeric, setting errors='coerce'\n",
    "asthma_age5_17_1[\"Estimated annual rate per 10,000\"]= pd.to_numeric(asthma_age5_17_1[\"Estimated annual rate per 10,000\"], errors=\"coerce\")\n"
   ]
  },
  {
   "cell_type": "code",
   "execution_count": 145,
   "id": "bb4a7e76",
   "metadata": {},
   "outputs": [
    {
     "data": {
      "text/plain": [
       "6"
      ]
     },
     "execution_count": 145,
     "metadata": {},
     "output_type": "execute_result"
    }
   ],
   "source": [
    "asthma_age5_17_1[\"Estimated annual rate per 10,000\"].isna().sum()"
   ]
  },
  {
   "cell_type": "markdown",
   "id": "c3f32a5e",
   "metadata": {},
   "source": [
    "There are 6 entries with NaN values that have to be replace with the mean."
   ]
  },
  {
   "cell_type": "code",
   "execution_count": 146,
   "id": "dddc1e55",
   "metadata": {},
   "outputs": [],
   "source": [
    "#Calculate the mean of the column \"Number\", excluding NaN values\n",
    "mean_5_17= round(asthma_age5_17_1[\"Estimated annual rate per 10,000\"].mean(),2)"
   ]
  },
  {
   "cell_type": "code",
   "execution_count": 147,
   "id": "00ece497",
   "metadata": {},
   "outputs": [
    {
     "name": "stdout",
     "output_type": "stream",
     "text": [
      "170.61\n"
     ]
    }
   ],
   "source": [
    "print(mean_5_17)"
   ]
  },
  {
   "cell_type": "code",
   "execution_count": 148,
   "id": "03c467c9",
   "metadata": {},
   "outputs": [],
   "source": [
    "# Fill NaN values with the mean value\n",
    "asthma_age5_17_1[\"Estimated annual rate per 10,000\"].fillna(mean_5_17, inplace=True)"
   ]
  },
  {
   "cell_type": "code",
   "execution_count": 149,
   "id": "b1a72855",
   "metadata": {},
   "outputs": [
    {
     "data": {
      "text/plain": [
       "109      6\n",
       "113      5\n",
       "5*       4\n",
       "29       4\n",
       "135      4\n",
       "116      4\n",
       "139      4\n",
       "253      4\n",
       "202      4\n",
       "81       4\n",
       "94       4\n",
       "85       4\n",
       "327      3\n",
       "351      3\n",
       "37       3\n",
       "244      3\n",
       "1,209    3\n",
       "321      3\n",
       "348      3\n",
       "291      3\n",
       "Name: Number, dtype: int64"
      ]
     },
     "execution_count": 149,
     "metadata": {},
     "output_type": "execute_result"
    }
   ],
   "source": [
    "# Using .value_counts()to see if there are any unusual values in column\"Estimated annual rate per 10,000\".\n",
    "asthma_age5_17_1[\"Number\"].value_counts().head(20)"
   ]
  },
  {
   "cell_type": "markdown",
   "id": "de40ded3",
   "metadata": {},
   "source": [
    "Results shows that some number are with * and some of them have comma. (*) in dataset means that **Estimate is based on small numbers so should be interpreted with caution**. So I want to add new column to asthma_age5_17_1 that will indicate whether the original value had an asterisk. This way, I can maintain the information about the reliability of the estimate."
   ]
  },
  {
   "cell_type": "code",
   "execution_count": 150,
   "id": "be23e970",
   "metadata": {},
   "outputs": [],
   "source": [
    "#Create a new column to indicate estimates based on small numbers\n",
    "asthma_age5_17_1[\"small_number_estimate\"]= asthma_age5_17_1[\"Number\"].str.contains(\"\\*\")"
   ]
  },
  {
   "cell_type": "code",
   "execution_count": 151,
   "id": "4ef812a9",
   "metadata": {},
   "outputs": [
    {
     "data": {
      "text/html": [
       "<div>\n",
       "<style scoped>\n",
       "    .dataframe tbody tr th:only-of-type {\n",
       "        vertical-align: middle;\n",
       "    }\n",
       "\n",
       "    .dataframe tbody tr th {\n",
       "        vertical-align: top;\n",
       "    }\n",
       "\n",
       "    .dataframe thead th {\n",
       "        text-align: right;\n",
       "    }\n",
       "</style>\n",
       "<table border=\"1\" class=\"dataframe\">\n",
       "  <thead>\n",
       "    <tr style=\"text-align: right;\">\n",
       "      <th></th>\n",
       "      <th>TimePeriod</th>\n",
       "      <th>GeoType</th>\n",
       "      <th>GeoID</th>\n",
       "      <th>GeoRank</th>\n",
       "      <th>Geography</th>\n",
       "      <th>Estimated annual rate per 10,000</th>\n",
       "      <th>Number</th>\n",
       "      <th>small_number_estimate</th>\n",
       "    </tr>\n",
       "  </thead>\n",
       "  <tbody>\n",
       "    <tr>\n",
       "      <th>0</th>\n",
       "      <td>2020</td>\n",
       "      <td>CD</td>\n",
       "      <td>101</td>\n",
       "      <td>6</td>\n",
       "      <td>Financial District (CD1)</td>\n",
       "      <td>170.61</td>\n",
       "      <td>6*</td>\n",
       "      <td>True</td>\n",
       "    </tr>\n",
       "    <tr>\n",
       "      <th>1</th>\n",
       "      <td>2020</td>\n",
       "      <td>CD</td>\n",
       "      <td>102</td>\n",
       "      <td>6</td>\n",
       "      <td>Greenwich Village and Soho (CD2)</td>\n",
       "      <td>170.61</td>\n",
       "      <td>5*</td>\n",
       "      <td>True</td>\n",
       "    </tr>\n",
       "    <tr>\n",
       "      <th>2</th>\n",
       "      <td>2020</td>\n",
       "      <td>CD</td>\n",
       "      <td>103</td>\n",
       "      <td>6</td>\n",
       "      <td>Lower East Side and Chinatown (CD3)</td>\n",
       "      <td>81.90</td>\n",
       "      <td>136</td>\n",
       "      <td>False</td>\n",
       "    </tr>\n",
       "    <tr>\n",
       "      <th>3</th>\n",
       "      <td>2020</td>\n",
       "      <td>CD</td>\n",
       "      <td>104</td>\n",
       "      <td>6</td>\n",
       "      <td>Clinton and Chelsea (CD4)</td>\n",
       "      <td>42.10</td>\n",
       "      <td>34</td>\n",
       "      <td>False</td>\n",
       "    </tr>\n",
       "    <tr>\n",
       "      <th>4</th>\n",
       "      <td>2020</td>\n",
       "      <td>CD</td>\n",
       "      <td>105</td>\n",
       "      <td>6</td>\n",
       "      <td>Midtown (CD5)</td>\n",
       "      <td>170.61</td>\n",
       "      <td>5*</td>\n",
       "      <td>True</td>\n",
       "    </tr>\n",
       "  </tbody>\n",
       "</table>\n",
       "</div>"
      ],
      "text/plain": [
       "   TimePeriod GeoType  GeoID  GeoRank                            Geography  \\\n",
       "0        2020      CD    101        6             Financial District (CD1)   \n",
       "1        2020      CD    102        6     Greenwich Village and Soho (CD2)   \n",
       "2        2020      CD    103        6  Lower East Side and Chinatown (CD3)   \n",
       "3        2020      CD    104        6            Clinton and Chelsea (CD4)   \n",
       "4        2020      CD    105        6                        Midtown (CD5)   \n",
       "\n",
       "   Estimated annual rate per 10,000 Number  small_number_estimate  \n",
       "0                            170.61     6*                   True  \n",
       "1                            170.61     5*                   True  \n",
       "2                             81.90    136                  False  \n",
       "3                             42.10     34                  False  \n",
       "4                            170.61     5*                   True  "
      ]
     },
     "execution_count": 151,
     "metadata": {},
     "output_type": "execute_result"
    }
   ],
   "source": [
    "asthma_age5_17_1.head()"
   ]
  },
  {
   "cell_type": "markdown",
   "id": "5cf38a39",
   "metadata": {},
   "source": [
    "New column \"small_number_estimate\" added to the dataset and shows which number's estimate is based on small numbers so should be interpreted with caution."
   ]
  },
  {
   "cell_type": "code",
   "execution_count": 152,
   "id": "daff8456",
   "metadata": {},
   "outputs": [
    {
     "name": "stderr",
     "output_type": "stream",
     "text": [
      "/var/folders/4m/z4mg17k15k1955vh989t499c0000gn/T/ipykernel_65200/2827648353.py:2: FutureWarning: The default value of regex will change from True to False in a future version. In addition, single character regular expressions will *not* be treated as literal strings when regex=True.\n",
      "  asthma_age5_17_1[\"Number\"]=asthma_age5_17_1[\"Number\"].str.replace(\"*\", \"\")\n"
     ]
    }
   ],
   "source": [
    "# Remove the asterisks and commas\n",
    "asthma_age5_17_1[\"Number\"]=asthma_age5_17_1[\"Number\"].str.replace(\"*\", \"\")\n"
   ]
  },
  {
   "cell_type": "code",
   "execution_count": 153,
   "id": "0a5504e1",
   "metadata": {},
   "outputs": [],
   "source": [
    "asthma_age5_17_1[\"Number\"]=asthma_age5_17_1[\"Number\"].str.replace(\"*\", \"\",regex=False).str.replace(\",\",\"\")"
   ]
  },
  {
   "cell_type": "code",
   "execution_count": 154,
   "id": "07cb0aac",
   "metadata": {},
   "outputs": [
    {
     "data": {
      "text/plain": [
       "109      6\n",
       "113      5\n",
       "5        4\n",
       "29       4\n",
       "135      4\n",
       "        ..\n",
       "228      1\n",
       "1052     1\n",
       "444      1\n",
       "16       1\n",
       "25834    1\n",
       "Name: Number, Length: 614, dtype: int64"
      ]
     },
     "execution_count": 154,
     "metadata": {},
     "output_type": "execute_result"
    }
   ],
   "source": [
    "asthma_age5_17_1[\"Number\"].value_counts()"
   ]
  },
  {
   "cell_type": "code",
   "execution_count": 155,
   "id": "e99e81b8",
   "metadata": {},
   "outputs": [],
   "source": [
    "#convert column to numeric, setting errors='coerce'\n",
    "asthma_age5_17_1[\"Number\"]= pd.to_numeric(asthma_age5_17_1[\"Number\"], errors=\"coerce\")"
   ]
  },
  {
   "cell_type": "code",
   "execution_count": 156,
   "id": "c04cafa2",
   "metadata": {},
   "outputs": [
    {
     "data": {
      "text/plain": [
       "0"
      ]
     },
     "execution_count": 156,
     "metadata": {},
     "output_type": "execute_result"
    }
   ],
   "source": [
    "asthma_age5_17_1[\"Number\"].isna().sum()"
   ]
  },
  {
   "cell_type": "markdown",
   "id": "7191d7a8",
   "metadata": {},
   "source": [
    "**2.4.Change data type of pm2_5 dataset**\n",
    "\n",
    "The \"TimePeriod\" column has object data type that has to change to numeric."
   ]
  },
  {
   "cell_type": "code",
   "execution_count": 157,
   "id": "21e78ac3",
   "metadata": {},
   "outputs": [],
   "source": [
    "# Creat a copy of dataFrame\n",
    "pm2_5_1= pm2_5.copy()"
   ]
  },
  {
   "cell_type": "code",
   "execution_count": 158,
   "id": "b470ae27",
   "metadata": {},
   "outputs": [
    {
     "data": {
      "text/plain": [
       "Annual Average 2022    141\n",
       "Summer 2018            141\n",
       "Winter 2014-15         141\n",
       "Summer 2015            141\n",
       "Summer 2022            141\n",
       "Winter 2015-16         141\n",
       "Summer 2016            141\n",
       "Annual Average 2016    141\n",
       "Winter 2016-17         141\n",
       "Summer 2017            141\n",
       "Annual Average 2017    141\n",
       "Winter 2017-18         141\n",
       "Annual Average 2015    141\n",
       "Annual Average 2018    141\n",
       "Annual Average 2020    141\n",
       "Winter 2018-19         141\n",
       "Winter 2021-22         141\n",
       "Summer 2021            141\n",
       "Winter 2020-21         141\n",
       "Annual Average 2021    141\n",
       "Summer 2020            141\n",
       "Winter 2019-20         141\n",
       "Annual Average 2019    141\n",
       "Summer 2019            141\n",
       "Annual Average 2011     65\n",
       "Summer 2009             65\n",
       "Annual Average 2009     65\n",
       "Winter 2009-10          65\n",
       "Summer 2010             65\n",
       "Annual Average 2010     65\n",
       "Winter 2010-11          65\n",
       "Summer 2011             65\n",
       "Annual Average 2013     65\n",
       "Winter 2011-12          65\n",
       "Summer 2012             65\n",
       "Annual Average 2012     65\n",
       "Winter 2012-13          65\n",
       "Summer 2013             65\n",
       "Winter 2013-14          65\n",
       "Summer 2014             65\n",
       "Annual Average 2014     65\n",
       "Winter 2008-09          65\n",
       "Name: TimePeriod, dtype: int64"
      ]
     },
     "execution_count": 158,
     "metadata": {},
     "output_type": "execute_result"
    }
   ],
   "source": [
    "# Using .value_counts()to see if there are any unusual values in column\"TimePeriod\".\n",
    "pm2_5_1[\"TimePeriod\"].value_counts()"
   ]
  },
  {
   "cell_type": "markdown",
   "id": "d5401a21",
   "metadata": {},
   "source": [
    "Results of .value_counts() shows different type of entry including: Annual Average, Summer, and Winter. Because values of the other dataframes sucha as asthma_adults, asthma_age_4, and asthma_5_17 are based on annual not seasonal, therefore I decide to keep just Annual Average values."
   ]
  },
  {
   "cell_type": "code",
   "execution_count": 159,
   "id": "0da78b93",
   "metadata": {},
   "outputs": [],
   "source": [
    "# filter rows to keep Annual Average rows\n",
    "pm2_5_sub= pm2_5_1[pm2_5_1[\"TimePeriod\"].str.startswith(\"Annual Average\")]"
   ]
  },
  {
   "cell_type": "code",
   "execution_count": 160,
   "id": "8c8cb6f4",
   "metadata": {},
   "outputs": [
    {
     "data": {
      "text/html": [
       "<div>\n",
       "<style scoped>\n",
       "    .dataframe tbody tr th:only-of-type {\n",
       "        vertical-align: middle;\n",
       "    }\n",
       "\n",
       "    .dataframe tbody tr th {\n",
       "        vertical-align: top;\n",
       "    }\n",
       "\n",
       "    .dataframe thead th {\n",
       "        text-align: right;\n",
       "    }\n",
       "</style>\n",
       "<table border=\"1\" class=\"dataframe\">\n",
       "  <thead>\n",
       "    <tr style=\"text-align: right;\">\n",
       "      <th></th>\n",
       "      <th>TimePeriod</th>\n",
       "      <th>GeoType</th>\n",
       "      <th>GeoID</th>\n",
       "      <th>GeoRank</th>\n",
       "      <th>Geography</th>\n",
       "      <th>10th percentile mcg/m3</th>\n",
       "      <th>90th percentile mcg/m3</th>\n",
       "      <th>Mean mcg/m3</th>\n",
       "    </tr>\n",
       "  </thead>\n",
       "  <tbody>\n",
       "    <tr>\n",
       "      <th>0</th>\n",
       "      <td>Annual Average 2022</td>\n",
       "      <td>CD</td>\n",
       "      <td>101</td>\n",
       "      <td>6</td>\n",
       "      <td>Financial District (CD1)</td>\n",
       "      <td>6.7</td>\n",
       "      <td>7.8</td>\n",
       "      <td>7.2</td>\n",
       "    </tr>\n",
       "    <tr>\n",
       "      <th>1</th>\n",
       "      <td>Annual Average 2022</td>\n",
       "      <td>CD</td>\n",
       "      <td>102</td>\n",
       "      <td>6</td>\n",
       "      <td>Greenwich Village and Soho (CD2)</td>\n",
       "      <td>7.6</td>\n",
       "      <td>9.3</td>\n",
       "      <td>8.4</td>\n",
       "    </tr>\n",
       "    <tr>\n",
       "      <th>2</th>\n",
       "      <td>Annual Average 2022</td>\n",
       "      <td>CD</td>\n",
       "      <td>103</td>\n",
       "      <td>6</td>\n",
       "      <td>Lower East Side and Chinatown (CD3)</td>\n",
       "      <td>6.1</td>\n",
       "      <td>8.6</td>\n",
       "      <td>7.2</td>\n",
       "    </tr>\n",
       "    <tr>\n",
       "      <th>3</th>\n",
       "      <td>Annual Average 2022</td>\n",
       "      <td>CD</td>\n",
       "      <td>104</td>\n",
       "      <td>6</td>\n",
       "      <td>Clinton and Chelsea (CD4)</td>\n",
       "      <td>6.7</td>\n",
       "      <td>9.0</td>\n",
       "      <td>7.8</td>\n",
       "    </tr>\n",
       "    <tr>\n",
       "      <th>4</th>\n",
       "      <td>Annual Average 2022</td>\n",
       "      <td>CD</td>\n",
       "      <td>105</td>\n",
       "      <td>6</td>\n",
       "      <td>Midtown (CD5)</td>\n",
       "      <td>8.2</td>\n",
       "      <td>9.7</td>\n",
       "      <td>9.1</td>\n",
       "    </tr>\n",
       "  </tbody>\n",
       "</table>\n",
       "</div>"
      ],
      "text/plain": [
       "            TimePeriod GeoType  GeoID  GeoRank  \\\n",
       "0  Annual Average 2022      CD    101        6   \n",
       "1  Annual Average 2022      CD    102        6   \n",
       "2  Annual Average 2022      CD    103        6   \n",
       "3  Annual Average 2022      CD    104        6   \n",
       "4  Annual Average 2022      CD    105        6   \n",
       "\n",
       "                             Geography  10th percentile mcg/m3  \\\n",
       "0             Financial District (CD1)                     6.7   \n",
       "1     Greenwich Village and Soho (CD2)                     7.6   \n",
       "2  Lower East Side and Chinatown (CD3)                     6.1   \n",
       "3            Clinton and Chelsea (CD4)                     6.7   \n",
       "4                        Midtown (CD5)                     8.2   \n",
       "\n",
       "   90th percentile mcg/m3  Mean mcg/m3  \n",
       "0                     7.8          7.2  \n",
       "1                     9.3          8.4  \n",
       "2                     8.6          7.2  \n",
       "3                     9.0          7.8  \n",
       "4                     9.7          9.1  "
      ]
     },
     "execution_count": 160,
     "metadata": {},
     "output_type": "execute_result"
    }
   ],
   "source": [
    "pm2_5_sub.head()"
   ]
  },
  {
   "cell_type": "markdown",
   "id": "15afbaa4",
   "metadata": {},
   "source": [
    "All data for \"TimePeriod\" column just include Annual Average."
   ]
  },
  {
   "cell_type": "code",
   "execution_count": 161,
   "id": "abef711e",
   "metadata": {},
   "outputs": [],
   "source": [
    "#Remove the 'Annual' prefix from the 'TimePeriod' in pm2_5_sub\n",
    "pm2_5_sub= pm2_5_sub.copy()\n",
    "pm2_5_sub[\"TimePeriod\"]= pm2_5_sub[\"TimePeriod\"].str.replace(\"Annual Average\", \"\")"
   ]
  },
  {
   "cell_type": "code",
   "execution_count": 162,
   "id": "1baf3450",
   "metadata": {},
   "outputs": [
    {
     "data": {
      "text/html": [
       "<div>\n",
       "<style scoped>\n",
       "    .dataframe tbody tr th:only-of-type {\n",
       "        vertical-align: middle;\n",
       "    }\n",
       "\n",
       "    .dataframe tbody tr th {\n",
       "        vertical-align: top;\n",
       "    }\n",
       "\n",
       "    .dataframe thead th {\n",
       "        text-align: right;\n",
       "    }\n",
       "</style>\n",
       "<table border=\"1\" class=\"dataframe\">\n",
       "  <thead>\n",
       "    <tr style=\"text-align: right;\">\n",
       "      <th></th>\n",
       "      <th>TimePeriod</th>\n",
       "      <th>GeoType</th>\n",
       "      <th>GeoID</th>\n",
       "      <th>GeoRank</th>\n",
       "      <th>Geography</th>\n",
       "      <th>10th percentile mcg/m3</th>\n",
       "      <th>90th percentile mcg/m3</th>\n",
       "      <th>Mean mcg/m3</th>\n",
       "    </tr>\n",
       "  </thead>\n",
       "  <tbody>\n",
       "    <tr>\n",
       "      <th>0</th>\n",
       "      <td>2022</td>\n",
       "      <td>CD</td>\n",
       "      <td>101</td>\n",
       "      <td>6</td>\n",
       "      <td>Financial District (CD1)</td>\n",
       "      <td>6.7</td>\n",
       "      <td>7.8</td>\n",
       "      <td>7.2</td>\n",
       "    </tr>\n",
       "    <tr>\n",
       "      <th>1</th>\n",
       "      <td>2022</td>\n",
       "      <td>CD</td>\n",
       "      <td>102</td>\n",
       "      <td>6</td>\n",
       "      <td>Greenwich Village and Soho (CD2)</td>\n",
       "      <td>7.6</td>\n",
       "      <td>9.3</td>\n",
       "      <td>8.4</td>\n",
       "    </tr>\n",
       "    <tr>\n",
       "      <th>2</th>\n",
       "      <td>2022</td>\n",
       "      <td>CD</td>\n",
       "      <td>103</td>\n",
       "      <td>6</td>\n",
       "      <td>Lower East Side and Chinatown (CD3)</td>\n",
       "      <td>6.1</td>\n",
       "      <td>8.6</td>\n",
       "      <td>7.2</td>\n",
       "    </tr>\n",
       "    <tr>\n",
       "      <th>3</th>\n",
       "      <td>2022</td>\n",
       "      <td>CD</td>\n",
       "      <td>104</td>\n",
       "      <td>6</td>\n",
       "      <td>Clinton and Chelsea (CD4)</td>\n",
       "      <td>6.7</td>\n",
       "      <td>9.0</td>\n",
       "      <td>7.8</td>\n",
       "    </tr>\n",
       "    <tr>\n",
       "      <th>4</th>\n",
       "      <td>2022</td>\n",
       "      <td>CD</td>\n",
       "      <td>105</td>\n",
       "      <td>6</td>\n",
       "      <td>Midtown (CD5)</td>\n",
       "      <td>8.2</td>\n",
       "      <td>9.7</td>\n",
       "      <td>9.1</td>\n",
       "    </tr>\n",
       "  </tbody>\n",
       "</table>\n",
       "</div>"
      ],
      "text/plain": [
       "  TimePeriod GeoType  GeoID  GeoRank                            Geography  \\\n",
       "0       2022      CD    101        6             Financial District (CD1)   \n",
       "1       2022      CD    102        6     Greenwich Village and Soho (CD2)   \n",
       "2       2022      CD    103        6  Lower East Side and Chinatown (CD3)   \n",
       "3       2022      CD    104        6            Clinton and Chelsea (CD4)   \n",
       "4       2022      CD    105        6                        Midtown (CD5)   \n",
       "\n",
       "   10th percentile mcg/m3  90th percentile mcg/m3  Mean mcg/m3  \n",
       "0                     6.7                     7.8          7.2  \n",
       "1                     7.6                     9.3          8.4  \n",
       "2                     6.1                     8.6          7.2  \n",
       "3                     6.7                     9.0          7.8  \n",
       "4                     8.2                     9.7          9.1  "
      ]
     },
     "execution_count": 162,
     "metadata": {},
     "output_type": "execute_result"
    }
   ],
   "source": [
    "pm2_5_sub.head()"
   ]
  },
  {
   "cell_type": "code",
   "execution_count": 163,
   "id": "7d3524e5",
   "metadata": {},
   "outputs": [],
   "source": [
    "#Creat a copy of dataframe\n",
    "no2_1= no2.copy()"
   ]
  },
  {
   "cell_type": "code",
   "execution_count": 164,
   "id": "6c5743ae",
   "metadata": {},
   "outputs": [
    {
     "data": {
      "text/html": [
       "<div>\n",
       "<style scoped>\n",
       "    .dataframe tbody tr th:only-of-type {\n",
       "        vertical-align: middle;\n",
       "    }\n",
       "\n",
       "    .dataframe tbody tr th {\n",
       "        vertical-align: top;\n",
       "    }\n",
       "\n",
       "    .dataframe thead th {\n",
       "        text-align: right;\n",
       "    }\n",
       "</style>\n",
       "<table border=\"1\" class=\"dataframe\">\n",
       "  <thead>\n",
       "    <tr style=\"text-align: right;\">\n",
       "      <th></th>\n",
       "      <th>TimePeriod</th>\n",
       "      <th>GeoType</th>\n",
       "      <th>GeoID</th>\n",
       "      <th>GeoRank</th>\n",
       "      <th>Geography</th>\n",
       "      <th>10th percentile ppb</th>\n",
       "      <th>90th percentile ppb</th>\n",
       "      <th>Mean ppb</th>\n",
       "    </tr>\n",
       "  </thead>\n",
       "  <tbody>\n",
       "    <tr>\n",
       "      <th>0</th>\n",
       "      <td>Annual Average 2022</td>\n",
       "      <td>CD</td>\n",
       "      <td>101</td>\n",
       "      <td>6</td>\n",
       "      <td>Financial District (CD1)</td>\n",
       "      <td>19.3</td>\n",
       "      <td>22.4</td>\n",
       "      <td>21.0</td>\n",
       "    </tr>\n",
       "    <tr>\n",
       "      <th>1</th>\n",
       "      <td>Annual Average 2022</td>\n",
       "      <td>CD</td>\n",
       "      <td>102</td>\n",
       "      <td>6</td>\n",
       "      <td>Greenwich Village and Soho (CD2)</td>\n",
       "      <td>19.2</td>\n",
       "      <td>21.1</td>\n",
       "      <td>20.2</td>\n",
       "    </tr>\n",
       "    <tr>\n",
       "      <th>2</th>\n",
       "      <td>Annual Average 2022</td>\n",
       "      <td>CD</td>\n",
       "      <td>103</td>\n",
       "      <td>6</td>\n",
       "      <td>Lower East Side and Chinatown (CD3)</td>\n",
       "      <td>15.8</td>\n",
       "      <td>19.9</td>\n",
       "      <td>17.8</td>\n",
       "    </tr>\n",
       "    <tr>\n",
       "      <th>3</th>\n",
       "      <td>Annual Average 2022</td>\n",
       "      <td>CD</td>\n",
       "      <td>104</td>\n",
       "      <td>6</td>\n",
       "      <td>Clinton and Chelsea (CD4)</td>\n",
       "      <td>18.6</td>\n",
       "      <td>24.4</td>\n",
       "      <td>21.4</td>\n",
       "    </tr>\n",
       "    <tr>\n",
       "      <th>4</th>\n",
       "      <td>Annual Average 2022</td>\n",
       "      <td>CD</td>\n",
       "      <td>105</td>\n",
       "      <td>6</td>\n",
       "      <td>Midtown (CD5)</td>\n",
       "      <td>22.4</td>\n",
       "      <td>27.8</td>\n",
       "      <td>25.5</td>\n",
       "    </tr>\n",
       "  </tbody>\n",
       "</table>\n",
       "</div>"
      ],
      "text/plain": [
       "            TimePeriod GeoType  GeoID  GeoRank  \\\n",
       "0  Annual Average 2022      CD    101        6   \n",
       "1  Annual Average 2022      CD    102        6   \n",
       "2  Annual Average 2022      CD    103        6   \n",
       "3  Annual Average 2022      CD    104        6   \n",
       "4  Annual Average 2022      CD    105        6   \n",
       "\n",
       "                             Geography  10th percentile ppb  \\\n",
       "0             Financial District (CD1)                 19.3   \n",
       "1     Greenwich Village and Soho (CD2)                 19.2   \n",
       "2  Lower East Side and Chinatown (CD3)                 15.8   \n",
       "3            Clinton and Chelsea (CD4)                 18.6   \n",
       "4                        Midtown (CD5)                 22.4   \n",
       "\n",
       "   90th percentile ppb  Mean ppb  \n",
       "0                 22.4      21.0  \n",
       "1                 21.1      20.2  \n",
       "2                 19.9      17.8  \n",
       "3                 24.4      21.4  \n",
       "4                 27.8      25.5  "
      ]
     },
     "execution_count": 164,
     "metadata": {},
     "output_type": "execute_result"
    }
   ],
   "source": [
    "# filter rows to keep Annual Average rows\n",
    "no2_sub= no2_1[no2_1[\"TimePeriod\"].str.startswith(\"Annual Average\")]\n",
    "no2_sub.head()"
   ]
  },
  {
   "cell_type": "code",
   "execution_count": 165,
   "id": "a44b8355",
   "metadata": {},
   "outputs": [
    {
     "data": {
      "text/html": [
       "<div>\n",
       "<style scoped>\n",
       "    .dataframe tbody tr th:only-of-type {\n",
       "        vertical-align: middle;\n",
       "    }\n",
       "\n",
       "    .dataframe tbody tr th {\n",
       "        vertical-align: top;\n",
       "    }\n",
       "\n",
       "    .dataframe thead th {\n",
       "        text-align: right;\n",
       "    }\n",
       "</style>\n",
       "<table border=\"1\" class=\"dataframe\">\n",
       "  <thead>\n",
       "    <tr style=\"text-align: right;\">\n",
       "      <th></th>\n",
       "      <th>TimePeriod</th>\n",
       "      <th>GeoType</th>\n",
       "      <th>GeoID</th>\n",
       "      <th>GeoRank</th>\n",
       "      <th>Geography</th>\n",
       "      <th>10th percentile ppb</th>\n",
       "      <th>90th percentile ppb</th>\n",
       "      <th>Mean ppb</th>\n",
       "    </tr>\n",
       "  </thead>\n",
       "  <tbody>\n",
       "    <tr>\n",
       "      <th>0</th>\n",
       "      <td>2022</td>\n",
       "      <td>CD</td>\n",
       "      <td>101</td>\n",
       "      <td>6</td>\n",
       "      <td>Financial District (CD1)</td>\n",
       "      <td>19.3</td>\n",
       "      <td>22.4</td>\n",
       "      <td>21.0</td>\n",
       "    </tr>\n",
       "    <tr>\n",
       "      <th>1</th>\n",
       "      <td>2022</td>\n",
       "      <td>CD</td>\n",
       "      <td>102</td>\n",
       "      <td>6</td>\n",
       "      <td>Greenwich Village and Soho (CD2)</td>\n",
       "      <td>19.2</td>\n",
       "      <td>21.1</td>\n",
       "      <td>20.2</td>\n",
       "    </tr>\n",
       "    <tr>\n",
       "      <th>2</th>\n",
       "      <td>2022</td>\n",
       "      <td>CD</td>\n",
       "      <td>103</td>\n",
       "      <td>6</td>\n",
       "      <td>Lower East Side and Chinatown (CD3)</td>\n",
       "      <td>15.8</td>\n",
       "      <td>19.9</td>\n",
       "      <td>17.8</td>\n",
       "    </tr>\n",
       "    <tr>\n",
       "      <th>3</th>\n",
       "      <td>2022</td>\n",
       "      <td>CD</td>\n",
       "      <td>104</td>\n",
       "      <td>6</td>\n",
       "      <td>Clinton and Chelsea (CD4)</td>\n",
       "      <td>18.6</td>\n",
       "      <td>24.4</td>\n",
       "      <td>21.4</td>\n",
       "    </tr>\n",
       "    <tr>\n",
       "      <th>4</th>\n",
       "      <td>2022</td>\n",
       "      <td>CD</td>\n",
       "      <td>105</td>\n",
       "      <td>6</td>\n",
       "      <td>Midtown (CD5)</td>\n",
       "      <td>22.4</td>\n",
       "      <td>27.8</td>\n",
       "      <td>25.5</td>\n",
       "    </tr>\n",
       "  </tbody>\n",
       "</table>\n",
       "</div>"
      ],
      "text/plain": [
       "  TimePeriod GeoType  GeoID  GeoRank                            Geography  \\\n",
       "0       2022      CD    101        6             Financial District (CD1)   \n",
       "1       2022      CD    102        6     Greenwich Village and Soho (CD2)   \n",
       "2       2022      CD    103        6  Lower East Side and Chinatown (CD3)   \n",
       "3       2022      CD    104        6            Clinton and Chelsea (CD4)   \n",
       "4       2022      CD    105        6                        Midtown (CD5)   \n",
       "\n",
       "   10th percentile ppb  90th percentile ppb  Mean ppb  \n",
       "0                 19.3                 22.4      21.0  \n",
       "1                 19.2                 21.1      20.2  \n",
       "2                 15.8                 19.9      17.8  \n",
       "3                 18.6                 24.4      21.4  \n",
       "4                 22.4                 27.8      25.5  "
      ]
     },
     "execution_count": 165,
     "metadata": {},
     "output_type": "execute_result"
    }
   ],
   "source": [
    "#Remove the 'Annual' prefix from the 'TimePeriod' in pm2_5_sub\n",
    "no2_sub=no2_sub.copy()\n",
    "no2_sub[\"TimePeriod\"]= no2_sub[\"TimePeriod\"].str.replace(\"Annual Average\", \"\")\n",
    "no2_sub.head()"
   ]
  },
  {
   "cell_type": "code",
   "execution_count": 166,
   "id": "f61ee51e",
   "metadata": {},
   "outputs": [],
   "source": [
    "# Change the data type into int\n",
    "pm2_5_sub[\"TimePeriod\"]=pm2_5_sub[\"TimePeriod\"].astype(int)\n",
    "\n",
    "no2_sub[\"TimePeriod\"]=no2_sub[\"TimePeriod\"].astype(int)"
   ]
  },
  {
   "cell_type": "code",
   "execution_count": 167,
   "id": "bcc9bde2",
   "metadata": {},
   "outputs": [
    {
     "name": "stdout",
     "output_type": "stream",
     "text": [
      "<class 'pandas.core.series.Series'>\n",
      "Int64Index: 1518 entries, 0 to 4423\n",
      "Series name: TimePeriod\n",
      "Non-Null Count  Dtype\n",
      "--------------  -----\n",
      "1518 non-null   int64\n",
      "dtypes: int64(1)\n",
      "memory usage: 23.7 KB\n"
     ]
    }
   ],
   "source": [
    "\n",
    "no2_sub[\"TimePeriod\"].info()"
   ]
  },
  {
   "cell_type": "markdown",
   "id": "75ebe4ba",
   "metadata": {},
   "source": [
    "Data type on the \"TimePeriod\" column changed to int."
   ]
  },
  {
   "cell_type": "markdown",
   "id": "5f91fedf",
   "metadata": {},
   "source": [
    "**3.Data Cleaning**"
   ]
  },
  {
   "cell_type": "markdown",
   "id": "a42460ef",
   "metadata": {},
   "source": [
    "**3.1. Dropping Unneccessary Rows:**\n",
    "\n",
    "I want to choose three neighborhoods in New York City to assess air quality that can provide an overview of the whole area requires considering diversity in geography, urban density, and potential sources of pollution. Based on the Geography column in csv files that includes all neighborhoods,I want to choose New yourk, Manhatan,Staten Island."
   ]
  },
  {
   "cell_type": "code",
   "execution_count": 168,
   "id": "32902e54",
   "metadata": {},
   "outputs": [],
   "source": [
    "# List of names I want to keep\n",
    "rows_to_keep=[\"New York City\",\"Manhattan\",\"Staten Island\"]"
   ]
  },
  {
   "cell_type": "code",
   "execution_count": 169,
   "id": "d3dff3b7",
   "metadata": {},
   "outputs": [],
   "source": [
    "# Creat a new Dataframe with only rows for our study with the name,\"New York City\",\"Manhattan\",\"Staten Island\"\n",
    "asthma_adults_df=asthma_adults_1.loc[asthma_adults_1[\"Geography\"].isin(rows_to_keep)]\n",
    "\n",
    "asthma_age_4_df= asthma_age_4_1.loc[asthma_age_4_1[\"Geography\"].isin(rows_to_keep)]\n",
    "\n",
    "asthma_age5_17_df=asthma_age5_17_1.loc[asthma_age5_17_1[\"Geography\"].isin(rows_to_keep)]\n",
    "\n",
    "pm2_5_df= pm2_5_sub.loc[pm2_5_sub[\"Geography\"].isin(rows_to_keep)]\n",
    "\n",
    "no2_df= no2_sub.loc[no2_sub[\"Geography\"].isin(rows_to_keep)]"
   ]
  },
  {
   "cell_type": "markdown",
   "id": "5a31c0cf",
   "metadata": {},
   "source": [
    "**3.2.Dropping unneccessary Columns**"
   ]
  },
  {
   "cell_type": "code",
   "execution_count": 170,
   "id": "5684110d",
   "metadata": {},
   "outputs": [
    {
     "name": "stdout",
     "output_type": "stream",
     "text": [
      "{'GeoType', 'GeoID', 'Geography', 'GeoRank', 'TimePeriod'}\n"
     ]
    }
   ],
   "source": [
    "# finding common column to merge\n",
    "common_columns= set(asthma_adults_df.columns)& set(asthma_age_4_df.columns)&set(asthma_age5_17_df.columns)&set(pm2_5_df.columns)&set(no2_df.columns)\n",
    "print(common_columns)"
   ]
  },
  {
   "cell_type": "markdown",
   "id": "6eb88ec2",
   "metadata": {},
   "source": [
    "These are common columns in all five dataFrames. I can choose one of them as a key column to merge all datasets. I want to choose \"GeoID\" as a key column and drop \"GeoType\" and \"GeoRank\" columns. Because these column doesn't have any valuable data."
   ]
  },
  {
   "cell_type": "code",
   "execution_count": 171,
   "id": "5e6ea2d2",
   "metadata": {},
   "outputs": [],
   "source": [
    "# List the columns that want to drop\n",
    "columns_to_drop=[\"GeoType\",\"GeoRank\"]\n"
   ]
  },
  {
   "cell_type": "code",
   "execution_count": 172,
   "id": "52620a32",
   "metadata": {},
   "outputs": [],
   "source": [
    "# Create a new DataFrame with only the necessary columns\n",
    "\n",
    "asthma_adults_df1= asthma_adults_df.drop(columns_to_drop, axis=1)\n",
    "\n",
    "asthma_age_4_df1=asthma_age_4.drop(columns_to_drop,axis=1)\n",
    "\n",
    "asthma_age5_17_df1=asthma_age5_17_df.drop(columns_to_drop, axis=1)\n",
    "\n",
    "pm2_5_df1= pm2_5_df.drop(columns_to_drop,axis=1)\n",
    "\n",
    "no2_df1= no2_df.drop(columns_to_drop,axis=1)"
   ]
  },
  {
   "cell_type": "code",
   "execution_count": 173,
   "id": "e39a9342",
   "metadata": {},
   "outputs": [
    {
     "name": "stdout",
     "output_type": "stream",
     "text": [
      "Index(['TimePeriod', 'GeoID', 'Geography', 'Age-adjusted rate per 10,000',\n",
      "       'Estimated annual rate per 10,000', 'Number'],\n",
      "      dtype='object')\n"
     ]
    }
   ],
   "source": [
    "print(asthma_adults_df1.columns)\n"
   ]
  },
  {
   "cell_type": "markdown",
   "id": "ff11554d",
   "metadata": {},
   "source": [
    "Columns \"GeoType\" and \"GeoRank\" have removed from dataframe."
   ]
  },
  {
   "cell_type": "code",
   "execution_count": 174,
   "id": "212d0ce5",
   "metadata": {},
   "outputs": [],
   "source": [
    "#rename the column 'TimePeriod' to 'Year'\n",
    "asthma_adults_df1= asthma_adults_df1.rename(columns={\"TimePeriod\":\"Year\"})\n",
    "\n",
    "asthma_age_4_df1=asthma_age_4_df1.rename(columns={\"TimePeriod\":\"Year\"})\n",
    "\n",
    "asthma_age5_17_df1=asthma_age5_17_df1.rename(columns={\"TimePeriod\":\"Year\"})\n",
    "\n",
    "pm2_5_df1= pm2_5_df1.rename(columns={\"TimePeriod\":\"Year\"})\n",
    "\n",
    "no2_df1= no2_df1.rename(columns={\"TimePeriod\":\"Year\"})"
   ]
  },
  {
   "cell_type": "code",
   "execution_count": 175,
   "id": "6a0bebf7",
   "metadata": {},
   "outputs": [
    {
     "data": {
      "text/html": [
       "<div>\n",
       "<style scoped>\n",
       "    .dataframe tbody tr th:only-of-type {\n",
       "        vertical-align: middle;\n",
       "    }\n",
       "\n",
       "    .dataframe tbody tr th {\n",
       "        vertical-align: top;\n",
       "    }\n",
       "\n",
       "    .dataframe thead th {\n",
       "        text-align: right;\n",
       "    }\n",
       "</style>\n",
       "<table border=\"1\" class=\"dataframe\">\n",
       "  <thead>\n",
       "    <tr style=\"text-align: right;\">\n",
       "      <th></th>\n",
       "      <th>Year</th>\n",
       "      <th>GeoID</th>\n",
       "      <th>Geography</th>\n",
       "      <th>10th percentile ppb</th>\n",
       "      <th>90th percentile ppb</th>\n",
       "      <th>Mean ppb</th>\n",
       "    </tr>\n",
       "  </thead>\n",
       "  <tbody>\n",
       "    <tr>\n",
       "      <th>137</th>\n",
       "      <td>2022</td>\n",
       "      <td>3</td>\n",
       "      <td>Manhattan</td>\n",
       "      <td>16.0</td>\n",
       "      <td>23.3</td>\n",
       "      <td>19.1</td>\n",
       "    </tr>\n",
       "    <tr>\n",
       "      <th>139</th>\n",
       "      <td>2022</td>\n",
       "      <td>5</td>\n",
       "      <td>Staten Island</td>\n",
       "      <td>8.4</td>\n",
       "      <td>13.9</td>\n",
       "      <td>11.2</td>\n",
       "    </tr>\n",
       "    <tr>\n",
       "      <th>140</th>\n",
       "      <td>2022</td>\n",
       "      <td>1</td>\n",
       "      <td>New York City</td>\n",
       "      <td>10.8</td>\n",
       "      <td>18.1</td>\n",
       "      <td>14.7</td>\n",
       "    </tr>\n",
       "    <tr>\n",
       "      <th>560</th>\n",
       "      <td>2021</td>\n",
       "      <td>3</td>\n",
       "      <td>Manhattan</td>\n",
       "      <td>17.0</td>\n",
       "      <td>23.7</td>\n",
       "      <td>20.0</td>\n",
       "    </tr>\n",
       "    <tr>\n",
       "      <th>562</th>\n",
       "      <td>2021</td>\n",
       "      <td>5</td>\n",
       "      <td>Staten Island</td>\n",
       "      <td>10.1</td>\n",
       "      <td>15.8</td>\n",
       "      <td>12.8</td>\n",
       "    </tr>\n",
       "  </tbody>\n",
       "</table>\n",
       "</div>"
      ],
      "text/plain": [
       "     Year  GeoID      Geography  10th percentile ppb  90th percentile ppb  \\\n",
       "137  2022      3      Manhattan                 16.0                 23.3   \n",
       "139  2022      5  Staten Island                  8.4                 13.9   \n",
       "140  2022      1  New York City                 10.8                 18.1   \n",
       "560  2021      3      Manhattan                 17.0                 23.7   \n",
       "562  2021      5  Staten Island                 10.1                 15.8   \n",
       "\n",
       "     Mean ppb  \n",
       "137      19.1  \n",
       "139      11.2  \n",
       "140      14.7  \n",
       "560      20.0  \n",
       "562      12.8  "
      ]
     },
     "execution_count": 175,
     "metadata": {},
     "output_type": "execute_result"
    }
   ],
   "source": [
    "no2_df1.head()"
   ]
  },
  {
   "cell_type": "markdown",
   "id": "899bcd4d",
   "metadata": {},
   "source": [
    "**4.Joining Data**"
   ]
  },
  {
   "cell_type": "code",
   "execution_count": 176,
   "id": "a86964a9",
   "metadata": {},
   "outputs": [],
   "source": [
    "# rename the common columns except 'GeoID' to merge dataframes\n",
    "asthma_adults_df1= asthma_adults_df1.rename(columns={'Geography':'Geography_ad',\"Year\":\"Year_ad\"})\n",
    "\n",
    "asthma_age_4_df1= asthma_age_4_df1.rename(columns={'Geography':'Geography_ag_4',\"Year\":\"Year_ag_4\"})\n",
    "\n",
    "asthma_age5_17_df1= asthma_age5_17_df1.rename(columns={'Geography':'Geography_ag5_17',\"Year\":\"Year5_17\"})\n",
    "\n",
    "no2_df1=no2_df1.rename(columns={'Geography':'Geography_no2',\"Year\":\"Year_no\"})\n",
    "\n",
    "pm2_5_df1=pm2_5_df1.rename(columns={'Geography':'Geography_pm', \"Year\":\"Year_pm\"})"
   ]
  },
  {
   "cell_type": "code",
   "execution_count": 177,
   "id": "131a4678",
   "metadata": {},
   "outputs": [],
   "source": [
    "merge1=pd.merge(asthma_adults_df1,asthma_age_4_df1, on=\"GeoID\", how=\"inner\")\n"
   ]
  },
  {
   "cell_type": "code",
   "execution_count": 178,
   "id": "2c4ade9f",
   "metadata": {},
   "outputs": [],
   "source": [
    "merge2= pd.merge(merge1,asthma_age5_17_df1, on=\"GeoID\", how=\"inner\")"
   ]
  },
  {
   "cell_type": "code",
   "execution_count": 179,
   "id": "f848405b",
   "metadata": {},
   "outputs": [],
   "source": [
    "merge3= pd.merge(merge2,pm2_5_df1, on=\"GeoID\", how=\"inner\")"
   ]
  },
  {
   "cell_type": "code",
   "execution_count": 180,
   "id": "bb49ca98",
   "metadata": {},
   "outputs": [],
   "source": [
    "merge4=pd.merge(merge3,no2_df1, on=\"GeoID\", how=\"inner\")"
   ]
  },
  {
   "cell_type": "code",
   "execution_count": 181,
   "id": "640269bb",
   "metadata": {},
   "outputs": [
    {
     "data": {
      "text/html": [
       "<div>\n",
       "<style scoped>\n",
       "    .dataframe tbody tr th:only-of-type {\n",
       "        vertical-align: middle;\n",
       "    }\n",
       "\n",
       "    .dataframe tbody tr th {\n",
       "        vertical-align: top;\n",
       "    }\n",
       "\n",
       "    .dataframe thead th {\n",
       "        text-align: right;\n",
       "    }\n",
       "</style>\n",
       "<table border=\"1\" class=\"dataframe\">\n",
       "  <thead>\n",
       "    <tr style=\"text-align: right;\">\n",
       "      <th></th>\n",
       "      <th>Year_ad</th>\n",
       "      <th>GeoID</th>\n",
       "      <th>Geography_ad</th>\n",
       "      <th>Age-adjusted rate per 10,000</th>\n",
       "      <th>Estimated annual rate per 10,000_x</th>\n",
       "      <th>Number_x</th>\n",
       "      <th>Year_ag_4</th>\n",
       "      <th>Geography_ag_4</th>\n",
       "      <th>Estimated annual rate per 10,000_y</th>\n",
       "      <th>Number_y</th>\n",
       "      <th>...</th>\n",
       "      <th>Year_pm</th>\n",
       "      <th>Geography_pm</th>\n",
       "      <th>10th percentile mcg/m3</th>\n",
       "      <th>90th percentile mcg/m3</th>\n",
       "      <th>Mean mcg/m3</th>\n",
       "      <th>Year_no</th>\n",
       "      <th>Geography_no2</th>\n",
       "      <th>10th percentile ppb</th>\n",
       "      <th>90th percentile ppb</th>\n",
       "      <th>Mean ppb</th>\n",
       "    </tr>\n",
       "  </thead>\n",
       "  <tbody>\n",
       "    <tr>\n",
       "      <th>0</th>\n",
       "      <td>2020</td>\n",
       "      <td>3</td>\n",
       "      <td>Manhattan</td>\n",
       "      <td>44.7</td>\n",
       "      <td>43.5</td>\n",
       "      <td>6290.0</td>\n",
       "      <td>2020</td>\n",
       "      <td>Manhattan</td>\n",
       "      <td>58.6</td>\n",
       "      <td>454</td>\n",
       "      <td>...</td>\n",
       "      <td>2022</td>\n",
       "      <td>Manhattan</td>\n",
       "      <td>6.1</td>\n",
       "      <td>8.8</td>\n",
       "      <td>7.0</td>\n",
       "      <td>2022</td>\n",
       "      <td>Manhattan</td>\n",
       "      <td>16.0</td>\n",
       "      <td>23.3</td>\n",
       "      <td>19.1</td>\n",
       "    </tr>\n",
       "    <tr>\n",
       "      <th>1</th>\n",
       "      <td>2020</td>\n",
       "      <td>3</td>\n",
       "      <td>Manhattan</td>\n",
       "      <td>44.7</td>\n",
       "      <td>43.5</td>\n",
       "      <td>6290.0</td>\n",
       "      <td>2020</td>\n",
       "      <td>Manhattan</td>\n",
       "      <td>58.6</td>\n",
       "      <td>454</td>\n",
       "      <td>...</td>\n",
       "      <td>2022</td>\n",
       "      <td>Manhattan</td>\n",
       "      <td>6.1</td>\n",
       "      <td>8.8</td>\n",
       "      <td>7.0</td>\n",
       "      <td>2021</td>\n",
       "      <td>Manhattan</td>\n",
       "      <td>17.0</td>\n",
       "      <td>23.7</td>\n",
       "      <td>20.0</td>\n",
       "    </tr>\n",
       "    <tr>\n",
       "      <th>2</th>\n",
       "      <td>2020</td>\n",
       "      <td>3</td>\n",
       "      <td>Manhattan</td>\n",
       "      <td>44.7</td>\n",
       "      <td>43.5</td>\n",
       "      <td>6290.0</td>\n",
       "      <td>2020</td>\n",
       "      <td>Manhattan</td>\n",
       "      <td>58.6</td>\n",
       "      <td>454</td>\n",
       "      <td>...</td>\n",
       "      <td>2022</td>\n",
       "      <td>Manhattan</td>\n",
       "      <td>6.1</td>\n",
       "      <td>8.8</td>\n",
       "      <td>7.0</td>\n",
       "      <td>2020</td>\n",
       "      <td>Manhattan</td>\n",
       "      <td>17.7</td>\n",
       "      <td>24.4</td>\n",
       "      <td>20.5</td>\n",
       "    </tr>\n",
       "    <tr>\n",
       "      <th>3</th>\n",
       "      <td>2020</td>\n",
       "      <td>3</td>\n",
       "      <td>Manhattan</td>\n",
       "      <td>44.7</td>\n",
       "      <td>43.5</td>\n",
       "      <td>6290.0</td>\n",
       "      <td>2020</td>\n",
       "      <td>Manhattan</td>\n",
       "      <td>58.6</td>\n",
       "      <td>454</td>\n",
       "      <td>...</td>\n",
       "      <td>2022</td>\n",
       "      <td>Manhattan</td>\n",
       "      <td>6.1</td>\n",
       "      <td>8.8</td>\n",
       "      <td>7.0</td>\n",
       "      <td>2019</td>\n",
       "      <td>Manhattan</td>\n",
       "      <td>17.7</td>\n",
       "      <td>26.6</td>\n",
       "      <td>21.7</td>\n",
       "    </tr>\n",
       "    <tr>\n",
       "      <th>4</th>\n",
       "      <td>2020</td>\n",
       "      <td>3</td>\n",
       "      <td>Manhattan</td>\n",
       "      <td>44.7</td>\n",
       "      <td>43.5</td>\n",
       "      <td>6290.0</td>\n",
       "      <td>2020</td>\n",
       "      <td>Manhattan</td>\n",
       "      <td>58.6</td>\n",
       "      <td>454</td>\n",
       "      <td>...</td>\n",
       "      <td>2022</td>\n",
       "      <td>Manhattan</td>\n",
       "      <td>6.1</td>\n",
       "      <td>8.8</td>\n",
       "      <td>7.0</td>\n",
       "      <td>2018</td>\n",
       "      <td>Manhattan</td>\n",
       "      <td>19.4</td>\n",
       "      <td>28.8</td>\n",
       "      <td>23.4</td>\n",
       "    </tr>\n",
       "  </tbody>\n",
       "</table>\n",
       "<p>5 rows × 25 columns</p>\n",
       "</div>"
      ],
      "text/plain": [
       "   Year_ad  GeoID Geography_ad  Age-adjusted rate per 10,000  \\\n",
       "0     2020      3    Manhattan                          44.7   \n",
       "1     2020      3    Manhattan                          44.7   \n",
       "2     2020      3    Manhattan                          44.7   \n",
       "3     2020      3    Manhattan                          44.7   \n",
       "4     2020      3    Manhattan                          44.7   \n",
       "\n",
       "   Estimated annual rate per 10,000_x  Number_x  Year_ag_4 Geography_ag_4  \\\n",
       "0                                43.5    6290.0       2020      Manhattan   \n",
       "1                                43.5    6290.0       2020      Manhattan   \n",
       "2                                43.5    6290.0       2020      Manhattan   \n",
       "3                                43.5    6290.0       2020      Manhattan   \n",
       "4                                43.5    6290.0       2020      Manhattan   \n",
       "\n",
       "  Estimated annual rate per 10,000_y Number_y  ...  Year_pm Geography_pm  \\\n",
       "0                               58.6      454  ...     2022    Manhattan   \n",
       "1                               58.6      454  ...     2022    Manhattan   \n",
       "2                               58.6      454  ...     2022    Manhattan   \n",
       "3                               58.6      454  ...     2022    Manhattan   \n",
       "4                               58.6      454  ...     2022    Manhattan   \n",
       "\n",
       "   10th percentile mcg/m3  90th percentile mcg/m3  Mean mcg/m3  Year_no  \\\n",
       "0                     6.1                     8.8          7.0     2022   \n",
       "1                     6.1                     8.8          7.0     2021   \n",
       "2                     6.1                     8.8          7.0     2020   \n",
       "3                     6.1                     8.8          7.0     2019   \n",
       "4                     6.1                     8.8          7.0     2018   \n",
       "\n",
       "  Geography_no2  10th percentile ppb  90th percentile ppb  Mean ppb  \n",
       "0     Manhattan                 16.0                 23.3      19.1  \n",
       "1     Manhattan                 17.0                 23.7      20.0  \n",
       "2     Manhattan                 17.7                 24.4      20.5  \n",
       "3     Manhattan                 17.7                 26.6      21.7  \n",
       "4     Manhattan                 19.4                 28.8      23.4  \n",
       "\n",
       "[5 rows x 25 columns]"
      ]
     },
     "execution_count": 181,
     "metadata": {},
     "output_type": "execute_result"
    }
   ],
   "source": [
    "merge4.head()"
   ]
  },
  {
   "cell_type": "markdown",
   "id": "70a92d79",
   "metadata": {},
   "source": [
    "Results show some duplicated columns that have to be remove."
   ]
  },
  {
   "cell_type": "code",
   "execution_count": 182,
   "id": "044c89ad",
   "metadata": {},
   "outputs": [],
   "source": [
    "# Duplicated columns to drop\n",
    "columns_to_remove=[\"Year_ag_4\",\"Geography_ag_4\",\"Year_pm\",\"Geography_pm\",\"Year_no\",\"Geography_no2\",'Geography_ag5_17',\"Year5_17\"]"
   ]
  },
  {
   "cell_type": "code",
   "execution_count": 183,
   "id": "a0144471",
   "metadata": {},
   "outputs": [],
   "source": [
    "merge4= merge4.drop(columns_to_remove, axis=1)"
   ]
  },
  {
   "cell_type": "code",
   "execution_count": 184,
   "id": "ee0d63e9",
   "metadata": {},
   "outputs": [
    {
     "data": {
      "text/html": [
       "<div>\n",
       "<style scoped>\n",
       "    .dataframe tbody tr th:only-of-type {\n",
       "        vertical-align: middle;\n",
       "    }\n",
       "\n",
       "    .dataframe tbody tr th {\n",
       "        vertical-align: top;\n",
       "    }\n",
       "\n",
       "    .dataframe thead th {\n",
       "        text-align: right;\n",
       "    }\n",
       "</style>\n",
       "<table border=\"1\" class=\"dataframe\">\n",
       "  <thead>\n",
       "    <tr style=\"text-align: right;\">\n",
       "      <th></th>\n",
       "      <th>Year_ad</th>\n",
       "      <th>GeoID</th>\n",
       "      <th>Geography_ad</th>\n",
       "      <th>Age-adjusted rate per 10,000</th>\n",
       "      <th>Estimated annual rate per 10,000_x</th>\n",
       "      <th>Number_x</th>\n",
       "      <th>Estimated annual rate per 10,000_y</th>\n",
       "      <th>Number_y</th>\n",
       "      <th>Estimated annual rate per 10,000</th>\n",
       "      <th>Number</th>\n",
       "      <th>small_number_estimate</th>\n",
       "      <th>10th percentile mcg/m3</th>\n",
       "      <th>90th percentile mcg/m3</th>\n",
       "      <th>Mean mcg/m3</th>\n",
       "      <th>10th percentile ppb</th>\n",
       "      <th>90th percentile ppb</th>\n",
       "      <th>Mean ppb</th>\n",
       "    </tr>\n",
       "  </thead>\n",
       "  <tbody>\n",
       "    <tr>\n",
       "      <th>0</th>\n",
       "      <td>2020</td>\n",
       "      <td>3</td>\n",
       "      <td>Manhattan</td>\n",
       "      <td>44.7</td>\n",
       "      <td>43.5</td>\n",
       "      <td>6290.0</td>\n",
       "      <td>58.6</td>\n",
       "      <td>454</td>\n",
       "      <td>65.9</td>\n",
       "      <td>1088</td>\n",
       "      <td>False</td>\n",
       "      <td>6.1</td>\n",
       "      <td>8.8</td>\n",
       "      <td>7.0</td>\n",
       "      <td>16.0</td>\n",
       "      <td>23.3</td>\n",
       "      <td>19.1</td>\n",
       "    </tr>\n",
       "    <tr>\n",
       "      <th>1</th>\n",
       "      <td>2020</td>\n",
       "      <td>3</td>\n",
       "      <td>Manhattan</td>\n",
       "      <td>44.7</td>\n",
       "      <td>43.5</td>\n",
       "      <td>6290.0</td>\n",
       "      <td>58.6</td>\n",
       "      <td>454</td>\n",
       "      <td>65.9</td>\n",
       "      <td>1088</td>\n",
       "      <td>False</td>\n",
       "      <td>6.1</td>\n",
       "      <td>8.8</td>\n",
       "      <td>7.0</td>\n",
       "      <td>17.0</td>\n",
       "      <td>23.7</td>\n",
       "      <td>20.0</td>\n",
       "    </tr>\n",
       "    <tr>\n",
       "      <th>2</th>\n",
       "      <td>2020</td>\n",
       "      <td>3</td>\n",
       "      <td>Manhattan</td>\n",
       "      <td>44.7</td>\n",
       "      <td>43.5</td>\n",
       "      <td>6290.0</td>\n",
       "      <td>58.6</td>\n",
       "      <td>454</td>\n",
       "      <td>65.9</td>\n",
       "      <td>1088</td>\n",
       "      <td>False</td>\n",
       "      <td>6.1</td>\n",
       "      <td>8.8</td>\n",
       "      <td>7.0</td>\n",
       "      <td>17.7</td>\n",
       "      <td>24.4</td>\n",
       "      <td>20.5</td>\n",
       "    </tr>\n",
       "    <tr>\n",
       "      <th>3</th>\n",
       "      <td>2020</td>\n",
       "      <td>3</td>\n",
       "      <td>Manhattan</td>\n",
       "      <td>44.7</td>\n",
       "      <td>43.5</td>\n",
       "      <td>6290.0</td>\n",
       "      <td>58.6</td>\n",
       "      <td>454</td>\n",
       "      <td>65.9</td>\n",
       "      <td>1088</td>\n",
       "      <td>False</td>\n",
       "      <td>6.1</td>\n",
       "      <td>8.8</td>\n",
       "      <td>7.0</td>\n",
       "      <td>17.7</td>\n",
       "      <td>26.6</td>\n",
       "      <td>21.7</td>\n",
       "    </tr>\n",
       "    <tr>\n",
       "      <th>4</th>\n",
       "      <td>2020</td>\n",
       "      <td>3</td>\n",
       "      <td>Manhattan</td>\n",
       "      <td>44.7</td>\n",
       "      <td>43.5</td>\n",
       "      <td>6290.0</td>\n",
       "      <td>58.6</td>\n",
       "      <td>454</td>\n",
       "      <td>65.9</td>\n",
       "      <td>1088</td>\n",
       "      <td>False</td>\n",
       "      <td>6.1</td>\n",
       "      <td>8.8</td>\n",
       "      <td>7.0</td>\n",
       "      <td>19.4</td>\n",
       "      <td>28.8</td>\n",
       "      <td>23.4</td>\n",
       "    </tr>\n",
       "  </tbody>\n",
       "</table>\n",
       "</div>"
      ],
      "text/plain": [
       "   Year_ad  GeoID Geography_ad  Age-adjusted rate per 10,000  \\\n",
       "0     2020      3    Manhattan                          44.7   \n",
       "1     2020      3    Manhattan                          44.7   \n",
       "2     2020      3    Manhattan                          44.7   \n",
       "3     2020      3    Manhattan                          44.7   \n",
       "4     2020      3    Manhattan                          44.7   \n",
       "\n",
       "   Estimated annual rate per 10,000_x  Number_x  \\\n",
       "0                                43.5    6290.0   \n",
       "1                                43.5    6290.0   \n",
       "2                                43.5    6290.0   \n",
       "3                                43.5    6290.0   \n",
       "4                                43.5    6290.0   \n",
       "\n",
       "  Estimated annual rate per 10,000_y Number_y  \\\n",
       "0                               58.6      454   \n",
       "1                               58.6      454   \n",
       "2                               58.6      454   \n",
       "3                               58.6      454   \n",
       "4                               58.6      454   \n",
       "\n",
       "   Estimated annual rate per 10,000  Number  small_number_estimate  \\\n",
       "0                              65.9    1088                  False   \n",
       "1                              65.9    1088                  False   \n",
       "2                              65.9    1088                  False   \n",
       "3                              65.9    1088                  False   \n",
       "4                              65.9    1088                  False   \n",
       "\n",
       "   10th percentile mcg/m3  90th percentile mcg/m3  Mean mcg/m3  \\\n",
       "0                     6.1                     8.8          7.0   \n",
       "1                     6.1                     8.8          7.0   \n",
       "2                     6.1                     8.8          7.0   \n",
       "3                     6.1                     8.8          7.0   \n",
       "4                     6.1                     8.8          7.0   \n",
       "\n",
       "   10th percentile ppb  90th percentile ppb  Mean ppb  \n",
       "0                 16.0                 23.3      19.1  \n",
       "1                 17.0                 23.7      20.0  \n",
       "2                 17.7                 24.4      20.5  \n",
       "3                 17.7                 26.6      21.7  \n",
       "4                 19.4                 28.8      23.4  "
      ]
     },
     "execution_count": 184,
     "metadata": {},
     "output_type": "execute_result"
    }
   ],
   "source": [
    "merge4.head()"
   ]
  },
  {
   "cell_type": "code",
   "execution_count": 207,
   "id": "07497cf9",
   "metadata": {},
   "outputs": [],
   "source": [
    "# Rename some of column's name\n",
    "merge4= merge4.rename(columns={\"Year_ad\":\"Year\", \"Geography_ad\":\"Geography\",\"Age-adjusted rate per 10,000\":\"ad_per 10,000\",\n",
    "                              \"Estimated annual rate per 10,000_x\":\"annual_ad per 10,000 \",\"Number_x\":\"Number_ad\",\n",
    "                               \"Number_y\":\"Number_ag4\", \"Estimated annual rate per 10,000_y\":\"annual_ag4 per 10,000\",\"Estimated annual rate per 10,000\":\"annual5_17 per 10,000\",\n",
    "                              \"Number\":\"Number5_17\",\"Mean mcg/m3\":\"pm/Mean mcg/m3\",\"Mean ppb\":\"no2/Mean ppb\"})"
   ]
  },
  {
   "cell_type": "code",
   "execution_count": 208,
   "id": "c5a5ba42",
   "metadata": {},
   "outputs": [
    {
     "data": {
      "text/html": [
       "<div>\n",
       "<style scoped>\n",
       "    .dataframe tbody tr th:only-of-type {\n",
       "        vertical-align: middle;\n",
       "    }\n",
       "\n",
       "    .dataframe tbody tr th {\n",
       "        vertical-align: top;\n",
       "    }\n",
       "\n",
       "    .dataframe thead th {\n",
       "        text-align: right;\n",
       "    }\n",
       "</style>\n",
       "<table border=\"1\" class=\"dataframe\">\n",
       "  <thead>\n",
       "    <tr style=\"text-align: right;\">\n",
       "      <th></th>\n",
       "      <th>Year</th>\n",
       "      <th>GeoID</th>\n",
       "      <th>Geography</th>\n",
       "      <th>ad_per 10,000</th>\n",
       "      <th>annual_ad per 10,000</th>\n",
       "      <th>Number_ad</th>\n",
       "      <th>annual_ag4 per 10,000</th>\n",
       "      <th>Number_ag4</th>\n",
       "      <th>annual5_17 per 10,000</th>\n",
       "      <th>Number5_17</th>\n",
       "      <th>small_number_estimate</th>\n",
       "      <th>10th percentile mcg/m3</th>\n",
       "      <th>90th percentile mcg/m3</th>\n",
       "      <th>pm/Mean mcg/m3</th>\n",
       "      <th>10th percentile ppb</th>\n",
       "      <th>90th percentile ppb</th>\n",
       "      <th>no2/Mean ppb</th>\n",
       "    </tr>\n",
       "  </thead>\n",
       "  <tbody>\n",
       "    <tr>\n",
       "      <th>0</th>\n",
       "      <td>2020</td>\n",
       "      <td>3</td>\n",
       "      <td>Manhattan</td>\n",
       "      <td>44.7</td>\n",
       "      <td>43.5</td>\n",
       "      <td>6290.0</td>\n",
       "      <td>58.6</td>\n",
       "      <td>454</td>\n",
       "      <td>65.9</td>\n",
       "      <td>1088</td>\n",
       "      <td>False</td>\n",
       "      <td>6.1</td>\n",
       "      <td>8.8</td>\n",
       "      <td>7.0</td>\n",
       "      <td>16.0</td>\n",
       "      <td>23.3</td>\n",
       "      <td>19.1</td>\n",
       "    </tr>\n",
       "    <tr>\n",
       "      <th>1</th>\n",
       "      <td>2020</td>\n",
       "      <td>3</td>\n",
       "      <td>Manhattan</td>\n",
       "      <td>44.7</td>\n",
       "      <td>43.5</td>\n",
       "      <td>6290.0</td>\n",
       "      <td>58.6</td>\n",
       "      <td>454</td>\n",
       "      <td>65.9</td>\n",
       "      <td>1088</td>\n",
       "      <td>False</td>\n",
       "      <td>6.1</td>\n",
       "      <td>8.8</td>\n",
       "      <td>7.0</td>\n",
       "      <td>17.0</td>\n",
       "      <td>23.7</td>\n",
       "      <td>20.0</td>\n",
       "    </tr>\n",
       "    <tr>\n",
       "      <th>2</th>\n",
       "      <td>2020</td>\n",
       "      <td>3</td>\n",
       "      <td>Manhattan</td>\n",
       "      <td>44.7</td>\n",
       "      <td>43.5</td>\n",
       "      <td>6290.0</td>\n",
       "      <td>58.6</td>\n",
       "      <td>454</td>\n",
       "      <td>65.9</td>\n",
       "      <td>1088</td>\n",
       "      <td>False</td>\n",
       "      <td>6.1</td>\n",
       "      <td>8.8</td>\n",
       "      <td>7.0</td>\n",
       "      <td>17.7</td>\n",
       "      <td>24.4</td>\n",
       "      <td>20.5</td>\n",
       "    </tr>\n",
       "    <tr>\n",
       "      <th>3</th>\n",
       "      <td>2020</td>\n",
       "      <td>3</td>\n",
       "      <td>Manhattan</td>\n",
       "      <td>44.7</td>\n",
       "      <td>43.5</td>\n",
       "      <td>6290.0</td>\n",
       "      <td>58.6</td>\n",
       "      <td>454</td>\n",
       "      <td>65.9</td>\n",
       "      <td>1088</td>\n",
       "      <td>False</td>\n",
       "      <td>6.1</td>\n",
       "      <td>8.8</td>\n",
       "      <td>7.0</td>\n",
       "      <td>17.7</td>\n",
       "      <td>26.6</td>\n",
       "      <td>21.7</td>\n",
       "    </tr>\n",
       "    <tr>\n",
       "      <th>4</th>\n",
       "      <td>2020</td>\n",
       "      <td>3</td>\n",
       "      <td>Manhattan</td>\n",
       "      <td>44.7</td>\n",
       "      <td>43.5</td>\n",
       "      <td>6290.0</td>\n",
       "      <td>58.6</td>\n",
       "      <td>454</td>\n",
       "      <td>65.9</td>\n",
       "      <td>1088</td>\n",
       "      <td>False</td>\n",
       "      <td>6.1</td>\n",
       "      <td>8.8</td>\n",
       "      <td>7.0</td>\n",
       "      <td>19.4</td>\n",
       "      <td>28.8</td>\n",
       "      <td>23.4</td>\n",
       "    </tr>\n",
       "  </tbody>\n",
       "</table>\n",
       "</div>"
      ],
      "text/plain": [
       "   Year  GeoID  Geography  ad_per 10,000  annual_ad per 10,000   Number_ad  \\\n",
       "0  2020      3  Manhattan           44.7                   43.5     6290.0   \n",
       "1  2020      3  Manhattan           44.7                   43.5     6290.0   \n",
       "2  2020      3  Manhattan           44.7                   43.5     6290.0   \n",
       "3  2020      3  Manhattan           44.7                   43.5     6290.0   \n",
       "4  2020      3  Manhattan           44.7                   43.5     6290.0   \n",
       "\n",
       "   annual_ag4 per 10,000  Number_ag4  annual5_17 per 10,000  Number5_17  \\\n",
       "0                   58.6         454                   65.9        1088   \n",
       "1                   58.6         454                   65.9        1088   \n",
       "2                   58.6         454                   65.9        1088   \n",
       "3                   58.6         454                   65.9        1088   \n",
       "4                   58.6         454                   65.9        1088   \n",
       "\n",
       "   small_number_estimate  10th percentile mcg/m3  90th percentile mcg/m3  \\\n",
       "0                  False                     6.1                     8.8   \n",
       "1                  False                     6.1                     8.8   \n",
       "2                  False                     6.1                     8.8   \n",
       "3                  False                     6.1                     8.8   \n",
       "4                  False                     6.1                     8.8   \n",
       "\n",
       "   pm/Mean mcg/m3  10th percentile ppb  90th percentile ppb  no2/Mean ppb  \n",
       "0             7.0                 16.0                 23.3          19.1  \n",
       "1             7.0                 17.0                 23.7          20.0  \n",
       "2             7.0                 17.7                 24.4          20.5  \n",
       "3             7.0                 17.7                 26.6          21.7  \n",
       "4             7.0                 19.4                 28.8          23.4  "
      ]
     },
     "execution_count": 208,
     "metadata": {},
     "output_type": "execute_result"
    }
   ],
   "source": [
    "merge4.head()"
   ]
  },
  {
   "cell_type": "code",
   "execution_count": 209,
   "id": "8b102a4d",
   "metadata": {},
   "outputs": [
    {
     "data": {
      "text/plain": [
       "(2790256, 17)"
      ]
     },
     "execution_count": 209,
     "metadata": {},
     "output_type": "execute_result"
    }
   ],
   "source": [
    "merge4.shape"
   ]
  },
  {
   "cell_type": "code",
   "execution_count": 210,
   "id": "de7911b6",
   "metadata": {},
   "outputs": [
    {
     "name": "stdout",
     "output_type": "stream",
     "text": [
      "<class 'pandas.core.frame.DataFrame'>\n",
      "Int64Index: 2790256 entries, 0 to 2790255\n",
      "Data columns (total 17 columns):\n",
      " #   Column                  Dtype  \n",
      "---  ------                  -----  \n",
      " 0   Year                    int64  \n",
      " 1   GeoID                   int64  \n",
      " 2   Geography               object \n",
      " 3   ad_per 10,000           float64\n",
      " 4   annual_ad per 10,000    float64\n",
      " 5   Number_ad               float64\n",
      " 6   annual_ag4 per 10,000   float64\n",
      " 7   Number_ag4              int64  \n",
      " 8   annual5_17 per 10,000   float64\n",
      " 9   Number5_17              int64  \n",
      " 10  small_number_estimate   bool   \n",
      " 11  10th percentile mcg/m3  float64\n",
      " 12  90th percentile mcg/m3  float64\n",
      " 13  pm/Mean mcg/m3          float64\n",
      " 14  10th percentile ppb     float64\n",
      " 15  90th percentile ppb     float64\n",
      " 16  no2/Mean ppb            float64\n",
      "dtypes: bool(1), float64(11), int64(4), object(1)\n",
      "memory usage: 364.6+ MB\n"
     ]
    }
   ],
   "source": [
    "# Using .ifo() to check Dtype of our data\n",
    "merge4.info()"
   ]
  },
  {
   "cell_type": "code",
   "execution_count": 211,
   "id": "29e3559b",
   "metadata": {},
   "outputs": [
    {
     "data": {
      "text/plain": [
       "Year                      0\n",
       "GeoID                     0\n",
       "Geography                 0\n",
       "ad_per 10,000             0\n",
       "annual_ad per 10,000      0\n",
       "Number_ad                 0\n",
       "annual_ag4 per 10,000     0\n",
       "Number_ag4                0\n",
       "annual5_17 per 10,000     0\n",
       "Number5_17                0\n",
       "small_number_estimate     0\n",
       "10th percentile mcg/m3    0\n",
       "90th percentile mcg/m3    0\n",
       "pm/Mean mcg/m3            0\n",
       "10th percentile ppb       0\n",
       "90th percentile ppb       0\n",
       "no2/Mean ppb              0\n",
       "dtype: int64"
      ]
     },
     "execution_count": 211,
     "metadata": {},
     "output_type": "execute_result"
    }
   ],
   "source": [
    "# calculates the sum of NA (missing) values.\n",
    "merge4.isna().sum()"
   ]
  },
  {
   "cell_type": "markdown",
   "id": "0377da86",
   "metadata": {},
   "source": [
    "There is no any NaN values in the dataframe."
   ]
  },
  {
   "cell_type": "code",
   "execution_count": 212,
   "id": "130eb881",
   "metadata": {},
   "outputs": [
    {
     "data": {
      "text/plain": [
       "111104"
      ]
     },
     "execution_count": 212,
     "metadata": {},
     "output_type": "execute_result"
    }
   ],
   "source": [
    "# calculates the sum of duplicate values\n",
    "merge4.duplicated().sum()"
   ]
  },
  {
   "cell_type": "markdown",
   "id": "895becff",
   "metadata": {},
   "source": [
    "There are 111104 duplicate data in merged dataset."
   ]
  },
  {
   "cell_type": "markdown",
   "id": "ee72b439",
   "metadata": {},
   "source": [
    "**5.Numerical Features**"
   ]
  },
  {
   "cell_type": "code",
   "execution_count": 213,
   "id": "0cfd2317",
   "metadata": {},
   "outputs": [
    {
     "data": {
      "text/html": [
       "<div>\n",
       "<style scoped>\n",
       "    .dataframe tbody tr th:only-of-type {\n",
       "        vertical-align: middle;\n",
       "    }\n",
       "\n",
       "    .dataframe tbody tr th {\n",
       "        vertical-align: top;\n",
       "    }\n",
       "\n",
       "    .dataframe thead th {\n",
       "        text-align: right;\n",
       "    }\n",
       "</style>\n",
       "<table border=\"1\" class=\"dataframe\">\n",
       "  <thead>\n",
       "    <tr style=\"text-align: right;\">\n",
       "      <th></th>\n",
       "      <th>Year</th>\n",
       "      <th>GeoID</th>\n",
       "      <th>ad_per 10,000</th>\n",
       "      <th>annual_ad per 10,000</th>\n",
       "      <th>Number_ad</th>\n",
       "      <th>annual_ag4 per 10,000</th>\n",
       "      <th>Number_ag4</th>\n",
       "      <th>annual5_17 per 10,000</th>\n",
       "      <th>Number5_17</th>\n",
       "      <th>10th percentile mcg/m3</th>\n",
       "      <th>90th percentile mcg/m3</th>\n",
       "      <th>pm/Mean mcg/m3</th>\n",
       "      <th>10th percentile ppb</th>\n",
       "      <th>90th percentile ppb</th>\n",
       "      <th>no2/Mean ppb</th>\n",
       "    </tr>\n",
       "  </thead>\n",
       "  <tbody>\n",
       "    <tr>\n",
       "      <th>0</th>\n",
       "      <td>2020</td>\n",
       "      <td>3</td>\n",
       "      <td>44.7</td>\n",
       "      <td>43.5</td>\n",
       "      <td>6290.0</td>\n",
       "      <td>58.6</td>\n",
       "      <td>454</td>\n",
       "      <td>65.9</td>\n",
       "      <td>1088</td>\n",
       "      <td>6.1</td>\n",
       "      <td>8.8</td>\n",
       "      <td>7.0</td>\n",
       "      <td>16.0</td>\n",
       "      <td>23.3</td>\n",
       "      <td>19.1</td>\n",
       "    </tr>\n",
       "    <tr>\n",
       "      <th>1</th>\n",
       "      <td>2020</td>\n",
       "      <td>3</td>\n",
       "      <td>44.7</td>\n",
       "      <td>43.5</td>\n",
       "      <td>6290.0</td>\n",
       "      <td>58.6</td>\n",
       "      <td>454</td>\n",
       "      <td>65.9</td>\n",
       "      <td>1088</td>\n",
       "      <td>6.1</td>\n",
       "      <td>8.8</td>\n",
       "      <td>7.0</td>\n",
       "      <td>17.0</td>\n",
       "      <td>23.7</td>\n",
       "      <td>20.0</td>\n",
       "    </tr>\n",
       "    <tr>\n",
       "      <th>2</th>\n",
       "      <td>2020</td>\n",
       "      <td>3</td>\n",
       "      <td>44.7</td>\n",
       "      <td>43.5</td>\n",
       "      <td>6290.0</td>\n",
       "      <td>58.6</td>\n",
       "      <td>454</td>\n",
       "      <td>65.9</td>\n",
       "      <td>1088</td>\n",
       "      <td>6.1</td>\n",
       "      <td>8.8</td>\n",
       "      <td>7.0</td>\n",
       "      <td>17.7</td>\n",
       "      <td>24.4</td>\n",
       "      <td>20.5</td>\n",
       "    </tr>\n",
       "    <tr>\n",
       "      <th>3</th>\n",
       "      <td>2020</td>\n",
       "      <td>3</td>\n",
       "      <td>44.7</td>\n",
       "      <td>43.5</td>\n",
       "      <td>6290.0</td>\n",
       "      <td>58.6</td>\n",
       "      <td>454</td>\n",
       "      <td>65.9</td>\n",
       "      <td>1088</td>\n",
       "      <td>6.1</td>\n",
       "      <td>8.8</td>\n",
       "      <td>7.0</td>\n",
       "      <td>17.7</td>\n",
       "      <td>26.6</td>\n",
       "      <td>21.7</td>\n",
       "    </tr>\n",
       "    <tr>\n",
       "      <th>4</th>\n",
       "      <td>2020</td>\n",
       "      <td>3</td>\n",
       "      <td>44.7</td>\n",
       "      <td>43.5</td>\n",
       "      <td>6290.0</td>\n",
       "      <td>58.6</td>\n",
       "      <td>454</td>\n",
       "      <td>65.9</td>\n",
       "      <td>1088</td>\n",
       "      <td>6.1</td>\n",
       "      <td>8.8</td>\n",
       "      <td>7.0</td>\n",
       "      <td>19.4</td>\n",
       "      <td>28.8</td>\n",
       "      <td>23.4</td>\n",
       "    </tr>\n",
       "    <tr>\n",
       "      <th>...</th>\n",
       "      <td>...</td>\n",
       "      <td>...</td>\n",
       "      <td>...</td>\n",
       "      <td>...</td>\n",
       "      <td>...</td>\n",
       "      <td>...</td>\n",
       "      <td>...</td>\n",
       "      <td>...</td>\n",
       "      <td>...</td>\n",
       "      <td>...</td>\n",
       "      <td>...</td>\n",
       "      <td>...</td>\n",
       "      <td>...</td>\n",
       "      <td>...</td>\n",
       "      <td>...</td>\n",
       "    </tr>\n",
       "    <tr>\n",
       "      <th>2790251</th>\n",
       "      <td>2005</td>\n",
       "      <td>1</td>\n",
       "      <td>99.5</td>\n",
       "      <td>100.3</td>\n",
       "      <td>62425.0</td>\n",
       "      <td>377.2</td>\n",
       "      <td>19927</td>\n",
       "      <td>199.2</td>\n",
       "      <td>25834</td>\n",
       "      <td>9.3</td>\n",
       "      <td>11.9</td>\n",
       "      <td>10.4</td>\n",
       "      <td>12.6</td>\n",
       "      <td>23.6</td>\n",
       "      <td>18.8</td>\n",
       "    </tr>\n",
       "    <tr>\n",
       "      <th>2790252</th>\n",
       "      <td>2005</td>\n",
       "      <td>1</td>\n",
       "      <td>99.5</td>\n",
       "      <td>100.3</td>\n",
       "      <td>62425.0</td>\n",
       "      <td>377.2</td>\n",
       "      <td>19927</td>\n",
       "      <td>199.2</td>\n",
       "      <td>25834</td>\n",
       "      <td>9.3</td>\n",
       "      <td>11.9</td>\n",
       "      <td>10.4</td>\n",
       "      <td>13.3</td>\n",
       "      <td>24.3</td>\n",
       "      <td>19.6</td>\n",
       "    </tr>\n",
       "    <tr>\n",
       "      <th>2790253</th>\n",
       "      <td>2005</td>\n",
       "      <td>1</td>\n",
       "      <td>99.5</td>\n",
       "      <td>100.3</td>\n",
       "      <td>62425.0</td>\n",
       "      <td>377.2</td>\n",
       "      <td>19927</td>\n",
       "      <td>199.2</td>\n",
       "      <td>25834</td>\n",
       "      <td>9.3</td>\n",
       "      <td>11.9</td>\n",
       "      <td>10.4</td>\n",
       "      <td>14.7</td>\n",
       "      <td>26.7</td>\n",
       "      <td>21.6</td>\n",
       "    </tr>\n",
       "    <tr>\n",
       "      <th>2790254</th>\n",
       "      <td>2005</td>\n",
       "      <td>1</td>\n",
       "      <td>99.5</td>\n",
       "      <td>100.3</td>\n",
       "      <td>62425.0</td>\n",
       "      <td>377.2</td>\n",
       "      <td>19927</td>\n",
       "      <td>199.2</td>\n",
       "      <td>25834</td>\n",
       "      <td>9.3</td>\n",
       "      <td>11.9</td>\n",
       "      <td>10.4</td>\n",
       "      <td>14.1</td>\n",
       "      <td>26.3</td>\n",
       "      <td>21.1</td>\n",
       "    </tr>\n",
       "    <tr>\n",
       "      <th>2790255</th>\n",
       "      <td>2005</td>\n",
       "      <td>1</td>\n",
       "      <td>99.5</td>\n",
       "      <td>100.3</td>\n",
       "      <td>62425.0</td>\n",
       "      <td>377.2</td>\n",
       "      <td>19927</td>\n",
       "      <td>199.2</td>\n",
       "      <td>25834</td>\n",
       "      <td>9.3</td>\n",
       "      <td>11.9</td>\n",
       "      <td>10.4</td>\n",
       "      <td>15.4</td>\n",
       "      <td>28.6</td>\n",
       "      <td>22.7</td>\n",
       "    </tr>\n",
       "  </tbody>\n",
       "</table>\n",
       "<p>2790256 rows × 15 columns</p>\n",
       "</div>"
      ],
      "text/plain": [
       "         Year  GeoID  ad_per 10,000  annual_ad per 10,000   Number_ad  \\\n",
       "0        2020      3           44.7                   43.5     6290.0   \n",
       "1        2020      3           44.7                   43.5     6290.0   \n",
       "2        2020      3           44.7                   43.5     6290.0   \n",
       "3        2020      3           44.7                   43.5     6290.0   \n",
       "4        2020      3           44.7                   43.5     6290.0   \n",
       "...       ...    ...            ...                    ...        ...   \n",
       "2790251  2005      1           99.5                  100.3    62425.0   \n",
       "2790252  2005      1           99.5                  100.3    62425.0   \n",
       "2790253  2005      1           99.5                  100.3    62425.0   \n",
       "2790254  2005      1           99.5                  100.3    62425.0   \n",
       "2790255  2005      1           99.5                  100.3    62425.0   \n",
       "\n",
       "         annual_ag4 per 10,000  Number_ag4  annual5_17 per 10,000  Number5_17  \\\n",
       "0                         58.6         454                   65.9        1088   \n",
       "1                         58.6         454                   65.9        1088   \n",
       "2                         58.6         454                   65.9        1088   \n",
       "3                         58.6         454                   65.9        1088   \n",
       "4                         58.6         454                   65.9        1088   \n",
       "...                        ...         ...                    ...         ...   \n",
       "2790251                  377.2       19927                  199.2       25834   \n",
       "2790252                  377.2       19927                  199.2       25834   \n",
       "2790253                  377.2       19927                  199.2       25834   \n",
       "2790254                  377.2       19927                  199.2       25834   \n",
       "2790255                  377.2       19927                  199.2       25834   \n",
       "\n",
       "         10th percentile mcg/m3  90th percentile mcg/m3  pm/Mean mcg/m3  \\\n",
       "0                           6.1                     8.8             7.0   \n",
       "1                           6.1                     8.8             7.0   \n",
       "2                           6.1                     8.8             7.0   \n",
       "3                           6.1                     8.8             7.0   \n",
       "4                           6.1                     8.8             7.0   \n",
       "...                         ...                     ...             ...   \n",
       "2790251                     9.3                    11.9            10.4   \n",
       "2790252                     9.3                    11.9            10.4   \n",
       "2790253                     9.3                    11.9            10.4   \n",
       "2790254                     9.3                    11.9            10.4   \n",
       "2790255                     9.3                    11.9            10.4   \n",
       "\n",
       "         10th percentile ppb  90th percentile ppb  no2/Mean ppb  \n",
       "0                       16.0                 23.3          19.1  \n",
       "1                       17.0                 23.7          20.0  \n",
       "2                       17.7                 24.4          20.5  \n",
       "3                       17.7                 26.6          21.7  \n",
       "4                       19.4                 28.8          23.4  \n",
       "...                      ...                  ...           ...  \n",
       "2790251                 12.6                 23.6          18.8  \n",
       "2790252                 13.3                 24.3          19.6  \n",
       "2790253                 14.7                 26.7          21.6  \n",
       "2790254                 14.1                 26.3          21.1  \n",
       "2790255                 15.4                 28.6          22.7  \n",
       "\n",
       "[2790256 rows x 15 columns]"
      ]
     },
     "execution_count": 213,
     "metadata": {},
     "output_type": "execute_result"
    }
   ],
   "source": [
    "# Filter columns with number data to claculate some statistic such as: mean,max,min,...\n",
    "merge4.select_dtypes(include=[\"number\"])"
   ]
  },
  {
   "cell_type": "markdown",
   "id": "dbfc2492",
   "metadata": {},
   "source": [
    "Result of .select_dtypes() shows that two columns of our data(\"annual_ag4 per 10,000\" and \"Number_ag4\") did not chane into numeric."
   ]
  },
  {
   "cell_type": "code",
   "execution_count": 214,
   "id": "519f03f9",
   "metadata": {},
   "outputs": [],
   "source": [
    "# #convert column to numeric\n",
    "merge4[\"annual_ag4 per 10,000\"]=pd.to_numeric(merge4[\"annual_ag4 per 10,000\"])"
   ]
  },
  {
   "cell_type": "code",
   "execution_count": 215,
   "id": "8d118192",
   "metadata": {},
   "outputs": [
    {
     "name": "stdout",
     "output_type": "stream",
     "text": [
      "<class 'pandas.core.series.Series'>\n",
      "Int64Index: 2790256 entries, 0 to 2790255\n",
      "Series name: annual_ag4 per 10,000\n",
      "Non-Null Count    Dtype  \n",
      "--------------    -----  \n",
      "2790256 non-null  float64\n",
      "dtypes: float64(1)\n",
      "memory usage: 42.6 MB\n"
     ]
    }
   ],
   "source": [
    "# # Using .ifo() to check Dtype of our data\n",
    "merge4[\"annual_ag4 per 10,000\"].info()"
   ]
  },
  {
   "cell_type": "code",
   "execution_count": 216,
   "id": "a817eaca",
   "metadata": {},
   "outputs": [
    {
     "name": "stdout",
     "output_type": "stream",
     "text": [
      "<class 'pandas.core.series.Series'>\n",
      "Int64Index: 2790256 entries, 0 to 2790255\n",
      "Series name: Number_ag4\n",
      "Non-Null Count    Dtype\n",
      "--------------    -----\n",
      "2790256 non-null  int64\n",
      "dtypes: int64(1)\n",
      "memory usage: 42.6 MB\n"
     ]
    }
   ],
   "source": [
    "merge4[\"Number_ag4\"].info()"
   ]
  },
  {
   "cell_type": "code",
   "execution_count": 217,
   "id": "e87e761a",
   "metadata": {},
   "outputs": [
    {
     "data": {
      "text/html": [
       "<div>\n",
       "<style scoped>\n",
       "    .dataframe tbody tr th:only-of-type {\n",
       "        vertical-align: middle;\n",
       "    }\n",
       "\n",
       "    .dataframe tbody tr th {\n",
       "        vertical-align: top;\n",
       "    }\n",
       "\n",
       "    .dataframe thead th {\n",
       "        text-align: right;\n",
       "    }\n",
       "</style>\n",
       "<table border=\"1\" class=\"dataframe\">\n",
       "  <thead>\n",
       "    <tr style=\"text-align: right;\">\n",
       "      <th></th>\n",
       "      <th>Year</th>\n",
       "      <th>GeoID</th>\n",
       "      <th>ad_per 10,000</th>\n",
       "      <th>annual_ad per 10,000</th>\n",
       "      <th>Number_ad</th>\n",
       "      <th>annual_ag4 per 10,000</th>\n",
       "      <th>Number_ag4</th>\n",
       "      <th>annual5_17 per 10,000</th>\n",
       "      <th>Number5_17</th>\n",
       "      <th>10th percentile mcg/m3</th>\n",
       "      <th>90th percentile mcg/m3</th>\n",
       "      <th>pm/Mean mcg/m3</th>\n",
       "      <th>10th percentile ppb</th>\n",
       "      <th>90th percentile ppb</th>\n",
       "      <th>no2/Mean ppb</th>\n",
       "    </tr>\n",
       "  </thead>\n",
       "  <tbody>\n",
       "    <tr>\n",
       "      <th>0</th>\n",
       "      <td>2020</td>\n",
       "      <td>3</td>\n",
       "      <td>44.7</td>\n",
       "      <td>43.5</td>\n",
       "      <td>6290.0</td>\n",
       "      <td>58.6</td>\n",
       "      <td>454</td>\n",
       "      <td>65.9</td>\n",
       "      <td>1088</td>\n",
       "      <td>6.1</td>\n",
       "      <td>8.8</td>\n",
       "      <td>7.0</td>\n",
       "      <td>16.0</td>\n",
       "      <td>23.3</td>\n",
       "      <td>19.1</td>\n",
       "    </tr>\n",
       "    <tr>\n",
       "      <th>1</th>\n",
       "      <td>2020</td>\n",
       "      <td>3</td>\n",
       "      <td>44.7</td>\n",
       "      <td>43.5</td>\n",
       "      <td>6290.0</td>\n",
       "      <td>58.6</td>\n",
       "      <td>454</td>\n",
       "      <td>65.9</td>\n",
       "      <td>1088</td>\n",
       "      <td>6.1</td>\n",
       "      <td>8.8</td>\n",
       "      <td>7.0</td>\n",
       "      <td>17.0</td>\n",
       "      <td>23.7</td>\n",
       "      <td>20.0</td>\n",
       "    </tr>\n",
       "    <tr>\n",
       "      <th>2</th>\n",
       "      <td>2020</td>\n",
       "      <td>3</td>\n",
       "      <td>44.7</td>\n",
       "      <td>43.5</td>\n",
       "      <td>6290.0</td>\n",
       "      <td>58.6</td>\n",
       "      <td>454</td>\n",
       "      <td>65.9</td>\n",
       "      <td>1088</td>\n",
       "      <td>6.1</td>\n",
       "      <td>8.8</td>\n",
       "      <td>7.0</td>\n",
       "      <td>17.7</td>\n",
       "      <td>24.4</td>\n",
       "      <td>20.5</td>\n",
       "    </tr>\n",
       "    <tr>\n",
       "      <th>3</th>\n",
       "      <td>2020</td>\n",
       "      <td>3</td>\n",
       "      <td>44.7</td>\n",
       "      <td>43.5</td>\n",
       "      <td>6290.0</td>\n",
       "      <td>58.6</td>\n",
       "      <td>454</td>\n",
       "      <td>65.9</td>\n",
       "      <td>1088</td>\n",
       "      <td>6.1</td>\n",
       "      <td>8.8</td>\n",
       "      <td>7.0</td>\n",
       "      <td>17.7</td>\n",
       "      <td>26.6</td>\n",
       "      <td>21.7</td>\n",
       "    </tr>\n",
       "    <tr>\n",
       "      <th>4</th>\n",
       "      <td>2020</td>\n",
       "      <td>3</td>\n",
       "      <td>44.7</td>\n",
       "      <td>43.5</td>\n",
       "      <td>6290.0</td>\n",
       "      <td>58.6</td>\n",
       "      <td>454</td>\n",
       "      <td>65.9</td>\n",
       "      <td>1088</td>\n",
       "      <td>6.1</td>\n",
       "      <td>8.8</td>\n",
       "      <td>7.0</td>\n",
       "      <td>19.4</td>\n",
       "      <td>28.8</td>\n",
       "      <td>23.4</td>\n",
       "    </tr>\n",
       "    <tr>\n",
       "      <th>...</th>\n",
       "      <td>...</td>\n",
       "      <td>...</td>\n",
       "      <td>...</td>\n",
       "      <td>...</td>\n",
       "      <td>...</td>\n",
       "      <td>...</td>\n",
       "      <td>...</td>\n",
       "      <td>...</td>\n",
       "      <td>...</td>\n",
       "      <td>...</td>\n",
       "      <td>...</td>\n",
       "      <td>...</td>\n",
       "      <td>...</td>\n",
       "      <td>...</td>\n",
       "      <td>...</td>\n",
       "    </tr>\n",
       "    <tr>\n",
       "      <th>2790251</th>\n",
       "      <td>2005</td>\n",
       "      <td>1</td>\n",
       "      <td>99.5</td>\n",
       "      <td>100.3</td>\n",
       "      <td>62425.0</td>\n",
       "      <td>377.2</td>\n",
       "      <td>19927</td>\n",
       "      <td>199.2</td>\n",
       "      <td>25834</td>\n",
       "      <td>9.3</td>\n",
       "      <td>11.9</td>\n",
       "      <td>10.4</td>\n",
       "      <td>12.6</td>\n",
       "      <td>23.6</td>\n",
       "      <td>18.8</td>\n",
       "    </tr>\n",
       "    <tr>\n",
       "      <th>2790252</th>\n",
       "      <td>2005</td>\n",
       "      <td>1</td>\n",
       "      <td>99.5</td>\n",
       "      <td>100.3</td>\n",
       "      <td>62425.0</td>\n",
       "      <td>377.2</td>\n",
       "      <td>19927</td>\n",
       "      <td>199.2</td>\n",
       "      <td>25834</td>\n",
       "      <td>9.3</td>\n",
       "      <td>11.9</td>\n",
       "      <td>10.4</td>\n",
       "      <td>13.3</td>\n",
       "      <td>24.3</td>\n",
       "      <td>19.6</td>\n",
       "    </tr>\n",
       "    <tr>\n",
       "      <th>2790253</th>\n",
       "      <td>2005</td>\n",
       "      <td>1</td>\n",
       "      <td>99.5</td>\n",
       "      <td>100.3</td>\n",
       "      <td>62425.0</td>\n",
       "      <td>377.2</td>\n",
       "      <td>19927</td>\n",
       "      <td>199.2</td>\n",
       "      <td>25834</td>\n",
       "      <td>9.3</td>\n",
       "      <td>11.9</td>\n",
       "      <td>10.4</td>\n",
       "      <td>14.7</td>\n",
       "      <td>26.7</td>\n",
       "      <td>21.6</td>\n",
       "    </tr>\n",
       "    <tr>\n",
       "      <th>2790254</th>\n",
       "      <td>2005</td>\n",
       "      <td>1</td>\n",
       "      <td>99.5</td>\n",
       "      <td>100.3</td>\n",
       "      <td>62425.0</td>\n",
       "      <td>377.2</td>\n",
       "      <td>19927</td>\n",
       "      <td>199.2</td>\n",
       "      <td>25834</td>\n",
       "      <td>9.3</td>\n",
       "      <td>11.9</td>\n",
       "      <td>10.4</td>\n",
       "      <td>14.1</td>\n",
       "      <td>26.3</td>\n",
       "      <td>21.1</td>\n",
       "    </tr>\n",
       "    <tr>\n",
       "      <th>2790255</th>\n",
       "      <td>2005</td>\n",
       "      <td>1</td>\n",
       "      <td>99.5</td>\n",
       "      <td>100.3</td>\n",
       "      <td>62425.0</td>\n",
       "      <td>377.2</td>\n",
       "      <td>19927</td>\n",
       "      <td>199.2</td>\n",
       "      <td>25834</td>\n",
       "      <td>9.3</td>\n",
       "      <td>11.9</td>\n",
       "      <td>10.4</td>\n",
       "      <td>15.4</td>\n",
       "      <td>28.6</td>\n",
       "      <td>22.7</td>\n",
       "    </tr>\n",
       "  </tbody>\n",
       "</table>\n",
       "<p>2790256 rows × 15 columns</p>\n",
       "</div>"
      ],
      "text/plain": [
       "         Year  GeoID  ad_per 10,000  annual_ad per 10,000   Number_ad  \\\n",
       "0        2020      3           44.7                   43.5     6290.0   \n",
       "1        2020      3           44.7                   43.5     6290.0   \n",
       "2        2020      3           44.7                   43.5     6290.0   \n",
       "3        2020      3           44.7                   43.5     6290.0   \n",
       "4        2020      3           44.7                   43.5     6290.0   \n",
       "...       ...    ...            ...                    ...        ...   \n",
       "2790251  2005      1           99.5                  100.3    62425.0   \n",
       "2790252  2005      1           99.5                  100.3    62425.0   \n",
       "2790253  2005      1           99.5                  100.3    62425.0   \n",
       "2790254  2005      1           99.5                  100.3    62425.0   \n",
       "2790255  2005      1           99.5                  100.3    62425.0   \n",
       "\n",
       "         annual_ag4 per 10,000  Number_ag4  annual5_17 per 10,000  Number5_17  \\\n",
       "0                         58.6         454                   65.9        1088   \n",
       "1                         58.6         454                   65.9        1088   \n",
       "2                         58.6         454                   65.9        1088   \n",
       "3                         58.6         454                   65.9        1088   \n",
       "4                         58.6         454                   65.9        1088   \n",
       "...                        ...         ...                    ...         ...   \n",
       "2790251                  377.2       19927                  199.2       25834   \n",
       "2790252                  377.2       19927                  199.2       25834   \n",
       "2790253                  377.2       19927                  199.2       25834   \n",
       "2790254                  377.2       19927                  199.2       25834   \n",
       "2790255                  377.2       19927                  199.2       25834   \n",
       "\n",
       "         10th percentile mcg/m3  90th percentile mcg/m3  pm/Mean mcg/m3  \\\n",
       "0                           6.1                     8.8             7.0   \n",
       "1                           6.1                     8.8             7.0   \n",
       "2                           6.1                     8.8             7.0   \n",
       "3                           6.1                     8.8             7.0   \n",
       "4                           6.1                     8.8             7.0   \n",
       "...                         ...                     ...             ...   \n",
       "2790251                     9.3                    11.9            10.4   \n",
       "2790252                     9.3                    11.9            10.4   \n",
       "2790253                     9.3                    11.9            10.4   \n",
       "2790254                     9.3                    11.9            10.4   \n",
       "2790255                     9.3                    11.9            10.4   \n",
       "\n",
       "         10th percentile ppb  90th percentile ppb  no2/Mean ppb  \n",
       "0                       16.0                 23.3          19.1  \n",
       "1                       17.0                 23.7          20.0  \n",
       "2                       17.7                 24.4          20.5  \n",
       "3                       17.7                 26.6          21.7  \n",
       "4                       19.4                 28.8          23.4  \n",
       "...                      ...                  ...           ...  \n",
       "2790251                 12.6                 23.6          18.8  \n",
       "2790252                 13.3                 24.3          19.6  \n",
       "2790253                 14.7                 26.7          21.6  \n",
       "2790254                 14.1                 26.3          21.1  \n",
       "2790255                 15.4                 28.6          22.7  \n",
       "\n",
       "[2790256 rows x 15 columns]"
      ]
     },
     "execution_count": 217,
     "metadata": {},
     "output_type": "execute_result"
    }
   ],
   "source": [
    "merge4.select_dtypes(include=[\"number\"])"
   ]
  },
  {
   "cell_type": "markdown",
   "id": "cda44a7e",
   "metadata": {},
   "source": [
    "Based on the above table \"Number_ag4\" and \"annual_ag4 per 10,000\" have changed into number Dtype and I can use .decsribe() method to generate descriptive statistics of the data in a DataFrame."
   ]
  },
  {
   "cell_type": "code",
   "execution_count": 218,
   "id": "8b81911c",
   "metadata": {},
   "outputs": [
    {
     "data": {
      "text/plain": [
       "count    2.790256e+06\n",
       "mean     3.780872e+04\n",
       "std      2.990139e+04\n",
       "min      1.287000e+03\n",
       "25%      3.608030e+03\n",
       "50%      3.323800e+04\n",
       "75%      6.622900e+04\n",
       "max      7.779200e+04\n",
       "Name: Number_ad, dtype: float64"
      ]
     },
     "execution_count": 218,
     "metadata": {},
     "output_type": "execute_result"
    }
   ],
   "source": [
    "#Creat descriptive statistics of number of asthma for adults \n",
    "merge4[\"Number_ad\"].describe()"
   ]
  },
  {
   "cell_type": "code",
   "execution_count": 219,
   "id": "ce22eaba",
   "metadata": {},
   "outputs": [
    {
     "data": {
      "text/plain": [
       "count    2.790256e+06\n",
       "mean     7.313927e+03\n",
       "std      7.124873e+03\n",
       "min      9.400000e+01\n",
       "25%      1.300000e+03\n",
       "50%      4.876000e+03\n",
       "75%      1.285200e+04\n",
       "max      2.149200e+04\n",
       "Name: Number_ag4, dtype: float64"
      ]
     },
     "execution_count": 219,
     "metadata": {},
     "output_type": "execute_result"
    }
   ],
   "source": [
    "#Creat descriptive statistics of number of asthma for children up to 4 years.\n",
    "merge4[\"Number_ag4\"].describe()"
   ]
  },
  {
   "cell_type": "code",
   "execution_count": 220,
   "id": "a3359fe3",
   "metadata": {},
   "outputs": [
    {
     "data": {
      "text/plain": [
       "count    2.790256e+06\n",
       "mean     1.482970e+04\n",
       "std      1.151949e+04\n",
       "min      2.180000e+02\n",
       "25%      3.046000e+03\n",
       "50%      1.903400e+04\n",
       "75%      2.583400e+04\n",
       "max      2.837000e+04\n",
       "Name: Number5_17, dtype: float64"
      ]
     },
     "execution_count": 220,
     "metadata": {},
     "output_type": "execute_result"
    }
   ],
   "source": [
    "#Creat descriptive statistics of number of asthma for children aged 5 to 17 years.\n",
    "merge4[\"Number5_17\"].describe()"
   ]
  },
  {
   "cell_type": "code",
   "execution_count": 221,
   "id": "0c307bf9",
   "metadata": {},
   "outputs": [
    {
     "data": {
      "text/plain": [
       "count    2.790256e+06\n",
       "mean     8.213306e+00\n",
       "std      1.711961e+00\n",
       "min      5.200000e+00\n",
       "25%      6.800000e+00\n",
       "50%      8.350000e+00\n",
       "75%      9.400000e+00\n",
       "max      1.260000e+01\n",
       "Name: pm/Mean mcg/m3, dtype: float64"
      ]
     },
     "execution_count": 221,
     "metadata": {},
     "output_type": "execute_result"
    }
   ],
   "source": [
    "#Creat descriptive statistics of PM2.5.\n",
    "merge4[\"pm/Mean mcg/m3\"].describe()"
   ]
  },
  {
   "cell_type": "code",
   "execution_count": 222,
   "id": "e9a429a4",
   "metadata": {},
   "outputs": [
    {
     "data": {
      "text/plain": [
       "count    2.790256e+06\n",
       "mean     1.882980e+01\n",
       "std      4.888561e+00\n",
       "min      1.120000e+01\n",
       "25%      1.520000e+01\n",
       "50%      1.810000e+01\n",
       "75%      2.160000e+01\n",
       "max      3.390000e+01\n",
       "Name: no2/Mean ppb, dtype: float64"
      ]
     },
     "execution_count": 222,
     "metadata": {},
     "output_type": "execute_result"
    }
   ],
   "source": [
    "#Creat descriptive statistics of no2.\n",
    "merge4[\"no2/Mean ppb\"].describe()"
   ]
  },
  {
   "cell_type": "markdown",
   "id": "cd46be86",
   "metadata": {},
   "source": [
    " **6.Categorical Features**"
   ]
  },
  {
   "cell_type": "code",
   "execution_count": 223,
   "id": "b71b3af5",
   "metadata": {},
   "outputs": [
    {
     "data": {
      "text/html": [
       "<div>\n",
       "<style scoped>\n",
       "    .dataframe tbody tr th:only-of-type {\n",
       "        vertical-align: middle;\n",
       "    }\n",
       "\n",
       "    .dataframe tbody tr th {\n",
       "        vertical-align: top;\n",
       "    }\n",
       "\n",
       "    .dataframe thead th {\n",
       "        text-align: right;\n",
       "    }\n",
       "</style>\n",
       "<table border=\"1\" class=\"dataframe\">\n",
       "  <thead>\n",
       "    <tr style=\"text-align: right;\">\n",
       "      <th></th>\n",
       "      <th>Geography</th>\n",
       "    </tr>\n",
       "  </thead>\n",
       "  <tbody>\n",
       "    <tr>\n",
       "      <th>0</th>\n",
       "      <td>Manhattan</td>\n",
       "    </tr>\n",
       "    <tr>\n",
       "      <th>1</th>\n",
       "      <td>Manhattan</td>\n",
       "    </tr>\n",
       "    <tr>\n",
       "      <th>2</th>\n",
       "      <td>Manhattan</td>\n",
       "    </tr>\n",
       "    <tr>\n",
       "      <th>3</th>\n",
       "      <td>Manhattan</td>\n",
       "    </tr>\n",
       "    <tr>\n",
       "      <th>4</th>\n",
       "      <td>Manhattan</td>\n",
       "    </tr>\n",
       "    <tr>\n",
       "      <th>...</th>\n",
       "      <td>...</td>\n",
       "    </tr>\n",
       "    <tr>\n",
       "      <th>2790251</th>\n",
       "      <td>New York City</td>\n",
       "    </tr>\n",
       "    <tr>\n",
       "      <th>2790252</th>\n",
       "      <td>New York City</td>\n",
       "    </tr>\n",
       "    <tr>\n",
       "      <th>2790253</th>\n",
       "      <td>New York City</td>\n",
       "    </tr>\n",
       "    <tr>\n",
       "      <th>2790254</th>\n",
       "      <td>New York City</td>\n",
       "    </tr>\n",
       "    <tr>\n",
       "      <th>2790255</th>\n",
       "      <td>New York City</td>\n",
       "    </tr>\n",
       "  </tbody>\n",
       "</table>\n",
       "<p>2790256 rows × 1 columns</p>\n",
       "</div>"
      ],
      "text/plain": [
       "             Geography\n",
       "0            Manhattan\n",
       "1            Manhattan\n",
       "2            Manhattan\n",
       "3            Manhattan\n",
       "4            Manhattan\n",
       "...                ...\n",
       "2790251  New York City\n",
       "2790252  New York City\n",
       "2790253  New York City\n",
       "2790254  New York City\n",
       "2790255  New York City\n",
       "\n",
       "[2790256 rows x 1 columns]"
      ]
     },
     "execution_count": 223,
     "metadata": {},
     "output_type": "execute_result"
    }
   ],
   "source": [
    "merge4.select_dtypes(include=['object'])\n"
   ]
  },
  {
   "cell_type": "code",
   "execution_count": null,
   "id": "82379cf3",
   "metadata": {},
   "outputs": [],
   "source": []
  }
 ],
 "metadata": {
  "kernelspec": {
   "display_name": "Python 3 (ipykernel)",
   "language": "python",
   "name": "python3"
  },
  "language_info": {
   "codemirror_mode": {
    "name": "ipython",
    "version": 3
   },
   "file_extension": ".py",
   "mimetype": "text/x-python",
   "name": "python",
   "nbconvert_exporter": "python",
   "pygments_lexer": "ipython3",
   "version": "3.11.3"
  }
 },
 "nbformat": 4,
 "nbformat_minor": 5
}
